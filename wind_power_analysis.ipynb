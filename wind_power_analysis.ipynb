{
 "cells": [
  {
   "cell_type": "code",
   "execution_count": 145,
   "metadata": {},
   "outputs": [],
   "source": [
    "import pandas as pd\n",
    "import pickle\n",
    "from pathlib import Path\n",
    "import plotly.express as px\n",
    "px.set_mapbox_access_token(open(\"mapbox_token.txt\").read())"
   ]
  },
  {
   "cell_type": "code",
   "execution_count": 146,
   "metadata": {},
   "outputs": [
    {
     "data": {
      "text/plain": [
       "PosixPath('/Users/jamesmoro/Documents/Python/UK_Net_Zero/raw_data/wind_power/operational_list.pkl')"
      ]
     },
     "execution_count": 146,
     "metadata": {},
     "output_type": "execute_result"
    }
   ],
   "source": [
    "Path(Path.cwd(), \"raw_data\", \"wind_power\", \"operational_list.pkl\")"
   ]
  },
  {
   "cell_type": "code",
   "execution_count": 147,
   "metadata": {},
   "outputs": [],
   "source": [
    "def return_substring(raw_string:str, substring:str) -> str:\n",
    "    start_idx = raw_string.find(substring) + len(substring)\n",
    "    return raw_string[start_idx:].strip()\n",
    "\n",
    "def generate_project_info(raw_list:list) -> dict:\n",
    "    project_info_dict = {}\n",
    "    split_list = raw_list.split(\"\\n\")\n",
    "    project_info_dict['Project Name'] = return_substring(split_list[0], \"Name\")\n",
    "    project_info_dict['Location'] = return_substring(split_list[1], \"Location\")\n",
    "    project_info_dict['County'] = return_substring(split_list[2] + \" \" + split_list[3], \"Co.\")\n",
    "    project_info_dict['Turbine Capacity'] = float(return_substring(split_list[4], \"Capacity\"))\n",
    "    project_info_dict['Number of Turbines'] = return_substring(split_list[5], \"Turbines\")\n",
    "    project_info_dict['Project Capacity (MW)'] = float(return_substring(split_list[6], \"(MW)\"))\n",
    "    project_info_dict['Developer'] = return_substring(split_list[7], \"Developer\")\n",
    "    project_info_dict['Owner'] = return_substring(split_list[8], \"Owner\")\n",
    "    project_info_dict['Local Planning Authority'] = return_substring(split_list[9], \"Authority\")\n",
    "    \n",
    "    end_idx = split_list[11].find(\"Longitude (decimal)\")\n",
    "    project_info_dict['Latitude'] = float(split_list[11][:end_idx].strip())\n",
    "    \n",
    "    project_info_dict['Longitude'] = float(return_substring(split_list[11], \"decimal)\"))\n",
    "    \n",
    "    temp_string = split_list[12] + \" \" + split_list[13]\n",
    "    end_idx = temp_string.find(\"Project\")\n",
    "    project_info_dict['Type'] = temp_string[:end_idx].replace(\"Type\", \"\").strip()\n",
    "    \n",
    "    project_info_dict['Project Status'] = return_substring(split_list[13], \"Status\")\n",
    "    \n",
    "    return project_info_dict"
   ]
  },
  {
   "attachments": {},
   "cell_type": "markdown",
   "metadata": {},
   "source": [
    "# Operational"
   ]
  },
  {
   "cell_type": "code",
   "execution_count": 148,
   "metadata": {},
   "outputs": [],
   "source": [
    "operational_pickle = Path(Path.cwd(), \"raw_data\", \"wind_power\", \"operational_list.pkl\")\n",
    "with open(operational_pickle, 'rb') as operational:\n",
    "    operational_list = pickle.load(operational)"
   ]
  },
  {
   "cell_type": "code",
   "execution_count": 149,
   "metadata": {},
   "outputs": [],
   "source": [
    "info_dict_list = []\n",
    "errors = []\n",
    "for i, _ in enumerate(operational_list):\n",
    "    try:\n",
    "        info_dict_list.append(generate_project_info(operational_list[i]))\n",
    "    except (IndexError, ValueError) as e:\n",
    "        errors.append(i)\n",
    "        continue"
   ]
  },
  {
   "cell_type": "code",
   "execution_count": 150,
   "metadata": {},
   "outputs": [],
   "source": [
    "df_operational = pd.DataFrame(info_dict_list)"
   ]
  },
  {
   "cell_type": "code",
   "execution_count": 151,
   "metadata": {},
   "outputs": [
    {
     "data": {
      "application/vnd.plotly.v1+json": {
       "config": {
        "plotlyServerURL": "https://plot.ly"
       },
       "data": [
        {
         "customdata": [
          [
           "Abbey Road, 209 Turbine 2",
           "1",
           0.25
          ],
          [
           "Aberffrydlan",
           "1",
           0.18
          ],
          [
           "Abergwaun Community Turbine",
           "1",
           0.225
          ],
          [
           "ABP Newport",
           "1",
           2.35
          ],
          [
           "ABP Newport 2",
           "1",
           2.3
          ],
          [
           "Accolade Wines",
           "1",
           2.5
          ],
          [
           "Achairn Farm, Stirkoke",
           "3",
           6.15
          ],
          [
           "Achany Estate",
           "19",
           38
          ],
          [
           "Achlachan",
           "5",
           10.25
          ],
          [
           "A'Chruach (Resubmission)",
           "21",
           42.6
          ],
          [
           "Advanced Manufacturing Park Technology Centre",
           "1",
           0.225
          ],
          [
           "Africa Alive",
           "2",
           4.1
          ],
          [
           "Afton",
           "25",
           50
          ],
          [
           "Aftonlea",
           "1",
           0.9
          ],
          [
           "AG Barr Factory",
           "1",
           0.5
          ],
          [
           "Aghaboy Road, 24a",
           "1",
           0.25
          ],
          [
           "Aghafad Road, 160",
           "1",
           0.225
          ],
          [
           "Aghafad Road, 18",
           "1",
           0.25
          ],
          [
           "Aghalougher Road, 28",
           "1",
           0.25
          ],
          [
           "Aghanore Road, 52",
           "1",
           0.25
          ],
          [
           "Aghincurk Road, 3",
           "1",
           0.25
          ],
          [
           "Aghlisnafin Road, 24",
           "1",
           0.1
          ],
          [
           "Aghnagar Road, 33",
           "1",
           0.15
          ],
          [
           "Aghnagar Road, 49",
           "1",
           0.25
          ],
          [
           "Aghnaglea Road, 17 (Resubmission)",
           "1",
           0.15
          ],
          [
           "Aghnaglea Road, 28",
           "1",
           0.25
          ],
          [
           "Aghnagreggan Road, 25 Turbine 1",
           "1",
           0.225
          ],
          [
           "Aghory Road, 111",
           "1",
           0.225
          ],
          [
           "Aghyoule Road, 40 (Replacement)",
           "1",
           0.25
          ],
          [
           "Aikengall",
           "16",
           48
          ],
          [
           "Aikengall II - Wester Dod",
           "19",
           60.8
          ],
          [
           "Aikengall IIa (East Lothian)",
           "5",
           21.5
          ],
          [
           "Aikengall IIa (Scottish Borders)",
           "14",
           60.2
          ],
          [
           "Airdrie Farm",
           "1",
           0.5
          ],
          [
           "Airfield Farm (Resubmission)",
           "3",
           8.55
          ],
          [
           "Airfield Road, 62b",
           "1",
           0.15
          ],
          [
           "Airies",
           "14",
           39.9
          ],
          [
           "Airmyn Grange",
           "1",
           0.5
          ],
          [
           "AJ Recycling",
           "1",
           0.5
          ],
          [
           "Aldercombe Barton",
           "1",
           0.5
          ],
          [
           "Allison Wold Farm",
           "2",
           0.45
          ],
          [
           "Allt Dearg Community Wind Farm",
           "12",
           10.2
          ],
          [
           "Alltwalis",
           "10",
           23
          ],
          [
           "Alscott Farm (Resubmission)",
           "1",
           0.5
          ],
          [
           "Altahullion Phase I",
           "20",
           26
          ],
          [
           "Altahullion Phase II",
           "9",
           11.7
          ],
          [
           "Altamooskan",
           "3",
           7.05
          ],
          [
           "Altamooskan Extension",
           "3",
           7.05
          ],
          [
           "Altamuskin Road, 61",
           "1",
           0.25
          ],
          [
           "Altanaveragh Road, 57",
           "1",
           0.225
          ],
          [
           "Altaveedan",
           "9",
           18
          ],
          [
           "Altikeeragh Road, 67 (Replacement)",
           "1",
           0.25
          ],
          [
           "Alveston",
           "3",
           6.9
          ],
          [
           "Alvington Court Community Turbine",
           "1",
           0.5
          ],
          [
           "An Suidhe",
           "23",
           19.3
          ],
          [
           "Andershaw",
           "11",
           36.3
          ],
          [
           "Animal Protein Recycling Plant (Resubmission)",
           "1",
           0.5
          ],
          [
           "Annaghmore Road, 43",
           "1",
           0.225
          ],
          [
           "Annareagh Road, 55, 57",
           "1",
           0.225
          ],
          [
           "Anstey Lane (Resubmission)",
           "2",
           0.1
          ],
          [
           "Anticur Road, 91",
           "1",
           0.225
          ],
          [
           "Antrim Area Hospital",
           "1",
           0.66
          ],
          [
           "Ardconnon Farm",
           "1",
           0.5
          ],
          [
           "Ardglass Road, 115",
           "1",
           0.25
          ],
          [
           "Ardglass Road, 13",
           "1",
           0.15
          ],
          [
           "Ardkinglass/Clachan Flats",
           "9",
           15.03
          ],
          [
           "Ardoch and Over Enoch Farm (Ardoch)",
           "3",
           6.9
          ],
          [
           "Ardoch and Over Enoch Farm (Over Enoch)",
           "2",
           4.6
          ],
          [
           "Ardrossan",
           "12",
           24
          ],
          [
           "Ardrossan Extension",
           "3",
           6
          ],
          [
           "Arecleoch",
           "60",
           120
          ],
          [
           "Arglam Farm (Resubmission)",
           "1",
           0.5
          ],
          [
           "Ark Hill",
           "8",
           6.4
          ],
          [
           "Arkleby House Farm (Resubmission)",
           "1",
           0.25
          ],
          [
           "Arkwright Colliery Community Turbine",
           "1",
           0.5
          ],
          [
           "Armistead",
           "6",
           12.3
          ],
          [
           "Arnish Moor",
           "3",
           3.9
          ],
          [
           "Arnold Grange",
           "1",
           0.5
          ],
          [
           "Arrat Farm (Resubmission)",
           "2",
           0.45
          ],
          [
           "Artfield Fell",
           "15",
           19.5
          ],
          [
           "Ascurry Farm",
           "1",
           0.5
          ],
          [
           "Ashby Farm",
           "1",
           0.5
          ],
          [
           "Ashby Road (Lounge)",
           "1",
           0.5
          ],
          [
           "Ashday Hall",
           "1",
           0.25
          ],
          [
           "Ashfield Farm T1",
           "1",
           0.5
          ],
          [
           "Ashogle Farm",
           "1",
           0.5
          ],
          [
           "Askam",
           "7",
           4.62
          ],
          [
           "Assel Valley",
           "10",
           25
          ],
          [
           "Auchadaduie",
           "3",
           6.9
          ],
          [
           "Auchencloigh Farm",
           "1",
           0.1
          ],
          [
           "Auchencrosh (Resubmission)",
           "1",
           0.1
          ],
          [
           "Auchenhoan (Resubmission)",
           "1",
           0.1
          ],
          [
           "Auchenlosh",
           "2",
           0.45
          ],
          [
           "Auchinbadie",
           "1",
           0.225
          ],
          [
           "Auchmore",
           "1",
           0.5
          ],
          [
           "Auchmore 2 (Gaoth)",
           "1",
           0.5
          ],
          [
           "Auchmore Farm (Fraserburgh)",
           "1",
           0.33
          ],
          [
           "Auchmore Farm (Inverurie)",
           "2",
           0.45
          ],
          [
           "Auchnotroch Farm",
           "1",
           0.33
          ],
          [
           "Auchorie Farm",
           "2",
           0.45
          ],
          [
           "Auchren Farm",
           "1",
           0.5
          ],
          [
           "Auchrobert",
           "12",
           36
          ],
          [
           "Auchtygills Farm",
           "1",
           0.8
          ],
          [
           "Aughintober Road, 47",
           "1",
           0.25
          ],
          [
           "Aughnabrack Road, 40",
           "1",
           0.225
          ],
          [
           "Aughnagurgan Road, 29",
           "1",
           0.225
          ],
          [
           "Aughnagurgan Road, 29 Turbine 2 (Replacement)",
           "1",
           0.225
          ],
          [
           "Aughrim Road, 80",
           "1",
           0.15
          ],
          [
           "Auld Station House (2nd Resubmission)",
           "1",
           0.1
          ],
          [
           "Auldhouseburn Farm",
           "1",
           0.1
          ],
          [
           "Aunt Bessie's Ltd",
           "1",
           0.5
          ],
          [
           "Avonmouth",
           "2",
           5
          ],
          [
           "Ayton Mains Farm",
           "2",
           0.11
          ],
          [
           "B and Q Worksop",
           "1",
           2
          ],
          [
           "Babbington",
           "1",
           0.5
          ],
          [
           "Babdown Airfield Turbine 1",
           "1",
           0.05
          ],
          [
           "Babdown Airfield Turbine 2",
           "1",
           0.055
          ],
          [
           "Babeleigh Barton",
           "1",
           0.5
          ],
          [
           "Babthorpe",
           "1",
           0.5
          ],
          [
           "Back Lane Quarry",
           "1",
           0.5
          ],
          [
           "Back Road, 60",
           "1",
           0.25
          ],
          [
           "Backhill of Yonderton",
           "2",
           4.6
          ],
          [
           "Bad a Cheo",
           "13",
           26.65
          ],
          [
           "Baden Hall",
           "1",
           0.25
          ],
          [
           "Badentoul",
           "1",
           0.5
          ],
          [
           "Badger Farm",
           "1",
           0.5
          ],
          [
           "Bagmoor",
           "8",
           16
          ],
          [
           "Bailey Waste",
           "1",
           0.225
          ],
          [
           "Baillie Wind Farm - Bardnaheigh Farm",
           "21",
           52.5
          ],
          [
           "Bake Sawmills",
           "1",
           0.5
          ],
          [
           "Balaldie Farm",
           "1",
           0.1
          ],
          [
           "Baldowrie",
           "1",
           0.5
          ],
          [
           "Balhall Lodge",
           "1",
           0.1
          ],
          [
           "Balhall Lodge Turbine 2 (Resubmission)",
           "1",
           0.1
          ],
          [
           "Balkemback Farm Turbine 1",
           "1",
           0.225
          ],
          [
           "Balkemback Farm Turbine 2",
           "1",
           0.225
          ],
          [
           "Ballinderry Road, 106 (Replacement) (Resubmission)",
           "1",
           0.25
          ],
          [
           "Ballinderry Road, 106 Turbine 2 (Replacement)",
           "1",
           0.25
          ],
          [
           "Ballindreen Road, 26",
           "1",
           0.225
          ],
          [
           "Ballinlea Road, 9a",
           "1",
           0.225
          ],
          [
           "Ballintate Road, 22",
           "1",
           0.225
          ],
          [
           "Balloo Wood",
           "1",
           0.8
          ],
          [
           "Ballyavelin Road, 61",
           "1",
           0.25
          ],
          [
           "Ballyblack Road, 44",
           "1",
           0.225
          ],
          [
           "Ballybogey Road, 203",
           "1",
           0.25
          ],
          [
           "Ballybogey Road, 43",
           "1",
           0.225
          ],
          [
           "Ballybogie Hill, 12",
           "1",
           0.25
          ],
          [
           "Ballyboley Road, 160",
           "1",
           0.25
          ],
          [
           "Ballybrack Road, 19",
           "1",
           0.15
          ],
          [
           "Ballybracken Road, 70",
           "1",
           0.25
          ],
          [
           "Ballycolin Road, 23",
           "1",
           0.25
          ],
          [
           "Ballyconnell Road, 72",
           "1",
           0.25
          ],
          [
           "Ballyconnelly Road, 97",
           "1",
           0.25
          ],
          [
           "Ballycrune Road, 45",
           "1",
           0.25
          ],
          [
           "Ballydugan Road, 139",
           "1",
           0.25
          ],
          [
           "Ballyeasborough Road, 23",
           "1",
           0.25
          ],
          [
           "Ballyeasborough Road, 50",
           "1",
           0.25
          ],
          [
           "Ballyemon Road, 85",
           "1",
           0.15
          ],
          [
           "Ballygallum Road, 6",
           "1",
           0.25
          ],
          [
           "Ballygowan Road, 184",
           "1",
           0.1
          ],
          [
           "Ballygowan Road, 89",
           "1",
           0.225
          ],
          [
           "Ballyhampton Road, 81",
           "1",
           0.25
          ],
          [
           "Ballyhemlin Road, 1B",
           "1",
           0.15
          ],
          [
           "Ballyhome Road, 18",
           "1",
           0.225
          ],
          [
           "Ballyhome Road, 55",
           "1",
           0.25
          ],
          [
           "Ballyhornan Road, 153",
           "1",
           0.25
          ],
          [
           "Ballykeery Road, 2",
           "1",
           0.225
          ],
          [
           "Ballykennedy Road, 17",
           "1",
           0.225
          ],
          [
           "Ballykilbeg Road, 32",
           "1",
           0.225
          ],
          [
           "Ballykine Road, 47",
           "1",
           0.15
          ],
          [
           "Ballyknockan Road, 9",
           "1",
           0.15
          ],
          [
           "Ballylagan Road, 31",
           "1",
           0.25
          ],
          [
           "Ballylagan Road, 39 (Resubmission)",
           "1",
           0.225
          ],
          [
           "Ballylig Road, 51",
           "1",
           0.225
          ],
          [
           "Ballylig Road, 61 Turbine 1",
           "1",
           0.225
          ],
          [
           "Ballymagerny Road, 19",
           "1",
           0.225
          ],
          [
           "Ballymena Michelin Tyre Factory",
           "2",
           4.6
          ],
          [
           "Ballymoran Road, 87",
           "1",
           0.225
          ],
          [
           "Ballymoyer Road, 40",
           "1",
           0.25
          ],
          [
           "Ballymullarty Road, 46",
           "1",
           0.25
          ],
          [
           "Ballynabragget Road, 58 (Resubmission)",
           "1",
           0.225
          ],
          [
           "Ballynacross Road, 25",
           "1",
           0.25
          ],
          [
           "Ballynahaye Road, 58",
           "1",
           0.25
          ],
          [
           "Ballynahinch Road, 155",
           "1",
           0.225
          ],
          [
           "Ballynahinch Road, 380",
           "1",
           0.25
          ],
          [
           "Ballynahinch Road, 93 Turbine 2",
           "1",
           0.225
          ],
          [
           "Ballyness Road, 74 Turbine 1",
           "1",
           0.225
          ],
          [
           "Ballynoe Road, 46",
           "1",
           0.225
          ],
          [
           "Ballynoe Road, 5",
           "1",
           0.15
          ],
          [
           "Ballyrickard Road, 85",
           "1",
           0.165
          ],
          [
           "Ballyrobert Road, 191",
           "1",
           0.25
          ],
          [
           "Ballyrogan Road, 59",
           "1",
           0.25
          ],
          [
           "Ballyronan Road, 151",
           "1",
           0.25
          ],
          [
           "Ballyrusley Road, 12",
           "1",
           0.25
          ],
          [
           "Ballyshiel Road, 12",
           "1",
           0.25
          ],
          [
           "Ballysnod Road, 166",
           "1",
           0.25
          ],
          [
           "Ballyutoag Road, 40",
           "1",
           0.25
          ],
          [
           "Ballyvaddy Road, 68",
           "1",
           0.15
          ],
          [
           "Ballyvaddy Road, 68 Turbine 2",
           "1",
           0.15
          ],
          [
           "Ballyveely Road, 96",
           "1",
           0.25
          ],
          [
           "Ballyveely Road, 99 (Replacement)",
           "1",
           0.25
          ],
          [
           "Ballyvelton Road, 60",
           "1",
           0.25
          ],
          [
           "Ballyversal Road, 7",
           "1",
           0.225
          ],
          [
           "Balmurrie Fell (Artfield Fell Extension)",
           "7",
           9.1
          ],
          [
           "Balnamoon Farm",
           "1",
           0.8
          ],
          [
           "Balquhatstone Mains",
           "2",
           0.2
          ],
          [
           "Bambers Farm",
           "8",
           4.8
          ],
          [
           "Bambers Farm II",
           "6",
           4.8
          ],
          [
           "Banbridge Road, 24 (Resubmission)",
           "1",
           0.15
          ],
          [
           "Bancran Road, 16",
           "1",
           0.1
          ],
          [
           "Bangor Road, 239 (Replacement)",
           "1",
           0.25
          ],
          [
           "Bangor Road, 241",
           "1",
           0.25
          ],
          [
           "Bank End Farm",
           "1",
           0.1
          ],
          [
           "Bank House Farm (Spalding) (Resubmission)",
           "2",
           0.1
          ],
          [
           "Bankdale Park",
           "1",
           0.5
          ],
          [
           "Bankend Rig",
           "11",
           14.3
          ],
          [
           "Bankhead Farm",
           "2",
           0.2
          ],
          [
           "Banks Farm (Resubmission)",
           "2",
           0.1
          ],
          [
           "Banks Hill (2nd Resubmission)",
           "2",
           0.1
          ],
          [
           "Baranailt Road, 567",
           "1",
           0.25
          ],
          [
           "Barlborough",
           "1",
           0.8
          ],
          [
           "Barlockhart Moor",
           "4",
           8.2
          ],
          [
           "Barmoor",
           "6",
           12
          ],
          [
           "Barnmeen Road, 15",
           "1",
           0.25
          ],
          [
           "Barns Heath Farm",
           "1",
           0.5
          ],
          [
           "Barns of Ayre",
           "1",
           0.9
          ],
          [
           "Barns of Ayre Extension",
           "2",
           1.8
          ],
          [
           "Barnsmuir Farm",
           "1",
           0.25
          ],
          [
           "Barony Road, 230 (Resubmission)",
           "1",
           0.225
          ],
          [
           "Barony Road, 242",
           "1",
           0.225
          ],
          [
           "Barra Community Turbine",
           "1",
           0.9
          ],
          [
           "Barracks Farm",
           "1",
           0.5
          ],
          [
           "Barran Caltunn",
           "2",
           1.23
          ],
          [
           "Barron Road, 35 (Resubmission)",
           "1",
           0.25
          ],
          [
           "Barrow",
           "30",
           90
          ],
          [
           "Barteliver Farm",
           "1",
           0.1
          ],
          [
           "Barton Vale Farm",
           "2",
           0.1
          ],
          [
           "Bassendeanhill Farm",
           "1",
           0.5
          ],
          [
           "Bathgate Sports Centre",
           "2",
           0.1
          ],
          [
           "Batsworthy Cross",
           "9",
           18.45
          ],
          [
           "Baulker Farm",
           "1",
           0.5
          ],
          [
           "Bavington Mount",
           "1",
           0.5
          ],
          [
           "BDCR II Community Turbine",
           "1",
           0.5
          ],
          [
           "Beacon",
           "1",
           0.5
          ],
          [
           "Bears Down",
           "16",
           9.6
          ],
          [
           "Beatrice",
           "84",
           588
          ],
          [
           "Beaufort Court (RES Office)",
           "1",
           0.225
          ],
          [
           "Beck Burn (Resubmission) (Article 25)",
           "9",
           31.05
          ],
          [
           "Beckaveans",
           "1",
           0.25
          ],
          [
           "Beckton Sewage Treatment Works",
           "1",
           2.3
          ],
          [
           "Bedlwyn Farm",
           "1",
           0.5
          ],
          [
           "Beech House Farm",
           "1",
           0.5
          ],
          [
           "Beech House Farm 2",
           "1",
           0.5
          ],
          [
           "Beeching Poultry Farm",
           "1",
           0.5
          ],
          [
           "Begny Hill Road, 52",
           "1",
           0.25
          ],
          [
           "Begny Hill Road, 75",
           "1",
           0.225
          ],
          [
           "Beinn an Tuirc",
           "45",
           29.7
          ],
          [
           "Beinn an Tuirc Extension",
           "19",
           43.7
          ],
          [
           "Beinn an Tuirc Phase 3",
           "14",
           50
          ],
          [
           "Beinn Bhuidhe",
           "1",
           0.33
          ],
          [
           "Beinn Ghlas",
           "14",
           8.4
          ],
          [
           "Beinn Ghrideag Community Wind Farm",
           "3",
           9
          ],
          [
           "Beinn Nan Oighrean (Beinn Tharsuinn Extension)",
           "2",
           4.6
          ],
          [
           "Beinn Tharsuinn",
           "17",
           29.75
          ],
          [
           "Beinneun",
           "25",
           85
          ],
          [
           "Beinneun Extension",
           "7",
           23.8
          ],
          [
           "Belfast Road, 225",
           "1",
           0.25
          ],
          [
           "Belfast Road, 40",
           "1",
           0.25
          ],
          [
           "Belfast Road, 55",
           "1",
           0.15
          ],
          [
           "Belfast Road, 60",
           "1",
           0.15
          ],
          [
           "Bellaghy Road, 60",
           "1",
           0.15
          ],
          [
           "Bellahill Road, 12",
           "1",
           0.25
          ],
          [
           "Bellstane Farm",
           "1",
           0.5
          ],
          [
           "Belraugh Road, 7",
           "1",
           0.225
          ],
          [
           "Ben Aketil (Community Share)",
           "10",
           23
          ],
          [
           "Ben Aketil Extension (Community Share)",
           "2",
           4.6
          ],
          [
           "Bendooragh Road, 142",
           "1",
           0.25
          ],
          [
           "Bennacott Farm",
           "1",
           0.5
          ],
          [
           "Bennett Bank Landfill Site",
           "1",
           0.5
          ],
          [
           "Benraw Road, 45",
           "1",
           0.15
          ],
          [
           "Benthead Farm",
           "1",
           0.33
          ],
          [
           "Bernisk Road, 71 (Replacement)",
           "1",
           0.25
          ],
          [
           "Berry Burn",
           "29",
           66.7
          ],
          [
           "Berryhill Road, 194",
           "1",
           0.25
          ],
          [
           "Berryhill Road, 92",
           "1",
           0.225
          ],
          [
           "Berwick Community Turbine",
           "1",
           0.5
          ],
          [
           "Bessy Bell 1",
           "10",
           5
          ],
          [
           "Bessy Bell 2",
           "6",
           9
          ],
          [
           "Bethel",
           "1",
           0.13
          ],
          [
           "Betts Road, 28",
           "1",
           0.225
          ],
          [
           "Bettyhill",
           "2",
           6
          ],
          [
           "Bewick Drift",
           "1",
           2.35
          ],
          [
           "Bhlaraidh",
           "32",
           110.4
          ],
          [
           "Bicker Fen",
           "13",
           26
          ],
          [
           "Biddrie Farm (Resubmission)",
           "1",
           0.225
          ],
          [
           "Biggleswade",
           "10",
           20
          ],
          [
           "Bilbster",
           "3",
           3.9
          ],
          [
           "Bin Mountain",
           "6",
           9
          ],
          [
           "Binn Eco Park",
           "4",
           9.2
          ],
          [
           "Birkhill Commercial Park",
           "1",
           0.8
          ],
          [
           "Birkwood Mains",
           "1",
           0.225
          ],
          [
           "Bishopthorpe Farm (Newton Marsh Extension) (Pickles Recovered)",
           "8",
           16.4
          ],
          [
           "Blable Farm",
           "1",
           0.5
          ],
          [
           "Black Hill",
           "22",
           28.6
          ],
          [
           "Black Law 1 (Construction Phase 1)",
           "42",
           96.6
          ],
          [
           "Black Law 1 (Construction Phase 2)",
           "12",
           27.6
          ],
          [
           "Black Law Extension",
           "23",
           45.06
          ],
          [
           "Black Law Extension Phase 2",
           "11",
           18.37
          ],
          [
           "Blackaton",
           "1",
           0.5
          ],
          [
           "Blackburn Rig Farm",
           "1",
           0.1
          ],
          [
           "Blackcraig",
           "23",
           52.9
          ],
          [
           "Blackhouse Cottage (Resubmission)",
           "1",
           0.5
          ],
          [
           "Blackhouse Farm (Resubmission)",
           "1",
           0.1
          ],
          [
           "Blackpool Quarry",
           "1",
           0.5
          ],
          [
           "Blackstone Edge",
           "3",
           7.5
          ],
          [
           "Blacktoft Nursery",
           "1",
           0.5
          ],
          [
           "Blaen Bowi",
           "3",
           3.9
          ],
          [
           "Blaenau Fuel Depot",
           "1",
           0.5
          ],
          [
           "Blaencilgoed Farm",
           "1",
           0.5
          ],
          [
           "Blaenlliedi Farm (Resubmission)",
           "2",
           0.5
          ],
          [
           "Blaenpant",
           "1",
           0.5
          ],
          [
           "Blaentillery Farm",
           "2",
           0.45
          ],
          [
           "Blagh Road, 18",
           "1",
           0.25
          ],
          [
           "Blairfowl (Resubmission)",
           "1",
           0.5
          ],
          [
           "Blairmains Farm",
           "2",
           0.2
          ],
          [
           "Blairmains Farm Extension",
           "2",
           0.2
          ],
          [
           "Blairshinnoch Farm",
           "2",
           0.1
          ],
          [
           "Blantyre Muir",
           "3",
           6.15
          ],
          [
           "Blantyre Muir Extension",
           "3",
           6.15
          ],
          [
           "Blary Hill",
           "14",
           35
          ],
          [
           "Blood Hill - Repower",
           "2",
           0.8
          ],
          [
           "Blue Gates Farm",
           "1",
           0.08
          ],
          [
           "Boardinghouse Farm",
           "5",
           10.25
          ],
          [
           "Bocaddon Farm",
           "1",
           0.5
          ],
          [
           "Boddington Reservoir",
           "1",
           0.5
          ],
          [
           "Bodrydd",
           "2",
           0.15
          ],
          [
           "Bodtegir",
           "1",
           1.5
          ],
          [
           "Bodvel Hall Farm",
           "1",
           0.85
          ],
          [
           "Bogenlea",
           "1",
           2.3
          ],
          [
           "Boghead Farm",
           "1",
           0.5
          ],
          [
           "Boghead Farm 2",
           "1",
           0.5
          ],
          [
           "Boghill Road, 63",
           "1",
           0.225
          ],
          [
           "Bognie Farm",
           "1",
           0.33
          ],
          [
           "Bogside Farm (South Lanarkshire, Ashgill)",
           "1",
           0.05
          ],
          [
           "Boho Road, 240",
           "1",
           0.25
          ],
          [
           "Bonerbo (Resubmission)",
           "3",
           1.5
          ],
          [
           "Bonerbo Farm",
           "1",
           0.5
          ],
          [
           "Bonython Manor",
           "1",
           0.1
          ],
          [
           "Bornish",
           "1",
           0.33
          ],
          [
           "Botany Bay (Lower)",
           "1",
           0.5
          ],
          [
           "Botathan Farm",
           "1",
           0.5
          ],
          [
           "Bottonett Farm",
           "1",
           0.5
          ],
          [
           "Boulfruich",
           "15",
           12.75
          ],
          [
           "Boundary Lane",
           "3",
           6
          ],
          [
           "Bowbeat",
           "24",
           31.2
          ],
          [
           "Bowden Farm",
           "1",
           0.5
          ],
          [
           "Bowesfield Farm",
           "1",
           0.25
          ],
          [
           "Bowtown Road, 90",
           "1",
           0.15
          ],
          [
           "Boyland Road, 52",
           "1",
           0.15
          ],
          [
           "Boyndie Airfield (Community Share)",
           "7",
           14
          ],
          [
           "Boyndie Extension (Community Share)",
           "1",
           2.3
          ],
          [
           "Boythorpe Farm",
           "2",
           0.45
          ],
          [
           "Brackagh Quarry (Draperstown)",
           "3",
           5
          ],
          [
           "Brackaghislea Road, 6",
           "1",
           0.225
          ],
          [
           "Braco Farm",
           "2",
           0.45
          ],
          [
           "Braco Park Farm",
           "1",
           0.5
          ],
          [
           "Braddocks Barn",
           "1",
           0.5
          ],
          [
           "Bradwell on Sea",
           "10",
           20.5
          ],
          [
           "Braes O' Doune",
           "36",
           72
          ],
          [
           "Braeside",
           "1",
           0.5
          ],
          [
           "Braich Ddu Farm",
           "3",
           3.9
          ],
          [
           "Braiden Hill",
           "1",
           0.8
          ],
          [
           "Brayton Park (Resubmission)",
           "1",
           0.5
          ],
          [
           "Breagho Road, 37 Turbine 1 (Replacement)",
           "1",
           0.25
          ],
          [
           "Breagho Road, 37 Turbine 2",
           "1",
           0.25
          ],
          [
           "Brechfa Forest West",
           "28",
           57.4
          ],
          [
           "Brett Martin Roughfort Road HQ",
           "1",
           2.3
          ],
          [
           "Brick Kiln Farm (Resubmission)",
           "2",
           0.1
          ],
          [
           "Bridge Cottages",
           "1",
           0.1
          ],
          [
           "Bridge House Farm (Resubmission)",
           "1",
           0.5
          ],
          [
           "Bridge Road, 109b",
           "1",
           0.225
          ],
          [
           "Bridge Road, 23",
           "1",
           0.25
          ],
          [
           "Bridgehouse Farm",
           "1",
           0.1
          ],
          [
           "Brigton Farm",
           "1",
           0.5
          ],
          [
           "Brills Farm",
           "1",
           0.5
          ],
          [
           "Brine Pits Farm",
           "2",
           0.3
          ],
          [
           "Bristol Port Wind Park",
           "3",
           6.9
          ],
          [
           "Bristol Sewage Treatment Works",
           "4",
           8.2
          ],
          [
           "Broadlees Farm (2nd Resubmission)",
           "2",
           0.1
          ],
          [
           "Broagh Road, 14",
           "1",
           0.15
          ],
          [
           "Brockaghboy",
           "15",
           37.5
          ],
          [
           "Brockaghboy Extension",
           "4",
           10
          ],
          [
           "Brockholes",
           "3",
           2.4
          ],
          [
           "Brockloch Rig (Windy Standard)",
           "36",
           21.6
          ],
          [
           "Brockloch Rig Extension (Windy Standard Extension)",
           "30",
           61.5
          ],
          [
           "Brokenfolds",
           "1",
           0.225
          ],
          [
           "Bromfield Farm (Resubmission)",
           "1",
           0.06
          ],
          [
           "Broom Farm",
           "1",
           0.1
          ],
          [
           "Broom Hill (includes Sunnyside)",
           "4",
           8
          ],
          [
           "Broughderg Road, 123",
           "1",
           0.225
          ],
          [
           "Browndod Road, 15",
           "1",
           0.15
          ],
          [
           "Browndod Road, 23 (Resubmission)",
           "1",
           0.15
          ],
          [
           "Brownieleys",
           "3",
           7.05
          ],
          [
           "Bruxiehill",
           "2",
           1.6
          ],
          [
           "Bruxiehill (Ednie Farm)",
           "1",
           0.8
          ],
          [
           "Bryn Blaen",
           "6",
           13.8
          ],
          [
           "Bryn Ffynnon",
           "1",
           0.5
          ],
          [
           "Bryn Titli",
           "22",
           9.9
          ],
          [
           "Bryn Ysgawen Farm",
           "1",
           0.5
          ],
          [
           "Bryndraenog",
           "1",
           0.225
          ],
          [
           "Buckna Road, 15",
           "1",
           0.15
          ],
          [
           "Buckna Road, 82",
           "1",
           0.15
          ],
          [
           "Budore Road, 84",
           "1",
           0.225
          ],
          [
           "Bunderg Road, 41 (Resubmission)",
           "1",
           0.25
          ],
          [
           "Bunderg Road, 59",
           "1",
           0.225
          ],
          [
           "Burbo Bank",
           "25",
           90
          ],
          [
           "Burgar Hill 1",
           "1",
           1.5
          ],
          [
           "Burgar Hill 2",
           "2",
           5
          ],
          [
           "Burgar Hill 3",
           "1",
           2.3
          ],
          [
           "Burn of Whilk",
           "9",
           22.5
          ],
          [
           "Burnbrae Farm (Hamilton)",
           "1",
           0.5
          ],
          [
           "Burnbrae Farm (Strathaven)",
           "1",
           0.9
          ],
          [
           "Burnby Farm",
           "1",
           0.33
          ],
          [
           "Burnfoot East",
           "3",
           10.8
          ],
          [
           "Burnfoot Hill",
           "13",
           26
          ],
          [
           "Burnfoot North",
           "2",
           4
          ],
          [
           "Burnhead",
           "13",
           26
          ],
          [
           "Burnquarter Lane, 31 (Resubmission)",
           "1",
           0.15
          ],
          [
           "Burnswark Garage (Resubmission)",
           "1",
           0.1
          ],
          [
           "Burnthouse Farm",
           "3",
           6
          ],
          [
           "Burradale Phase 1",
           "3",
           1.98
          ],
          [
           "Burradale Phase 2",
           "2",
           1.7
          ],
          [
           "Burringham",
           "1",
           0.5
          ],
          [
           "Burton Fleming Grange (Resubmission)",
           "1",
           0.225
          ],
          [
           "Burton Pidsea",
           "3",
           10.2
          ],
          [
           "Burton Wold",
           "10",
           20
          ],
          [
           "Burton Wold North",
           "9",
           14.4
          ],
          [
           "Burton Wold South (Revised)",
           "3",
           8.25
          ],
          [
           "Butterwick Moor",
           "10",
           18.8
          ],
          [
           "Bwlchgwynt",
           "1",
           0.9
          ],
          [
           "Bwllfa Farm",
           "1",
           0.5
          ],
          [
           "Caddy Road, 87 (Resubmission)",
           "1",
           0.225
          ],
          [
           "Caernarfon Airport",
           "2",
           0.45
          ],
          [
           "Caeronnen Farm",
           "1",
           0.1
          ],
          [
           "Cairn Road, 39 Turbine 2",
           "1",
           0.225
          ],
          [
           "Cairnadailly Farm",
           "1",
           0.5
          ],
          [
           "Cairnborrow (Resubmission)",
           "4",
           8
          ],
          [
           "Cairnborrow 2",
           "1",
           2
          ],
          [
           "Cairnhill",
           "3",
           2.4
          ],
          [
           "Cairnhill Extension (Resubmission)",
           "1",
           0.5
          ],
          [
           "Cairnhill Farm",
           "1",
           0.225
          ],
          [
           "Cairnmore Farm",
           "3",
           2.55
          ],
          [
           "Calder Water Community Windfarm",
           "13",
           39
          ],
          [
           "Caldrum Road, 50",
           "1",
           0.225
          ],
          [
           "Caldrum Road, 52",
           "1",
           0.225
          ],
          [
           "Callagheen",
           "13",
           16.9
          ],
          [
           "Callagheen Road, 28 (Replacement)",
           "1",
           0.25
          ],
          [
           "Calliachar (Resubmission)",
           "14",
           32.2
          ],
          [
           "Callybarrett Farm (Resubmission)",
           "1",
           0.5
          ],
          [
           "Callywith Farm (Resubmission)",
           "1",
           0.5
          ],
          [
           "Camas Nan Gail - Repower (Resubmission)",
           "2",
           0.45
          ],
          [
           "Camas Nan Gail Extension",
           "1",
           0.225
          ],
          [
           "Camlough Road, 116",
           "1",
           0.225
          ],
          [
           "Camlough Road, 139 Turbine 1",
           "1",
           0.15
          ],
          [
           "Camlough Road, 141",
           "1",
           0.25
          ],
          [
           "Camlough Road, 142",
           "1",
           0.225
          ],
          [
           "Camlough Road, 76a",
           "1",
           0.225
          ],
          [
           "Camlough Road, 98",
           "1",
           0.25
          ],
          [
           "Campfield Farm",
           "1",
           0.5
          ],
          [
           "Camster",
           "25",
           50
          ],
          [
           "Cantlayhills",
           "1",
           0.8
          ],
          [
           "Cappagh Road, 100",
           "1",
           0.25
          ],
          [
           "Carcant",
           "3",
           6.9
          ],
          [
           "Cardinal Business Park",
           "1",
           0.5
          ],
          [
           "Cardryne Farm",
           "3",
           0.15
          ],
          [
           "Carhill Road, 84a",
           "1",
           0.225
          ],
          [
           "Carland Cross - Repower",
           "10",
           20
          ],
          [
           "Carmagrim Road, 33 Turbine 1",
           "1",
           0.225
          ],
          [
           "Carn Hill",
           "6",
           13.8
          ],
          [
           "Carncullagh Road, 40",
           "1",
           0.225
          ],
          [
           "Carneal Road, 32",
           "1",
           0.225
          ],
          [
           "Carnlea Road, 20",
           "1",
           0.25
          ],
          [
           "Carnlea Road, 40 (Replacement)",
           "1",
           0.25
          ],
          [
           "Carno 'A' and 'B'",
           "56",
           33.6
          ],
          [
           "Carno Extension (Carno 2)",
           "12",
           15.6
          ],
          [
           "Carnreagh Road, 42 Turbine 1",
           "1",
           0.15
          ],
          [
           "Carnwinnick Farm",
           "1",
           0.225
          ],
          [
           "Carr Farm (North Cliffe)",
           "1",
           0.5
          ],
          [
           "Carr Farm (Rimswell)",
           "1",
           0.5
          ],
          [
           "Carr Hall Garden Centre",
           "3",
           0.15
          ],
          [
           "Carraig Gheal (Loch Awe)",
           "20",
           46
          ],
          [
           "Carrickatane",
           "9",
           20.7
          ],
          [
           "Carrickfergus Road, 109",
           "1",
           0.225
          ],
          [
           "Carrickgallogly Road, 69",
           "1",
           0.25
          ],
          [
           "Carrigans Road, 23",
           "1",
           0.25
          ],
          [
           "Carriston Farm",
           "1",
           0.1
          ],
          [
           "Carrowreagh Road, 92",
           "1",
           0.225
          ],
          [
           "Carscreugh",
           "18",
           15.3
          ],
          [
           "Carsington Pasture",
           "4",
           8.2
          ],
          [
           "Carswell Hill",
           "1",
           0.8
          ],
          [
           "Carters Plantation",
           "1",
           0.5
          ],
          [
           "Castell Llwyd Farm",
           "1",
           0.5
          ],
          [
           "Castell Malgwyn Farm",
           "1",
           0.18
          ],
          [
           "Castell Toch Farm (Resubmission)",
           "1",
           0.5
          ],
          [
           "Castle of Auchry",
           "3",
           1.5
          ],
          [
           "Castle Pill Farm - Repower",
           "4",
           3.2
          ],
          [
           "Castlecatt Road, 197",
           "1",
           0.225
          ],
          [
           "Castlecraig",
           "10",
           25
          ],
          [
           "Castlederg Road, 61",
           "1",
           0.225
          ],
          [
           "Castlerainey Road, 46",
           "1",
           0.25
          ],
          [
           "Castlerigg Farm (Whitehaven)",
           "1",
           0.5
          ],
          [
           "Castleroddy Road, 16",
           "1",
           0.25
          ],
          [
           "Castleroe Road, 140",
           "1",
           0.25
          ],
          [
           "Castleroe Road, 155",
           "1",
           0.225
          ],
          [
           "Castletown Road, 64",
           "1",
           0.25
          ],
          [
           "Castlevennon Road, 57",
           "1",
           0.15
          ],
          [
           "Castlewarren Road, 90",
           "1",
           0.225
          ],
          [
           "Castlewellan Road, 74",
           "1",
           0.15
          ],
          [
           "Cathekin Braes",
           "1",
           3
          ],
          [
           "Catlow Fold Farm",
           "2",
           0.11
          ],
          [
           "Caton Moor - Repower",
           "8",
           16
          ],
          [
           "Cattows Farm",
           "1",
           0.5
          ],
          [
           "Caugheys Road, 11",
           "1",
           0.13
          ],
          [
           "Caunton",
           "1",
           0.5
          ],
          [
           "Causeway Bridges Farm",
           "1",
           0.5
          ],
          [
           "Causeway Green Farm",
           "2",
           0.1
          ],
          [
           "Causeymire",
           "21",
           48.3
          ],
          [
           "Cavan Lane, 3",
           "1",
           0.225
          ],
          [
           "Cavan Road, 37 Turbine 1",
           "1",
           0.25
          ],
          [
           "Cavan Road, 37 Turbine 2",
           "1",
           0.25
          ],
          [
           "Cavan Road, 60",
           "1",
           0.25
          ],
          [
           "Cavanakill Road, 31",
           "1",
           0.25
          ],
          [
           "Cavandarragh Road, 40",
           "1",
           0.225
          ],
          [
           "Cavanlee Road, 25a",
           "1",
           0.25
          ],
          [
           "Cavanoneill Road, 66",
           "1",
           0.25
          ],
          [
           "Cavehill Road, 33",
           "1",
           0.1
          ],
          [
           "Cavey Road, 34",
           "1",
           0.25
          ],
          [
           "Cefn Bach",
           "1",
           0.5
          ],
          [
           "Cefn Croes (inc Devils Bridge)",
           "39",
           58.5
          ],
          [
           "Cefn Fforest Farm",
           "1",
           0.5
          ],
          [
           "Cefncynfal",
           "1",
           0.5
          ],
          [
           "Cemmaes - Repower",
           "18",
           15.3
          ],
          [
           "Cerrig Oerion",
           "2",
           0.1
          ],
          [
           "Chapelfield Farm",
           "1",
           0.25
          ],
          [
           "Chelveston Renewable Energy Park",
           "9",
           25.65
          ],
          [
           "Cherry Rock Farm",
           "1",
           0.5
          ],
          [
           "Chiplow",
           "4",
           8.2
          ],
          [
           "Chittlehampton Farm",
           "1",
           0.075
          ],
          [
           "Church Farm (Yorkshire)",
           "1",
           0.5
          ],
          [
           "Church Hill",
           "8",
           18.4
          ],
          [
           "Church Road, 18",
           "1",
           0.25
          ],
          [
           "Church Road, 45 (Replacement)",
           "1",
           0.25
          ],
          [
           "Church Road, 84",
           "1",
           0.225
          ],
          [
           "Churchland Lane, 20",
           "1",
           0.25
          ],
          [
           "Chwaen Goch",
           "1",
           0.5
          ],
          [
           "Cilcrug Farm",
           "1",
           0.225
          ],
          [
           "Cilgoed",
           "1",
           0.5
          ],
          [
           "Circular Road, 73",
           "1",
           0.25
          ],
          [
           "Clabby Road, 83",
           "1",
           0.225
          ],
          [
           "Clackmae Farmhouse",
           "1",
           0.1
          ],
          [
           "Claragh Road, 96",
           "1",
           0.25
          ],
          [
           "Claremore Road, 34",
           "1",
           0.15
          ],
          [
           "Clashindarroch (Resubmission)",
           "18",
           36.9
          ],
          [
           "Clatto Farm (Resubmission)",
           "1",
           0.225
          ],
          [
           "Clayfords Farm",
           "1",
           0.8
          ],
          [
           "Clearwell Farm",
           "1",
           0.33
          ],
          [
           "Clegir Canol",
           "1",
           0.225
          ],
          [
           "Clegir Isaf",
           "1",
           0.225
          ],
          [
           "Clentrie Farm (Gevens)",
           "3",
           6.9
          ],
          [
           "Cleughhead Farm",
           "1",
           0.5
          ],
          [
           "Climpy",
           "1",
           0.5
          ],
          [
           "Clinty Quarry Turbine 1",
           "1",
           0.25
          ],
          [
           "Clinty Quarry Turbine 2",
           "1",
           0.25
          ],
          [
           "Clintyfinnan Road, 7 Turbine 1",
           "1",
           0.075
          ],
          [
           "Clintyfinnan Road, 7 Turbine 2 (Resubmission)",
           "1",
           0.15
          ],
          [
           "Cloane Road, 32 (Replacement)",
           "1",
           0.1
          ],
          [
           "Clocaenog Forest",
           "27",
           96
          ],
          [
           "Clochnahill",
           "4",
           5.2
          ],
          [
           "Cloffrickford",
           "3",
           6.9
          ],
          [
           "Cloghfin Road, 180 Turbine 1",
           "1",
           0.225
          ],
          [
           "Cloghs Road, 21a",
           "1",
           0.25
          ],
          [
           "Clondermot",
           "1",
           2.3
          ],
          [
           "Clones Road, 61",
           "1",
           0.15
          ],
          [
           "Clonherb Farm",
           "1",
           0.33
          ],
          [
           "Clonmore Road, 98",
           "1",
           0.225
          ],
          [
           "Clontafleece Road, 64",
           "1",
           0.15
          ],
          [
           "Clontafleece Road, 64",
           "1",
           0.15
          ],
          [
           "Clooney Road, 5",
           "1",
           0.15
          ],
          [
           "Cloonty",
           "4",
           9.2
          ],
          [
           "Cloverhill Farm",
           "1",
           0.1
          ],
          [
           "Cloy Road, 50",
           "1",
           0.25
          ],
          [
           "Cloyfin Road, 145",
           "1",
           0.25
          ],
          [
           "Cluny Farm",
           "1",
           0.33
          ],
          [
           "Cluseburn",
           "1",
           0.5
          ],
          [
           "Clyde (North and Central)",
           "96",
           220.8
          ],
          [
           "Clyde Extension",
           "54",
           172.8
          ],
          [
           "Clyde South",
           "56",
           128.8
          ],
          [
           "Coa Chapel Road, 60",
           "1",
           0.25
          ],
          [
           "Coa Road, 233 (Replacement)",
           "1",
           0.225
          ],
          [
           "Coachford Farm",
           "2",
           0.1
          ],
          [
           "Coachlands Farm",
           "1",
           0.225
          ],
          [
           "Coagh Road, 192",
           "1",
           0.25
          ],
          [
           "Coagh Road, 55",
           "1",
           0.15
          ],
          [
           "Coal Clough - Repower",
           "8",
           16
          ],
          [
           "Coash Road, 156",
           "1",
           0.15
          ],
          [
           "Coash Road, 158",
           "1",
           0.15
          ],
          [
           "Coed Adam",
           "1",
           0.1
          ],
          [
           "Coed y Gilfach Farm (Resubmission)",
           "2",
           0.5
          ],
          [
           "Coigach Community Turbine",
           "1",
           0.66
          ],
          [
           "Coire Na Cloiche",
           "13",
           29.9
          ],
          [
           "Cold Northcott",
           "18",
           5.4
          ],
          [
           "Coldham",
           "8",
           16
          ],
          [
           "Coldharbour Farm",
           "1",
           0.1
          ],
          [
           "Coleraine Road, 188",
           "1",
           0.15
          ],
          [
           "Colinglen Road, 37",
           "1",
           0.15
          ],
          [
           "Collacott Farm",
           "1",
           0.5
          ],
          [
           "Collaton Farm",
           "1",
           0.5
          ],
          [
           "College Road, 3",
           "1",
           0.25
          ],
          [
           "College Road, 8",
           "1",
           0.25
          ],
          [
           "Collier Goathill Quarry",
           "1",
           1.5
          ],
          [
           "Colonsay",
           "1",
           0.1
          ],
          [
           "Colony Candles Factory",
           "1",
           0.5
          ],
          [
           "Colton Concrete",
           "1",
           0.225
          ],
          [
           "Colton Quarry (Resubmission)",
           "1",
           0.225
          ],
          [
           "Comber Road, 221",
           "1",
           0.25
          ],
          [
           "Comber Road, 48",
           "1",
           0.225
          ],
          [
           "Combs Farm",
           "1",
           0.5
          ],
          [
           "Common Barn (Formerly Highfield Farm)",
           "3",
           6.15
          ],
          [
           "Commonside Farm",
           "1",
           0.5
          ],
          [
           "Concess Road, 26",
           "1",
           0.225
          ],
          [
           "Connaught Road, 44",
           "1",
           0.85
          ],
          [
           "Cookstown Road, 80",
           "1",
           0.25
          ],
          [
           "Coolaness House",
           "1",
           0.25
          ],
          [
           "Coolkeeran Road, 134",
           "2",
           0.1
          ],
          [
           "Coombe Farm (Monmouthshire)",
           "1",
           0.25
          ],
          [
           "Cooneen Road, 142",
           "1",
           0.25
          ],
          [
           "Copt Hill Farm",
           "1",
           0.5
          ],
          [
           "Corbally Road, 58",
           "1",
           0.25
          ],
          [
           "Corby Knowe",
           "3",
           5.4
          ],
          [
           "Corernagh Road, 9",
           "1",
           0.225
          ],
          [
           "Corkey",
           "10",
           5
          ],
          [
           "Corkey Road, 8",
           "1",
           0.15
          ],
          [
           "Corkley Road, 26",
           "1",
           0.225
          ],
          [
           "Corlea Road, 39",
           "1",
           0.25
          ],
          [
           "Cornahaltie Road, 99",
           "1",
           0.225
          ],
          [
           "Cornahaltie Road, 99 Turbine 2",
           "1",
           0.225
          ],
          [
           "Corramore Road, 146",
           "1",
           0.25
          ],
          [
           "Corriegarth Estate",
           "23",
           69
          ],
          [
           "Corriemoillie (Resubmission)",
           "17",
           54.4
          ],
          [
           "Corrigs Road, 25",
           "1",
           0.15
          ],
          [
           "Corrimony Community Windfarm",
           "5",
           10
          ],
          [
           "Corrinare Road, 30",
           "1",
           0.25
          ],
          [
           "Cortes Gardens",
           "1",
           0.5
          ],
          [
           "Cottage Farm (Nottinghamshire)",
           "1",
           0.5
          ],
          [
           "Cotton Farm",
           "8",
           16.4
          ],
          [
           "Coultas Farm",
           "1",
           0.33
          ],
          [
           "Council Road, 21",
           "1",
           0.225
          ],
          [
           "Couplaw Farm",
           "1",
           0.5
          ],
          [
           "Cour",
           "10",
           20.5
          ],
          [
           "Courtstone",
           "1",
           2.3
          ],
          [
           "Cousland 1",
           "1",
           0.1
          ],
          [
           "Cousland 2",
           "1",
           0.1
          ],
          [
           "Cousland Park Farm",
           "2",
           0.1
          ],
          [
           "Covanhill Farm",
           "1",
           0.1
          ],
          [
           "Cowdenhead",
           "2",
           1.35
          ],
          [
           "Cowfield Farm",
           "1",
           0.3
          ],
          [
           "Cowhill",
           "1",
           0.8
          ],
          [
           "Cowie Hill",
           "1",
           0.5
          ],
          [
           "Craig Garbil",
           "1",
           0.5
          ],
          [
           "Craig Wind Farm",
           "4",
           10
          ],
          [
           "Craig Wind Farm Extension",
           "1",
           2.35
          ],
          [
           "Craiganee Road, 33",
           "1",
           0.25
          ],
          [
           "Craigannet",
           "1",
           1.5
          ],
          [
           "Craigengelt Hill",
           "8",
           20
          ],
          [
           "Craiggore",
           "10",
           23.5
          ],
          [
           "Craighill Road, 11",
           "1",
           0.225
          ],
          [
           "Craighill Road, 9",
           "1",
           0.25
          ],
          [
           "Craiglaw Farm",
           "2",
           0.1
          ],
          [
           "Craigmore Road",
           "1",
           0.15
          ],
          [
           "Craigs Road, 301",
           "1",
           0.25
          ],
          [
           "Craigthornhill Farm",
           "1",
           0.5
          ],
          [
           "Cranagh Road, 38",
           "1",
           0.225
          ],
          [
           "Crancussy Road, 11",
           "1",
           0.15
          ],
          [
           "Craneham Farm",
           "1",
           0.1
          ],
          [
           "Cranford Estate",
           "1",
           0.5
          ],
          [
           "Crannabog Farm (Rothienorman Cluster)",
           "1",
           0.5
          ],
          [
           "Creagh Road, 50",
           "1",
           0.225
          ],
          [
           "Creagh Road, 69",
           "1",
           0.225
          ],
          [
           "Creamery Road, 62",
           "1",
           0.25
          ],
          [
           "Creed Business Park",
           "1",
           0.33
          ],
          [
           "Creenagh Road, 56",
           "1",
           0.225
          ],
          [
           "Cregganconroe",
           "6",
           13.8
          ],
          [
           "Crewmore Road, 33",
           "1",
           0.225
          ],
          [
           "Crewmore Road, 44",
           "1",
           0.25
          ],
          [
           "Crican",
           "1",
           0.5
          ],
          [
           "Criggie Farmhouse (Resubmission)",
           "1",
           0.5
          ],
          [
           "Crighshane",
           "14",
           32.2
          ],
          [
           "Crimond",
           "1",
           0.5
          ],
          [
           "Crimp",
           "3",
           2.4
          ],
          [
           "Crockagarron",
           "6",
           15
          ],
          [
           "Crockagarron Extension",
           "1",
           2.5
          ],
          [
           "Crockanboy Road, 128 Turbine 1",
           "1",
           0.25
          ],
          [
           "Crockanboy Road, 134",
           "1",
           0.225
          ],
          [
           "Crockandun",
           "6",
           15
          ],
          [
           "Crockbaravally",
           "3",
           7.5
          ],
          [
           "Crockbrack",
           "1",
           2.3
          ],
          [
           "Crockdun",
           "5",
           12.5
          ],
          [
           "Croda Chemicals Europe Hull Site",
           "1",
           2
          ],
          [
           "Crofthead Farm (Dumfries & Galloway)",
           "2",
           0.1
          ],
          [
           "Crofthead Farm (East Ayrshire)",
           "1",
           0.5
          ],
          [
           "Cromlet Farm",
           "1",
           0.33
          ],
          [
           "Crook Golf Club",
           "1",
           0.5
          ],
          [
           "Crook Hill (Calderdale)",
           "4",
           13.6
          ],
          [
           "Crook Hill (Rochdale)",
           "7",
           23.8
          ],
          [
           "Crook Road, 31 Turbine 1",
           "1",
           0.25
          ],
          [
           "Crosscavanagh Road, 22",
           "1",
           0.225
          ],
          [
           "Crossdykes (Community Share)",
           "10",
           48
          ],
          [
           "Crossgar Road, 155",
           "1",
           0.25
          ],
          [
           "Crosskennan Road, 60",
           "1",
           0.225
          ],
          [
           "Crossness Sewage Treatment Works",
           "1",
           2.3
          ],
          [
           "Crowdy Water Treatment Works",
           "1",
           0.1
          ],
          [
           "Crown Farm",
           "2",
           0.16
          ],
          [
           "Crowness Business Park",
           "1",
           0.9
          ],
          [
           "Cruach Mhor",
           "35",
           29.75
          ],
          [
           "Cruglwyn",
           "1",
           0.5
          ],
          [
           "Cruglwyn Turbine 2",
           "1",
           0.8
          ],
          [
           "Cruivie Farm",
           "1",
           0.5
          ],
          [
           "Crystal Rig I",
           "20",
           50
          ],
          [
           "Crystal Rig Ia",
           "5",
           12.5
          ],
          [
           "Crystal Rig II",
           "51",
           117.3
          ],
          [
           "Crystal Rig IIa",
           "9",
           20.7
          ],
          [
           "Crystal Rig III",
           "6",
           13.8
          ],
          [
           "Cuddyhouse Road (Resubmission)",
           "1",
           0.5
          ],
          [
           "Culbirnie 1",
           "1",
           0.5
          ],
          [
           "Culbirnie 2",
           "1",
           0.5
          ],
          [
           "Culkeeran Road, 14",
           "1",
           0.225
          ],
          [
           "Culkeeran Road, 39",
           "1",
           0.25
          ],
          [
           "Cullisse Farm",
           "1",
           0.5
          ],
          [
           "Cullyrammer Road, 64",
           "1",
           0.25
          ],
          [
           "Culvacullion Road, 47",
           "1",
           0.25
          ],
          [
           "Culvie Hill",
           "1",
           0.5
          ],
          [
           "Curly Hill Road, 53",
           "1",
           0.25
          ],
          [
           "Curlyhill Road, 53",
           "1",
           0.25
          ],
          [
           "Curlyhill Road, 63",
           "1",
           0.225
          ],
          [
           "Curlyhill Road, 99A",
           "1",
           0.15
          ],
          [
           "Curragh Road, 120",
           "1",
           0.225
          ],
          [
           "Curragh Road, 5",
           "1",
           0.25
          ],
          [
           "Curragh Road, 70",
           "1",
           0.25
          ],
          [
           "Currin Road, 131",
           "1",
           0.25
          ],
          [
           "Curryfree Hill",
           "6",
           15
          ],
          [
           "Cwmbetws Farm",
           "1",
           0.1
          ],
          [
           "Cwrt Mawr",
           "1",
           0.225
          ],
          [
           "Dagenham",
           "2",
           3.6
          ],
          [
           "Dagenham II",
           "1",
           2.3
          ],
          [
           "Daintree (M1 J18 Wind Turbines)",
           "2",
           4
          ],
          [
           "Dalby",
           "9",
           7.2
          ],
          [
           "Dalswinton, Pennyland Moor",
           "15",
           30
          ],
          [
           "Damhead Farm",
           "1",
           1.5
          ],
          [
           "Danesdale Farm",
           "2",
           0.1
          ],
          [
           "Dareduff Hill (4th Resubmission)",
           "1",
           0.5
          ],
          [
           "Davies Road, 1",
           "1",
           0.225
          ],
          [
           "Dean Hall Farm",
           "1",
           0.5
          ],
          [
           "Debdale Hill",
           "1",
           0.5
          ],
          [
           "Decoy House",
           "2",
           0.1
          ],
          [
           "Deeping Fen Farm (Resubmission)",
           "2",
           0.1
          ],
          [
           "Deeping St Nicholas (Community Share)",
           "8",
           16
          ],
          [
           "Deerpark Road, 45",
           "1",
           0.15
          ],
          [
           "Delabole - Repower",
           "4",
           9.2
          ],
          [
           "Den Brook",
           "9",
           18
          ],
          [
           "Denby House",
           "2",
           0.1
          ],
          [
           "Denhill",
           "1",
           2.3
          ],
          [
           "Denmoss (Revised)",
           "1",
           0.5
          ],
          [
           "Denzell Downs (Resubmission)",
           "5",
           10
          ],
          [
           "Derby Sewage Treatment Works",
           "2",
           5
          ],
          [
           "Derg Lane, 17",
           "1",
           0.225
          ],
          [
           "Derryallen Road, 22 Turbine 1",
           "1",
           0.15
          ],
          [
           "Derryallen Road, 22 Turbine 2",
           "1",
           0.25
          ],
          [
           "Derrylin Road, 149",
           "1",
           0.25
          ],
          [
           "Derryraine Road, 18b",
           "1",
           0.25
          ],
          [
           "Dersalloch",
           "23",
           69
          ],
          [
           "Derwin Fawr Turbine 1",
           "1",
           0.05
          ],
          [
           "Derwin Fawr Turbine 2",
           "1",
           0.05
          ],
          [
           "Derwin Fawr Turbine 3",
           "1",
           0.05
          ],
          [
           "Desertmartin Road, 121",
           "1",
           0.25
          ],
          [
           "Deucheran Hill",
           "9",
           15.75
          ],
          [
           "Deuchries",
           "3",
           7.05
          ],
          [
           "Devesky Road, 18 (Replacement)",
           "1",
           0.25
          ],
          [
           "Devesky Road, 62",
           "1",
           0.25
          ],
          [
           "Devesky Road, 62 Turbine 2 (Replacement)",
           "1",
           0.25
          ],
          [
           "Dewlay Cheese",
           "1",
           2.05
          ],
          [
           "Diamond View",
           "1",
           0.15
          ],
          [
           "Dickeystown Road, 45 (Replacement)",
           "1",
           0.225
          ],
          [
           "Dilland Farm",
           "1",
           0.5
          ],
          [
           "Dillars Hill",
           "2",
           0.1
          ],
          [
           "Disert Road, 43",
           "1",
           0.25
          ],
          [
           "Disgarth Uchaf Farm",
           "1",
           0.5
          ],
          [
           "Doherty and Gray",
           "1",
           0.225
          ],
          [
           "Donaldsons Field",
           "1",
           0.5
          ],
          [
           "Donard View, 18",
           "1",
           0.25
          ],
          [
           "Doolargy Road, 27",
           "1",
           0.15
          ],
          [
           "Dorenell",
           "59",
           177
          ],
          [
           "Dorney Bridge Road, 27",
           "1",
           0.25
          ],
          [
           "Double Arches Quarry",
           "1",
           1.5
          ],
          [
           "Doughty Farm",
           "1",
           0.225
          ],
          [
           "Douglas West & Dalquhandy",
           "13",
           46.8
          ],
          [
           "Dounepark Farm",
           "1",
           0.8
          ],
          [
           "Dovecote Farm (Milton Keynes)",
           "1",
           0.5
          ],
          [
           "Dowhill Farm",
           "1",
           0.5
          ],
          [
           "Downpatrick Road, 21",
           "1",
           0.225
          ],
          [
           "Draffan",
           "1",
           0.5
          ],
          [
           "Drefach Farm",
           "1",
           0.5
          ],
          [
           "Drigg Moorside Farm (Resubmission)",
           "1",
           0.4
          ],
          [
           "Drin Road, 41",
           "1",
           0.25
          ],
          [
           "Drin Road, 45",
           "1",
           0.25
          ],
          [
           "Dromara Road, 58",
           "1",
           0.15
          ],
          [
           "Drone Hill",
           "22",
           28.6
          ],
          [
           "Drones Road, 250",
           "1",
           0.25
          ],
          [
           "Drones Road, 46",
           "1",
           0.15
          ],
          [
           "Droop Hill (Resubmission)",
           "2",
           4.6
          ],
          [
           "Drum Road, 201",
           "1",
           0.25
          ],
          [
           "Drumack Lane, 16",
           "1",
           0.225
          ],
          [
           "Drumack Lane, 26",
           "1",
           0.25
          ],
          [
           "Drumahiskey Road, 12",
           "1",
           0.225
          ],
          [
           "Drumaney Road, 108",
           "1",
           0.25
          ],
          [
           "Drumard Road",
           "1",
           0.225
          ],
          [
           "Drumard Road, 11",
           "2",
           0.3
          ],
          [
           "Drumard Road, 55",
           "1",
           0.225
          ],
          [
           "Drumaroad Hill, 75",
           "1",
           0.25
          ],
          [
           "Drumawhey Road, 3",
           "1",
           0.15
          ],
          [
           "Drumbanagher Wall Road, 46",
           "1",
           0.25
          ],
          [
           "Drumbanagher Wall Road, 50",
           "1",
           0.25
          ],
          [
           "Drumbare Road, 29 Turbine 1 (Replacement)",
           "1",
           0.25
          ],
          [
           "Drumbare Road, 29 Turbine 2 (Replacement)",
           "1",
           0.25
          ],
          [
           "Drumbeebeg Road, 9",
           "1",
           0.225
          ],
          [
           "Drumbulcan",
           "1",
           0.15
          ],
          [
           "Drumcor Road, 14",
           "1",
           0.225
          ],
          [
           "Drumcraig Road, 19",
           "1",
           0.225
          ],
          [
           "Drumcrow Road, 12",
           "1",
           0.15
          ],
          [
           "Drumdelgie (Resubmission)",
           "2",
           0.45
          ],
          [
           "Drumderg",
           "16",
           36.8
          ],
          [
           "Drumdreenagh Road, 15",
           "1",
           0.15
          ],
          [
           "Drumdreenagh Road, 34",
           "1",
           0.1
          ],
          [
           "Drumduff",
           "3",
           8.55
          ],
          [
           "Drumeagle Road, 16",
           "1",
           0.225
          ],
          [
           "Drumflugh Road, 49",
           "1",
           0.05
          ],
          [
           "Drumflugh Road, 51",
           "1",
           0.05
          ],
          [
           "Drumgiven Road, 29",
           "1",
           0.25
          ],
          [
           "Drumhappy Road, 31",
           "1",
           0.25
          ],
          [
           "Drumlegagh Road North, 55",
           "1",
           0.25
          ],
          [
           "Drumlithie Feed Mill",
           "3",
           6.9
          ],
          [
           "Drummee Road, 6",
           "1",
           0.15
          ],
          [
           "Drumnadonaghy Road, 20",
           "1",
           0.15
          ],
          [
           "Drumnadonaghy Road, 22 Turbine 1",
           "1",
           0.15
          ],
          [
           "Drumnadonaghy Road, 22 Turbine 2",
           "1",
           0.25
          ],
          [
           "Drumnakilly Road, 120",
           "1",
           0.25
          ],
          [
           "Drumnakilly Road, 286 (Resubmission)",
           "1",
           0.15
          ],
          [
           "Drumnakilly Road, 296b",
           "1",
           0.15
          ],
          [
           "Drumneath Road, 25",
           "1",
           0.25
          ],
          [
           "Drums Farm (Resubmission)",
           "3",
           0.15
          ],
          [
           "Drumshimuck Road, 49",
           "1",
           0.225
          ],
          [
           "Drumsurn Road, 78",
           "1",
           0.225
          ],
          [
           "Dublin Hill Road, 33",
           "1",
           0.15
          ],
          [
           "Dubton Farm (2nd Resubmission)",
           "1",
           0.5
          ],
          [
           "Dudgeon",
           "67",
           402
          ],
          [
           "Duggleby Wold Farm",
           "1",
           0.25
          ],
          [
           "Dulas Valley Community Turbine",
           "1",
           0.075
          ],
          [
           "Dullaghy Road, 45",
           "1",
           0.225
          ],
          [
           "Dullerton Road, 43 Turbine 1",
           "1",
           0.25
          ],
          [
           "Dullerton Road, 43 Turbine 2",
           "1",
           0.25
          ],
          [
           "Dummuie",
           "7",
           12.25
          ],
          [
           "Dun Law",
           "26",
           17.16
          ],
          [
           "Dun Law Extension",
           "35",
           29.75
          ],
          [
           "Dunamore Road, 73",
           "1",
           0.25
          ],
          [
           "Dunarnon Road, 14",
           "1",
           0.25
          ],
          [
           "Dunbeath Engineering",
           "1",
           0.1
          ],
          [
           "Dunbeg",
           "14",
           42
          ],
          [
           "Dunbog Farm",
           "2",
           0.2
          ],
          [
           "Dundonald",
           "1",
           0.8
          ],
          [
           "Dundrinne Road, 63",
           "1",
           0.225
          ],
          [
           "Dundrum Road, 158",
           "1",
           0.225
          ],
          [
           "Dunduff House",
           "2",
           0.2
          ],
          [
           "Dunevely Road, 11",
           "1",
           0.225
          ],
          [
           "Dungavel Hill",
           "13",
           26
          ],
          [
           "Dungonnell Road, 26",
           "1",
           0.25
          ],
          [
           "Dunlady Road, 32 (Replacement)",
           "1",
           0.25
          ],
          [
           "Dunmaglass",
           "33",
           94.05
          ],
          [
           "Dunmore",
           "7",
           21
          ],
          [
           "Dunmore Farm",
           "1",
           0.1
          ],
          [
           "Dunnamona Road, 90 (Resubmission)",
           "1",
           0.225
          ],
          [
           "Dunnygarron Road, 62",
           "1",
           0.15
          ],
          [
           "Dunsland Cross (Resubmission)",
           "3",
           6.15
          ],
          [
           "Dunton Hills Farm (Resubmission)",
           "1",
           0.5
          ],
          [
           "Durpley Farm",
           "1",
           0.5
          ],
          [
           "Dyffryn Brodyn",
           "11",
           5.5
          ],
          [
           "Dykehead Farm (14 Acre Fields)",
           "1",
           0.225
          ],
          [
           "Dykehead Farm (Loch Wood)",
           "1",
           0.5
          ],
          [
           "Dykehead Farm (Stonehouse)",
           "1",
           0.5
          ],
          [
           "Dykelands",
           "2",
           0.2
          ],
          [
           "Earls Hall Farm",
           "5",
           10.25
          ],
          [
           "Earlsburn (Community Share)",
           "15",
           37.5
          ],
          [
           "Earlseat",
           "8",
           16
          ],
          [
           "Earlsway Farm",
           "1",
           0.275
          ],
          [
           "East Balsdon Farm",
           "1",
           0.5
          ],
          [
           "East Balsdon Farm Extension",
           "1",
           0.5
          ],
          [
           "East Butterwick Road Sewage Works",
           "1",
           0.5
          ],
          [
           "East Close Farm",
           "1",
           0.5
          ],
          [
           "East Drums",
           "1",
           0.5
          ],
          [
           "East Gormack Farm",
           "1",
           0.5
          ],
          [
           "East Gowkhill (Resubmission)",
           "1",
           0.5
          ],
          [
           "East Leylodge",
           "2",
           0.45
          ],
          [
           "East Memus",
           "1",
           0.4
          ],
          [
           "East Midlands Airport",
           "2",
           0.5
          ],
          [
           "East Moorfield Industrial Estate",
           "1",
           0.1
          ],
          [
           "East Pokelly Farm",
           "1",
           0.1
          ],
          [
           "East Sinclairhills",
           "1",
           0.1
          ],
          [
           "East Town Farm",
           "1",
           0.5
          ],
          [
           "East Westacott",
           "1",
           0.1
          ],
          [
           "East Williamston Community Turbine",
           "1",
           0.9
          ],
          [
           "East Youlstone Farm",
           "2",
           4
          ],
          [
           "Easter Aberchalder (Resubmission)",
           "1",
           0.5
          ],
          [
           "Easter Cushnie (Resubmission)",
           "1",
           0.1
          ],
          [
           "Easter Drumclair",
           "1",
           0.5
          ],
          [
           "Easter Howlaws Farm",
           "2",
           0.2
          ],
          [
           "Easter Melrose",
           "3",
           1.5
          ],
          [
           "Easter Tolmauds",
           "2",
           1.6
          ],
          [
           "Easter Tulloch (Twinshiels)",
           "3",
           7.5
          ],
          [
           "Easter Tulloch (Twinshiels)",
           "3",
           7.5
          ],
          [
           "Eastertown",
           "1",
           0.5
          ],
          [
           "Eastfield Garden Centre",
           "2",
           0.16
          ],
          [
           "Eastman (Voridian)",
           "2",
           4
          ],
          [
           "Ecclesville Road, 82",
           "1",
           0.15
          ],
          [
           "Ecotech Centre",
           "1",
           1.5
          ],
          [
           "Eden Road, 39",
           "1",
           0.15
          ],
          [
           "Eden Road, 43",
           "1",
           0.15
          ],
          [
           "Eden Road, 43 Turbine 2",
           "1",
           0.1
          ],
          [
           "Edenaveys Road, 27",
           "1",
           0.225
          ],
          [
           "Edenmore Road, 109",
           "1",
           0.225
          ],
          [
           "Edinbane",
           "18",
           41.4
          ],
          [
           "Edintore",
           "6",
           14.1
          ],
          [
           "Ednego Road, 16",
           "1",
           0.225
          ],
          [
           "Eglish",
           "6",
           15
          ],
          [
           "Elder Farm",
           "1",
           0.5
          ],
          [
           "Elginny Hill (Resubmission)",
           "10",
           23
          ],
          [
           "Elginny Road, 14",
           "1",
           0.1
          ],
          [
           "Elliot's Hill",
           "10",
           5
          ],
          [
           "Elm Tree Farm",
           "1",
           0.5
          ],
          [
           "Ennis Barton Farm",
           "1",
           0.5
          ],
          [
           "Enniskillen Road, 38 (Mossfield Road, 38)",
           "1",
           0.25
          ],
          [
           "Erganagh Road, 29",
           "1",
           0.25
          ],
          [
           "Erith - Aggregate Industries",
           "1",
           0.5
          ],
          [
           "Errigal Road, 43",
           "1",
           0.225
          ],
          [
           "Ervey Road, 67",
           "1",
           0.15
          ],
          [
           "Esgairdraenllwyn",
           "2",
           0.1
          ],
          [
           "Esgerfa Farm",
           "1",
           0.1
          ],
          [
           "Eshmore",
           "3",
           6.9
          ],
          [
           "Eskdale Farm",
           "2",
           0.2
          ],
          [
           "EuroCaps",
           "2",
           0.45
          ],
          [
           "European Offshore Wind Deployment Centre (EOWDC, Aberdeen Bay)",
           "11",
           96.8
          ],
          [
           "Evish Road, 20",
           "1",
           0.225
          ],
          [
           "Evishagaran",
           "13",
           46.8
          ],
          [
           "Ewe Hill",
           "16",
           36.8
          ],
          [
           "Ewe Hill 6",
           "6",
           13.8
          ],
          [
           "Ewebrae",
           "1",
           0.225
          ],
          [
           "Eye Airfield (2nd Resubmission)",
           "2",
           6.8
          ],
          [
           "Eye Airfield Industrial Estate",
           "2",
           5
          ],
          [
           "Faccombe Estates - Repower",
           "1",
           0.5
          ],
          [
           "Fair Isle",
           "1",
           0.1
          ],
          [
           "Fair Isle Low Carbon",
           "3",
           0.18
          ],
          [
           "Fairburn",
           "20",
           40
          ],
          [
           "Fairfield Farm",
           "5",
           6.5
          ],
          [
           "Fallago Rig",
           "48",
           144
          ],
          [
           "Far Leys Farm",
           "1",
           0.5
          ],
          [
           "Far Marsh (Resubmission)",
           "3",
           1.5
          ],
          [
           "Farchwel",
           "1",
           0.225
          ],
          [
           "Farm Town Lane (Resubmission)",
           "2",
           0.45
          ],
          [
           "Farmhouse Potato Bakers",
           "1",
           0.225
          ],
          [
           "Farr Windfarm",
           "40",
           92
          ],
          [
           "Fazakerley Waste Water Treatment Works",
           "1",
           0.5
          ],
          [
           "Featherstone House Farm (Clark Recovered)",
           "1",
           0.8
          ],
          [
           "Fecarry Road, 23",
           "1",
           0.25
          ],
          [
           "Feglish Road, 7",
           "1",
           0.15
          ],
          [
           "Feithhill Farm",
           "1",
           0.5
          ],
          [
           "Fen Farm (Resubmission)",
           "20",
           16
          ],
          [
           "Ferndale",
           "8",
           6.4
          ],
          [
           "Ferneylea Farm",
           "2",
           1.5
          ],
          [
           "Ferniebrae",
           "1",
           0.33
          ],
          [
           "Ferry Farm",
           "1",
           0.5
          ],
          [
           "Fforch Nest Wind Farm 1",
           "4",
           10
          ],
          [
           "Fforch Nest Wind Farm 2",
           "7",
           17.5
          ],
          [
           "Ffrwd Farm",
           "1",
           0.5
          ],
          [
           "Ffynnon Oer",
           "16",
           32
          ],
          [
           "Fields Farm",
           "1",
           0.5
          ],
          [
           "Fincairn Road, 135",
           "1",
           0.225
          ],
          [
           "Findhorn Foundation Extension",
           "3",
           0.675
          ],
          [
           "Fingrean Road, 68",
           "1",
           0.25
          ],
          [
           "Finnock Bog Farm",
           "2",
           0.2
          ],
          [
           "Finvoy Road, 143",
           "1",
           0.15
          ],
          [
           "Firs Farm",
           "1",
           0.225
          ],
          [
           "Flat House Farm",
           "2",
           0.5
          ],
          [
           "Fleetwood Waste Water Treatment Works",
           "1",
           0.5
          ],
          [
           "Flimby Wind Farm",
           "3",
           6.15
          ],
          [
           "Flint Hill Farm",
           "1",
           0.5
          ],
          [
           "FMC Technologies",
           "1",
           1.5
          ],
          [
           "Foggyhill Road, 10",
           "1",
           0.25
          ],
          [
           "Folliard Road, 20",
           "1",
           0.25
          ],
          [
           "Followsters",
           "1",
           0.5
          ],
          [
           "Ford Motor Company",
           "1",
           0.5
          ],
          [
           "Fordoun Sawmill",
           "1",
           0.5
          ],
          [
           "Foreglen Road, 103",
           "1",
           0.225
          ],
          [
           "Foreglen Road, 56",
           "1",
           0.1
          ],
          [
           "Forest Hill Farm",
           "1",
           0.25
          ],
          [
           "Forestmoor",
           "3",
           2.7
          ],
          [
           "Formil Bridge",
           "1",
           0.15
          ],
          [
           "Forss",
           "2",
           2
          ],
          [
           "Forss Extension",
           "4",
           5.2
          ],
          [
           "Fosse Road",
           "1",
           0.33
          ],
          [
           "Foundry Way",
           "1",
           0.5
          ],
          [
           "Four Burrows",
           "15",
           4.5
          ],
          [
           "Fox House Farm",
           "1",
           0.5
          ],
          [
           "Foxburrow Farm (Resubmission)",
           "2",
           0.5
          ],
          [
           "Foxhill Road, 71",
           "1",
           0.25
          ],
          [
           "Fraisthorpe",
           "9",
           29.7
          ],
          [
           "Freasdail",
           "11",
           22.55
          ],
          [
           "French Farm",
           "2",
           4
          ],
          [
           "Freughlough Road, 10",
           "1",
           0.25
          ],
          [
           "Freughlough Road, 26",
           "1",
           0.25
          ],
          [
           "Freughlough Road, 36 Turbine 2",
           "1",
           0.25
          ],
          [
           "Frinkley Farm",
           "1",
           0.33
          ],
          [
           "Frodsham Marshes",
           "19",
           50.35
          ],
          [
           "Frolesworth Lodge",
           "2",
           0.1
          ],
          [
           "Fronglyd",
           "1",
           0.4
          ],
          [
           "Fullabrook Down",
           "22",
           66
          ],
          [
           "Furrowland Turbine 1",
           "1",
           0.5
          ],
          [
           "Furrowland Turbine 2",
           "1",
           0.5
          ],
          [
           "Fursdon Farm (Pickles Recovered)",
           "1",
           0.5
          ],
          [
           "Furzedown Farm",
           "1",
           0.5
          ],
          [
           "G24I",
           "1",
           2.3
          ],
          [
           "GAA Training Facilities",
           "1",
           0.225
          ],
          [
           "Gaindykehead Farm",
           "1",
           0.1
          ],
          [
           "Gainsborough Landfill Site",
           "1",
           0.5
          ],
          [
           "Gairnieston Farm",
           "1",
           2.3
          ],
          [
           "Galawhistle",
           "22",
           66
          ],
          [
           "Gallanach",
           "1",
           0.5
          ],
          [
           "Galley Hill Farm (2nd Resubmission)",
           "1",
           0.25
          ],
          [
           "Gallowhill",
           "2",
           1.8
          ],
          [
           "Gallows Hill",
           "1",
           0.5
          ],
          [
           "Galsworthy (Resubmission)",
           "4",
           9.2
          ],
          [
           "Gamlingay Community Turbine",
           "1",
           0.33
          ],
          [
           "Gardrum",
           "1",
           0.5
          ],
          [
           "Gardrum 2 (Resubmission)",
           "1",
           0.5
          ],
          [
           "Garelwood Farm",
           "1",
           0.5
          ],
          [
           "Gargadis Road, 49b",
           "1",
           0.225
          ],
          [
           "Garraroosky",
           "1",
           0.25
          ],
          [
           "Garreg Lwyd Hill",
           "17",
           34
          ],
          [
           "Garreglwyd Farm",
           "1",
           0.33
          ],
          [
           "Garryduff Road, 172",
           "1",
           0.15
          ],
          [
           "Garryduff Road, 173",
           "1",
           0.15
          ],
          [
           "Garthorne Farm",
           "1",
           0.5
          ],
          [
           "Gartnagrenach Farm (Resubmission)",
           "1",
           0.1
          ],
          [
           "Garvagh Road, 6",
           "1",
           0.25
          ],
          [
           "Garvaghy Road, 26",
           "1",
           0.25
          ],
          [
           "Garvaghy Road, 29",
           "1",
           0.225
          ],
          [
           "Garvaghy Road, 38",
           "1",
           0.25
          ],
          [
           "Garvaghy Road, 50",
           "1",
           0.25
          ],
          [
           "Garves Mountain / Dunloy",
           "5",
           15
          ],
          [
           "Gask Farm",
           "1",
           0.225
          ],
          [
           "Gateside Road, 40",
           "1",
           0.25
          ],
          [
           "Gaverigan Manor Farm",
           "1",
           0.5
          ],
          [
           "Gawnsmoss 1",
           "1",
           0.5
          ],
          [
           "Gawnsmoss 2",
           "1",
           0.5
          ],
          [
           "Gawnsmoss 3",
           "1",
           0.5
          ],
          [
           "Gayton le Marsh",
           "8",
           16.4
          ],
          [
           "Gearns Farm",
           "1",
           0.5
          ],
          [
           "Gedney Marsh (Red House)",
           "6",
           12
          ],
          [
           "Gelli Las Farm",
           "2",
           0.45
          ],
          [
           "Gelli-Wen Farm",
           "1",
           0.5
          ],
          [
           "Gelvin Road, 60",
           "1",
           0.25
          ],
          [
           "Gibsley Farm",
           "1",
           1.5
          ],
          [
           "Gigha Community Wind Farm",
           "3",
           0.675
          ],
          [
           "Gigha New Wind Turbine",
           "1",
           0.33
          ],
          [
           "Gilfach Farm",
           "1",
           0.5
          ],
          [
           "Gillistown Road, 10",
           "1",
           0.15
          ],
          [
           "Girvan Community Hospital",
           "1",
           0.1
          ],
          [
           "Glaick Farm",
           "1",
           0.25
          ],
          [
           "Glass Moor",
           "8",
           16
          ],
          [
           "Glass Moor Extension",
           "6",
           12.3
          ],
          [
           "GlaxoSmithKline (Harmire Road)",
           "2",
           0.5
          ],
          [
           "GlaxoSmithKline (Riverside Business Park) T3",
           "1",
           2.5
          ],
          [
           "GlaxoSmithKline (Riverside Business Park) T4",
           "1",
           2.5
          ],
          [
           "Glebe Barn Farm",
           "1",
           0.8
          ],
          [
           "Glebe Road, 5",
           "1",
           0.1
          ],
          [
           "Glen App",
           "11",
           22
          ],
          [
           "Glen Kyllachy",
           "20",
           50
          ],
          [
           "Glen Road, 159",
           "1",
           0.225
          ],
          [
           "Glen Road, 42",
           "1",
           0.1
          ],
          [
           "Glen Road, 7 (Replacement)",
           "1",
           0.225
          ],
          [
           "Glen Road, 9",
           "1",
           0.225
          ],
          [
           "Glenavy Road, 20",
           "1",
           0.225
          ],
          [
           "Glenbran Farm (Resubmission)",
           "1",
           0.5
          ],
          [
           "Glenbuck 1",
           "1",
           2.35
          ],
          [
           "Glenbuck 2",
           "3",
           7.05
          ],
          [
           "Glenchamber",
           "11",
           25.3
          ],
          [
           "Glenconway",
           "8",
           18.4
          ],
          [
           "Glenconway Phase 2 (Altahullion Phase III)",
           "12",
           27.6
          ],
          [
           "Glengesh Road, 136",
           "1",
           0.225
          ],
          [
           "Glengesh Road, 170",
           "1",
           0.225
          ],
          [
           "Glengesh Road, 183",
           "1",
           0.225
          ],
          [
           "Glenhead Farm",
           "1",
           0.5
          ],
          [
           "Glenhead of Aldouran",
           "1",
           0.225
          ],
          [
           "Glenkerie",
           "6",
           22
          ],
          [
           "Glenleary Road, 23 Turbine 1 (Replacement)",
           "1",
           0.25
          ],
          [
           "Glenleary Road, 23 Turbine 2 (Replacement)",
           "1",
           0.25
          ],
          [
           "Glenleslie Road, 100",
           "1",
           0.15
          ],
          [
           "Glenmanus Road, 60",
           "1",
           0.15
          ],
          [
           "Glenmuckloch Community Energy Park",
           "2",
           0.2
          ],
          [
           "Glennan Road",
           "1",
           0.225
          ],
          [
           "Glens of Foudland",
           "20",
           26
          ],
          [
           "Glenshane Road",
           "1",
           0.225
          ],
          [
           "Glenshesk Road, 54a",
           "1",
           0.15
          ],
          [
           "Glenside Quarry",
           "1",
           0.25
          ],
          [
           "Glenskinno Farm (2nd Resubmission)",
           "1",
           0.1
          ],
          [
           "Glogue Farm",
           "2",
           0.1
          ],
          [
           "Glogue Farm 2",
           "2",
           0.1
          ],
          [
           "Glyndebourne Opera House",
           "1",
           0.9
          ],
          [
           "Goole Fields",
           "16",
           32.8
          ],
          [
           "Goole Fields II",
           "17",
           34.85
          ],
          [
           "Goonabarn Farm",
           "2",
           1
          ],
          [
           "Goonhilly Downs - Repower",
           "6",
           12
          ],
          [
           "Goonvean Works",
           "1",
           0.5
          ],
          [
           "Gordonbush",
           "35",
           71.75
          ],
          [
           "Gordonbush Extension",
           "11",
           38
          ],
          [
           "Gordonstown Hill",
           "5",
           12.5
          ],
          [
           "Gortagammon Road, 40",
           "1",
           0.25
          ],
          [
           "Gorteade Road, 58",
           "1",
           0.225
          ],
          [
           "Gortfinbar",
           "5",
           15
          ],
          [
           "Gortgole Road, 294",
           "1",
           0.15
          ],
          [
           "Gortgole Road, 79",
           "1",
           0.15
          ],
          [
           "Gorticross Road, 21",
           "1",
           0.225
          ],
          [
           "Gortinure Road, 31",
           "1",
           0.25
          ],
          [
           "Gortree Road, 76",
           "1",
           0.225
          ],
          [
           "Gortscraheen Road, 79",
           "1",
           0.25
          ],
          [
           "Gowanfold",
           "2",
           1
          ],
          [
           "Gowdall Broach Farm",
           "1",
           0.5
          ],
          [
           "Graig Fatha Farm",
           "1",
           2.5
          ],
          [
           "Grange (Flixborough) (2nd Resubmission)",
           "6",
           12.3
          ],
          [
           "Grange Farm (Cornwall)",
           "1",
           0.5
          ],
          [
           "Grange Farm (Yorkshire)",
           "1",
           0.225
          ],
          [
           "Grange Road",
           "1",
           0.25
          ],
          [
           "Gransha Road, 30 Turbine 1",
           "1",
           0.225
          ],
          [
           "Gransha Road, 30 Turbine 2",
           "1",
           0.15
          ],
          [
           "Great Dunkilns Farm Community Turbine",
           "1",
           0.5
          ],
          [
           "Great Eppleton - Repower",
           "4",
           8.2
          ],
          [
           "Great Orton II - Repower",
           "6",
           3.96
          ],
          [
           "Great Tredinnick Dairy Farm",
           "1",
           0.225
          ],
          [
           "Greater Gabbard",
           "140",
           504
          ],
          [
           "Green Holes Farm",
           "1",
           0.1
          ],
          [
           "Green House Farm",
           "1",
           0.5
          ],
          [
           "Green Knowes",
           "18",
           27
          ],
          [
           "Green Lane",
           "1",
           0.5
          ],
          [
           "Green Park (Newport)",
           "1",
           0.5
          ],
          [
           "Green Park (Reading)",
           "1",
           2
          ],
          [
           "Green Rigg",
           "18",
           36
          ],
          [
           "Green Road, 69",
           "1",
           0.25
          ],
          [
           "Greenan Road, 33",
           "1",
           0.25
          ],
          [
           "Greenburn Farm",
           "1",
           0.1
          ],
          [
           "Greencroft Estate",
           "2",
           1
          ],
          [
           "Greendykeside Wind Farm",
           "2",
           4
          ],
          [
           "Greenfield Business Park (Resubmission)",
           "1",
           0.9
          ],
          [
           "Greenhall Highway, 60 Turbine 1 (Resubmission)",
           "1",
           0.225
          ],
          [
           "Greenhall Highway, 60 Turbine 2",
           "1",
           0.225
          ],
          [
           "Greenhill Croft Tubine 1",
           "1",
           2.3
          ],
          [
           "Greenhill Croft Tubine 2",
           "1",
           2.3
          ],
          [
           "Greenhill Road, 20 Turbine 1",
           "1",
           0.225
          ],
          [
           "Greenhill Road, 20 Turbine 2 (Replacement)",
           "1",
           0.25
          ],
          [
           "Greenhill Road, 48",
           "1",
           0.225
          ],
          [
           "Greenhill Road, 49",
           "1",
           0.225
          ],
          [
           "Greenhill Road, 49 Turbine 2",
           "1",
           0.25
          ],
          [
           "Greenhill Road, 79",
           "1",
           0.25
          ],
          [
           "Greenhillock Farm",
           "1",
           0.5
          ],
          [
           "Greenhills Farm (Resubmission)",
           "1",
           0.5
          ],
          [
           "Greenhouse (Replacement)",
           "1",
           0.5
          ],
          [
           "Greenlands Equestrian Centre (Resubmission)",
           "1",
           0.5
          ],
          [
           "Greenlands Farm (Resubmission)",
           "1",
           0.1
          ],
          [
           "Greenmoss",
           "2",
           0.45
          ],
          [
           "Greenmyres",
           "1",
           0.5
          ],
          [
           "Greenside (Part Community Owned)",
           "4",
           9.2
          ],
          [
           "Greenvale AP (Resubmission)",
           "1",
           1.5
          ],
          [
           "Greenville Road, 40",
           "1",
           0.225
          ],
          [
           "Greenwall",
           "1",
           0.5
          ],
          [
           "Gremista - Luggies Knowe",
           "1",
           3
          ],
          [
           "Greyabbey Road, 135",
           "1",
           0.15
          ],
          [
           "Greystones (West Yorkshire)",
           "1",
           0.1
          ],
          [
           "Griffin",
           "68",
           156.4
          ],
          [
           "Groesfaen Farm",
           "1",
           0.5
          ],
          [
           "Grove Farm (East Riding of Yorkshire, Melbourne)",
           "2",
           0.1
          ],
          [
           "Grove Road, 114",
           "1",
           0.1
          ],
          [
           "Grove Road, 28",
           "1",
           0.225
          ],
          [
           "Grove Road, 43",
           "1",
           0.1
          ],
          [
           "Grove Road, 43A",
           "1",
           0.1
          ],
          [
           "Gruig",
           "10",
           25
          ],
          [
           "Gruig Lane, 15",
           "1",
           0.225
          ],
          [
           "Gulladuff Road, 114",
           "1",
           0.15
          ],
          [
           "Gunfleet Sands Demonstration Project",
           "2",
           12
          ],
          [
           "Gunheath Quarry",
           "1",
           0.5
          ],
          [
           "Gunhill Farm",
           "1",
           0.225
          ],
          [
           "H and H Pollington",
           "1",
           0.8
          ],
          [
           "Hadyard Hill",
           "52",
           119.6
          ],
          [
           "Hafodty Ddu",
           "1",
           0.5
          ],
          [
           "Hafotty Wen",
           "1",
           0.225
          ],
          [
           "Hafoty Ucha 1",
           "1",
           0.6
          ],
          [
           "Hafoty Ucha 2 Extension",
           "2",
           1.7
          ],
          [
           "Hafoty Ucha 3 Extension",
           "1",
           0.85
          ],
          [
           "Hagshaw Hill",
           "26",
           15.6
          ],
          [
           "Hagshaw Hill Extension",
           "20",
           26
          ],
          [
           "Halifax Farm",
           "1",
           0.5
          ],
          [
           "Hall Farm (Yorkshire)",
           "12",
           24.6
          ],
          [
           "Hallburn (Resubmission) (Article 25)",
           "6",
           13.2
          ],
          [
           "Hallfield Farm",
           "1",
           0.5
          ],
          [
           "Hallmoss Farm",
           "1",
           0.5
          ],
          [
           "Halsary Forest",
           "15",
           30
          ],
          [
           "Hameldon Hill Extension",
           "3",
           6.15
          ],
          [
           "Hamerton Zoo Park (Resubmission)",
           "2",
           0.1
          ],
          [
           "Hammars Hill",
           "5",
           4.5
          ],
          [
           "Hammer Farm",
           "1",
           0.5
          ],
          [
           "Hampole",
           "4",
           8.2
          ],
          [
           "Hannahstown Road",
           "1",
           0.25
          ],
          [
           "Hannas Road, 30",
           "1",
           0.25
          ],
          [
           "Hannas Road, 30 Turbine 2",
           "1",
           0.225
          ],
          [
           "Harburnhead",
           "22",
           51.7
          ],
          [
           "Hare Ghyll Cottage",
           "1",
           0.225
          ],
          [
           "Hare Hill (3Hs)",
           "2",
           5.08
          ],
          [
           "Hare Hill (Dumfries and Galloway)",
           "3",
           1.98
          ],
          [
           "Hare Hill (East Ayrshire)",
           "17",
           11.22
          ],
          [
           "Hare Hill Extension",
           "35",
           29.75
          ],
          [
           "Haregrove Farm",
           "1",
           0.225
          ],
          [
           "Harelaw Farm",
           "2",
           0.2
          ],
          [
           "Haremoss Farm (Resubmission)",
           "1",
           0.1
          ],
          [
           "Hareshawhead Farm",
           "1",
           0.5
          ],
          [
           "Harestanes",
           "68",
           136
          ],
          [
           "Hargreaves Farm",
           "1",
           0.225
          ],
          [
           "Harlock Hill (Furness Repower) (Community Share)",
           "2",
           4.6
          ],
          [
           "Harmeston Farm",
           "1",
           0.5
          ],
          [
           "Harrington Parks Farm",
           "1",
           0.33
          ],
          [
           "Harwes Farm",
           "2",
           0.1
          ],
          [
           "Hasholme Grange",
           "1",
           0.5
          ],
          [
           "Hasholme Hall",
           "1",
           0.5
          ],
          [
           "Haspielaw Farm",
           "1",
           0.5
          ],
          [
           "Hass Road, 21",
           "1",
           0.225
          ],
          [
           "Haswell Moor",
           "5",
           10
          ],
          [
           "Haverigg II",
           "4",
           2.4
          ],
          [
           "Haverigg III - Repower",
           "4",
           3.4
          ],
          [
           "Hawton (Pickles Recovered)",
           "3",
           6
          ],
          [
           "Haydon Farm",
           "1",
           0.1
          ],
          [
           "Hazel Slack Farm (2nd Resubmission)",
           "1",
           0.25
          ],
          [
           "Hazeldean Farm (Resubmission)",
           "1",
           0.1
          ],
          [
           "Hazelside Farm (Resubmission)",
           "2",
           1.6
          ],
          [
           "Hazlehead",
           "3",
           6.15
          ],
          [
           "Headon Manor Farm Turbine 1",
           "1",
           0.02
          ],
          [
           "Headon Manor Farm Turbine 2",
           "1",
           0.05
          ],
          [
           "Heartland Community Wind",
           "2",
           0.5
          ],
          [
           "Heather Lane",
           "1",
           0.5
          ],
          [
           "Helen House Farm (Resubmission)",
           "1",
           0.5
          ],
          [
           "Hellrigg (Resubmission)",
           "4",
           9.2
          ],
          [
           "Helms Deep",
           "1",
           0.225
          ],
          [
           "Henbant Farm",
           "1",
           0.225
          ],
          [
           "Henderston Quarry",
           "1",
           0.5
          ],
          [
           "Hens Head Farm",
           "1",
           0.225
          ],
          [
           "Herrons Road, 15",
           "1",
           0.25
          ],
          [
           "Herscha Hill",
           "1",
           0.8
          ],
          [
           "Heysham Moss",
           "1",
           1.5
          ],
          [
           "Heysham Port",
           "1",
           0.5
          ],
          [
           "Heysham South",
           "3",
           7.5
          ],
          [
           "Heywoods Farm",
           "1",
           0.5
          ],
          [
           "High Auchneel Farm (Resubmission)",
           "1",
           0.1
          ],
          [
           "High Barn Farm",
           "1",
           0.18
          ],
          [
           "High Blackwood Yards (Resubmission)",
           "1",
           0.5
          ],
          [
           "High Burnthwaite Farm",
           "1",
           0.5
          ],
          [
           "High Down",
           "1",
           0.5
          ],
          [
           "High Dyke Farm",
           "1",
           0.5
          ],
          [
           "High Grange",
           "1",
           0.1
          ],
          [
           "High Grange Turbine 2 (Resubmission)",
           "1",
           0.1
          ],
          [
           "High Haswell",
           "2",
           4
          ],
          [
           "High Hedley Hope 1",
           "3",
           2.4
          ],
          [
           "High Hedley Hope 2",
           "4",
           5.2
          ],
          [
           "High Mains",
           "1",
           0.5
          ],
          [
           "High Mathernock Farm",
           "1",
           0.5
          ],
          [
           "High Milton Farm",
           "1",
           0.1
          ],
          [
           "High Park Farm",
           "1",
           0.5
          ],
          [
           "High Pow",
           "3",
           3.9
          ],
          [
           "High Sharpley",
           "2",
           2.6
          ],
          [
           "High Volts (3Hs)",
           "3",
           7.83
          ],
          [
           "High Waterhead Farm (Resubmission)",
           "1",
           0.5
          ],
          [
           "Higham Farm",
           "2",
           0.1
          ],
          [
           "Higher Basil Farm",
           "2",
           0.15
          ],
          [
           "Higher Darracott",
           "3",
           2.55
          ],
          [
           "Higher Goonamarth Farm",
           "1",
           0.5
          ],
          [
           "Higher Micklehurst Farm",
           "1",
           0.5
          ],
          [
           "Higher Trevibban Farm",
           "2",
           0.15
          ],
          [
           "Higher Woodley Farm (Resubmission)",
           "1",
           0.25
          ],
          [
           "Highfield",
           "1",
           0.5
          ],
          [
           "Highfield Farm (Egremont)",
           "1",
           0.225
          ],
          [
           "Hill Farm (Bedfordshire)",
           "1",
           0.5
          ],
          [
           "Hill Farm (Devon)",
           "2",
           0.1
          ],
          [
           "Hill Farm (Leicestershire)",
           "1",
           0.25
          ],
          [
           "Hill Farm (Northamptonshire)",
           "1",
           0.5
          ],
          [
           "Hill Farm (Nottinghamshire, Carlton on Trent)",
           "1",
           0.5
          ],
          [
           "Hill Farm (Nottinghamshire, Epperstone) (Resubmission)",
           "1",
           0.275
          ],
          [
           "Hill Farm (Pembrokeshire) (Resubmission)",
           "1",
           0.5
          ],
          [
           "Hill House Farm (Bridgend)",
           "1",
           0.5
          ],
          [
           "Hill of Balquhindachy",
           "1",
           0.85
          ],
          [
           "Hill of Balquhindachy (Extension)",
           "2",
           1.7
          ],
          [
           "Hill of Burns",
           "1",
           0.8
          ],
          [
           "Hill of Easterton (Mackies) Turbine 1",
           "1",
           0.85
          ],
          [
           "Hill of Easterton (Mackies) Turbines 2 & 3",
           "2",
           1.7
          ],
          [
           "Hill of Easterton Extension (Mackies)",
           "1",
           0.5
          ],
          [
           "Hill of Fechel (Resubmission)",
           "1",
           0.5
          ],
          [
           "Hill of Fiddes",
           "3",
           6.9
          ],
          [
           "Hill of Finavon (Resubmission)",
           "1",
           0.5
          ],
          [
           "Hill of Glaschyle",
           "12",
           27.6
          ],
          [
           "Hill of Harthill Farm (Resubmission)",
           "1",
           0.1
          ],
          [
           "Hill Of Stracathro",
           "1",
           0.8
          ],
          [
           "Hill of Stroupster (Resubmission)",
           "12",
           27.6
          ],
          [
           "Hill of Stroupster Extension",
           "1",
           2.3
          ],
          [
           "Hill of Tillymorgan (Resubmission)",
           "3",
           6.9
          ],
          [
           "Hill of Towie",
           "21",
           48.3
          ],
          [
           "Hill Top Farm (Resubmission)",
           "2",
           0.1
          ],
          [
           "Hillhead",
           "1",
           0.33
          ],
          [
           "Hillhead of Auquhirie (2nd Resubmission)",
           "3",
           6.9
          ],
          [
           "Hillhead Road, 36",
           "1",
           0.25
          ],
          [
           "Hillhouse Waste Water Treatment Works",
           "2",
           1
          ],
          [
           "Hillkirk Farm",
           "1",
           0.1
          ],
          [
           "Hillmoor Field",
           "1",
           0.1
          ],
          [
           "Hillside Road, 142",
           "1",
           0.225
          ],
          [
           "Hilltown Road, 22",
           "1",
           0.25
          ],
          [
           "HMP Standford Hill",
           "2",
           4.6
          ],
          [
           "Hockerton Community Turbine",
           "1",
           0.225
          ],
          [
           "Hole Farm (Devon)",
           "1",
           0.5
          ],
          [
           "Holestone Road, 24",
           "1",
           0.225
          ],
          [
           "Hollafrench Farm",
           "1",
           0.1
          ],
          [
           "Holly House Farm (Resubmission)",
           "1",
           0.1
          ],
          [
           "Hollyhill Road, 21",
           "1",
           0.225
          ],
          [
           "Holme Industrial Estate (Resubmission)",
           "1",
           0.5
          ],
          [
           "Holmhead Farm",
           "1",
           0.225
          ],
          [
           "Holmside Hall (3Hs)",
           "2",
           5.08
          ],
          [
           "Holodyke",
           "1",
           0.9
          ],
          [
           "Holywood Road, 28",
           "1",
           0.15
          ],
          [
           "Hook Moor",
           "5",
           10.25
          ],
          [
           "Hoprigshiels Community Wind Farm",
           "3",
           7.5
          ],
          [
           "Horgabost",
           "1",
           0.1
          ],
          [
           "Hornsea Project Two",
           "165",
           1386
          ],
          [
           "Horsewold Farm",
           "1",
           0.5
          ],
          [
           "Horshader Community Turbine",
           "1",
           0.9
          ],
          [
           "Hospital Shields Farm 2",
           "1",
           0.45
          ],
          [
           "House O Hill",
           "3",
           2.4
          ],
          [
           "House on the Hill",
           "1",
           0.25
          ],
          [
           "How End Farm (Resubmission)",
           "1",
           0.5
          ],
          [
           "Howe Community Turbine",
           "1",
           0.9
          ],
          [
           "Howe Road, 26",
           "1",
           0.25
          ],
          [
           "Howes Farm (Resubmission)",
           "1",
           0.1
          ],
          [
           "Hownsgill Farm",
           "1",
           0.25
          ],
          [
           "Hull Waste Water Treatment Works",
           "1",
           1.3
          ],
          [
           "Humber Gateway",
           "73",
           219
          ],
          [
           "Humbleburn Lane",
           "1",
           0.5
          ],
          [
           "Huncote Grange Farm",
           "1",
           0.33
          ],
          [
           "Huncote Grange Farm T2",
           "1",
           0.5
          ],
          [
           "Hunday Farm",
           "1",
           0.5
          ],
          [
           "Hunter's Hill",
           "8",
           20
          ],
          [
           "Huntly Road, 142",
           "1",
           0.225
          ],
          [
           "Hyndburn",
           "12",
           24.6
          ],
          [
           "Hywind Scotland Pilot Park",
           "5",
           30
          ],
          [
           "Inishative",
           "5",
           11.5
          ],
          [
           "Inishative Road, 17",
           "1",
           0.15
          ],
          [
           "Inishative Road, 75 (Replacement)",
           "1",
           0.225
          ],
          [
           "Inishative Road, 85",
           "1",
           0.225
          ],
          [
           "Inkersall Grange Farm",
           "1",
           0.5
          ],
          [
           "Inshinagh Lane, 11",
           "1",
           0.225
          ],
          [
           "Inverclyde (Greenock Resubmission)",
           "8",
           24
          ],
          [
           "Inverquhomery Wind Cluster",
           "2",
           1
          ],
          [
           "Irish Hill Road, 36",
           "1",
           0.25
          ],
          [
           "Islandranny Road, 23",
           "1",
           0.225
          ],
          [
           "Iveagh Road, 15",
           "1",
           0.225
          ],
          [
           "Ivyleaf Farm",
           "1",
           0.5
          ],
          [
           "J Haig Hamilton and Sons Potato Factory",
           "1",
           0.5
          ],
          [
           "Jack's Lane",
           "6",
           15
          ],
          [
           "Jacobshall (Resubmission)",
           "1",
           0.33
          ],
          [
           "Jamesfield Farm (Resubmission)",
           "1",
           0.5
          ],
          [
           "Jameston Moss",
           "1",
           0.1
          ],
          [
           "Jaytail Farm",
           "1",
           0.4
          ],
          [
           "JJ's Farm",
           "1",
           0.5
          ],
          [
           "Kane Engineering",
           "1",
           0.225
          ],
          [
           "Keadby",
           "34",
           68
          ],
          [
           "Keele University",
           "2",
           1
          ],
          [
           "Keelham Hall",
           "2",
           0.1
          ],
          [
           "Keenaghan Road, 16",
           "1",
           0.25
          ],
          [
           "Keenaghan Road, 16 Turbine 2",
           "1",
           0.25
          ],
          [
           "Keeranbeg",
           "1",
           0.225
          ],
          [
           "Keith Hill (Resubmission)",
           "5",
           4.5
          ],
          [
           "Kelburn (Green Hill)",
           "14",
           28
          ],
          [
           "Kelly Mains Farm",
           "1",
           0.1
          ],
          [
           "Kellybank Cottage (2nd Resubmission)",
           "2",
           0.2
          ],
          [
           "Kelmarsh",
           "6",
           12.3
          ],
          [
           "Kempstone Hill (Resubmission)",
           "3",
           1.5
          ],
          [
           "Kennetsideheads Farm",
           "1",
           0.1
          ],
          [
           "Kennoxhead Phase 1",
           "13",
           62
          ],
          [
           "Kentish Flats",
           "30",
           90
          ],
          [
           "Kentish Flats Extension",
           "15",
           49.5
          ],
          [
           "Kenwick Lodge",
           "1",
           0.225
          ],
          [
           "Kernick Farm",
           "1",
           0.5
          ],
          [
           "Kilbraur (Strathbrora) (Community Share)",
           "19",
           47.5
          ],
          [
           "Kilbraur Extension (Community Share)",
           "8",
           20
          ],
          [
           "Kilbright Road, 3",
           "1",
           0.25
          ],
          [
           "Kilcam Road, 1",
           "1",
           0.25
          ],
          [
           "Kilcronagh Road, 30",
           "1",
           0.25
          ],
          [
           "Kildalloig Farm",
           "1",
           0.1
          ],
          [
           "Kildrummy",
           "8",
           18.4
          ],
          [
           "Kilgallioch (Arecleoch Phase 2)",
           "96",
           239
          ],
          [
           "Kilhoyle Road, 60",
           "1",
           0.25
          ],
          [
           "Killaney Lane, 5A",
           "1",
           0.15
          ],
          [
           "Killernie Farm",
           "1",
           0.1
          ],
          [
           "Killunaght Road, 120 (Resubmission)",
           "1",
           0.225
          ],
          [
           "Killyliss Road, 102 (Replacement)",
           "1",
           0.25
          ],
          [
           "Killyliss Road, 102 Turbine 2 (Replacement)",
           "1",
           0.25
          ],
          [
           "Killyliss Road, 87 (Resubmission)",
           "1",
           0.225
          ],
          [
           "Killymittan Road, 33 Turbine 1",
           "1",
           0.25
          ],
          [
           "Killymittan Road, 33 Turbine 2",
           "1",
           0.25
          ],
          [
           "Killynure Road, 114",
           "1",
           0.225
          ],
          [
           "Killynure Road, 118",
           "1",
           0.225
          ],
          [
           "Killyruddan Road, 18",
           "1",
           0.25
          ],
          [
           "Killyvally Road, 120",
           "1",
           0.25
          ],
          [
           "Kilmascally Road, O'Neills Yard",
           "1",
           0.25
          ],
          [
           "Kilmore Road, 56",
           "1",
           0.25
          ],
          [
           "Kilmux Farm",
           "1",
           0.9
          ],
          [
           "Kiln Pit Hill",
           "6",
           13.8
          ],
          [
           "Kilnacolpagh Road, 28",
           "1",
           0.15
          ],
          [
           "Kilrea Road, 23",
           "1",
           0.25
          ],
          [
           "Kilsannagh Lane, 39",
           "1",
           0.225
          ],
          [
           "Kilton Thorpe Lane",
           "1",
           1.5
          ],
          [
           "Kineff",
           "1",
           0.5
          ],
          [
           "Kinegar Quarry (Resubmission)",
           "2",
           5
          ],
          [
           "Kingarly Community Turbine",
           "1",
           0.9
          ],
          [
           "Kingsburn",
           "9",
           22.5
          ],
          [
           "Kingsmill Road, 88 (Replacement)",
           "1",
           0.25
          ],
          [
           "Kircubbin Road, 7 (Resubmission)",
           "1",
           0.25
          ],
          [
           "Kirkburn Grange",
           "1",
           0.5
          ],
          [
           "Kirkby Moor",
           "12",
           4.8
          ],
          [
           "Kirkheaton",
           "3",
           1.8
          ],
          [
           "Kirkleatham Business Park",
           "1",
           0.5
          ],
          [
           "Kirkmabreck Farm",
           "1",
           0.225
          ],
          [
           "Kirkmay Farm (Resubmission)",
           "1",
           0.1
          ],
          [
           "Kirkton Farm (Cullaloe)",
           "1",
           0.5
          ],
          [
           "Kirkton Farm (Dunfermline)",
           "1",
           0.5
          ],
          [
           "Kirwaugh Farm",
           "1",
           0.05
          ],
          [
           "Kirwaugh Farm Extension",
           "2",
           0.1
          ],
          [
           "KL Technologies",
           "1",
           1.5
          ],
          [
           "Knabs Ridge",
           "8",
           16
          ],
          [
           "Knock and Maize Farm",
           "3",
           0.15
          ],
          [
           "Knockagh Road, 55",
           "1",
           0.225
          ],
          [
           "Knockagh Road, 57",
           "1",
           0.15
          ],
          [
           "Knockbain Community Turbine",
           "1",
           0.25
          ],
          [
           "Knocknain Farm",
           "1",
           0.33
          ],
          [
           "Knostrop Waste Water Treatment Works",
           "1",
           2
          ],
          [
           "Knowehead Farm",
           "1",
           0.1
          ],
          [
           "Kurin Road, 72",
           "1",
           0.225
          ],
          [
           "Kype Muir",
           "26",
           88.4
          ],
          [
           "Ladehead Farm",
           "3",
           1.5
          ],
          [
           "Lagangreen Road, 22",
           "1",
           0.15
          ],
          [
           "Lagangreen Road, 22 Turbine 2",
           "1",
           0.15
          ],
          [
           "Laghel Road, 37",
           "1",
           0.25
          ],
          [
           "Lairg",
           "3",
           7.5
          ],
          [
           "Lambrigg",
           "5",
           6.5
          ],
          [
           "Lambs Hill",
           "4",
           8
          ],
          [
           "Lampits Farm",
           "2",
           0.5
          ],
          [
           "Lanark Market",
           "1",
           0.1
          ],
          [
           "Lancaster University (Resubmission)",
           "1",
           2.3
          ],
          [
           "Land at Shielbog",
           "1",
           0.225
          ],
          [
           "Land to North West of Upper Dagie",
           "2",
           0.45
          ],
          [
           "Landhead Road, 15",
           "1",
           0.225
          ],
          [
           "Landhead Road, 21 (Revision)",
           "1",
           0.25
          ],
          [
           "Landhead Road, 34",
           "1",
           0.225
          ],
          [
           "Landmark Farm",
           "1",
           0.5
          ],
          [
           "Langgadlie",
           "1",
           0.225
          ],
          [
           "Langhope Rig",
           "10",
           16
          ],
          [
           "Langland Farm",
           "1",
           0.5
          ],
          [
           "Langley Park/Long Edge",
           "4",
           8
          ],
          [
           "Langside Farm",
           "1",
           0.225
          ],
          [
           "Langthwaite Business Park",
           "1",
           0.225
          ],
          [
           "Lara Bridge Farm",
           "1",
           0.225
          ],
          [
           "Larg Farm",
           "1",
           0.4
          ],
          [
           "Larne Road, 110",
           "1",
           0.25
          ],
          [
           "Laurel Lane, 12",
           "1",
           0.225
          ],
          [
           "Lawrence Landfill",
           "2",
           1
          ],
          [
           "Leap Lane, 2",
           "1",
           0.25
          ],
          [
           "Lecht Ski Centre (Resubmission)",
           "1",
           0.15
          ],
          [
           "Leesrigg Farm (Resubmission)",
           "1",
           0.1
          ],
          [
           "Leffinwyne Farm (Resubmission)",
           "1",
           0.1
          ],
          [
           "Legananny Road, 45",
           "1",
           0.25
          ],
          [
           "Legavallon Road, 132",
           "1",
           0.225
          ],
          [
           "Legilly Road, 19 (Replacement)",
           "1",
           0.25
          ],
          [
           "Legilly Road, 36",
           "1",
           0.15
          ],
          [
           "Legmurn Road, 29",
           "1",
           0.225
          ],
          [
           "Lendrum's Bridge Phase I",
           "9",
           5.94
          ],
          [
           "Lendrum's Bridge Phase II",
           "11",
           7.26
          ],
          [
           "Leode Quarry",
           "1",
           0.225
          ],
          [
           "Lesserlinn Farm",
           "2",
           0.5
          ],
          [
           "Lestoon Farm",
           "1",
           0.5
          ],
          [
           "Letham Farm",
           "1",
           0.225
          ],
          [
           "Lettercarn Road, 109",
           "1",
           0.25
          ],
          [
           "Levallyreagh Road, 18",
           "1",
           0.15
          ],
          [
           "Ley Farm",
           "1",
           0.5
          ],
          [
           "Lichfield Sewage Treatment Works (Resubmission)",
           "1",
           0.5
          ],
          [
           "Lidcott Farm",
           "1",
           0.1
          ],
          [
           "Lifton Farm Shop",
           "1",
           0.5
          ],
          [
           "Ligford Road, 103",
           "1",
           0.25
          ],
          [
           "Ligford Road, 9",
           "1",
           0.15
          ],
          [
           "Light Oaks",
           "1",
           0.5
          ],
          [
           "Lilbourne",
           "5",
           10
          ],
          [
           "Limehill Road, 30 (Replacement)",
           "1",
           0.25
          ],
          [
           "Lincolnshire Poacher Cheese Factory",
           "1",
           0.275
          ],
          [
           "Lincs",
           "75",
           270
          ],
          [
           "Lindhurst Wind Farm",
           "5",
           9
          ],
          [
           "Lindridge Farm",
           "1",
           0.25
          ],
          [
           "Lindridge Hall Farm",
           "1",
           0.5
          ],
          [
           "Liniclate Wind Farm",
           "1",
           0.9
          ],
          [
           "Linnhead Farm",
           "1",
           0.1
          ],
          [
           "Lisbarnet Road, 32A",
           "1",
           0.25
          ],
          [
           "Liscabble Road, 36",
           "1",
           0.225
          ],
          [
           "Lisdoo Road, 6",
           "1",
           0.25
          ],
          [
           "Lisglass",
           "1",
           2.3
          ],
          [
           "Lislafferty Road, 20",
           "1",
           0.25
          ],
          [
           "Lislafferty Road, 20 Turbine 2",
           "1",
           0.25
          ],
          [
           "Lisnagowan Road, 6",
           "1",
           0.15
          ],
          [
           "Lisnahanna Road, 15 (Resubmission)",
           "1",
           0.225
          ],
          [
           "Lisnahanna Road, 15 Turbine 2",
           "1",
           0.225
          ],
          [
           "Lisnahunshin Road, 135",
           "1",
           0.225
          ],
          [
           "Lisnasure Road, 37 (Resubmission)",
           "1",
           0.1
          ],
          [
           "Lissett Airfield",
           "12",
           30
          ],
          [
           "Listooder Road, 114",
           "1",
           0.25
          ],
          [
           "Little Belhus Restoration Site",
           "2",
           1
          ],
          [
           "Little Blairshinnoch",
           "1",
           0.5
          ],
          [
           "Little Byth",
           "3",
           1.5
          ],
          [
           "Little Cheyne Court",
           "26",
           59.8
          ],
          [
           "Little Coop House Farm",
           "1",
           0.5
          ],
          [
           "Little Elrick",
           "1",
           0.225
          ],
          [
           "Little Hilton Farm",
           "2",
           1.3
          ],
          [
           "Little Holloborough Farm",
           "1",
           0.5
          ],
          [
           "Little Raith",
           "9",
           24.75
          ],
          [
           "Little Whiterashes Farm",
           "1",
           0.5
          ],
          [
           "Littleborough Cross",
           "1",
           0.225
          ],
          [
           "Littleton Farm",
           "2",
           0.1
          ],
          [
           "Llangwyryfon - Repower",
           "11",
           9.35
          ],
          [
           "Lletty Ifan Hen",
           "1",
           0.5
          ],
          [
           "Llety'r Bugail",
           "1",
           0.5
          ],
          [
           "Llwyncelyn Lan",
           "1",
           0.225
          ],
          [
           "Llyn Alaw",
           "34",
           20.4
          ],
          [
           "Llyn Brenig",
           "16",
           37.6
          ],
          [
           "Llynfi Afan Renewable Energy Park",
           "12",
           24
          ],
          [
           "Loch Sminig",
           "3",
           2.7
          ],
          [
           "Lochcarnan Community Windfarm",
           "3",
           6.9
          ],
          [
           "Lochelbank",
           "12",
           9.6
          ],
          [
           "Lochend",
           "4",
           9.2
          ],
          [
           "Locheport Community Windfarm (Resubmission)",
           "2",
           1.8
          ],
          [
           "Lochhead East",
           "1",
           0.5
          ],
          [
           "Lochhead Farm",
           "3",
           6.15
          ],
          [
           "Lochhead Farm II",
           "1",
           0.5
          ],
          [
           "Lochlair Farm",
           "1",
           0.1
          ],
          [
           "Lochluichart (Spinny Turners)",
           "17",
           51
          ],
          [
           "Lochluichart (Spinny Turners) Extension",
           "6",
           18
          ],
          [
           "Lockwell Hill Farm",
           "1",
           0.5
          ],
          [
           "Lodge Farm (Burton on the Wolds)",
           "1",
           0.5
          ],
          [
           "Lodge Farm (Lincolnshire)",
           "1",
           0.5
          ],
          [
           "Lodge Farm (Pembrokeshire)",
           "1",
           1
          ],
          [
           "Loftsome Bridge Water Treatment Works",
           "2",
           2.6
          ],
          [
           "Logie Farm",
           "1",
           0.225
          ],
          [
           "Logoch Farm",
           "1",
           0.225
          ],
          [
           "London Array Phase One",
           "175",
           630
          ],
          [
           "Long Mountain",
           "12",
           27.6
          ],
          [
           "Long Sutton",
           "1",
           0.5
          ],
          [
           "Longhill Road",
           "1",
           2
          ],
          [
           "Longlands Farm",
           "1",
           3.5
          ],
          [
           "Longlands Lane",
           "1",
           1.5
          ],
          [
           "Longley Farm Community Turbine",
           "1",
           0.225
          ],
          [
           "Longmore Road, 146",
           "1",
           0.225
          ],
          [
           "Longpark",
           "19",
           38
          ],
          [
           "Lordscairnie Farm",
           "1",
           0.1
          ],
          [
           "Lordscairnie Farm Turbine 2",
           "1",
           0.1
          ],
          [
           "Loscar Farm",
           "3",
           4.5
          ],
          [
           "Lough Hill (Resubmission)",
           "6",
           7.8
          ],
          [
           "Lough Road, 10",
           "1",
           0.15
          ],
          [
           "Lough Shore Road, 327",
           "1",
           0.225
          ],
          [
           "Loughan Road, 22",
           "1",
           0.225
          ],
          [
           "Loughdoo Road, 30",
           "1",
           0.15
          ],
          [
           "Loughloughan Road, 14",
           "1",
           0.25
          ],
          [
           "Loughmallon Road, 131",
           "1",
           0.25
          ],
          [
           "Loughmallon Road, 136",
           "1",
           0.225
          ],
          [
           "Loughmallon Road, 17",
           "1",
           0.225
          ],
          [
           "Loughmourne Road, 43",
           "1",
           0.25
          ],
          [
           "Loup Road, 36",
           "1",
           0.25
          ],
          [
           "Low Bowhill Farm",
           "1",
           0.5
          ],
          [
           "Low Cowlam Farm Turbine 1",
           "1",
           0.05
          ],
          [
           "Low Cowlam Farm Turbine 2",
           "1",
           0.05
          ],
          [
           "Low Grange Farm",
           "1",
           0.1
          ],
          [
           "Low Horton Farm",
           "1",
           0.275
          ],
          [
           "Low Lanrigg Farm",
           "1",
           0.5
          ],
          [
           "Low Spinney",
           "4",
           8.2
          ],
          [
           "Low Waterhead Farm",
           "1",
           0.5
          ],
          [
           "Low Whiteside Farm",
           "1",
           0.33
          ],
          [
           "Lowca",
           "7",
           4.62
          ],
          [
           "Lowca Top Road",
           "1",
           0.5
          ],
          [
           "Lower Hanyards Farm",
           "1",
           0.5
          ],
          [
           "Lower Kildress Road, 10",
           "1",
           0.225
          ],
          [
           "Lower Litchardon Farm",
           "1",
           0.5
          ],
          [
           "Lower Melville Wood",
           "1",
           0.5
          ],
          [
           "Lower Scoveston Farm",
           "1",
           0.5
          ],
          [
           "Luce Bay Plant Hire",
           "1",
           0.225
          ],
          [
           "Luce Bay Plant Hire Extension",
           "2",
           0.1
          ],
          [
           "Ludenhill Farm",
           "1",
           0.5
          ],
          [
           "Lukeston Farm",
           "1",
           0.1
          ],
          [
           "Lumbennie Hill",
           "1",
           0.5
          ],
          [
           "Lundy View Farm",
           "1",
           0.1
          ],
          [
           "Lynch Knoll",
           "1",
           0.5
          ],
          [
           "Lynemouth",
           "13",
           26
          ],
          [
           "Lynn and Inner Dowsing",
           "54",
           194.4
          ],
          [
           "M1 Wind Farm",
           "9",
           7.2
          ],
          [
           "Mablethorpe",
           "2",
           1.2
          ],
          [
           "Macken",
           "1",
           0.25
          ],
          [
           "Maclachrieston Farm",
           "1",
           0.33
          ],
          [
           "Madden Road, 129",
           "1",
           0.25
          ],
          [
           "Maenhir",
           "1",
           0.1
          ],
          [
           "Maerdy",
           "8",
           24
          ],
          [
           "Maes Truan",
           "1",
           0.225
          ],
          [
           "Maes Truan",
           "1",
           0.225
          ],
          [
           "Maesgwyn",
           "13",
           26
          ],
          [
           "Maesgwyn Extension Phase 1",
           "1",
           2.5
          ],
          [
           "Maesmedrisiol",
           "1",
           0.1
          ],
          [
           "Magheraboy Road, 10 Turbine 1 (Replacement)",
           "1",
           0.225
          ],
          [
           "Magheraboy Road, 10 Turbine 2",
           "1",
           0.225
          ],
          [
           "Magherafelt Road, 56",
           "1",
           0.15
          ],
          [
           "Magherafelt Road, 70",
           "1",
           0.225
          ],
          [
           "Magheralone Road, 24 (Resubmission)",
           "1",
           0.1
          ],
          [
           "Mahon Farm (Resubmission)",
           "2",
           0.2
          ],
          [
           "Mains of Auchinderran Farm",
           "3",
           1.5
          ],
          [
           "Mains of Auchreddie (Resubmission)",
           "2",
           0.45
          ],
          [
           "Mains of Balquhain",
           "1",
           0.5
          ],
          [
           "Mains of Bogfechel",
           "1",
           0.9
          ],
          [
           "Mains of Bridgeton",
           "1",
           0.5
          ],
          [
           "Mains of Hatton",
           "3",
           2.1
          ],
          [
           "Mains of Kinmuck",
           "1",
           0.5
          ],
          [
           "Mains of Lauriston",
           "1",
           0.225
          ],
          [
           "Mains of Meadaple (Rothienorman Cluster)",
           "1",
           0.5
          ],
          [
           "Mains of Melrose (Resubmission)",
           "1",
           0.5
          ],
          [
           "Mains of Tertowie",
           "2",
           0.45
          ],
          [
           "Mains of Whitefield",
           "1",
           0.5
          ],
          [
           "Mains of Woodstone Farm",
           "1",
           0.5
          ],
          [
           "Makenny",
           "1",
           0.225
          ],
          [
           "Manor Farm (East Riding of Yorkshire, Beswick)",
           "1",
           0.18
          ],
          [
           "Manor Farm (East Riding of Yorkshire, Dunnington) (Resubmission)",
           "1",
           0.5
          ],
          [
           "Manor Farm (Lincolnshire) (Resubmission)",
           "1",
           0.5
          ],
          [
           "Manor Farm (North Yorkshire)",
           "1",
           0.33
          ],
          [
           "Manor House Farm (East Riding of Yorkshire, Nunkeeling)",
           "1",
           0.5
          ],
          [
           "Manor House Farm (East Riding of Yorkshire, Routh)",
           "1",
           0.33
          ],
          [
           "Manse Road, 47",
           "1",
           0.15
          ],
          [
           "Manse Road, 79",
           "1",
           0.25
          ],
          [
           "Maple Hill",
           "1",
           0.5
          ],
          [
           "March Sewage Works",
           "1",
           2.3
          ],
          [
           "Mark Hill",
           "28",
           56
          ],
          [
           "Marlsbrough Farm (Resubmission)",
           "1",
           0.085
          ],
          [
           "Marr",
           "4",
           8
          ],
          [
           "Marshill Farm",
           "1",
           1.5
          ],
          [
           "Marston Vale",
           "1",
           1.5
          ],
          [
           "Martin Hill East Farm",
           "1",
           0.33
          ],
          [
           "Maryland (Windy Corner Resubmission)",
           "1",
           0.5
          ],
          [
           "Mavemacullen Road, 17",
           "1",
           0.25
          ],
          [
           "Mawdesley Moss",
           "3",
           2.25
          ],
          [
           "Mawla (Moel Maelogen) (Community Share)",
           "3",
           3.9
          ],
          [
           "Mayogall Road, 209",
           "1",
           0.15
          ],
          [
           "McCains Foods",
           "3",
           9
          ],
          [
           "Meadale Farm",
           "1",
           0.33
          ],
          [
           "Mean Moor",
           "3",
           6.9
          ],
          [
           "Medwyn Park",
           "1",
           0.5
          ],
          [
           "Meenacloy Road, 8",
           "1",
           0.25
          ],
          [
           "Meikle Camaloun",
           "1",
           0.5
          ],
          [
           "Meikle Carewe (Resubmission)",
           "12",
           10.2
          ],
          [
           "Meikle Float Farm (Resubmission)",
           "1",
           0.33
          ],
          [
           "Meikle Folla (Rothienorman Cluster)",
           "1",
           0.5
          ],
          [
           "Melbur - Aggregate Industries",
           "1",
           0.5
          ],
          [
           "Melmount Road, 195",
           "1",
           0.225
          ],
          [
           "Melton Common Wind Cluster",
           "2",
           4.6
          ],
          [
           "Menwenicke Barton",
           "1",
           0.5
          ],
          [
           "Merck Sharp",
           "2",
           4
          ],
          [
           "Merkland Farm Turbine 1",
           "1",
           0.1
          ],
          [
           "Merkland Farm Turbine 2 (Resubmission)",
           "1",
           0.1
          ],
          [
           "Merrose Farm",
           "1",
           0.1
          ],
          [
           "Merrylees Road (Resubmission)",
           "1",
           0.1
          ],
          [
           "Methil Docks",
           "1",
           0.75
          ],
          [
           "Methlick Farmers Wind Energy Project - Courtstone",
           "1",
           2.3
          ],
          [
           "Methlick Farmers Wind Energy Project - Denhill",
           "1",
           2.3
          ],
          [
           "Methlick Farmers Wind Energy Project - Haddo",
           "2",
           4.6
          ],
          [
           "Michelin Tyre Factory",
           "2",
           4
          ],
          [
           "Mid Breich Farm",
           "2",
           0.2
          ],
          [
           "Mid Brockloch",
           "1",
           0.25
          ],
          [
           "Mid Hill 1",
           "25",
           57.5
          ],
          [
           "Mid Hill 2",
           "8",
           18.4
          ],
          [
           "Middle Balbeggie Farm",
           "2",
           6.4
          ],
          [
           "Middle Farm",
           "1",
           0.5
          ],
          [
           "Middle Heads Farm",
           "1",
           0.5
          ],
          [
           "Middle Muir",
           "15",
           51
          ],
          [
           "Middle Road, 209 (Resubmission)",
           "1",
           0.15
          ],
          [
           "Middle Road, 219",
           "1",
           0.15
          ],
          [
           "Middle Road, 275 Turbine 1",
           "1",
           0.15
          ],
          [
           "Middle Road, 275 Turbine 2",
           "1",
           0.15
          ],
          [
           "Middledale Heights",
           "2",
           0.1
          ],
          [
           "Middlemoor",
           "18",
           54
          ],
          [
           "Middleton",
           "6",
           12
          ],
          [
           "Middleton Farm",
           "1",
           0.33
          ],
          [
           "Middleton of Rora",
           "1",
           0.8
          ],
          [
           "Middlewick",
           "9",
           20.7
          ],
          [
           "Midge Hall Farm",
           "1",
           0.1
          ],
          [
           "Midtown Farm",
           "1",
           0.5
          ],
          [
           "Midtown of Glass",
           "1",
           0.5
          ],
          [
           "Mill Of Auchlin Turbine 1",
           "1",
           0.05
          ],
          [
           "Mill Of Auchlin Turbine 2",
           "1",
           0.05
          ],
          [
           "Millburn Farm",
           "1",
           0.1
          ],
          [
           "Millennium (Glenmoriston)",
           "16",
           40
          ],
          [
           "Millennium (Glenmoriston) Extension",
           "4",
           10
          ],
          [
           "Millennium (Glenmoriston) Extension 2",
           "6",
           15
          ],
          [
           "Millour Hill",
           "6",
           18
          ],
          [
           "Millour Hill Extension (Resubmission)",
           "2",
           6.4
          ],
          [
           "Millplough",
           "1",
           0.5
          ],
          [
           "Milton Keynes",
           "7",
           14
          ],
          [
           "Milton Manor",
           "1",
           0.1
          ],
          [
           "Milton of Fisherie",
           "2",
           4.6
          ],
          [
           "Minerstown Road, 91 (Resubmission)",
           "1",
           0.1
          ],
          [
           "Minnygap (Resubmission)",
           "10",
           25
          ],
          [
           "Minsca Farm",
           "16",
           36.8
          ],
          [
           "Moel Maelogen Extension",
           "9",
           11.7
          ],
          [
           "Molly Mountain",
           "5",
           15
          ],
          [
           "Molly Road",
           "1",
           0.25
          ],
          [
           "Molly Road, 104",
           "1",
           0.225
          ],
          [
           "Molly Road, 71",
           "1",
           0.25
          ],
          [
           "Molly Road, 85",
           "1",
           0.25
          ],
          [
           "Monan Community Wind Farm",
           "3",
           1.5
          ],
          [
           "Moneyduff Road, 15",
           "1",
           0.25
          ],
          [
           "Moneynick Road, 171",
           "1",
           0.225
          ],
          [
           "Moneynick Road, 52",
           "1",
           0.225
          ],
          [
           "Moneynick Road, 61",
           "1",
           0.25
          ],
          [
           "Moneynick Road, 65",
           "1",
           0.25
          ],
          [
           "Moneysallin Park, 12",
           "1",
           0.25
          ],
          [
           "Monier Redland Plant",
           "1",
           0.5
          ],
          [
           "Monkcastle Farm",
           "1",
           0.5
          ],
          [
           "Monmouth House Farm",
           "1",
           0.1
          ],
          [
           "Monnaboy",
           "4",
           12
          ],
          [
           "Monyruy 1",
           "1",
           0.225
          ],
          [
           "Monyruy 2",
           "1",
           0.225
          ],
          [
           "Moor House (Resubmission)",
           "6",
           12.3
          ],
          [
           "Moor House Farm",
           "1",
           0.1
          ],
          [
           "Moorfield Road, 10 Turbine 1",
           "1",
           0.225
          ],
          [
           "Moorfield Road, 10 Turbine 2",
           "1",
           0.225
          ],
          [
           "Moorhouse Farm",
           "2",
           1
          ],
          [
           "Moorland House Farm",
           "1",
           0.5
          ],
          [
           "Moray East",
           "100",
           950
          ],
          [
           "Mornflake",
           "1",
           2.3
          ],
          [
           "Moss of Geise",
           "1",
           0.225
          ],
          [
           "Mosshall Farm",
           "1",
           0.5
          ],
          [
           "Mossmorran",
           "2",
           4.6
          ],
          [
           "Mount Hamilton Road, 30",
           "1",
           0.15
          ],
          [
           "Mount Pleasant Farm",
           "1",
           0.5
          ],
          [
           "Mounteneys Farm",
           "1",
           0.5
          ],
          [
           "Mountjoy Road, 321",
           "1",
           0.25
          ],
          [
           "Mountview Road, 14",
           "1",
           0.225
          ],
          [
           "Moy Estate",
           "20",
           66
          ],
          [
           "Moy Road, 60",
           "1",
           0.25
          ],
          [
           "Moyan Road, 55",
           "1",
           0.225
          ],
          [
           "Moyarget Road, 103",
           "1",
           0.225
          ],
          [
           "Moyarget Road, 59",
           "1",
           0.225
          ],
          [
           "Moyarget Road, 66",
           "1",
           0.225
          ],
          [
           "Moyarget Road, 90",
           "1",
           0.225
          ],
          [
           "Muggalnagrow",
           "1",
           0.25
          ],
          [
           "Muirake",
           "2",
           4.6
          ],
          [
           "Muirhall (Resubmission)",
           "6",
           12.3
          ],
          [
           "Muirhall Extension",
           "2",
           6.4
          ],
          [
           "Muirhall South Extension",
           "3",
           8.25
          ],
          [
           "Muirhouse Farm (South Lanarkshire, Auchenheath)",
           "2",
           0.2
          ],
          [
           "Muldonagh Road, 132",
           "1",
           0.25
          ],
          [
           "Muldron Farm",
           "1",
           0.5
          ],
          [
           "Mullacott Cross",
           "1",
           0.5
          ],
          [
           "Mullacott Cross Industrial Estate",
           "1",
           0.5
          ],
          [
           "Mullaghdrin Road, 30",
           "1",
           0.225
          ],
          [
           "Mullaghsandall Road, 18",
           "1",
           0.25
          ],
          [
           "Mullaghsandall Road, 3",
           "1",
           0.25
          ],
          [
           "Mullan Road, 15",
           "1",
           0.25
          ],
          [
           "Mullan Road, 71",
           "1",
           0.25
          ],
          [
           "Mullanmore Road, 75 Turbine 1",
           "1",
           0.25
          ],
          [
           "Mullavilly Road, 96",
           "1",
           0.5
          ],
          [
           "Mullawinny Road, 21 (Resubmission)",
           "1",
           0.15
          ],
          [
           "Mullinahoe Road, 151",
           "1",
           0.225
          ],
          [
           "Mullyneill Road, 55",
           "1",
           0.25
          ],
          [
           "Mulnafye Road, 38 Turbine 1",
           "1",
           0.225
          ],
          [
           "Mulnafye Road, 38 Turbine 2",
           "1",
           0.225
          ],
          [
           "Murnells Road, 25",
           "1",
           0.25
          ],
          [
           "Mynachdy Farm",
           "2",
           0.45
          ],
          [
           "Mynydd Brombil",
           "4",
           8
          ],
          [
           "Mynydd Bwlffa (Hirwaun Resubmission)",
           "9",
           22.5
          ],
          [
           "Mynydd Clogau",
           "17",
           14.45
          ],
          [
           "Mynydd Gorddu",
           "19",
           10.2
          ],
          [
           "Mynydd Portref (Taff Ely Extension)",
           "11",
           9.35
          ],
          [
           "Mynydd Portref Extension",
           "6",
           12
          ],
          [
           "Mynydd y Betws",
           "15",
           34.5
          ],
          [
           "Mynydd y Gwair (Resubmission)",
           "16",
           32.8
          ],
          [
           "Mynydd y Gwrhyd (Resubmission)",
           "2",
           4.7
          ],
          [
           "Myres Hill",
           "2",
           1.9
          ],
          [
           "Myreton Crossroads",
           "1",
           0.67
          ],
          [
           "Myreton Crossroads Extension",
           "2",
           1.6
          ],
          [
           "Nafferton Wold Farm",
           "1",
           0.5
          ],
          [
           "Nangitha Farm",
           "2",
           0.45
          ],
          [
           "Nant y Gelli",
           "1",
           0.33
          ],
          [
           "Nantycaws Landfill Site",
           "1",
           0.5
          ],
          [
           "Nash Waste Water Treatment Works",
           "1",
           2.5
          ],
          [
           "Naylor Hill Quarry Turbine 1",
           "1",
           0.225
          ],
          [
           "Neilston Community Wind Farm",
           "4",
           10
          ],
          [
           "Neilstonside Farm",
           "1",
           0.5
          ],
          [
           "Nelson Farm",
           "1",
           0.25
          ],
          [
           "Ness Point",
           "1",
           2.75
          ],
          [
           "Nether Benholm Turbine 1",
           "1",
           0.25
          ],
          [
           "Nether Benholm Turbine 2",
           "1",
           0.25
          ],
          [
           "Nether Bracco Farm (Resubmission)",
           "1",
           0.5
          ],
          [
           "Nether Carswell Farm",
           "1",
           0.5
          ],
          [
           "Nether Darley Farm",
           "1",
           0.5
          ],
          [
           "Nether Fauldhouse Farm",
           "1",
           0.5
          ],
          [
           "Nether Kypeside (Resubmission)",
           "1",
           0.5
          ],
          [
           "Nether Longford (Resubmission)",
           "2",
           0.2
          ],
          [
           "Nether Pratis Farm",
           "1",
           0.5
          ],
          [
           "Nether Tulloch Farm",
           "1",
           0.5
          ],
          [
           "Netherburn West",
           "1",
           0.8
          ],
          [
           "Nethercott Farm",
           "3",
           1.5
          ],
          [
           "Netherhall Farm",
           "1",
           0.5
          ],
          [
           "Netherton of Windyhills",
           "2",
           4.6
          ],
          [
           "Nethertown Farm",
           "1",
           0.1
          ],
          [
           "Neves Farm",
           "1",
           0.225
          ],
          [
           "New Albion",
           "7",
           14.35
          ],
          [
           "New Buildings Farm (Resubmission)",
           "1",
           0.25
          ],
          [
           "New Grange Farm",
           "1",
           0.225
          ],
          [
           "New Holbeck Farm",
           "1",
           0.28
          ],
          [
           "New Holland",
           "1",
           0.5
          ],
          [
           "New Inn Farm (Resubmission)",
           "1",
           0.1
          ],
          [
           "New Rides Farm (Clark Recovered)",
           "4",
           8.8
          ],
          [
           "New Trevibban Farm",
           "1",
           0.1
          ],
          [
           "Newbigging Farm (Fife)",
           "1",
           0.1
          ],
          [
           "Newbridge Road, 57",
           "1",
           0.25
          ],
          [
           "Newcastle Road, 69",
           "1",
           0.25
          ],
          [
           "Newferry Road, 22",
           "1",
           0.25
          ],
          [
           "Newholme Farm",
           "1",
           0.25
          ],
          [
           "Newington Farm",
           "1",
           0.1
          ],
          [
           "Newland Farm (East Riding of Yorkshire)",
           "1",
           0.5
          ],
          [
           "Newlands Farm (Lincolnshire)",
           "1",
           0.25
          ],
          [
           "Newlands Farm (Port Talbot)",
           "1",
           0.5
          ],
          [
           "Newlands Mill",
           "1",
           0.4
          ],
          [
           "Newlands Road, 27",
           "1",
           0.15
          ],
          [
           "Newline Road, 4",
           "1",
           0.25
          ],
          [
           "Newmills Road, 78",
           "1",
           0.25
          ],
          [
           "Newry Road, 29",
           "1",
           0.25
          ],
          [
           "Newstead",
           "1",
           0.8
          ],
          [
           "Newstead and Annesley Country Park",
           "1",
           1.5
          ],
          [
           "Newthorpe Sewage Treatment Works",
           "1",
           2.5
          ],
          [
           "Newton Down",
           "2",
           5
          ],
          [
           "Newton Marsh Treatment Works",
           "2",
           4.6
          ],
          [
           "Newton of Culvie",
           "1",
           0.5
          ],
          [
           "Newton of Edingight Grange",
           "1",
           0.5
          ],
          [
           "Newtonhead Farm",
           "1",
           0.1
          ],
          [
           "Newtons Margate Farm",
           "1",
           0.085
          ],
          [
           "Newtownhamilton Road, 252a",
           "1",
           0.225
          ],
          [
           "Nightlayers Farm",
           "1",
           0.5
          ],
          [
           "Ninemile Road, 18",
           "1",
           0.25
          ],
          [
           "Nisbet Farm",
           "1",
           0.1
          ],
          [
           "Nissan Motors Plant",
           "7",
           4.62
          ],
          [
           "Nissan Motors Plant Extension",
           "3",
           1.98
          ],
          [
           "Noble Foods - Fife",
           "1",
           1.5
          ],
          [
           "North Balnoon (Resubmission)",
           "1",
           0.5
          ],
          [
           "North Bankend Farm",
           "1",
           0.225
          ],
          [
           "North Biggart Farm",
           "1",
           0.1
          ],
          [
           "North Brackenridge",
           "1",
           0.5
          ],
          [
           "North Cassingray Farm (Resubmission)",
           "1",
           0.05
          ],
          [
           "North Durieshill (Resubmission)",
           "1",
           0.25
          ],
          [
           "North Fish",
           "1",
           0.5
          ],
          [
           "North Mains of Cononsyth Farm",
           "1",
           0.33
          ],
          [
           "North Pickenham Airfield",
           "2",
           4
          ],
          [
           "North Pickenham Windfarm",
           "8",
           14.4
          ],
          [
           "North Redbog",
           "2",
           1.6
          ],
          [
           "North Rhins",
           "11",
           22
          ],
          [
           "North Steads (Formerly Blue Sky Forest)",
           "9",
           18.45
          ],
          [
           "North Tarbrax Farm",
           "1",
           0.25
          ],
          [
           "North Threave Farm (Resubmission)",
           "1",
           0.33
          ],
          [
           "North Yell",
           "5",
           4.5
          ],
          [
           "Northfield",
           "1",
           0.85
          ],
          [
           "Northfield Farm",
           "1",
           0.5
          ],
          [
           "Northwold Farm",
           "1",
           0.16
          ],
          [
           "Norton Barton",
           "1",
           0.33
          ],
          [
           "Norton Fields Farm",
           "1",
           0.5
          ],
          [
           "Novally Road, 32",
           "1",
           0.225
          ],
          [
           "Novar",
           "34",
           17
          ],
          [
           "Novar Extension",
           "16",
           36.8
          ],
          [
           "Nut Walk Farm",
           "1",
           0.1
          ],
          [
           "Nutberry Hill",
           "6",
           15
          ],
          [
           "Nutfield Road, 81",
           "1",
           0.25
          ],
          [
           "Oak Tree Lodge (Resubmission)",
           "1",
           0.1
          ],
          [
           "Oakdale Business Park",
           "2",
           4
          ],
          [
           "Oakenshaw",
           "1",
           0.5
          ],
          [
           "Old Ballybracken Road, 25",
           "1",
           0.25
          ],
          [
           "Old Ballymoney Road, 143",
           "1",
           0.25
          ],
          [
           "Old Belfast Road, 62a",
           "1",
           0.25
          ],
          [
           "Old Carrick Road, 36",
           "1",
           0.25
          ],
          [
           "Old Halves Farm",
           "2",
           1
          ],
          [
           "Old Maud",
           "1",
           0.8
          ],
          [
           "Old Whittington Sewage Works",
           "1",
           0.5
          ],
          [
           "Oldside",
           "9",
           5.4
          ],
          [
           "Oldwhat Mains",
           "1",
           0.5
          ],
          [
           "Ollaberry Hill Turbine 1",
           "1",
           0.08
          ],
          [
           "Ollaberry Hill Turbine 2",
           "1",
           0.1
          ],
          [
           "Omagh Road, 148 Turbine 1",
           "1",
           0.05
          ],
          [
           "Omagh Road, 148 Turbine 2",
           "1",
           0.05
          ],
          [
           "Omagh Road, 174 Turbine 2",
           "1",
           0.25
          ],
          [
           "Omagh Road, 174 Turbine 3",
           "1",
           0.25
          ],
          [
           "Omerbane Road, 24",
           "1",
           0.225
          ],
          [
           "Omerbane Road, 29",
           "1",
           0.225
          ],
          [
           "Omerbane Road, 31",
           "1",
           0.15
          ],
          [
           "Ora More",
           "6",
           15
          ],
          [
           "Orchard End (Resubmission)",
           "2",
           4
          ],
          [
           "Ore Brae Community Turbine",
           "1",
           0.9
          ],
          [
           "Ormiston Farm (Resubmission)",
           "1",
           0.5
          ],
          [
           "Orton Grange Farm",
           "1",
           0.33
          ],
          [
           "Orton Park Farm",
           "2",
           1.6
          ],
          [
           "Ossington Road",
           "1",
           0.5
          ],
          [
           "Otterham B",
           "4",
           3.6
          ],
          [
           "Out Newton",
           "7",
           9.1
          ],
          [
           "Outlack Road, 19",
           "1",
           0.25
          ],
          [
           "Outlack Road, 8",
           "1",
           0.25
          ],
          [
           "Ovenden Moor - Repower (Resubmission)",
           "9",
           18
          ],
          [
           "Overhouse Farm",
           "1",
           0.1
          ],
          [
           "Owenreagh",
           "10",
           5.5
          ],
          [
           "Owenreagh Extension",
           "6",
           5.1
          ],
          [
           "Paisley Road, 78a",
           "1",
           0.25
          ],
          [
           "Pant Farm",
           "2",
           0.1
          ],
          [
           "Pant y Wal",
           "10",
           25
          ],
          [
           "Pant y Wal Extension",
           "8",
           20
          ],
          [
           "Pantycelyn Farm",
           "1",
           0.5
          ],
          [
           "Papillion",
           "1",
           0.5
          ],
          [
           "Parc Cynog",
           "5",
           3.6
          ],
          [
           "Parc Stormy",
           "1",
           1.5
          ],
          [
           "Parc Stormy T2",
           "1",
           3.6
          ],
          [
           "Park Farm (East Riding)",
           "2",
           0.5
          ],
          [
           "Park House Farm",
           "2",
           0.5
          ],
          [
           "Park Nook Farm",
           "2",
           0.5
          ],
          [
           "Park Spring",
           "3",
           8.55
          ],
          [
           "Parkconon Farm",
           "1",
           0.225
          ],
          [
           "Parkgate Road, 66",
           "1",
           0.25
          ],
          [
           "Parkinson Spencer Refractories (Resubmission)",
           "2",
           0.12
          ],
          [
           "Pates Hill",
           "7",
           14
          ],
          [
           "Paul Matthew Hill",
           "2",
           4.6
          ],
          [
           "Paul's Hill",
           "28",
           64.4
          ],
          [
           "Pawton Dairy",
           "1",
           0.5
          ],
          [
           "Peacock Road, 109",
           "2",
           0.1
          ],
          [
           "Peacock Road, 76",
           "1",
           0.225
          ],
          [
           "Peacock Road, 99 (Replacement)",
           "1",
           0.25
          ],
          [
           "Pearie Law",
           "6",
           19.2
          ],
          [
           "Peastree Farm",
           "1",
           0.225
          ],
          [
           "Peattie Farm",
           "1",
           0.5
          ],
          [
           "Pen Bryn Oer",
           "3",
           6
          ],
          [
           "Pen y Bryn",
           "2",
           0.5
          ],
          [
           "Pen y Cymoedd",
           "76",
           228
          ],
          [
           "Pen Y Fan Ganol Farm",
           "1",
           0.5
          ],
          [
           "Pen-bryn Moelddu",
           "1",
           0.9
          ],
          [
           "Pencraig Fawr",
           "1",
           0.225
          ],
          [
           "Pencwm Farm",
           "1",
           0.225
          ],
          [
           "Pendale Farm",
           "2",
           0.2
          ],
          [
           "Pendine (Parc Cynog Extension I)",
           "6",
           4.8
          ],
          [
           "Pengarnddu Industrial Estate (Plot 5)",
           "1",
           0.5
          ],
          [
           "Pengarnddu Industrial Estate (St Merryn Foods)",
           "1",
           0.9
          ],
          [
           "Pengelly Farm",
           "1",
           0.5
          ],
          [
           "Penlanlas Farm",
           "1",
           0.5
          ],
          [
           "Penmanshiel",
           "14",
           28.7
          ],
          [
           "Penmanshiel Farm (Resubmission)",
           "1",
           0.1
          ],
          [
           "Penny Hill",
           "6",
           20.4
          ],
          [
           "Pennygillam",
           "1",
           0.5
          ],
          [
           "Penrhiwgwaith Farm",
           "1",
           0.5
          ],
          [
           "Pentland Road (incorporating Beinn Mholach)",
           "6",
           13.8
          ],
          [
           "Penwith College",
           "1",
           0.1
          ],
          [
           "Pen-y-Fan Industrial Estate (Resubmission)",
           "1",
           1.5
          ],
          [
           "Perranwell Station",
           "1",
           0.1
          ],
          [
           "Perthigwynion Farm",
           "1",
           0.5
          ],
          [
           "Petersburgh Farm",
           "1",
           0.225
          ],
          [
           "Philip Dennis Food",
           "1",
           0.8
          ],
          [
           "Pickerton (Resubmission)",
           "1",
           0.5
          ],
          [
           "Pinehill Road, 15",
           "1",
           0.225
          ],
          [
           "Pitbeadlie farm",
           "1",
           0.5
          ],
          [
           "Pitbladdo Farm (Resubmission)",
           "1",
           0.5
          ],
          [
           "Pitforthie Farm",
           "1",
           0.1
          ],
          [
           "Pitkinnie Farm",
           "1",
           0.225
          ],
          [
           "Pitts Down Farm",
           "1",
           0.5
          ],
          [
           "Plas Parciau Farm",
           "1",
           0.33
          ],
          [
           "Plascow Farm (Resubmission)",
           "3",
           1.5
          ],
          [
           "Plashwood Estates",
           "1",
           0.1
          ],
          [
           "Plot Farm",
           "1",
           0.5
          ],
          [
           "Plot Farm T2",
           "1",
           0.5
          ],
          [
           "Plymuir Farm",
           "1",
           0.5
          ],
          [
           "Pogbie Farm",
           "6",
           4.8
          ],
          [
           "Pogbie Farm Extension",
           "6",
           4.8
          ],
          [
           "Polkanuggo Farm",
           "1",
           0.225
          ],
          [
           "Pollnalaght (Cornavarrow)",
           "12",
           36
          ],
          [
           "Polmont Golf Club (Resubmission)",
           "1",
           0.5
          ],
          [
           "Pomathorn Farm",
           "1",
           0.1
          ],
          [
           "Pomeroy Road, 146",
           "1",
           0.225
          ],
          [
           "Pomeroy Road, 196",
           "1",
           0.25
          ],
          [
           "Pondersbridge Farm",
           "1",
           0.25
          ],
          [
           "Poplar Farm (Cottingham)",
           "1",
           0.225
          ],
          [
           "Poplar Farm (Rimswell) (Resubmission)",
           "1",
           0.5
          ],
          [
           "Port of Larne",
           "1",
           0.15
          ],
          [
           "Port of Liverpool - Mersey Docks",
           "4",
           10
          ],
          [
           "Port of Sheerness",
           "4",
           8.2
          ],
          [
           "Port of Tilbury",
           "4",
           9.2
          ],
          [
           "Portglenone Road, 118",
           "1",
           0.225
          ],
          [
           "Portglenone Road, 126 (Replacement)",
           "1",
           0.25
          ],
          [
           "Portglenone Road, 219",
           "1",
           0.225
          ],
          [
           "Potato Pot",
           "3",
           6.9
          ],
          [
           "Pound House Farm",
           "1",
           0.5
          ],
          [
           "Pressmains Farm",
           "1",
           0.25
          ],
          [
           "Priestland Road, 28",
           "1",
           0.25
          ],
          [
           "Priestside Farm",
           "2",
           1
          ],
          [
           "Princes Gate Spring Water",
           "2",
           1
          ],
          [
           "Promised Land Farm (2nd Resubmission)",
           "2",
           1
          ],
          [
           "Prospect House",
           "1",
           0.5
          ],
          [
           "Prustacott Farm",
           "1",
           0.33
          ],
          [
           "Purlieknowe",
           "1",
           0.5
          ],
          [
           "Pyewipe Farm",
           "1",
           0.5
          ],
          [
           "Pyewipe Farm 2",
           "1",
           0.9
          ],
          [
           "Quarrendon Fields",
           "1",
           1.5
          ],
          [
           "Quarry Road, 29",
           "1",
           0.225
          ],
          [
           "Queen Elizabeth Hospital (Resubmission)",
           "1",
           0.8
          ],
          [
           "Queen's Dock",
           "1",
           0.5
          ],
          [
           "Quintinmanus Road, 26",
           "1",
           0.25
          ],
          [
           "Quixwood Moor",
           "13",
           26.65
          ],
          [
           "Radergan Road, 226",
           "1",
           0.225
          ],
          [
           "Rainsbutt Farm",
           "1",
           0.5
          ],
          [
           "Raith Estate",
           "1",
           0.055
          ],
          [
           "Rampion",
           "116",
           400.2
          ],
          [
           "Ramsey - Repower",
           "1",
           1.8
          ],
          [
           "Ramsey Extension",
           "4",
           8
          ],
          [
           "Ransonmoor Farm",
           "3",
           6
          ],
          [
           "Ransonmoor Phase II",
           "2",
           4.1
          ],
          [
           "Rassau Industrial Estate",
           "1",
           0.5
          ],
          [
           "Rathconvil Road, 21 (Replacement)",
           "1",
           0.225
          ],
          [
           "Ratherton Farm",
           "1",
           0.5
          ],
          [
           "Rathfriland Road, 199",
           "1",
           0.225
          ],
          [
           "Rathfriland Road, 199 Turbine 2",
           "1",
           0.225
          ],
          [
           "Rathkeel Road, 183",
           "1",
           0.225
          ],
          [
           "Rathkeel Road, 206",
           "1",
           0.225
          ],
          [
           "Rathsherry",
           "9",
           21.15
          ],
          [
           "Raveagh Road, 8 Turbine 2",
           "1",
           0.15
          ],
          [
           "Raven Hill Farm",
           "2",
           0.1
          ],
          [
           "Ray Estate",
           "16",
           54.4
          ],
          [
           "Realtons Road, 15",
           "1",
           0.25
          ],
          [
           "Reaps Moss, Britannia",
           "3",
           10.2
          ],
          [
           "Reclain Road, 52",
           "1",
           0.225
          ],
          [
           "Rectory Farm",
           "2",
           0.1
          ],
          [
           "Red Bay Farm (Resubmission)",
           "1",
           0.225
          ],
          [
           "Red Cut Lane",
           "1",
           0.5
          ],
          [
           "Red Gap Farm",
           "5",
           12.5
          ],
          [
           "Red Tile",
           "12",
           24
          ],
          [
           "Redbog Extension",
           "2",
           1.6
          ],
          [
           "Redford Farm 2",
           "1",
           0.33
          ],
          [
           "Redrock Road, 30",
           "1",
           0.25
          ],
          [
           "Redrock Road, 97",
           "1",
           0.25
          ],
          [
           "Reedie Farm",
           "2",
           0.45
          ],
          [
           "Rehaghy Road, 131",
           "1",
           0.225
          ],
          [
           "Rennibister",
           "1",
           0.9
          ],
          [
           "Reservoir Road, 15",
           "1",
           0.225
          ],
          [
           "Reservoir Road, 18",
           "1",
           0.225
          ],
          [
           "Rexon Cross Farm",
           "1",
           0.5
          ],
          [
           "Reynolds Weldon",
           "1",
           0.5
          ],
          [
           "Rheidol",
           "8",
           2.4
          ],
          [
           "Rhiwfelin Fach Farm (Resubmission)",
           "1",
           0.85
          ],
          [
           "Rhodders (Burnfoot Extension)",
           "6",
           12.3
          ],
          [
           "Rhosfach Farm",
           "1",
           0.1
          ],
          [
           "Rhyd y Groes",
           "22",
           6.6
          ],
          [
           "Rhydgoch Field",
           "1",
           0.5
          ],
          [
           "Rhydhowell Fawr",
           "1",
           0.1
          ],
          [
           "Rhydygwydd Farm",
           "1",
           0.5
          ],
          [
           "Ridings Farm",
           "2",
           0.1
          ],
          [
           "Rigged Hill",
           "10",
           5
          ],
          [
           "Rimmon Cottage",
           "1",
           0.5
          ],
          [
           "River Road, 7",
           "1",
           0.15
          ],
          [
           "Riverside Business Centre",
           "1",
           0.5
          ],
          [
           "Rivestone",
           "1",
           0.33
          ],
          [
           "Robin Rigg",
           "58",
           174
          ],
          [
           "Robinsons",
           "1",
           0.25
          ],
          [
           "Robinsons Turbine 2",
           "1",
           0.25
          ],
          [
           "Rockdale Road, 39",
           "1",
           0.225
          ],
          [
           "Rockery Farm",
           "1",
           0.225
          ],
          [
           "Rockstown Road, 124",
           "1",
           0.25
          ],
          [
           "Rockstown Road, 16",
           "1",
           0.15
          ],
          [
           "Rockstown Road, 47",
           "1",
           0.225
          ],
          [
           "Ronan Road",
           "1",
           0.25
          ],
          [
           "Roos (Resubmission)",
           "9",
           17.1
          ],
          [
           "Roscarnick Farm",
           "1",
           0.275
          ],
          [
           "Rose Park Farm",
           "1",
           0.5
          ],
          [
           "Rosehall",
           "19",
           24.7
          ],
          [
           "Rosehill",
           "3",
           1.5
          ],
          [
           "Roskrow Barton",
           "2",
           1.7
          ],
          [
           "Rosnareen Road, 69",
           "1",
           0.25
          ],
          [
           "Rosti Factory",
           "1",
           1.5
          ],
          [
           "Rothes (Cairn Uish)",
           "22",
           50.6
          ],
          [
           "Rothes II (Resubmission)",
           "18",
           41.4
          ],
          [
           "Rothiesholm Head (Community Turbine)",
           "1",
           0.9
          ],
          [
           "Roundhome",
           "2",
           0.1
          ],
          [
           "Royal Seaforth Dock",
           "5",
           3
          ],
          [
           "Royd Moor",
           "13",
           6.5
          ],
          [
           "Royd Moor Dairy Farm",
           "1",
           0.2
          ],
          [
           "RSPB HQ",
           "1",
           0.8
          ],
          [
           "Rubane Road, 152",
           "1",
           0.25
          ],
          [
           "Rubane Road, 152",
           "1",
           0.25
          ],
          [
           "RubberAtkins Plant",
           "1",
           0.33
          ],
          [
           "Ruchlaw Mains",
           "1",
           0.275
          ],
          [
           "Rufford Forest Farm (Replacement)",
           "1",
           0.5
          ],
          [
           "Rushall Road, 62",
           "1",
           0.25
          ],
          [
           "Rusholme",
           "12",
           24.6
          ],
          [
           "Ryder Point",
           "2",
           4
          ],
          [
           "Rye Hill",
           "1",
           0.5
          ],
          [
           "Sainsbury's East Kilbride Distribution Centre",
           "1",
           0.6
          ],
          [
           "Saintfield Road, 155",
           "1",
           0.25
          ],
          [
           "Samples Farm",
           "1",
           0.33
          ],
          [
           "Samuelston South Mains",
           "1",
           0.1
          ],
          [
           "Sancton Grange Farm",
           "2",
           0.1
          ],
          [
           "Sancton Hill (Resubmission)",
           "5",
           10
          ],
          [
           "Sandy Knowe (Resubmission)",
           "24",
           86.4
          ],
          [
           "Sandybanks",
           "1",
           0.9
          ],
          [
           "Sanquhar",
           "9",
           32.4
          ],
          [
           "Sarnau Farm",
           "1",
           0.225
          ],
          [
           "Scar End Farm",
           "4",
           0.2
          ],
          [
           "Scarne Farm",
           "1",
           0.5
          ],
          [
           "School Road, 83",
           "1",
           0.1
          ],
          [
           "Scotston Farm (Resubmission)",
           "1",
           0.8
          ],
          [
           "Scout Moor",
           "26",
           65
          ],
          [
           "Scoveston Park",
           "1",
           0.5
          ],
          [
           "Scoveston Park 2",
           "1",
           0.8
          ],
          [
           "Screggagh",
           "7",
           17.5
          ],
          [
           "Scroby Sands",
           "30",
           60
          ],
          [
           "Seacoast Road, 16",
           "1",
           0.225
          ],
          [
           "Seagahan Road, 20",
           "1",
           0.225
          ],
          [
           "Seamer 1 (Resubmission)",
           "3",
           6.15
          ],
          [
           "Seamer 2 (Resubmission)",
           "2",
           4.1
          ],
          [
           "Seegronan",
           "6",
           14.1
          ],
          [
           "Sessiagh Road, 37",
           "1",
           0.225
          ],
          [
           "Shafton Colliery Community Turbine",
           "1",
           0.5
          ],
          [
           "Shanes Hill Road, 91 Turbine 1",
           "1",
           0.25
          ],
          [
           "Shanes Hill Road, 91 Turbine 2",
           "1",
           0.225
          ],
          [
           "Shankill Road, 65",
           "1",
           0.25
          ],
          [
           "Shanmaghry Road, 35",
           "1",
           0.225
          ],
          [
           "Shanmaghry Road, 47",
           "1",
           0.225
          ],
          [
           "Shannaragh Road, 21 (Resubmission)",
           "1",
           0.225
          ],
          [
           "Shannaragh Road, 24",
           "1",
           0.225
          ],
          [
           "Shanry Farm",
           "2",
           0.45
          ],
          [
           "Shantavny Scotch",
           "7",
           16.1
          ],
          [
           "Sharpness Docks",
           "1",
           0.5
          ],
          [
           "Shaughan Road, 20",
           "1",
           0.225
          ],
          [
           "Shaughan Road, 32",
           "1",
           0.225
          ],
          [
           "Sheephouse Farm (Lancashire)",
           "2",
           0.45
          ],
          [
           "Sheepwalk Road, 11",
           "1",
           0.225
          ],
          [
           "Sheepwalk Road, 11 Turbine 2",
           "1",
           0.225
          ],
          [
           "Sheers Barton",
           "1",
           0.5
          ],
          [
           "Shepham Lane (Resubmission)",
           "3",
           7.5
          ],
          [
           "Shepherd's Hill",
           "3",
           0.15
          ],
          [
           "Shielburn Farm",
           "3",
           6.9
          ],
          [
           "Shiels Farm (Twinshiels)",
           "3",
           7.5
          ],
          [
           "Shinny Road, 68",
           "1",
           0.25
          ],
          [
           "Shooters Bottom Farm",
           "1",
           2
          ],
          [
           "Shoreham Port",
           "2",
           0.2
          ],
          [
           "Shotlinn Farm",
           "1",
           0.25
          ],
          [
           "Sibbald Training Centre",
           "1",
           0.1
          ],
          [
           "Sibelc Wind Turbine (Viaton)",
           "1",
           1.5
          ],
          [
           "Siddick",
           "7",
           4.2
          ],
          [
           "Sidewood Farm",
           "1",
           0.1
          ],
          [
           "Sigurd",
           "1",
           1.3
          ],
          [
           "Sillinghurst Farm",
           "1",
           0.25
          ],
          [
           "Silverhill Road, 32",
           "1",
           0.25
          ],
          [
           "Simonside Farm",
           "1",
           0.1
          ],
          [
           "Simonswood Industrial Park",
           "1",
           0.5
          ],
          [
           "Sinsharnie",
           "2",
           0.45
          ],
          [
           "Sisters",
           "4",
           8.2
          ],
          [
           "Sixpenny Wood",
           "10",
           20.5
          ],
          [
           "Skeagh Road, 55",
           "1",
           0.15
          ],
          [
           "Skeddoway Farm",
           "1",
           1.5
          ],
          [
           "Skelgagh Road, 30",
           "1",
           0.25
          ],
          [
           "Skelgagh Road, 30 (Replacement)",
           "1",
           0.25
          ],
          [
           "Skellyton Farm",
           "1",
           0.5
          ],
          [
           "Skelmonae",
           "4",
           3.2
          ],
          [
           "Skelwick",
           "1",
           0.5
          ],
          [
           "Skerdan Road, 25",
           "1",
           0.225
          ],
          [
           "Skerdan Road, 31",
           "1",
           0.25
          ],
          [
           "Sky Studios",
           "1",
           0.1
          ],
          [
           "Skylark Farm",
           "1",
           0.5
          ],
          [
           "Skylark Moor",
           "1",
           0.1
          ],
          [
           "Slackadale",
           "1",
           0.1
          ],
          [
           "Slagnaw Farm",
           "2",
           0.2
          ],
          [
           "Slaughtmanus Road, 35",
           "1",
           0.225
          ],
          [
           "Slieve Divena 1",
           "12",
           30
          ],
          [
           "Slieve Divena 2",
           "8",
           18.8
          ],
          [
           "Slieve Kirk",
           "12",
           27.6
          ],
          [
           "Slieve Rushen 2A and 2B - Repower",
           "18",
           54
          ],
          [
           "Slieveglass",
           "3",
           6.9
          ],
          [
           "Slievenahanaghan (Replacement)",
           "1",
           0.8
          ],
          [
           "Slievetrue Road, 14",
           "1",
           0.225
          ],
          [
           "Smiddyhill Farm (Aberdeenshire)",
           "1",
           0.1
          ],
          [
           "Snabhead Farm",
           "1",
           0.225
          ],
          [
           "Sober Hill",
           "6",
           12.3
          ],
          [
           "Solutia UK Ltd",
           "2",
           5
          ],
          [
           "Solwaybank (Resubmission)",
           "15",
           30
          ],
          [
           "Somerby Farm",
           "1",
           0.4
          ],
          [
           "Somercotes Waste Transfer",
           "1",
           0.5
          ],
          [
           "Somerton",
           "1",
           1.5
          ],
          [
           "South Arnloss Farm (2nd Resubmission)",
           "1",
           0.5
          ],
          [
           "South Baldutho Farm",
           "1",
           0.1
          ],
          [
           "South Brent Community Turbine",
           "1",
           0.225
          ],
          [
           "South Camaloun",
           "1",
           0.5
          ],
          [
           "South Cassingray Farm",
           "1",
           0.1
          ],
          [
           "South Colleonard",
           "1",
           0.5
          ],
          [
           "South Lasts Farm",
           "1",
           0.5
          ],
          [
           "South Lasts Farm T2 (Resubmission)",
           "1",
           0.5
          ],
          [
           "South Nittanshead",
           "2",
           0.45
          ],
          [
           "South Sharpley",
           "3",
           6
          ],
          [
           "South Slipperfield Farm (Resubmission)",
           "1",
           0.1
          ],
          [
           "South Staffordshire College",
           "2",
           4
          ],
          [
           "South Uplaw",
           "1",
           0.25
          ],
          [
           "Southfield Farm (East Riding of Yorkshire)",
           "1",
           0.5
          ],
          [
           "Southfield Farm (South Lanarkshire)",
           "1",
           0.5
          ],
          [
           "Southfield House Farm",
           "2",
           0.1
          ],
          [
           "Southrigg Farm",
           "1",
           1.5
          ],
          [
           "Southside Farm",
           "1",
           0.225
          ],
          [
           "Spaldington Airfield",
           "5",
           11.75
          ],
          [
           "Spaniel Farm",
           "1",
           0.33
          ],
          [
           "Spen Farm",
           "1",
           0.5
          ],
          [
           "Spicer Hill",
           "3",
           6.9
          ],
          [
           "Spital Syke Farm",
           "1",
           0.5
          ],
          [
           "Spittal Farm (Dumfries & Galloway)",
           "1",
           0.225
          ],
          [
           "Spring Farm",
           "1",
           0.5
          ],
          [
           "Springfield",
           "2",
           0.2
          ],
          [
           "Spurness - Repower",
           "5",
           10
          ],
          [
           "Srondoire Community Windfarm",
           "3",
           6
          ],
          [
           "St Breock - Repower (Resubmission)",
           "5",
           10
          ],
          [
           "St Fergus Moss",
           "3",
           6
          ],
          [
           "St Helens Farm (Resubmission)",
           "1",
           0.5
          ],
          [
           "St John's Hill",
           "9",
           7.65
          ],
          [
           "St John's Wells",
           "3",
           2.4
          ],
          [
           "St John's Wells Extension",
           "3",
           1.5
          ],
          [
           "St Mary's School",
           "1",
           0.225
          ],
          [
           "Staffordstown Road, 178",
           "1",
           0.225
          ],
          [
           "Staffordstown Road, 203",
           "1",
           0.25
          ],
          [
           "Stags Holt",
           "9",
           18
          ],
          [
           "Stags Holt Extension",
           "1",
           2
          ],
          [
           "Stand Lees Farm",
           "1",
           0.5
          ],
          [
           "Starapark Farm (2nd Resubmission)",
           "2",
           0.2
          ],
          [
           "Station Road",
           "1",
           0.225
          ],
          [
           "Steelstrath Farm (Resubmission)",
           "1",
           0.5
          ],
          [
           "Steeple Road, 102",
           "1",
           0.15
          ],
          [
           "Stewart Tower Farm (Resubmission)",
           "1",
           0.1
          ],
          [
           "Stewartstown Drive, 3",
           "1",
           0.15
          ],
          [
           "Stoke Bardolph Farm (Resubmission)",
           "1",
           2.5
          ],
          [
           "Stone Road, 14",
           "1",
           0.225
          ],
          [
           "Stone Road, 20",
           "1",
           0.225
          ],
          [
           "Stonebridge Lane",
           "2",
           0.2
          ],
          [
           "Stonebyres Farm",
           "1",
           0.225
          ],
          [
           "Stonehaven",
           "1",
           1.5
          ],
          [
           "Stonehouse Farm",
           "1",
           0.1
          ],
          [
           "Stoneyford Road, 46",
           "1",
           0.15
          ],
          [
           "Stonish Hill (Resubmission)",
           "5",
           10.25
          ],
          [
           "Strabane Road, 125",
           "1",
           0.25
          ],
          [
           "Strahans Road, 19",
           "1",
           0.25
          ],
          [
           "Strahans Road, 7",
           "1",
           0.25
          ],
          [
           "Straid Road, 41",
           "1",
           0.25
          ],
          [
           "Stranafeley Road, 76",
           "1",
           0.25
          ],
          [
           "Strath of Brydock",
           "2",
           4.6
          ],
          [
           "Strath of Brydock Extension",
           "1",
           2.3
          ],
          [
           "Strathy North",
           "33",
           67.65
          ],
          [
           "Stroan Road, 37",
           "1",
           0.25
          ],
          [
           "Stronelairg",
           "66",
           228
          ],
          [
           "Stubsgill Farm",
           "1",
           0.25
          ],
          [
           "Sumardale Croft",
           "1",
           0.33
          ],
          [
           "Summerton Farm",
           "1",
           0.33
          ],
          [
           "Sunnyside Wind Cluster",
           "2",
           1
          ],
          [
           "Swaffham II",
           "1",
           1.8
          ],
          [
           "Swallows Court Farm",
           "1",
           0.225
          ],
          [
           "Swansea Bay Wastewater Treatment Works (Resubmission)",
           "1",
           0.9
          ],
          [
           "Swansea Docks",
           "1",
           0.25
          ],
          [
           "Swinford",
           "11",
           22
          ],
          [
           "Swingdon Farm (Resubmission)",
           "1",
           0.25
          ],
          [
           "Sychpant Farm",
           "1",
           0.2
          ],
          [
           "Sychtyn",
           "1",
           0.225
          ],
          [
           "Sydnall Farm",
           "2",
           0.45
          ],
          [
           "Syrior",
           "2",
           0.1
          ],
          [
           "Taff Ely",
           "20",
           9
          ],
          [
           "Tai Hen",
           "1",
           0.5
          ],
          [
           "Taigh Na Muir (Rattar)",
           "1",
           0.5
          ],
          [
           "Talbot Farm (Resubmission)",
           "1",
           0.5
          ],
          [
           "Tallbridge Road, 10",
           "1",
           0.25
          ],
          [
           "Tallentire",
           "6",
           12
          ],
          [
           "Tamerton Town Farm (Resubmission)",
           "1",
           0.25
          ],
          [
           "Tamlaghtmore Road, 22",
           "1",
           0.05
          ],
          [
           "Tanderagee Road, 160",
           "1",
           0.25
          ],
          [
           "Tanderagee Road, 160 Turbine 2",
           "1",
           0.25
          ],
          [
           "Tanderagee Road, 160 Turbine 3",
           "1",
           0.225
          ],
          [
           "Tangy",
           "15",
           12.75
          ],
          [
           "Tangy Extension",
           "7",
           5.95
          ],
          [
           "Tanhill Farm (Carluke) (Resubmission)",
           "1",
           0.25
          ],
          [
           "Tanhill Farm (Stonehouse)",
           "1",
           0.5
          ],
          [
           "Tanners Hall Farm (Resubmission)",
           "1",
           0.5
          ],
          [
           "Tanners Hall Farm Turbine 3",
           "1",
           0.5
          ],
          [
           "Tappaghan Mountain",
           "13",
           19.5
          ],
          [
           "Tappaghan Mountain Extension",
           "6",
           9
          ],
          [
           "Tarlair",
           "1",
           0.225
          ],
          [
           "Tarlair Turbine 2",
           "1",
           0.225
          ],
          [
           "Tarn Bank",
           "1",
           0.5
          ],
          [
           "Tatson Farm",
           "1",
           0.225
          ],
          [
           "Taylors Cross Farm",
           "1",
           0.25
          ],
          [
           "Tealing Farm",
           "1",
           0.5
          ],
          [
           "Tedder Hill",
           "3",
           7.5
          ],
          [
           "Teesside",
           "27",
           62.1
          ],
          [
           "Teiges Mountain",
           "5",
           12.5
          ],
          [
           "Tempest Tower Farm",
           "1",
           0.225
          ],
          [
           "Temple Hill (Glenfarg)",
           "1",
           0.5
          ],
          [
           "Templehall",
           "1",
           0.1
          ],
          [
           "Terrydoo Road, 34 Turbine 1",
           "1",
           0.25
          ],
          [
           "Terrydoo Road, 34 Turbine 2",
           "1",
           0.25
          ],
          [
           "Tesco Distribution Centre (Northamptonshire)",
           "1",
           0.8
          ],
          [
           "Tesco Distribution Centre (Wales)",
           "2",
           1.6
          ],
          [
           "Tesco Power Logistics",
           "1",
           0.8
          ],
          [
           "Tewel Farm (Resubmission)",
           "1",
           0.5
          ],
          [
           "The Eco Centre",
           "1",
           0.225
          ],
          [
           "The Grange (Glamorgan)",
           "1",
           0.5
          ],
          [
           "The Grange (Lincolnshire)",
           "7",
           14
          ],
          [
           "The Hollies",
           "2",
           2.6
          ],
          [
           "The Kids Road, 50",
           "1",
           0.25
          ],
          [
           "The Laurels",
           "2",
           0.1
          ],
          [
           "The Limes (East Riding)",
           "2",
           1.5
          ],
          [
           "The Limes (Lincolnshire)",
           "1",
           0.5
          ],
          [
           "The Shetland Centre",
           "1",
           0.5
          ],
          [
           "The University of Sheffield",
           "1",
           0.9
          ],
          [
           "The Wern",
           "1",
           0.25
          ],
          [
           "Thickbroom Farm (Resubmission)",
           "1",
           0.275
          ],
          [
           "Thorfinn, Burgar Hill",
           "1",
           2.75
          ],
          [
           "Thorkell",
           "1",
           0.9
          ],
          [
           "Thornby Villa",
           "2",
           0.1
          ],
          [
           "Thorne Farm",
           "1",
           0.5
          ],
          [
           "Thornhill Road, 66",
           "1",
           0.225
          ],
          [
           "Thornog",
           "4",
           10
          ],
          [
           "Thornog Extension",
           "4",
           10
          ],
          [
           "Thornog Extension",
           "4",
           10
          ],
          [
           "Tick Fen Farm",
           "1",
           0.5
          ],
          [
           "Tievenamara Road, 24",
           "1",
           0.225
          ],
          [
           "Tievenameenta",
           "15",
           34.5
          ],
          [
           "Tildarg Road, 15",
           "1",
           0.25
          ],
          [
           "Tippethill Farm",
           "1",
           0.5
          ],
          [
           "Tir Cook Farm",
           "1",
           0.5
          ],
          [
           "Tir Mostyn and Foel Goch",
           "25",
           21.25
          ],
          [
           "Tiree Community Turbine",
           "1",
           0.9
          ],
          [
           "Tirgwynt",
           "12",
           24.6
          ],
          [
           "Tirkane Road",
           "1",
           0.225
          ],
          [
           "Tirkane Road, 150",
           "1",
           0.225
          ],
          [
           "Tirnascobe Road, 111",
           "1",
           0.225
          ],
          [
           "Tirnascobe Road, 38",
           "1",
           0.225
          ],
          [
           "Tiroony Road, 80",
           "1",
           0.225
          ],
          [
           "Tobermore Concrete Products",
           "1",
           0.25
          ],
          [
           "Toddleburn",
           "12",
           27.6
          ],
          [
           "Todhill Farm",
           "4",
           11.4
          ],
          [
           "Todhills",
           "1",
           0.5
          ],
          [
           "Todmorden Moor (Resubmission)",
           "5",
           12.5
          ],
          [
           "Tofts Road",
           "1",
           0.25
          ],
          [
           "Tolsta Community Wind Turbine",
           "1",
           0.9
          ],
          [
           "Tom Nan Clach",
           "13",
           39
          ],
          [
           "Top House Farm",
           "1",
           0.225
          ],
          [
           "Tormywheel",
           "15",
           30.75
          ],
          [
           "Tornaroy Road, 17",
           "1",
           0.225
          ],
          [
           "Torrance Extension",
           "2",
           5.7
          ],
          [
           "Torrance Farm Community Wind Energy Project",
           "3",
           9
          ],
          [
           "Toux Farm",
           "1",
           0.8
          ],
          [
           "Tow Law",
           "3",
           2.31
          ],
          [
           "Towie Barclay Works",
           "1",
           0.5
          ],
          [
           "Townhead of Arbuthnott",
           "2",
           0.45
          ],
          [
           "Townview Farm",
           "1",
           0.225
          ],
          [
           "Tralorg",
           "8",
           18.8
          ],
          [
           "Trebilcock Farm",
           "1",
           0.5
          ],
          [
           "Trefawr Farm",
           "1",
           0.5
          ],
          [
           "Trefynys Farm",
           "1",
           0.1
          ],
          [
           "Tregath Business Park",
           "1",
           0.1
          ],
          [
           "Tregerrick Farm",
           "2",
           0.16
          ],
          [
           "Tregora Farm",
           "1",
           0.1
          ],
          [
           "Tregray Villa",
           "1",
           0.1
          ],
          [
           "Treguddick Farm",
           "1",
           0.5
          ],
          [
           "Trela Farm",
           "1",
           0.1
          ],
          [
           "Treleigh Farm",
           "1",
           0.33
          ],
          [
           "Trelow Farm Turbine 1",
           "1",
           0.5
          ],
          [
           "Trelow Farm Turbine 2",
           "1",
           0.5
          ],
          [
           "Trench Road, 51",
           "1",
           0.25
          ],
          [
           "Trench Road, 53",
           "1",
           0.225
          ],
          [
           "Trengune Farm (Resubmission)",
           "1",
           0.225
          ],
          [
           "Trenhayle Lane (Resubmission)",
           "1",
           0.1
          ],
          [
           "Trethawle",
           "1",
           0.4
          ],
          [
           "Trethorne Leisure Farm",
           "1",
           0.5
          ],
          [
           "Trevilley Farm",
           "1",
           0.1
          ],
          [
           "Trevozah Cross",
           "1",
           0.5
          ],
          [
           "Trewinnion Farm",
           "1",
           0.05
          ],
          [
           "Trimdon Grange",
           "4",
           5.2
          ],
          [
           "Triol Bach (Resubmission)",
           "2",
           0.1
          ],
          [
           "Triton Knoll",
           "90",
           857
          ],
          [
           "Troed y Bryn",
           "1",
           0.225
          ],
          [
           "Trummery Lane, 4b",
           "1",
           0.25
          ],
          [
           "Truro Airfield (Resubmission)",
           "1",
           0.085
          ],
          [
           "Trysglwyn",
           "14",
           5.6
          ],
          [
           "Tullindoney Road, 52",
           "1",
           0.1
          ],
          [
           "Tullo (T2 - T8)",
           "7",
           17.5
          ],
          [
           "Tullo Extension (Twinshiels)",
           "3",
           7.5
          ],
          [
           "Tullo T1 (Twinshiels)",
           "1",
           2.5
          ],
          [
           "Tullyaran Road, 56",
           "1",
           0.15
          ],
          [
           "Tullyboy Road, 15",
           "1",
           0.25
          ],
          [
           "Tullyboy Road, 156",
           "1",
           0.225
          ],
          [
           "Tullycallidy Road, 12",
           "1",
           0.25
          ],
          [
           "Tullydraw Road, 62",
           "1",
           0.15
          ],
          [
           "Tullydraw Road, 80",
           "1",
           0.225
          ],
          [
           "Tullygrawley Road, 31",
           "1",
           0.1
          ],
          [
           "Tullyherron Road, 19",
           "1",
           0.225
          ],
          [
           "Tullyhubbert Road, 28",
           "1",
           0.25
          ],
          [
           "Tullykevin Road, 16",
           "1",
           0.225
          ],
          [
           "Tullymurdoch",
           "7",
           14.35
          ],
          [
           "Tullynadall",
           "1",
           0.25
          ],
          [
           "Tullyodonnell Road, 70",
           "1",
           0.225
          ],
          [
           "Tullyrush Road, 8",
           "1",
           0.15
          ],
          [
           "Tulnacross Road, 17",
           "1",
           0.225
          ],
          [
           "Tummery Road, 256",
           "1",
           0.15
          ],
          [
           "Turncole Farm (Pickles Recovered)",
           "7",
           17.5
          ],
          [
           "Tursallagh Road, 60",
           "1",
           0.25
          ],
          [
           "Tursallagh Road, 78",
           "1",
           0.15
          ],
          [
           "Tween Bridge Moor",
           "22",
           44
          ],
          [
           "Twentyshilling",
           "9",
           37.8
          ],
          [
           "Twin Rivers",
           "14",
           28.7
          ],
          [
           "Twinwood Airfield",
           "1",
           0.5
          ],
          [
           "Twinyards Farm (2nd Resubmission)",
           "1",
           0.5
          ],
          [
           "Ty Gwyn Farm (Conwy)",
           "1",
           0.5
          ],
          [
           "Ty Gwyn Farm (Powys)",
           "1",
           0.1
          ],
          [
           "Ty Isa Farm Turbine 1",
           "1",
           0.05
          ],
          [
           "Ty Isa Farm Turbine 2",
           "1",
           0.05
          ],
          [
           "Ty Nant Spring Water",
           "1",
           0.1
          ],
          [
           "Ty Ucha Lyn",
           "1",
           0.25
          ],
          [
           "Tycanny Road, 39",
           "1",
           0.25
          ],
          [
           "Tyfos Farm",
           "1",
           0.225
          ],
          [
           "Tyle Crwth",
           "1",
           0.8
          ],
          [
           "Udny Community Wind Turbine",
           "1",
           0.8
          ],
          [
           "Ullesthorpe",
           "1",
           0.5
          ],
          [
           "Ulster University",
           "1",
           0.8
          ],
          [
           "Ulster University Turbine 2",
           "1",
           0.8
          ],
          [
           "Upper Ardgrain",
           "3",
           2.4
          ],
          [
           "Upper Ballygelagh Road, 24a",
           "1",
           0.225
          ],
          [
           "Upper Criggie",
           "1",
           0.225
          ],
          [
           "Upper Culphin",
           "1",
           0.225
          ],
          [
           "Upper Dredgeman Hill Farm (Resubmission)",
           "1",
           0.25
          ],
          [
           "Upper Hanyards Farm",
           "1",
           0.5
          ],
          [
           "Upper Haywood Farm",
           "1",
           0.5
          ],
          [
           "Upper Holton",
           "5",
           10.25
          ],
          [
           "Upper Kildress Road, 10",
           "1",
           0.225
          ],
          [
           "Upper Mains",
           "2",
           0.45
          ],
          [
           "Upper Pengarth (Resubmission)",
           "1",
           0.1
          ],
          [
           "Upper Pitforthie",
           "1",
           0.5
          ],
          [
           "Upper Sauchen Farm (Resubmission)",
           "1",
           0.225
          ],
          [
           "Upper Wheedlemont Farm",
           "2",
           1
          ],
          [
           "Vaglefield Farm",
           "1",
           0.5
          ],
          [
           "Valley Road, 18",
           "1",
           0.225
          ],
          [
           "Ventonteague",
           "1",
           2.3
          ],
          [
           "Victoria Road, 381",
           "1",
           0.25
          ],
          [
           "Waddingham Grange Farm",
           "2",
           0.15
          ],
          [
           "Wadlow Wind Farm",
           "13",
           26
          ],
          [
           "Wairds of Alpity",
           "1",
           0.5
          ],
          [
           "Waldron Commercials (Resubmission)",
           "1",
           0.5
          ],
          [
           "Walker and Sons Hauliers",
           "1",
           0.5
          ],
          [
           "Walkers Factory",
           "1",
           2.3
          ],
          [
           "Walkway",
           "7",
           14
          ],
          [
           "Walney 1",
           "51",
           183.6
          ],
          [
           "Walney 2",
           "51",
           183.6
          ],
          [
           "Walney Extension East",
           "47",
           329
          ],
          [
           "Walney Extension West",
           "40",
           330
          ],
          [
           "Walton House Farm",
           "1",
           0.25
          ],
          [
           "Wandylaw",
           "10",
           20.5
          ],
          [
           "Wanlip Sewage Treatment Works",
           "1",
           2.5
          ],
          [
           "Wansbeck Blyth Harbour - Repower",
           "1",
           3.4
          ],
          [
           "Wapley Hill (Resubmission)",
           "1",
           0.1
          ],
          [
           "Warburtons",
           "1",
           0.33
          ],
          [
           "Wardlaw Wood (Dalry Community Windfarm)",
           "6",
           18
          ],
          [
           "Warren Farm (Leicestershire)",
           "1",
           0.5
          ],
          [
           "Warren Farm (Somerset)",
           "1",
           0.33
          ],
          [
           "Warren Field",
           "1",
           0.225
          ],
          [
           "Watch Hill",
           "1",
           0.5
          ],
          [
           "Watford Lodge",
           "5",
           10.25
          ],
          [
           "Wathegar",
           "5",
           10.25
          ],
          [
           "Wathegar Extension",
           "9",
           18.45
          ],
          [
           "Watson Auto Strorage",
           "1",
           0.5
          ],
          [
           "Waughton",
           "1",
           0.1
          ],
          [
           "Wear Point",
           "4",
           8.2
          ],
          [
           "Week Orchard Farm (Resubmission)",
           "1",
           0.1
          ],
          [
           "Weighton Wold Farm",
           "2",
           0.1
          ],
          [
           "Welby Grange Farm",
           "2",
           0.5
          ],
          [
           "Wellgreen Farm",
           "1",
           0.5
          ],
          [
           "Welton of Creuchies",
           "4",
           9.2
          ],
          [
           "Wern Ddu (Craig Lelo)",
           "4",
           9.2
          ],
          [
           "Wern Farmland (Resubmission)",
           "1",
           0.5
          ],
          [
           "West Adamston Farm",
           "1",
           0.1
          ],
          [
           "West Browncastle",
           "12",
           30
          ],
          [
           "West Brucehill (Resubmission)",
           "1",
           0.1
          ],
          [
           "West Cairnbeg",
           "1",
           0.5
          ],
          [
           "West Clyth Farm",
           "2",
           0.16
          ],
          [
           "West Cockmuir",
           "1",
           0.8
          ],
          [
           "West Crichie",
           "1",
           0.5
          ],
          [
           "West Durham",
           "12",
           24
          ],
          [
           "West Farm (Foston Lane)",
           "2",
           0.1
          ],
          [
           "West Farm (Weeton North Lane)",
           "1",
           0.5
          ],
          [
           "West Ham Bus Garage",
           "1",
           0.1
          ],
          [
           "West Hill",
           "1",
           2
          ],
          [
           "West House Farm",
           "1",
           0.5
          ],
          [
           "West Knock Farm",
           "3",
           2.4
          ],
          [
           "West Mains Farmhouse",
           "1",
           0.25
          ],
          [
           "West Morriston (Resubmission)",
           "1",
           0.05
          ],
          [
           "West of Duddon Sands",
           "108",
           388.8
          ],
          [
           "West Strathore Farm",
           "1",
           0.5
          ],
          [
           "West Street, 49",
           "1",
           0.25
          ],
          [
           "West Thornber Farm",
           "1",
           0.25
          ],
          [
           "West Thornber Farm T2",
           "1",
           0.25
          ],
          [
           "Westend Wood Quarry",
           "1",
           0.5
          ],
          [
           "Wester Cambushinnie Farm (Revised)",
           "1",
           0.33
          ],
          [
           "Wester Derry Farm",
           "1",
           0.25
          ],
          [
           "Wester Hassockrigg",
           "1",
           0.5
          ],
          [
           "Wester Kilmany Farm",
           "1",
           0.5
          ],
          [
           "Wester Meathie Farm",
           "2",
           0.45
          ],
          [
           "Westerglen Farm",
           "1",
           0.9
          ],
          [
           "Westermost Rough",
           "35",
           210
          ],
          [
           "Westerton of Folla",
           "1",
           0.5
          ],
          [
           "Westfield",
           "4",
           10
          ],
          [
           "Westhall",
           "1",
           0.225
          ],
          [
           "Westmill (Community Windfarm)",
           "5",
           6.5
          ],
          [
           "Westnewton",
           "3",
           6.15
          ],
          [
           "Weston Longville",
           "2",
           4
          ],
          [
           "Weston Town Farm",
           "1",
           0.5
          ],
          [
           "Westray Community Turbine",
           "1",
           0.9
          ],
          [
           "Westtown Farm",
           "1",
           0.5
          ],
          [
           "Westwood Farm",
           "1",
           0.5
          ],
          [
           "Wether Hill",
           "14",
           18.2
          ],
          [
           "Weydale Farm",
           "1",
           0.5
          ],
          [
           "Whangs Farm",
           "2",
           0.1
          ],
          [
           "Wharrels Hill",
           "8",
           10.4
          ],
          [
           "Wheatley Wood Farm Turbine 1",
           "1",
           0.33
          ],
          [
           "Wheatley Wood Farm Turbine 2",
           "1",
           0.33
          ],
          [
           "Wheatrig Farm (Resubmission)",
           "2",
           0.5
          ],
          [
           "Wheelbarrow Hall Farm (2nd Resubmission)",
           "1",
           0.06
          ],
          [
           "Whinnyhall Landfill",
           "2",
           0.12
          ],
          [
           "Whins Farm",
           "1",
           0.1
          ],
          [
           "White Barn Farm",
           "2",
           0.5
          ],
          [
           "White Cow Wood",
           "1",
           0.5
          ],
          [
           "White House Farm",
           "1",
           0.5
          ],
          [
           "White Lion Farm",
           "1",
           0.5
          ],
          [
           "White Lodge Farm",
           "1",
           0.5
          ],
          [
           "White Mill (Coldham Extension)",
           "7",
           14
          ],
          [
           "White Top",
           "1",
           0.5
          ],
          [
           "Whitefield of Dun",
           "1",
           0.5
          ],
          [
           "Whitehill Farm",
           "1",
           0.5
          ],
          [
           "Whitehouse Road, 26",
           "1",
           0.25
          ],
          [
           "Whitehouse Road, 4 (Resubmission)",
           "1",
           0.05
          ],
          [
           "Whitelee Phase I Extension",
           "36",
           108
          ],
          [
           "Whitelee Phase II Extension",
           "39",
           109.02
          ],
          [
           "Whitelee, Eaglesham Moor (Part 1)",
           "140",
           322
          ],
          [
           "Whiterigg (Resubmission)",
           "1",
           0.5
          ],
          [
           "Whiteside Hill",
           "10",
           28.5
          ],
          [
           "Whitestones",
           "1",
           0.8
          ],
          [
           "Whittlesey",
           "1",
           1.8
          ],
          [
           "Wholsea Grange",
           "1",
           0.5
          ],
          [
           "Wiggonlea Farm",
           "1",
           0.225
          ],
          [
           "Wigsley Old Airfield",
           "1",
           0.5
          ],
          [
           "Wilton Farm",
           "1",
           0.5
          ],
          [
           "Wind Hill Farm",
           "1",
           0.5
          ],
          [
           "Windmill Road, 68",
           "1",
           0.25
          ],
          [
           "Windy Rig",
           "12",
           43.2
          ],
          [
           "Windyhill Farm",
           "1",
           0.5
          ],
          [
           "Windyhill Road, 223",
           "1",
           0.225
          ],
          [
           "Wingates",
           "6",
           15
          ],
          [
           "Winllan Bach",
           "1",
           0.1
          ],
          [
           "Winscales",
           "3",
           1.98
          ],
          [
           "Winscales Extension",
           "8",
           6.8
          ],
          [
           "Winscales Moor",
           "7",
           5.95
          ],
          [
           "Winsey Farm",
           "1",
           0.225
          ],
          [
           "Winters Lane",
           "1",
           0.8
          ],
          [
           "Winwick",
           "6",
           12.3
          ],
          [
           "Withernwick (Resubmission)",
           "9",
           18.45
          ],
          [
           "Withernwick Extension",
           "4",
           8.2
          ],
          [
           "Wold Farm (Resubmission)",
           "1",
           0.225
          ],
          [
           "Wolf Bog",
           "5",
           10
          ],
          [
           "Wood Farm",
           "1",
           0.5
          ],
          [
           "Wood Green Animal Shelter",
           "1",
           0.5
          ],
          [
           "Wood Lodge",
           "1",
           0.33
          ],
          [
           "Woodbank Farm",
           "1",
           1.5
          ],
          [
           "Woodborough Park Farm",
           "1",
           0.33
          ],
          [
           "Woodhall Farm",
           "1",
           0.5
          ],
          [
           "Woodheads Farm",
           "1",
           0.1
          ],
          [
           "Woodhill Hunting Lodge",
           "1",
           0.15
          ],
          [
           "Woodhouse Farm (East Yorkshire) (Resubmission)",
           "1",
           0.5
          ],
          [
           "Woodhouse Farm (North Yorkshire)",
           "2",
           0.16
          ],
          [
           "Woodlands Barton",
           "2",
           3.8
          ],
          [
           "Woodlands Farm (Cornwall, Michaelstow)",
           "1",
           0.4
          ],
          [
           "Woodlands Farm Turbine 1 (Aberdeenshire)",
           "1",
           0.5
          ],
          [
           "Woodlands Farm Turbine 1 (South Lanarkshire)",
           "1",
           0.5
          ],
          [
           "Woodlands Farm Turbine 2 (South Lanarkshire)",
           "1",
           0.9
          ],
          [
           "Woodside Road, 79",
           "1",
           0.25
          ],
          [
           "Woodside Road, 90",
           "1",
           0.25
          ],
          [
           "Woodterrill Farm",
           "2",
           0.5
          ],
          [
           "Woolley Hill",
           "4",
           10
          ],
          [
           "Wortham Farm",
           "1",
           0.5
          ],
          [
           "Wrae Farm",
           "1",
           0.5
          ],
          [
           "Wryde Croft (Resubmission)",
           "13",
           23.4
          ],
          [
           "WWP Hameldon Hill",
           "3",
           4.5
          ],
          [
           "Wynam Farm (Resubmission)",
           "2",
           0.1
          ],
          [
           "Wythegill",
           "1",
           1.5
          ],
          [
           "Yards Farm (Resubmission)",
           "1",
           0.5
          ],
          [
           "Yellow Wells",
           "1",
           0.5
          ],
          [
           "Yelvertoft",
           "8",
           16.4
          ],
          [
           "Yeorton Hall Farm",
           "1",
           0.4
          ],
          [
           "Yonderton",
           "1",
           0.225
          ],
          [
           "Yonderton Farm",
           "2",
           0.1
          ]
         ],
         "hovertemplate": "Latitude=%{lat}<br>Longitude=%{lon}<br>Project Name=%{customdata[0]}<br>Number of Turbines=%{customdata[1]}<br>Project Capacity (MW)=%{marker.color}<extra></extra>",
         "lat": [
          54.5941,
          52.6181,
          51.9853,
          51.5588,
          51.5558,
          51.5156,
          58.4381,
          58.0044,
          58.4483,
          56.1397,
          53.3859,
          52.4147,
          55.3108,
          55.6416,
          55.9332,
          54.6794,
          54.4605,
          54.5625,
          54.6623,
          54.3696,
          54.2108,
          54.2745,
          54.502,
          54.5303,
          54.5625,
          54.5649,
          54.6091,
          54.3579,
          54.1672,
          55.9267,
          55.9086,
          55.8903,
          55.8884,
          56.2665,
          52.2358,
          54.7514,
          54.9739,
          53.7142,
          52.0174,
          50.8848,
          54.1574,
          55.9327,
          51.9783,
          50.8841,
          54.96,
          54.9606,
          54.5183,
          54.5183,
          54.5398,
          54.4775,
          55.0781,
          55.1302,
          51.5571,
          51.7056,
          56.2203,
          55.5225,
          57.2285,
          54.7666,
          54.3552,
          52.6699,
          54.987,
          54.7333,
          57.3547,
          54.304,
          54.3014,
          56.2878,
          55.7197,
          55.71,
          55.6858,
          55.6858,
          55.0533,
          53.8119,
          56.5717,
          54.7408,
          53.2483,
          54.2761,
          58.1783,
          53.8569,
          56.7272,
          54.9661,
          56.6078,
          52.2608,
          52.7544,
          53.7029,
          53.6931,
          57.5658,
          54.1872,
          55.2222,
          55.5642,
          55.5617,
          55.0748,
          55.4111,
          54.9194,
          57.6208,
          57.5057,
          57.5037,
          57.6062,
          57.1386,
          55.6706,
          57.1469,
          55.6206,
          55.6239,
          57.582,
          54.5007,
          54.657,
          54.2014,
          54.1977,
          54.759,
          54.7888,
          55.5176,
          53.7277,
          51.5411,
          55.8536,
          53.2954,
          50.8377,
          51.6431,
          51.6422,
          50.9631,
          53.7564,
          54.1192,
          54.5012,
          57.5964,
          58.4147,
          52.8741,
          57.6489,
          52.6708,
          53.6272,
          55.1902,
          58.5672,
          50.3999,
          57.7981,
          56.5347,
          56.7674,
          56.7682,
          56.5281,
          56.5264,
          54.5371,
          54.5388,
          55.1249,
          55.2188,
          54.2237,
          54.6412,
          55.0245,
          54.585,
          55.1782,
          54.9765,
          54.9869,
          54.8618,
          54.6298,
          54.7689,
          54.5695,
          54.1785,
          54.8864,
          54.4439,
          54.3039,
          54.4735,
          54.458,
          55.0643,
          54.3012,
          54.3282,
          54.5177,
          54.8506,
          54.4952,
          55.1762,
          55.1906,
          54.3078,
          54.7976,
          54.6232,
          54.2961,
          54.4141,
          54.4886,
          55.1786,
          55.1717,
          54.9221,
          54.9274,
          54.4205,
          54.8769,
          54.3151,
          54.2127,
          54.7627,
          54.4076,
          54.826,
          54.5123,
          54.5009,
          54.4253,
          54.438,
          54.4194,
          54.3008,
          54.7314,
          54.7949,
          54.73,
          54.5932,
          54.7145,
          54.3958,
          54.3222,
          54.8341,
          54.6385,
          54.9411,
          54.9409,
          55.0433,
          55.0394,
          55.1241,
          55.1404,
          54.9666,
          57.5874,
          55.9309,
          53.32,
          53.3226,
          54.3821,
          54.7967,
          54.6159,
          54.6164,
          53.9489,
          52.7749,
          54.82,
          55.5811,
          56.1974,
          54.8217,
          54.8128,
          54.9337,
          53.2875,
          54.8742,
          55.6553,
          54.2264,
          52.6913,
          58.9233,
          58.9217,
          56.2467,
          54.6602,
          54.6483,
          57.0573,
          53.0619,
          56.4249,
          54.8474,
          53.9929,
          50.2988,
          53.6686,
          55.7086,
          55.9091,
          50.9717,
          53.0959,
          55.095,
          52.6192,
          50.6137,
          50.4715,
          58.2536,
          51.7081,
          55.0106,
          50.7347,
          51.5256,
          51.7323,
          53.6819,
          53.6745,
          53.5221,
          54.3857,
          54.3814,
          55.5656,
          55.5611,
          55.5425,
          56.7059,
          56.3825,
          58.2094,
          57.8078,
          57.8017,
          57.115,
          57.115,
          54.603,
          54.7595,
          54.7477,
          54.7431,
          55.0025,
          54.7703,
          55.912,
          55.0318,
          57.442,
          57.4489,
          54.9933,
          50.7041,
          54.1656,
          54.3076,
          55.6804,
          54.5529,
          57.4886,
          54.8736,
          54.8664,
          55.7935,
          54.68,
          54.7225,
          51.9553,
          54.994,
          58.5177,
          55.2065,
          57.2408,
          52.9261,
          56.801,
          52.0544,
          58.4719,
          54.705,
          56.3061,
          55.6039,
          55.6279,
          53.5086,
          50.4853,
          55.7983,
          55.7669,
          55.7669,
          55.7669,
          55.7675,
          50.5995,
          55.8892,
          55.0917,
          55.8419,
          57.4917,
          50.3478,
          53.5475,
          53.7296,
          51.9968,
          51.8006,
          51.7608,
          51.7501,
          51.8783,
          51.7687,
          55.1603,
          57.43,
          55.8556,
          55.8569,
          54.7909,
          55.7567,
          55.7567,
          55.5675,
          52.7132,
          51.8631,
          52.5217,
          50.3978,
          52.1789,
          52.8241,
          53.0175,
          52.9047,
          57.5603,
          55.7269,
          55.7283,
          54.6676,
          57.5831,
          55.7195,
          54.3333,
          56.2592,
          56.2566,
          50.0481,
          57.2402,
          52.5378,
          50.6124,
          50.5875,
          58.3,
          54.8994,
          55.7156,
          50.9706,
          54.1708,
          54.5855,
          55.0858,
          57.6464,
          57.6464,
          54.1362,
          54.7519,
          54.7841,
          57.4305,
          57.6856,
          52.7848,
          51.7177,
          56.2761,
          57.6339,
          52.9572,
          55.8795,
          54.7751,
          54.3865,
          54.3853,
          51.9719,
          54.6869,
          52.7734,
          58.2445,
          53.9243,
          54.9901,
          55.0052,
          55.5613,
          56.8278,
          53.1271,
          52.2882,
          51.5122,
          51.5106,
          55.7119,
          54.8017,
          54.9333,
          54.9344,
          55.8617,
          55.2919,
          55.2919,
          57.5389,
          54.8056,
          56.7233,
          54.8853,
          54.7232,
          54.8302,
          54.8269,
          56.8453,
          57.5525,
          57.55,
          52.4194,
          52.9986,
          52.3702,
          51.624,
          52.4014,
          54.8898,
          54.9024,
          54.6212,
          54.7378,
          54.7454,
          53.4833,
          59.1094,
          59.1203,
          59.1203,
          58.3578,
          55.7325,
          55.6386,
          53.9031,
          56.2105,
          56.2114,
          56.2167,
          56.0439,
          55.0213,
          55.0645,
          52.5338,
          60.1647,
          60.164,
          53.5612,
          54.14,
          53.7492,
          52.3564,
          52.3917,
          52.3536,
          54.6708,
          51.8758,
          51.6314,
          54.7944,
          53.1044,
          52.085,
          54.7648,
          57.4218,
          57.4636,
          57.4713,
          57.5652,
          57.568,
          57.4253,
          57.3083,
          55.6375,
          54.4305,
          54.4301,
          54.4383,
          54.4508,
          56.5664,
          50.4808,
          50.4792,
          56.2088,
          56.2085,
          54.6289,
          54.6204,
          54.6164,
          54.6261,
          54.6199,
          54.6188,
          53.1013,
          58.4036,
          57.0105,
          54.5445,
          55.7617,
          52.3031,
          54.6498,
          54.9477,
          50.3514,
          54.8471,
          54.7225,
          55.1243,
          54.7853,
          54.7867,
          54.9396,
          52.5506,
          52.5644,
          54.3241,
          50.3278,
          53.8192,
          53.7407,
          53.7919,
          56.4333,
          54.9128,
          54.8387,
          54.1988,
          54.7101,
          56.2248,
          55.1498,
          54.9153,
          53.0858,
          55.7489,
          53.7575,
          51.6321,
          52.0513,
          51.77,
          57.5503,
          51.7231,
          55.1338,
          54.611,
          54.5536,
          54.4192,
          54.5757,
          54.6798,
          55.0952,
          55.0921,
          54.7856,
          54.3342,
          54.9077,
          54.3727,
          55.7975,
          53.8278,
          54.069,
          52.6992,
          54.408,
          53.1194,
          53.4196,
          53.643,
          58.4366,
          54.394,
          54.7175,
          54.7167,
          54.506,
          54.1806,
          54.6909,
          54.795,
          54.6334,
          54.2896,
          54.4846,
          51.7108,
          52.405,
          51.6731,
          52.3118,
          52.6439,
          53.0938,
          56.7989,
          52.3103,
          51.6025,
          52.8558,
          50.8931,
          53.8739,
          54.6503,
          54.3752,
          54.3914,
          54.7535,
          55.1211,
          53.3393,
          51.8934,
          53.0472,
          54.3122,
          54.3892,
          55.6436,
          54.6142,
          54.665,
          57.375,
          56.2542,
          57.5923,
          51.5577,
          53.0102,
          53.0081,
          56.1092,
          55.6091,
          55.7875,
          54.9001,
          54.9026,
          55.1141,
          55.1146,
          54.8249,
          53.0714,
          56.9386,
          57.4519,
          54.5314,
          55.0812,
          54.9681,
          54.1745,
          55.6886,
          54.4739,
          54.1534,
          54.1534,
          54.8159,
          55.1561,
          54.3073,
          54.5329,
          55.1665,
          57.57,
          56.8772,
          55.5123,
          55.4919,
          55.4049,
          54.4069,
          54.3875,
          57.5014,
          51.6965,
          54.6184,
          54.5865,
          53.7486,
          54.503,
          54.503,
          51.8215,
          51.7235,
          58.0044,
          57.7939,
          50.6423,
          52.5906,
          50.8948,
          55.1592,
          54.57,
          51.0486,
          50.8595,
          54.1828,
          54.1787,
          56.0868,
          56.0894,
          54.1683,
          54.5476,
          54.5404,
          54.4852,
          54.5224,
          53.0892,
          52.2778,
          53.7617,
          54.7561,
          54.7709,
          54.6733,
          54.4952,
          55.0723,
          51.6364,
          54.3416,
          53.1006,
          55.1842,
          54.7778,
          54.3105,
          55.0322,
          55.0616,
          54.2294,
          54.6011,
          54.4425,
          54.4419,
          54.4234,
          57.3136,
          57.6644,
          54.2342,
          57.2856,
          54.2739,
          57.6152,
          53.1103,
          52.2594,
          53.1411,
          54.0782,
          55.6639,
          55.6708,
          57.39,
          55.9086,
          55.9086,
          55.9098,
          55.7501,
          55.8894,
          53.8406,
          57.3928,
          57.6024,
          56.8375,
          55.1635,
          55.1635,
          54.8028,
          56.0455,
          56.0553,
          54.9967,
          54.6321,
          54.6309,
          56.1749,
          55.0418,
          54.9204,
          55.7168,
          55.1437,
          54.648,
          50.9464,
          52.4003,
          57.3964,
          54.75,
          54.7552,
          55.147,
          58.1952,
          54.3977,
          54.6119,
          54.2914,
          54.2888,
          51.7252,
          56.795,
          54.6464,
          57.5896,
          50.9078,
          54.5536,
          54.5539,
          54.7128,
          54.712,
          54.7325,
          54.5192,
          54.6142,
          54.6353,
          53.7734,
          54.9993,
          55.5136,
          57.4056,
          54.7159,
          53.6719,
          53.6836,
          54.1704,
          54.5248,
          55.1803,
          54.4259,
          54.7473,
          51.5058,
          50.6181,
          53.7242,
          58.9978,
          56.04,
          51.7414,
          51.7431,
          56.3863,
          55.895,
          55.9014,
          55.9067,
          55.9042,
          55.9264,
          56.1012,
          57.6361,
          57.6311,
          54.4609,
          54.4563,
          57.7499,
          54.9798,
          54.7315,
          57.5797,
          54.8277,
          54.8276,
          54.8286,
          54.8244,
          54.9399,
          54.8418,
          54.9237,
          54.3835,
          54.9311,
          52.0201,
          51.7114,
          51.522,
          51.5125,
          52.3482,
          52.8051,
          55.1848,
          55.8523,
          54.0447,
          55.7451,
          54.7357,
          53.1181,
          53.1157,
          53.9361,
          52.7372,
          52.7328,
          54.9063,
          50.6365,
          50.7862,
          54.0995,
          57.4111,
          57.4678,
          50.4628,
          52.9091,
          54.7266,
          54.4176,
          54.4152,
          54.3093,
          54.3319,
          55.3242,
          52.9899,
          52.9895,
          52.9895,
          54.7496,
          55.6289,
          57.5814,
          54.6192,
          54.6092,
          54.6083,
          53.8886,
          54.3835,
          54.9548,
          50.7436,
          55.6559,
          54.7604,
          53.0048,
          54.8741,
          56.2621,
          54.3073,
          54.448,
          57.3511,
          54.4392,
          51.9521,
          53.8378,
          55.5651,
          57.6508,
          52.1242,
          55.2869,
          54.2696,
          55.6875,
          51.8407,
          54.3906,
          54.3568,
          54.3574,
          54.3845,
          55.8978,
          55.0329,
          55.1157,
          56.9228,
          54.6515,
          54.9486,
          54.9486,
          55.0575,
          54.6285,
          54.7506,
          54.82,
          54.4072,
          54.3319,
          54.5929,
          54.2647,
          54.2623,
          54.9925,
          54.9908,
          54.3412,
          54.4327,
          54.3847,
          54.9247,
          54.2281,
          57.4656,
          56.6794,
          54.2391,
          54.2478,
          55.9054,
          54.762,
          54.4165,
          54.4172,
          54.4087,
          54.9839,
          54.6772,
          56.9358,
          54.3487,
          54.8556,
          54.8545,
          54.8532,
          54.6049,
          54.6062,
          54.6043,
          54.3463,
          56.2325,
          54.1701,
          55.0402,
          54.4281,
          56.6576,
          53.2489,
          54.1469,
          52.6257,
          54.9585,
          54.9136,
          54.9156,
          57.4092,
          55.8059,
          55.7951,
          54.6792,
          54.7531,
          58.2594,
          55.0867,
          56.3436,
          56.1303,
          54.2459,
          54.3804,
          56.2792,
          54.4162,
          55.6011,
          54.9914,
          54.614,
          57.3294,
          55.0978,
          56.2955,
          54.5379,
          54.9021,
          50.8086,
          51.5747,
          50.8992,
          51.9112,
          55.6746,
          55.6709,
          55.6683,
          56.8075,
          51.8106,
          56.0791,
          56.1657,
          52.2963,
          50.7625,
          50.7734,
          53.5603,
          54.6451,
          56.7097,
          56.6147,
          57.5103,
          57.21,
          56.7303,
          52.8247,
          55.6002,
          55.6794,
          57.6556,
          56.9572,
          50.9031,
          51.7049,
          50.9164,
          57.2292,
          57.6463,
          55.9209,
          55.6781,
          57.6583,
          57.1551,
          56.8386,
          56.8386,
          55.625,
          54.0952,
          54.6688,
          54.4893,
          52.6568,
          54.8648,
          54.8655,
          54.8598,
          54.3438,
          54.3969,
          57.4291,
          57.5094,
          54.3769,
          54.8908,
          53.8045,
          54.9314,
          54.925,
          54.8035,
          53.9706,
          50.3922,
          54.4497,
          54.7224,
          51.4789,
          54.4611,
          54.2788,
          52.4297,
          51.8967,
          54.5503,
          55.6982,
          51.7919,
          57.225,
          54.8218,
          54.9478,
          55.1661,
          55.1539,
          57.5074,
          52.3278,
          52.336,
          51.3309,
          59.5159,
          59.5206,
          57.5297,
          54.5736,
          55.8269,
          53.2287,
          53.6772,
          52.731,
          52.7375,
          54.0612,
          57.325,
          53.4608,
          53.1318,
          54.6376,
          54.4755,
          57.4763,
          53.433,
          51.6583,
          55.9139,
          56.9215,
          53.2669,
          51.5994,
          51.5994,
          52.1264,
          51.6778,
          53.0236,
          55.0067,
          57.6572,
          54.6359,
          55.8916,
          55.0154,
          54.7903,
          52.4975,
          53.9084,
          54.6847,
          52.3602,
          56.0522,
          54.6861,
          54.7396,
          57.5811,
          51.4925,
          56.8899,
          54.92,
          54.9268,
          54.6983,
          50.8942,
          54.9341,
          58.6028,
          58.6054,
          53.0485,
          52.5721,
          50.2892,
          54.695,
          52.049,
          54.3962,
          54.0522,
          55.7769,
          52.6633,
          54.73,
          54.7253,
          54.7283,
          52.9831,
          53.2997,
          52.5122,
          51.9616,
          51.1441,
          53.2633,
          53.2629,
          50.4161,
          50.3703,
          51.5057,
          54.375,
          55.9065,
          53.3833,
          57.5921,
          55.5531,
          56.6594,
          52.3033,
          59.2975,
          57.5011,
          50.9215,
          52.1437,
          55.961,
          55.9624,
          55.658,
          54.4581,
          54.2029,
          52.4089,
          51.9702,
          55.0224,
          55.0238,
          54.5554,
          55.7809,
          54.5388,
          54.3687,
          54.8728,
          54.3633,
          54.3608,
          55.0002,
          57.5207,
          55.161,
          50.3907,
          57.6189,
          57.6137,
          57.6233,
          53.3603,
          50.8522,
          52.8381,
          51.5646,
          51.7203,
          54.973,
          56.1105,
          55.66,
          55.659,
          51.8881,
          54.8042,
          55.2501,
          54.8889,
          52.5683,
          52.5117,
          54.5456,
          55.592,
          55.593,
          52.8019,
          54.9706,
          55.0211,
          57.3206,
          54.8472,
          54.9517,
          54.2205,
          54.3912,
          54.5055,
          56.4828,
          54.9864,
          54.9831,
          54.9425,
          54.8356,
          54.9606,
          54.4336,
          54.4246,
          54.4264,
          55.9613,
          54.9292,
          55.5363,
          55.0824,
          55.0864,
          54.9825,
          55.1906,
          55.4081,
          54.5304,
          57.4244,
          54.9145,
          55.1916,
          54.5779,
          56.7422,
          51.9619,
          51.9628,
          50.8816,
          53.6658,
          53.6769,
          50.3497,
          50.0461,
          50.3572,
          58.1092,
          58.0936,
          57.4442,
          54.5975,
          54.9017,
          54.5444,
          54.9264,
          54.8876,
          54.9929,
          54.8892,
          54.9938,
          54.6228,
          57.6626,
          53.6843,
          51.5599,
          53.6269,
          50.7114,
          53.6762,
          54.0347,
          54.3422,
          54.3431,
          51.7286,
          54.8331,
          54.8669,
          50.4676,
          51.9333,
          53.6758,
          54.5864,
          56.2489,
          52.9644,
          53.77,
          51.4187,
          55.1322,
          54.6252,
          54.3012,
          55.6718,
          54.8488,
          55.9083,
          53.2869,
          55.1263,
          55.1302,
          57.5671,
          57.5708,
          54.6296,
          54.6289,
          54.6187,
          54.6171,
          54.6208,
          54.3339,
          56.5928,
          54.5447,
          54.8496,
          54.824,
          54.1614,
          57.2078,
          57.4072,
          57.5853,
          52.5194,
          54.7185,
          55.7786,
          60.1926,
          54.5434,
          53.9507,
          56.5525,
          51.7023,
          53.8879,
          54.9308,
          54.7298,
          54.9532,
          54.9522,
          55.0256,
          55.0142,
          54.8281,
          51.7143,
          50.3769,
          57.3285,
          53.6738,
          55.2458,
          53.1223,
          53.011,
          52.9969,
          52.9969,
          52.9975,
          55.555,
          55.5561,
          52.6397,
          53.8736,
          55.0017,
          54.7945,
          57.6644,
          58.4333,
          53.7886,
          52.4103,
          59.0947,
          59.2705,
          53.58,
          54.5872,
          54.8559,
          54.8533,
          55.81,
          54.1538,
          54.7625,
          55.3676,
          55.3632,
          55.3478,
          51.5178,
          55.7126,
          57.5333,
          55.6395,
          55.2211,
          52.6872,
          54.2061,
          51.7444,
          54.6028,
          53.8833,
          53.7847,
          53.7882,
          55.7389,
          54.9264,
          54.7753,
          54.2008,
          54.2008,
          53.0481,
          50.7491,
          53.664,
          55.6718,
          55.5575,
          53.5336,
          53.2928,
          53.2936,
          56.5975,
          52.7149,
          53.3464,
          54.85,
          53.9082,
          52.3157,
          56.5567,
          53.74,
          54.2948,
          56.9159,
          54.0401,
          54.0349,
          54.03,
          50.8152,
          54.9388,
          54.1308,
          55.6561,
          54.825,
          50.4985,
          55.6403,
          54.4692,
          54.471,
          54.7842,
          54.76,
          54.7647,
          54.6281,
          55.9125,
          54.795,
          55.3786,
          54.7737,
          54.8313,
          54.6932,
          55.6145,
          56.2665,
          50.626,
          50.9719,
          50.36,
          53.7603,
          50.4795,
          50.4453,
          56.8393,
          54.5003,
          52.0469,
          50.9945,
          52.7294,
          52.1928,
          53.1704,
          53.0405,
          51.777,
          51.5002,
          57.4729,
          57.4739,
          57.4047,
          57.3789,
          57.3757,
          57.3742,
          57.3227,
          57.3156,
          56.6836,
          57.5131,
          55.8742,
          56.7676,
          58.5814,
          58.5717,
          57.3969,
          57.4867,
          53.0981,
          57.3766,
          56.9417,
          54.7756,
          53.5433,
          56.617,
          51.7916,
          55.1386,
          54.2269,
          51.3903,
          53.1089,
          50.7572,
          54.75,
          50.7712,
          50.2036,
          54.8351,
          53.8092,
          55.6059,
          54.8471,
          59.0758,
          54.6083,
          53.8086,
          55.9064,
          57.855,
          53.9658,
          53.9274,
          58.3143,
          56.8003,
          57.6172,
          56.5725,
          54.8382,
          59.0363,
          54.4064,
          54.7522,
          54.8378,
          53.7476,
          53.64,
          54.8519,
          52.6022,
          52.6031,
          54.6261,
          54.4503,
          54.3691,
          53.7136,
          57.4839,
          54.5653,
          54.5744,
          54.5636,
          54.5664,
          53.1308,
          55.0453,
          55.9183,
          57.503,
          54.7466,
          55.1842,
          54.2765,
          50.8539,
          56.0041,
          52.8822,
          57.6725,
          56.3453,
          55.6907,
          53.8972,
          55.6054,
          54.3813,
          53.6042,
          52.9938,
          53.7851,
          54.8383,
          54.8376,
          54.2222,
          55.825,
          55.7552,
          55.8893,
          55.8781,
          52.4039,
          56.9991,
          55.6614,
          55.4978,
          51.45,
          51.45,
          52.8544,
          50.6856,
          58.0478,
          58.0478,
          54.5729,
          54.5313,
          54.622,
          55.4125,
          57.2733,
          55.0197,
          54.9903,
          54.3579,
          56.1179,
          54.9318,
          54.486,
          54.4856,
          54.4915,
          54.4199,
          54.4208,
          54.4963,
          54.495,
          54.3511,
          54.9695,
          54.6186,
          54.6542,
          56.2403,
          54.8849,
          54.9054,
          54.2432,
          54.414,
          54.5572,
          56.8708,
          55.922,
          59.1491,
          56.0827,
          54.2168,
          54.5243,
          53.9994,
          54.2432,
          55.087,
          54.5878,
          54.8772,
          56.2594,
          56.0881,
          56.0719,
          54.8549,
          54.8553,
          52.7711,
          53.9969,
          54.8823,
          54.7108,
          54.7107,
          57.5897,
          54.9297,
          53.7816,
          55.8638,
          54.9625,
          55.6269,
          55.6477,
          54.4014,
          54.403,
          54.6844,
          58.0028,
          54.3347,
          54.6053,
          55.6913,
          55.6617,
          54.0136,
          57.2903,
          57.1611,
          55.069,
          55.0666,
          55.0643,
          51.1754,
          57.2135,
          55.4728,
          50.8708,
          54.795,
          55.5722,
          53.5867,
          53.8069,
          54.8928,
          54.7892,
          54.6162,
          51.7744,
          54.5788,
          57.1988,
          54.7665,
          55.3314,
          54.3178,
          54.9504,
          54.4783,
          54.4683,
          54.5899,
          54.4367,
          54.4367,
          54.1975,
          55.6495,
          50.3916,
          55.6263,
          54.6603,
          54.3653,
          57.6614,
          52.7083,
          50.6382,
          50.6383,
          54.7772,
          54.8037,
          53.4652,
          52.3864,
          54.6035,
          53.2398,
          53.1833,
          53.1161,
          52.6434,
          52.6434,
          57.4217,
          55.7551,
          54.4996,
          54.7157,
          54.7656,
          54.7311,
          54.709,
          54.7077,
          54.543,
          54.457,
          54.4532,
          54.8978,
          54.4227,
          54.0097,
          54.4353,
          51.5221,
          57.6397,
          57.6099,
          50.9625,
          54.8035,
          57.4937,
          57.5631,
          50.9178,
          56.1094,
          57.564,
          50.8858,
          54.8716,
          52.3072,
          52.4517,
          52.3037,
          51.9533,
          53.3578,
          53.1003,
          51.6456,
          58.3839,
          57.3584,
          56.3067,
          58.6009,
          57.5591,
          55.6959,
          55.7047,
          55.6984,
          56.5838,
          57.6689,
          57.6731,
          53.1162,
          52.7913,
          53.2734,
          51.7261,
          53.7554,
          56.9904,
          55.6867,
          51.6342,
          54.9714,
          52.7752,
          52.574,
          51.5708,
          51.5642,
          53.5522,
          54.9373,
          55.6731,
          56.3559,
          56.3566,
          53.3157,
          54.6269,
          54.5657,
          54.4407,
          54.8743,
          54.8964,
          54.9128,
          54.6001,
          54.6065,
          54.6417,
          54.7688,
          54.6982,
          55.627,
          54.0664,
          54.0662,
          54.4662,
          55.1116,
          55.6855,
          52.4969,
          55.6127,
          55.6211,
          54.5928,
          54.5897,
          52.8175,
          54.644,
          51.0431,
          56.2946,
          51.7194,
          54.9124,
          54.9134,
          59.1339,
          55.8597,
          56.3259,
          50.6673,
          51.7022,
          55.2039,
          53.1275,
          52.1606,
          53.3176,
          54.257,
          55.184,
          54.2619,
          51.8984,
          51.6975,
          53.0163,
          53.0163,
          51.7636,
          51.7406,
          52.5391,
          55.1829,
          55.1828,
          54.7976,
          54.7046,
          54.371,
          57.5245,
          57.5869,
          57.4034,
          57.3109,
          57.3098,
          56.798,
          57.4697,
          57.4053,
          56.7925,
          57.3977,
          57.6703,
          57.1884,
          57.5744,
          56.7912,
          54.4544,
          53.9186,
          53.9585,
          53.5165,
          53.7188,
          53.9372,
          53.86,
          54.7754,
          54.7763,
          52.09,
          52.5721,
          55.1312,
          51.8103,
          53.533,
          55.6876,
          52.0639,
          51.7683,
          56.8027,
          54.3128,
          53.6385,
          53.1356,
          54.8607,
          52.5625,
          57.332,
          54.2117,
          55.7031,
          54.6174,
          57.4535,
          57.0172,
          54.7948,
          57.395,
          50.3699,
          54.775,
          53.7172,
          50.6297,
          55.0903,
          55.3275,
          55.3273,
          50.2397,
          52.6478,
          56.1859,
          57.3895,
          57.411,
          57.4292,
          56.4851,
          55.8681,
          55.3708,
          56.9644,
          56.9644,
          56.1555,
          52.2514,
          54.8264,
          55.5083,
          54.7952,
          54.798,
          54.8037,
          54.805,
          54.0798,
          55.4978,
          55.7458,
          55.7803,
          57.5356,
          51.6591,
          53.95,
          54.8761,
          57.4653,
          57.6655,
          57.6654,
          55.7099,
          57.1344,
          57.1344,
          57.1344,
          55.7367,
          55.7356,
          56.8717,
          52.1361,
          51.6762,
          57.6189,
          54.2563,
          55.2514,
          55.1128,
          53.1356,
          54.1966,
          54.1773,
          54.195,
          54.1867,
          54.1914,
          57.9417,
          54.9834,
          54.7502,
          54.7392,
          54.7462,
          54.7457,
          54.9118,
          51.8003,
          54.805,
          52.8007,
          54.9806,
          57.5278,
          57.5267,
          54.5653,
          54.6122,
          54.4714,
          54.4721,
          55.9104,
          53.6111,
          58.1958,
          57.6639,
          58.5568,
          55.8605,
          56.0917,
          55.0192,
          53.9514,
          51.6056,
          54.5983,
          54.3836,
          57.4046,
          54.434,
          55.0705,
          55.1864,
          55.1937,
          55.1841,
          55.1766,
          54.4289,
          57.61,
          55.7642,
          55.7498,
          55.7473,
          55.6635,
          54.9386,
          55.8097,
          51.1761,
          51.1784,
          54.4014,
          54.8559,
          54.8515,
          54.9776,
          55.0014,
          54.6208,
          54.3756,
          54.5305,
          54.6178,
          54.4036,
          54.6418,
          54.642,
          54.6297,
          51.6502,
          51.5822,
          51.73,
          52.5803,
          52.4609,
          51.5628,
          51.5428,
          51.7775,
          51.7578,
          51.7813,
          55.6917,
          57.6002,
          57.5985,
          54.0393,
          50.1517,
          51.9519,
          51.8351,
          51.5514,
          53.8253,
          55.7503,
          55.7663,
          54.7156,
          52.4797,
          56.8293,
          56.83,
          55.8768,
          55.753,
          57.4519,
          55.6004,
          55.6446,
          55.8344,
          56.2276,
          56.8333,
          55.6871,
          50.7442,
          55.6318,
          57.6015,
          55.666,
          53.3586,
          52.4483,
          52.9247,
          54.7133,
          53.0719,
          58.915,
          51.6943,
          51.3958,
          50.4912,
          56.0947,
          55.1066,
          54.3496,
          54.8258,
          54.0954,
          56.3558,
          53.7529,
          53.52,
          51.5414,
          54.7423,
          54.8082,
          54.3916,
          55.1221,
          54.0794,
          57.5425,
          53.0758,
          52.9972,
          51.5017,
          53.5082,
          57.5772,
          57.5966,
          55.5921,
          50.4703,
          54.2694,
          52.4694,
          54.2085,
          55.9218,
          54.9155,
          54.9125,
          56.1653,
          57.4928,
          55.5903,
          55.7461,
          55.6346,
          56.2656,
          56.0603,
          60.1662,
          56.6104,
          52.6286,
          52.6261,
          57.5858,
          54.8692,
          55.2517,
          56.5719,
          55.2983,
          60.6697,
          58.869,
          53.7431,
          53.4633,
          50.8528,
          52.1642,
          55.2046,
          57.7144,
          57.7144,
          52.7268,
          55.5789,
          54.2675,
          50.4457,
          51.6919,
          54.725,
          54.7706,
          54.8861,
          54.4715,
          54.7032,
          52.4119,
          57.5092,
          53.2642,
          54.6594,
          57.5563,
          60.5111,
          60.5107,
          54.48,
          54.4808,
          54.4777,
          54.4767,
          54.9997,
          54.9997,
          54.994,
          54.3325,
          53.8971,
          58.8227,
          55.878,
          54.8611,
          54.8635,
          53.1703,
          50.6919,
          53.6675,
          54.3066,
          54.3072,
          53.7806,
          53.0306,
          54.8083,
          54.8083,
          54.7615,
          51.7005,
          51.6064,
          51.6125,
          52.0662,
          50.6184,
          51.7584,
          51.5085,
          51.5069,
          53.8672,
          52.6296,
          53.7017,
          53.555,
          56.6024,
          54.795,
          53.7602,
          55.8113,
          56.8147,
          57.4461,
          50.5004,
          54.7624,
          54.7768,
          54.769,
          55.817,
          54.8557,
          56.8461,
          51.775,
          53.2236,
          51.6969,
          51.7042,
          52.406,
          53.0318,
          52.4472,
          50.3011,
          51.8578,
          51.7715,
          51.7685,
          50.5024,
          52.3739,
          55.9025,
          55.8991,
          53.3894,
          50.627,
          51.7303,
          58.2589,
          50.1247,
          51.6917,
          50.2036,
          52.4955,
          54.4403,
          51.1761,
          56.6592,
          55.052,
          56.7833,
          56.3417,
          56.744,
          56.0902,
          50.2842,
          51.9255,
          54.9544,
          52.2106,
          53.2381,
          53.2359,
          55.7806,
          55.82,
          55.8235,
          50.17,
          54.5817,
          55.9655,
          55.826,
          54.5479,
          54.5547,
          52.5078,
          53.8049,
          53.7383,
          54.8474,
          53.4586,
          51.4328,
          51.46,
          54.7661,
          54.7625,
          54.8007,
          54.6024,
          51.632,
          55.8792,
          55.1922,
          55.9139,
          51.7725,
          53.5125,
          54.8,
          50.8264,
          56.895,
          53.5606,
          53.56,
          51.8483,
          54.3506,
          52.7577,
          51.6104,
          54.5402,
          55.8686,
          54.4927,
          53.6408,
          56.1171,
          50.6738,
          52.4622,
          52.4647,
          52.495,
          52.495,
          51.8061,
          54.2816,
          50.7923,
          54.3512,
          54.3522,
          54.8423,
          54.8349,
          54.9419,
          54.496,
          54.0886,
          55.1547,
          54.4164,
          53.7022,
          54.5241,
          53.9106,
          54.481,
          53.4735,
          54.6461,
          52.4319,
          57.5816,
          56.8222,
          54.3089,
          54.2918,
          56.6563,
          54.4134,
          58.9989,
          55.0348,
          54.3222,
          50.6728,
          52.485,
          52.4033,
          51.5587,
          56.2031,
          51.929,
          53.4128,
          51.9242,
          51.7939,
          51.8794,
          51.3322,
          55.0217,
          55.8313,
          54.7861,
          52.7762,
          57.5054,
          54.7528,
          54.8294,
          54.8323,
          54.6001,
          52.2031,
          54.6021,
          54.2449,
          54.5966,
          54.4762,
          53.7469,
          50.2824,
          50.6815,
          58.0039,
          56.0552,
          50.175,
          54.4214,
          55.725,
          57.5372,
          57.5369,
          59.0857,
          57.4453,
          53.4586,
          53.5375,
          53.6157,
          52.122,
          54.4514,
          54.4514,
          57.19,
          55.9651,
          53.1235,
          54.9448,
          53.7256,
          53.0906,
          52.3,
          55.7375,
          54.4758,
          53.8064,
          55.9194,
          53.8531,
          53.8489,
          55.3719,
          59.1696,
          55.3436,
          51.9624,
          53.7213,
          50.622,
          54.2563,
          56.5478,
          53.6669,
          51.7272,
          51.7216,
          54.4533,
          52.6333,
          55.0535,
          54.3058,
          54.4911,
          54.4911,
          54.6489,
          54.6121,
          53.57,
          54.8342,
          54.8368,
          54.4074,
          54.5578,
          54.5595,
          54.5217,
          54.5263,
          56.4305,
          54.4889,
          51.7231,
          54.1684,
          54.1636,
          53.6828,
          54.545,
          54.5458,
          50.6194,
          50.8275,
          54.8781,
          57.4939,
          56.8475,
          55.0762,
          51.2545,
          50.8284,
          55.7106,
          55.8872,
          53.0908,
          54.6732,
          55.7545,
          59.1168,
          53.613,
          54.6802,
          54.704,
          53.5005,
          57.4802,
          55.2517,
          53.7397,
          54.3892,
          56.1672,
          54.4316,
          54.4316,
          55.745,
          57.4467,
          59.2811,
          54.897,
          54.8972,
          51.4884,
          53.8795,
          53.7795,
          57.5764,
          54.9053,
          54.9674,
          54.5075,
          54.5075,
          54.8353,
          54.16,
          54.6461,
          55.0408,
          54.7165,
          56.8197,
          55.9622,
          53.8364,
          51.5632,
          55.1042,
          57.588,
          53.0863,
          52.71,
          55.9249,
          56.2517,
          50.4275,
          57.4521,
          56.2539,
          57.6544,
          57.1221,
          57.1222,
          57.576,
          54.8325,
          55.7482,
          52.7022,
          55.7541,
          53.6678,
          55.6747,
          53.9743,
          55.8708,
          57.3519,
          53.7877,
          54.1171,
          53.8489,
          53.5319,
          54.8824,
          54.8598,
          53.9893,
          55.7916,
          59.1861,
          55.9339,
          50.4767,
          57.5728,
          53.8415,
          56.8653,
          57.4228,
          57.4273,
          54.5841,
          54.7188,
          54.7256,
          52.5756,
          52.5747,
          53.6338,
          50.6501,
          54.2972,
          56.8122,
          54.7579,
          56.5065,
          54.817,
          52.9708,
          54.7465,
          54.7477,
          53.5589,
          55.6564,
          52.65,
          51.9856,
          54.5525,
          53.1452,
          54.7102,
          54.8106,
          54.8087,
          54.8822,
          54.2773,
          57.6278,
          57.6278,
          58.4897,
          55.1102,
          57.0964,
          54.5956,
          57.3429,
          51.6906,
          55.3886,
          52.6569,
          50.31,
          51.62,
          51.6095,
          52.4258,
          50.762,
          52.054,
          52.6533,
          52.5106,
          52.9314,
          51.5628,
          53.404,
          58.6367,
          51.4951,
          54.4385,
          54.7142,
          50.7408,
          54.6719,
          54.5861,
          54.5881,
          54.5878,
          55.4939,
          55.4939,
          55.7408,
          55.6769,
          54.731,
          54.7318,
          54.5481,
          54.5481,
          57.6675,
          57.6667,
          54.6314,
          50.79,
          50.888,
          56.5225,
          53.7542,
          54.6333,
          54.3044,
          54.8875,
          56.2692,
          55.8924,
          55.0357,
          55.0353,
          52.3565,
          51.5739,
          52.3533,
          56.9622,
          54.9849,
          51.4958,
          52.752,
          53.1294,
          54.2037,
          52.7847,
          53.7512,
          53.4203,
          55.9185,
          53.3883,
          52.708,
          52.6361,
          59.1253,
          58.9544,
          54.8593,
          50.8289,
          54.5625,
          54.5881,
          54.5881,
          54.5881,
          52.4408,
          54.2061,
          54.6503,
          54.7961,
          55.8722,
          51.6853,
          53.1144,
          56.5356,
          52.5936,
          54.8809,
          54.8753,
          54.3584,
          54.3543,
          54.5742,
          54.8153,
          55.7722,
          56.0339,
          54.951,
          53.7197,
          54.2155,
          58.332,
          57.3875,
          52.8549,
          55.8053,
          54.5963,
          55.8697,
          55.8761,
          57.5436,
          54.7603,
          57.5014,
          56.8683,
          54.3812,
          55.2364,
          50.4143,
          51.9412,
          51.8979,
          50.6364,
          50.2616,
          50.6432,
          50.6645,
          50.62,
          50.6492,
          50.5078,
          50.4842,
          50.4836,
          54.9652,
          54.964,
          50.7036,
          50.1694,
          50.4361,
          50.6237,
          50.6004,
          50.6088,
          50.3783,
          54.7214,
          51.9649,
          53.4447,
          52.2094,
          54.4986,
          50.2769,
          53.3744,
          54.3945,
          56.8353,
          56.8339,
          56.8387,
          54.5667,
          54.6603,
          54.6609,
          54.3253,
          54.5404,
          54.5502,
          54.8997,
          54.2384,
          54.5197,
          54.5485,
          56.665,
          54.4279,
          54.611,
          54.5538,
          54.6666,
          54.4788,
          51.6411,
          54.5598,
          54.5542,
          53.6094,
          55.3197,
          53.6662,
          52.1825,
          53.1218,
          53.0062,
          52.224,
          53.0237,
          53.0247,
          52.2493,
          53.0269,
          54.4675,
          52.937,
          51.6178,
          57.3139,
          52.4741,
          55.1537,
          55.155,
          57.4016,
          54.4448,
          56.941,
          57.6182,
          51.7764,
          52.8211,
          55.7835,
          52.3639,
          54.6482,
          57.5242,
          52.1078,
          56.8953,
          57.1854,
          57.3189,
          50.8354,
          54.3811,
          50.3402,
          54.8698,
          53.4588,
          52.1573,
          56.8897,
          51.7856,
          53.2296,
          53.5337,
          54.666,
          54.0305,
          54.082,
          54.0869,
          54.1126,
          52.8813,
          55.5186,
          52.7033,
          55.1197,
          51.5101,
          51.5514,
          55.7106,
          52.4865,
          51.2184,
          53.6646,
          54.5727,
          52.3275,
          58.4414,
          58.4369,
          55.6058,
          56.0153,
          51.7011,
          50.7675,
          53.8683,
          52.7851,
          55.7154,
          56.6308,
          53.0078,
          52.0099,
          56.5093,
          55.6622,
          57.5198,
          56.8689,
          58.3124,
          57.5914,
          57.4806,
          54.7681,
          53.9771,
          53.6683,
          51.5189,
          58.8267,
          54.7022,
          57.494,
          56.5206,
          55.6632,
          53.9667,
          56.1684,
          54.5838,
          53.9836,
          53.9862,
          55.7064,
          56.2441,
          56.6767,
          55.8461,
          56.3911,
          56.6022,
          55.9681,
          53.8058,
          57.3936,
          56.1728,
          56.3256,
          51.6215,
          54.7736,
          52.6953,
          51.1882,
          59.2975,
          55.6766,
          53.2225,
          55.2227,
          58.5597,
          54.487,
          54.7267,
          53.3806,
          53.3806,
          55.6506,
          54.8998,
          56.0727,
          55.0436,
          52.2972,
          57.5554,
          53.7975,
          51.7867,
          52.363,
          52.5964,
          56.7323,
          56.7494,
          55.6867,
          54.6932,
          54.697,
          55.6872,
          55.6872,
          55.6872,
          55.9414,
          55.3236,
          57.6502,
          52.5566,
          53.8075,
          53.1467,
          53.215,
          50.4034,
          53.6302,
          54.6096,
          55.2744,
          56.0806,
          55.1046,
          55.2492,
          53.1772,
          54.8642,
          54.8642,
          54.6422,
          52.2393,
          52.7658,
          52.3664,
          53.8467,
          53.859,
          54.0473,
          54.8031,
          53.8684,
          52.2982,
          52.4003,
          56.1774,
          53.0253,
          55.9408,
          55.7306,
          54.4462,
          53.7689,
          54.2056,
          50.4247,
          50.5775,
          57.31,
          55.6306,
          55.6331,
          54.8697,
          54.8668,
          50.8808,
          52.3428,
          50.6619,
          57.6178,
          52.6367,
          53.7886,
          53.909,
          54.671,
          55.6661,
          57.6389,
          52.3717,
          54.4656,
          55.6059,
          57.4308
         ],
         "legendgroup": "",
         "lon": [
          -5.53866,
          -3.82372,
          -4.96278,
          -2.97219,
          -2.97361,
          -2.68761,
          -3.20228,
          -4.53167,
          -3.45667,
          -5.34,
          -1.37888,
          1.70278,
          -4.17111,
          -4.02518,
          -4.06027,
          -7.13111,
          -7.23398,
          -6.92466,
          -7.70331,
          -6.6888,
          -6.56822,
          -5.90413,
          -6.94845,
          -7.12813,
          -7.10363,
          -7.09924,
          -7.07441,
          -6.50412,
          -7.58959,
          -2.45778,
          -2.45917,
          -2.47475,
          -2.4509,
          -2.70678,
          -0.607778,
          -6.51117,
          -4.7075,
          -0.922863,
          -4.66973,
          -4.46111,
          -0.501283,
          -5.4855,
          -4.25083,
          -4.19772,
          -7.03167,
          -7.03278,
          -7.10583,
          -7.10583,
          -7.12301,
          -7.24911,
          -6.2625,
          -6.82107,
          -2.51033,
          -2.56444,
          -5.22096,
          -3.87389,
          -2.39497,
          -6.56847,
          -6.55263,
          -1.21229,
          -6.37623,
          -6.18278,
          -2.33778,
          -5.68325,
          -5.95748,
          -4.94861,
          -4.25361,
          -4.25194,
          -4.80722,
          -4.80722,
          -4.88222,
          -0.806111,
          -3.04972,
          -3.33861,
          -1.34833,
          -2.64194,
          -6.4275,
          -0.307222,
          -2.58083,
          -4.76639,
          -2.75833,
          -1.12528,
          -1.43028,
          -1.82532,
          -0.998019,
          -2.48833,
          -3.17222,
          -4.81417,
          -5.65889,
          -4.32047,
          -4.97604,
          -5.55028,
          -3.74278,
          -2.52861,
          -4.54822,
          -4.54424,
          -1.98439,
          -2.53983,
          -3.87664,
          -2.56611,
          -3.85003,
          -3.98417,
          -2.03747,
          -6.88374,
          -6.03156,
          -6.66284,
          -6.66044,
          -6.57528,
          -4.39169,
          -4.04571,
          -0.383417,
          -2.67028,
          -2.11655,
          -1.08823,
          -4.35514,
          -2.21829,
          -2.21998,
          -4.28583,
          -0.950278,
          -2.75667,
          -5.95449,
          -2.41854,
          -3.42639,
          -2.23302,
          -2.73833,
          -1.74861,
          -0.64144,
          -6.24119,
          -3.67632,
          -4.36771,
          -3.895,
          -3.17274,
          -2.80202,
          -2.80719,
          -3.00056,
          -2.99873,
          -6.16063,
          -6.16378,
          -6.5847,
          -6.36708,
          -6.51193,
          -5.66567,
          -6.89887,
          -5.59033,
          -6.57652,
          -6.2858,
          -6.28732,
          -5.86241,
          -7.12069,
          -6.08528,
          -6.05732,
          -7.5697,
          -6.40164,
          -5.97833,
          -5.77139,
          -5.47426,
          -5.47425,
          -6.09425,
          -5.68623,
          -6.31568,
          -5.78951,
          -5.88171,
          -5.49051,
          -6.60149,
          -6.6075,
          -5.61944,
          -7.3445,
          -6.11726,
          -5.758,
          -5.97078,
          -5.84952,
          -6.62528,
          -6.61911,
          -6.15596,
          -6.15418,
          -6.59626,
          -6.23374,
          -6.61524,
          -6.55,
          -7.3733,
          -6.2925,
          -6.61109,
          -7.00174,
          -5.90144,
          -5.96473,
          -5.86656,
          -7.31265,
          -5.71152,
          -6.16953,
          -5.86314,
          -6.0145,
          -5.7419,
          -6.55018,
          -5.50686,
          -6.4344,
          -5.83068,
          -6.00727,
          -5.99838,
          -6.00032,
          -6.33847,
          -6.31894,
          -6.59542,
          -6.58573,
          -4.78284,
          -2.87651,
          -3.81856,
          0.238389,
          0.232654,
          -6.35032,
          -6.82598,
          -5.68578,
          -5.68652,
          -1.93442,
          -0.245465,
          -2.91167,
          -3.89833,
          -3.54177,
          -4.01936,
          -4.0125,
          -7.14709,
          -1.2668,
          -4.76944,
          -2.03333,
          -6.19665,
          -1.51704,
          -2.71541,
          -2.71556,
          -2.65222,
          -7.01681,
          -6.98611,
          -7.45431,
          -1.165,
          -5.41845,
          -7.34407,
          -3.29796,
          -4.91411,
          -0.413649,
          -2.59944,
          -3.6419,
          -3.68917,
          -1.08176,
          -2.0225,
          -3.82972,
          -4.37847,
          -4.95775,
          -2.88611,
          -0.436944,
          -3.02611,
          -4.56456,
          0.079722,
          -3.23088,
          -1.24053,
          -1.24176,
          -0.50976,
          -5.98851,
          -5.96609,
          -5.57,
          -5.57167,
          -5.59167,
          -5.9887,
          -5.27592,
          -6.48778,
          -4.34368,
          -4.33222,
          -4.93306,
          -4.92444,
          -5.76452,
          -5.95684,
          -5.72294,
          -5.72514,
          -6.39014,
          -5.77825,
          -3.99477,
          -6.75092,
          -6.4698,
          -6.49083,
          -6.5325,
          -4.41834,
          -3.20667,
          -6.0155,
          -4.65591,
          -7.06005,
          -3.55009,
          -7.34279,
          -7.37283,
          -2.02281,
          -7.40333,
          -7.37472,
          -4.54469,
          -6.88596,
          -4.16917,
          -1.53176,
          -4.68056,
          -0.216389,
          -2.39879,
          -0.248333,
          -3.31333,
          -7.59111,
          -3.32944,
          -3.84139,
          -3.9159,
          0.008333,
          -4.89722,
          -2.43389,
          -3.73889,
          -3.73889,
          -3.73889,
          -3.73889,
          -4.47105,
          -2.34019,
          -4.10917,
          -2.28167,
          -2.22333,
          -4.83678,
          -1.70472,
          -0.723935,
          -4.44164,
          -4.03579,
          -4.6775,
          -4.15806,
          -4.45,
          -3.12603,
          -6.63753,
          -2.32581,
          -3.81056,
          -3.80528,
          -4.53982,
          -4.10972,
          -4.10972,
          -5.63639,
          1.66724,
          1.00417,
          0.030833,
          -4.5575,
          -1.27722,
          -4.66787,
          -3.49879,
          -4.46778,
          -2.29167,
          -4.06972,
          -4.07567,
          -6.01578,
          -3.50304,
          -3.93927,
          -7.84503,
          -2.74667,
          -2.74181,
          -5.21246,
          -7.40483,
          -0.028056,
          -4.41338,
          -4.38028,
          -3.43333,
          -1.8875,
          -3.13972,
          -4.25833,
          -3.18759,
          -5.65178,
          -6.47072,
          -2.60472,
          -2.60472,
          -0.478686,
          -6.82667,
          -6.72948,
          -1.89024,
          -2.13944,
          -1.84006,
          0.923462,
          -4.0625,
          -2.77494,
          -3.47023,
          -4.01138,
          -3.28742,
          -7.5938,
          -7.5916,
          -4.20667,
          -6.01528,
          0.827183,
          -6.40341,
          -0.414294,
          -6.41502,
          -6.42604,
          -4.42044,
          -2.52222,
          -0.726201,
          -2.13738,
          -2.70895,
          -2.67444,
          -4.10617,
          -6.59283,
          -6.73806,
          -6.71222,
          -2.29861,
          -4.205,
          -4.39861,
          -2.58556,
          -3.28074,
          -2.85611,
          -1.83778,
          -6.99338,
          -5.85495,
          -5.84433,
          -2.37278,
          -1.85639,
          -1.85472,
          -3.59417,
          -3.57997,
          -3.56862,
          -3.19633,
          -3.17194,
          -6.18834,
          -6.13467,
          -6.04821,
          -7.4129,
          -7.42176,
          -3.18333,
          -3.14028,
          -3.14583,
          -3.15278,
          -3.2225,
          -4.05028,
          -4.04167,
          -0.717782,
          -3.76245,
          -3.76694,
          -3.77694,
          -3.96778,
          -6.45938,
          -3.27434,
          -0.023551,
          -1.23611,
          -1.24146,
          -0.739546,
          -0.359167,
          -0.114444,
          -0.650556,
          -0.667222,
          -0.656513,
          -1.39333,
          -4.50472,
          -3.50127,
          -6.30881,
          -4.34,
          -4.2144,
          -5.84813,
          -2.09099,
          -2.89917,
          -2.89374,
          -2.37507,
          -2.37722,
          -2.76389,
          -2.825,
          -4.21194,
          -7.82482,
          -7.82411,
          -8.00833,
          -8.01818,
          -3.83389,
          -4.68134,
          -4.69509,
          -5.64097,
          -5.63838,
          -7.05265,
          -7.01516,
          -7.02148,
          -7.01131,
          -7.06773,
          -7.05504,
          -1.2073,
          -3.295,
          -2.19634,
          -6.95191,
          -3.01361,
          -0.151389,
          -4.9212,
          -6.68004,
          -5.04056,
          -6.42684,
          -5.91694,
          -6.46056,
          -5.81609,
          -6.03306,
          -6.30886,
          -3.60028,
          -3.60222,
          -5.90767,
          -4.92064,
          -0.704061,
          -0.026957,
          -2.455,
          -5.23722,
          -7.33083,
          -5.82244,
          -6.51685,
          -7.34876,
          -3.08856,
          -6.3666,
          -4.76554,
          -1.63194,
          -4.45675,
          -0.771111,
          -3.26102,
          -4.58746,
          -4.52864,
          -2.3725,
          -5.00861,
          -6.49261,
          -7.62487,
          -7.65897,
          -5.75749,
          -3.54153,
          -7.29068,
          -6.65715,
          -6.65483,
          -5.91077,
          -6.16718,
          -7.26401,
          -5.9926,
          -4.2156,
          -2.17389,
          -2.65547,
          -1.435,
          -6.11923,
          -0.865833,
          -2.6306,
          -1.90663,
          -3.45054,
          -7.57943,
          -7.63322,
          -7.63395,
          -6.71105,
          -6.54695,
          -7.49055,
          -7.42459,
          -6.95161,
          -6.23507,
          -7.04958,
          -3.25646,
          -3.75083,
          -3.31472,
          -3.28115,
          -3.67917,
          -3.40973,
          -2.40333,
          -0.529211,
          -2.38694,
          0.688333,
          -3.91844,
          -0.328056,
          -7.71028,
          -6.05746,
          -5.78553,
          -6.35507,
          -6.69778,
          -4.42162,
          -4.37458,
          -3.39917,
          -6.19306,
          -7.33906,
          -2.70528,
          -7.41696,
          -7.58181,
          -2.93278,
          -3.03369,
          -2.06404,
          -3.07926,
          -3.42422,
          -3.42735,
          -3.24722,
          -3.96137,
          -3.70786,
          -6.28056,
          -6.27902,
          -6.36738,
          -6.36768,
          -6.80136,
          -3.47306,
          -2.30389,
          -2.16917,
          -7.01004,
          -6.1118,
          -7.31278,
          -7.34066,
          -4.45297,
          -6.64754,
          -6.21275,
          -6.21275,
          -6.37306,
          -6.48722,
          -6.26892,
          -7.60824,
          -6.59103,
          -3.55861,
          -2.2975,
          -3.61274,
          -3.53972,
          -3.60965,
          -7.57762,
          -7.55885,
          -2.89408,
          -4.78725,
          -6.66182,
          -6.65939,
          -2.1675,
          -6.69687,
          -6.69515,
          -4.22893,
          -3.11012,
          -5.30278,
          -4.36528,
          -4.5256,
          0.137286,
          -3.98598,
          -6.70396,
          -6.04732,
          -4.12824,
          -4.49117,
          -7.6154,
          -7.62007,
          -3.31861,
          -6.18921,
          -3.13972,
          -7.40789,
          -7.57496,
          -5.987,
          -5.85482,
          -1.06056,
          -0.286371,
          -1.04182,
          -7.47743,
          -6.295,
          -6.6975,
          -7.66988,
          -6.30248,
          -2.7773,
          -7.28688,
          -1.14822,
          -6.61667,
          -6.17806,
          -6.41571,
          -6.26,
          -6.29731,
          -6.64112,
          -7.39061,
          -8.02951,
          -8.02701,
          -8.03478,
          -4.89583,
          -4.77861,
          -5.88702,
          -4.74611,
          -6.44179,
          -2.00101,
          -1.13645,
          -0.201667,
          -0.987138,
          -5.97782,
          -3.97719,
          -5.51694,
          -2.2575,
          -2.99916,
          -2.99916,
          -2.9765,
          -3.71644,
          -3.72783,
          -2.15056,
          -2.42417,
          -2.56949,
          -2.31806,
          -3.06481,
          -3.06481,
          -5.79915,
          -4.06848,
          -4.05056,
          -6.81278,
          -7.22242,
          -7.22739,
          -3.56599,
          -6.74492,
          -6.43285,
          -4.01792,
          -6.72104,
          -6.96299,
          -4.24731,
          -0.63,
          -2.44714,
          -6.50575,
          -6.50279,
          -6.6127,
          -6.42812,
          -6.58609,
          -6.96972,
          -6.43383,
          -6.42432,
          -5.05826,
          -2.442,
          -7.79778,
          -1.91707,
          -4.49333,
          -7.02056,
          -7.01972,
          -7.12822,
          -7.1279,
          -6.78694,
          -7.03028,
          -6.95417,
          -7.06944,
          -0.343406,
          -3.83342,
          -4.32058,
          -2.37528,
          -1.72741,
          -2.10889,
          -2.13111,
          -7.5638,
          -6.87971,
          -3.16556,
          -5.80365,
          -6.17409,
          0.133333,
          -4.64738,
          -2.27306,
          -2.985,
          -5.15611,
          -3.21069,
          -3.21086,
          -2.95758,
          -2.51306,
          -2.5278,
          -2.55167,
          -2.54389,
          -2.56778,
          -3.39222,
          -2.61722,
          -2.61778,
          -6.72342,
          -6.72039,
          -3.96276,
          -6.61418,
          -7.23323,
          -2.70669,
          -7.42807,
          -7.42841,
          -7.42854,
          -7.4166,
          -6.89889,
          -6.63559,
          -6.8933,
          -7.59163,
          -7.30639,
          -4.67473,
          -3.99689,
          0.151043,
          0.165381,
          -1.15831,
          -1.0378,
          -3.66087,
          -3.9356,
          -0.434551,
          -4.4622,
          -7.40499,
          -0.859807,
          -0.857331,
          -0.388889,
          -0.296944,
          -0.216944,
          -5.99118,
          -4.70606,
          -3.86526,
          -0.365519,
          -2.34083,
          -2.5779,
          -4.96077,
          -1.41711,
          -6.58449,
          -7.52631,
          -7.52687,
          -7.64978,
          -6.61212,
          -4.39694,
          -4.28079,
          -4.27945,
          -4.27793,
          -6.66538,
          -5.55972,
          -2.60225,
          -7.02445,
          -7.01272,
          -7.01945,
          -2.78627,
          -6.13093,
          -5.92264,
          -4.44639,
          -3.8594,
          -6.82304,
          -3.51656,
          -6.22742,
          -2.70667,
          -5.5771,
          -6.95948,
          -3.13111,
          -7.58279,
          -0.635369,
          -2.16521,
          -3.87285,
          -2.47583,
          -0.620885,
          -4.82209,
          -5.6493,
          -3.92639,
          -4.63005,
          -3.45311,
          -6.00817,
          -6.01015,
          -5.94241,
          -2.26194,
          -6.34991,
          -6.3294,
          -2.40028,
          -6.83078,
          -6.46105,
          -6.44944,
          -6.56151,
          -6.54217,
          -6.77818,
          -6.59983,
          -6.52447,
          -5.89008,
          -5.61182,
          -6.39975,
          -6.40029,
          -6.33789,
          -6.33768,
          -6.59351,
          -7.61528,
          -7.40859,
          -7.36778,
          -6.49397,
          -2.87978,
          -3.35639,
          -6.12998,
          -6.1292,
          -3.76899,
          -7.49584,
          -6.77057,
          -6.77049,
          -5.83515,
          -6.86267,
          -7.49347,
          -2.38111,
          -7.68144,
          -5.90444,
          -5.89632,
          -5.90242,
          -7.19441,
          -7.08463,
          -7.0798,
          -6.20547,
          -3.18253,
          -7.55497,
          -6.89821,
          -6.19058,
          -2.70412,
          1.38972,
          -0.530542,
          -3.82326,
          -6.6412,
          -7.38438,
          -7.38373,
          -2.73139,
          -2.84725,
          -2.8648,
          -6.95156,
          -6.63949,
          -3.42824,
          -6.81778,
          -3.16275,
          -3.26611,
          -5.92373,
          -5.95889,
          -3.90194,
          -5.51614,
          -4.07694,
          -6.15167,
          -5.78796,
          -4.31028,
          -6.8325,
          -5.628,
          -7.37459,
          -6.34794,
          -4.26361,
          0.372842,
          -4.23056,
          -4.5907,
          -3.99018,
          -3.97506,
          -3.9793,
          -2.485,
          1.11167,
          -4.10593,
          -3.10683,
          1.4881,
          -4.4325,
          -4.42923,
          -0.741944,
          -1.40804,
          -2.65417,
          -3.37944,
          -2.16111,
          -2.37056,
          -2.92887,
          -1.34027,
          -4.54016,
          -4.47742,
          -2.04119,
          -2.37333,
          -3.98639,
          -4.75872,
          -4.44639,
          -4.37152,
          -2.34107,
          -3.81209,
          -2.45,
          -2.37583,
          -2.61443,
          -2.39,
          -2.39,
          -3.80244,
          -0.229885,
          -3.54136,
          -7.30676,
          0.683404,
          -6.56494,
          -6.57664,
          -6.57077,
          -6.61375,
          -7.49241,
          -6.41617,
          -2.96073,
          -6.1622,
          -7.21389,
          -0.85521,
          -6.20583,
          -6.19405,
          -6.10302,
          -0.368333,
          -4.97306,
          -7.62194,
          -7.55917,
          0.195833,
          -7.10887,
          -7.23424,
          -3.35268,
          -4.4037,
          -6.94278,
          -3.6679,
          -3.24552,
          -1.99278,
          -7.43435,
          -6.83806,
          -3.13549,
          -3.15099,
          -2.36216,
          1.12417,
          1.12669,
          -1.44616,
          -1.63271,
          -1.63283,
          -4.64639,
          -3.52528,
          -2.66389,
          -0.919609,
          -0.113889,
          -3.34463,
          -1.43129,
          -0.259486,
          -4.09417,
          -2.91389,
          -1.04473,
          -7.21374,
          -7.60114,
          -2.55657,
          0.083435,
          -3.46194,
          -2.41895,
          -2.2816,
          -0.707298,
          -3.49139,
          -3.49139,
          -4.15083,
          -3.67194,
          -2.34493,
          -7.23876,
          -3.58,
          -7.12593,
          -4.87527,
          -6.51469,
          -3.23778,
          -1.15243,
          -3.01798,
          -3.49361,
          -1.11465,
          -3.445,
          -7.63012,
          -7.53884,
          -2.9766,
          -3.54369,
          -2.41314,
          -7.14359,
          -7.16508,
          -2.74623,
          -4.41583,
          -6.78782,
          -3.68846,
          -3.68897,
          -0.853094,
          0.086071,
          -5.13487,
          -3.44028,
          1.29772,
          -7.51468,
          -0.2425,
          -5.47056,
          -0.101111,
          -7.58583,
          -7.57851,
          -7.57324,
          -0.638433,
          -2.76583,
          -1.26222,
          -4.5072,
          -4.10713,
          -0.741667,
          -0.744699,
          -4.43522,
          -4.58417,
          -3.10209,
          -7.57186,
          -4.02252,
          -0.78,
          -2.42055,
          -3.94833,
          -6.5375,
          -0.091944,
          -2.98861,
          -1.96037,
          -4.27311,
          -0.175685,
          -3.76839,
          -3.76637,
          -3.90487,
          -7.50244,
          -7.40111,
          -3.27417,
          -4.53083,
          -6.44087,
          -6.44311,
          -1.61625,
          -5.50353,
          -6.80768,
          -6.13656,
          -6.45892,
          -6.14153,
          -6.14416,
          -6.44763,
          -2.44594,
          -6.65446,
          -4.90812,
          -2.60288,
          -2.61202,
          -2.59409,
          0.1625,
          -4.34719,
          0.103839,
          -3.61417,
          -3.22199,
          -6.8898,
          -3.63592,
          -5.75803,
          -5.76074,
          -4.53858,
          -6.39953,
          -4.84543,
          -5.13156,
          -0.111389,
          -0.099444,
          -1.92889,
          -4.62486,
          -4.6177,
          -1.07712,
          -6.71715,
          -5.00222,
          -4.08556,
          -6.70953,
          -6.74518,
          -6.33686,
          -7.45287,
          -6.21407,
          -3.23629,
          -6.41167,
          -6.41389,
          -4.77306,
          -6.83583,
          -7.03278,
          -7.39444,
          -7.39311,
          -7.38965,
          -3.73676,
          -5.11789,
          -3.4438,
          -6.65878,
          -6.65714,
          -6.25827,
          -6.66804,
          -4.06063,
          -7.37721,
          -2.64278,
          -6.89147,
          -6.21862,
          -6.04673,
          -2.52458,
          -4.59611,
          -4.59528,
          0.061088,
          -0.890556,
          -0.903557,
          -4.96111,
          -5.19889,
          -4.81229,
          -3.93639,
          -3.95667,
          -2.47833,
          -6.71629,
          -6.65676,
          -7.02611,
          -6.50089,
          -6.48513,
          -7.23627,
          -6.68611,
          -7.24947,
          -6.96,
          -1.94778,
          -1.06653,
          -3.4332,
          -0.693056,
          -4.42984,
          -1.16885,
          -6.06694,
          -6.07476,
          -6.06813,
          -2.61639,
          -1.42944,
          -3.07528,
          -4.5881,
          1.88333,
          -1.97502,
          -3.56908,
          -3.66694,
          -0.686648,
          -0.684105,
          -0.985606,
          -2.15111,
          -5.64644,
          -6.33265,
          -3.99505,
          -1.74653,
          -3.90194,
          -3.19425,
          -6.6955,
          -6.69594,
          -2.26349,
          -2.25751,
          -6.03441,
          -6.03194,
          -6.04496,
          -6.04192,
          -6.04388,
          -7.44601,
          -2.82167,
          -0.942778,
          -1.74135,
          -2.89888,
          -2.73444,
          -2.4275,
          -2.71667,
          -1.90056,
          -0.002222,
          -7.48607,
          -3.70028,
          -1.16622,
          -5.50722,
          -1.93104,
          -3.78278,
          -3.25067,
          -0.882964,
          -6.65812,
          -7.55862,
          -6.65225,
          -6.65289,
          -6.24944,
          -6.27857,
          -6.55816,
          1.20266,
          -4.80559,
          -2.42623,
          -1.08599,
          -4.72306,
          -3.47844,
          -3.33265,
          -3.5854,
          -3.5857,
          -3.58217,
          -3.91515,
          -3.90083,
          -1.325,
          -0.360833,
          -2.91889,
          -1.37462,
          -1.92639,
          -3.40611,
          -2.16083,
          -0.326667,
          -3.07528,
          -2.90367,
          -1.23417,
          -6.07123,
          -5.8605,
          -5.86208,
          -3.54111,
          -3.16311,
          -1.41639,
          -4.09927,
          -4.12888,
          -4.12972,
          -3.64361,
          -3.71855,
          -2.35984,
          -4.01175,
          -3.57361,
          -2.99942,
          -3.14733,
          -5.01246,
          -3.56278,
          -2.12386,
          -0.750728,
          -0.760386,
          -4.07438,
          -6.90778,
          -1.45611,
          -3.32917,
          -3.32917,
          -0.814167,
          -4.41455,
          -1.93446,
          -4.00563,
          -3.88417,
          -1.72917,
          -0.871048,
          -0.870264,
          -3.88694,
          -1.41674,
          0.199722,
          -3.34583,
          -2.72779,
          -3.98123,
          -3.07226,
          -2.32298,
          -5.98526,
          -2.44721,
          -2.87297,
          -2.92058,
          -2.87736,
          -3.94008,
          -5.16966,
          -0.568611,
          -3.96173,
          -2.92,
          -4.387,
          -4.03453,
          -1.72961,
          -1.72596,
          -1.44778,
          -1.78083,
          -1.76833,
          -3.49744,
          -4.68547,
          -4.62,
          -4.16598,
          -3.17255,
          -1.41588,
          -1.30157,
          -3.96624,
          -2.8629,
          -4.56474,
          -4.11895,
          -4.83028,
          -2.2675,
          -4.94331,
          -4.78528,
          -2.30365,
          -3.56221,
          -0.261944,
          -4.10684,
          -1.51204,
          -1.26574,
          -0.841367,
          -1.02472,
          -4.70707,
          -3.49231,
          -2.23562,
          -2.23893,
          -2.42944,
          -2.4025,
          -2.39088,
          -2.38494,
          -2.22316,
          -2.11444,
          -2.83361,
          -3.61278,
          -3.77028,
          -2.59818,
          -3.14528,
          -3.13694,
          -2.58083,
          -3.0275,
          -1.72009,
          -2.35375,
          -2.2875,
          -6.52417,
          -2.98556,
          -2.74311,
          -5.04719,
          -6.31424,
          -6.04864,
          0.840455,
          -0.942222,
          -4.18259,
          -6.07722,
          -4.39028,
          -5.13309,
          -7.41637,
          -0.740556,
          -3.92792,
          -1.68462,
          -3.18806,
          -5.75881,
          -1.33028,
          -2.40333,
          -6.99278,
          1.89694,
          -0.611866,
          -6.707,
          -2.44972,
          -2.04083,
          -3.17333,
          -3.06283,
          -2.85107,
          -6.05917,
          -2.90515,
          -1.84056,
          -0.235687,
          0.270278,
          -1.65056,
          -1.23924,
          -1.24025,
          -3.51563,
          -7.30694,
          -6.28674,
          -2.37722,
          -1.36194,
          -6.97972,
          -7.03046,
          -7.02573,
          -6.99846,
          -1.06306,
          -6.53462,
          -4.72889,
          -1.96303,
          -5.91824,
          -6.44143,
          -6.18627,
          -4.50999,
          -2.75804,
          0.703402,
          -2.28472,
          -3.29417,
          -4.65498,
          -1.90644,
          -3.84922,
          -5.95959,
          -0.752558,
          -2.26096,
          -1.87815,
          -7.38515,
          -7.38588,
          -7.35344,
          -2.82833,
          -4.79393,
          -4.87858,
          -4.86999,
          -0.951111,
          -2.19902,
          -2.43389,
          -3.94611,
          1.13611,
          1.07889,
          -2.86307,
          -4.60972,
          -4.12778,
          -4.12778,
          -5.51371,
          -7.13108,
          -6.77597,
          -5.55707,
          -2.96833,
          -4.78583,
          -6.82779,
          -6.16339,
          -3.53338,
          -6.9958,
          -7.38468,
          -7.38564,
          -7.37499,
          -7.55672,
          -7.55636,
          -5.86751,
          -5.86777,
          -6.56048,
          -6.63025,
          -6.53146,
          -7.54194,
          -3.0205,
          -1.91053,
          -6.083,
          -6.394,
          -6.82372,
          -0.929444,
          -2.25139,
          -2.38039,
          -2.99075,
          -4.13481,
          -6.44776,
          -5.49475,
          -0.526111,
          -3.14669,
          -1.98716,
          -1.08972,
          -4.36018,
          -2.64554,
          -3.31028,
          -3.64822,
          -4.48753,
          -4.48939,
          0.385556,
          -1.64623,
          -5.11194,
          -5.89959,
          -5.89444,
          -4.47167,
          -5.16972,
          -1.48918,
          -3.78722,
          -6.65413,
          -4.03278,
          -3.92869,
          -6.0853,
          -6.08178,
          -7.62681,
          -4.35278,
          -2.63405,
          -1.43951,
          -3.64026,
          -3.74658,
          -2.77712,
          -2.28028,
          -2.66243,
          -6.47614,
          -6.47634,
          -6.46307,
          -2.39224,
          -2.82054,
          -2.94111,
          -3.7475,
          -1.66722,
          -4.3425,
          -1.31167,
          -0.981389,
          -4.36611,
          -5.74949,
          -6.05196,
          -5.00056,
          -7.23039,
          -3.24761,
          -3.25009,
          -4.73047,
          -6.32158,
          -6.90057,
          -6.82789,
          -6.83283,
          -6.6515,
          -7.345,
          -7.345,
          -6.19006,
          -3.83641,
          -4.76471,
          -3.9162,
          -7.55591,
          -6.0262,
          -2.77934,
          -1.81778,
          -4.48802,
          -4.29083,
          -7.27718,
          -7.41528,
          -2.46665,
          -1.1625,
          -6.93995,
          0.13017,
          0.483333,
          -1.14667,
          -1.31556,
          -1.31556,
          -7.36173,
          -4.49648,
          -5.71754,
          -7.28607,
          -7.53452,
          -5.92333,
          -7.46586,
          -7.4643,
          -6.78544,
          -7.54651,
          -7.55184,
          -6.4156,
          -6.23968,
          -0.254167,
          -5.82994,
          0.276631,
          -2.61139,
          -2.28819,
          0.820278,
          -1.38005,
          -2.12602,
          -2.44667,
          -4.47222,
          -3.30389,
          -2.45311,
          -3.67444,
          -4.13714,
          -4.02861,
          -3.93516,
          -4.03394,
          -4.56333,
          -4.45185,
          -3.50861,
          -3.59222,
          -6.49861,
          -7.29483,
          -3.43028,
          -3.24254,
          -7.32962,
          -3.932,
          -3.94611,
          -3.93935,
          -2.7858,
          -4.81,
          -4.81389,
          -1.07426,
          -1.05254,
          -0.714955,
          -5.06083,
          -0.938403,
          -2.19446,
          -4.16214,
          1.51833,
          -6.43639,
          0.151098,
          0.086129,
          -2.8486,
          -2.85528,
          -1.78278,
          -6.23319,
          -2.83639,
          -3.04491,
          -3.0462,
          -1.23666,
          -7.60583,
          -6.19421,
          -7.77972,
          -7.28017,
          -5.9458,
          -6.16278,
          -6.97903,
          -6.97009,
          -7.02252,
          -5.83144,
          -6.64247,
          -4.34443,
          -0.523425,
          -0.525619,
          -1.71718,
          -1.55366,
          -3.96825,
          -1.17361,
          -3.96483,
          -3.92786,
          -3.57583,
          -3.56389,
          -2.05939,
          -6.80208,
          -4.12528,
          -3.12977,
          -5.00354,
          -5.0763,
          -5.07697,
          -3.23222,
          -4.63833,
          -3.2619,
          -4.57409,
          -2.26781,
          -1.56083,
          0.436111,
          -0.863889,
          0.234782,
          -7.64265,
          -4.81702,
          -6.75094,
          -4.68688,
          -3.51778,
          -3.32874,
          -3.32874,
          -3.65028,
          -3.64417,
          -3.64905,
          -6.64368,
          -6.64081,
          -6.76608,
          -6.65393,
          -5.83464,
          -2.49814,
          -2.64944,
          -2.15037,
          -2.44771,
          -2.24208,
          -2.36428,
          -2.50889,
          -2.01417,
          -2.38222,
          -2.45307,
          -2.42593,
          -2.30644,
          -2.56778,
          -2.4119,
          -7.62122,
          -0.4125,
          -0.23926,
          -0.60967,
          -1.20734,
          -0.26423,
          -0.347395,
          -5.76295,
          -5.78204,
          0.544441,
          0.121652,
          -4.74537,
          -5.06423,
          -1.2444,
          -3.92639,
          -0.529408,
          -4.78972,
          -2.44065,
          -6.45383,
          -2.77332,
          -3.71667,
          -6.51648,
          -0.176203,
          -6.354,
          -3.15,
          -3.61611,
          -7.66342,
          -2.41866,
          -2.27338,
          -5.02624,
          -2.45207,
          -4.9322,
          -7.47108,
          -0.540278,
          -4.45248,
          -1.59111,
          -4.76484,
          -4.75696,
          -5.28056,
          -1.33083,
          -3.0007,
          -2.26244,
          -2.34605,
          -2.30806,
          -2.8981,
          -3.5847,
          -4.69763,
          -2.46056,
          -2.46056,
          -3.16015,
          -0.577199,
          -1.85352,
          -3.80028,
          -5.70262,
          -5.70843,
          -5.70284,
          -5.70357,
          -0.427705,
          -1.76889,
          -4.40861,
          -4.49167,
          -1.89139,
          0.887589,
          -1.71986,
          -3.06417,
          -2.98869,
          -2.14685,
          -2.14509,
          -3.95006,
          -4.83222,
          -4.83222,
          -4.83222,
          -4.77694,
          -4.77722,
          -2.28949,
          -0.664444,
          -4.83549,
          -2.41333,
          -5.72192,
          -3.53167,
          -3.21639,
          -3.72333,
          -7.6373,
          -7.61369,
          -7.63623,
          -7.61569,
          -7.62102,
          -6.83167,
          -6.28151,
          -6.4365,
          -6.34592,
          -6.35653,
          -6.36122,
          -6.57149,
          -3.24038,
          -2.8996,
          0.143489,
          -7.11361,
          -1.90417,
          -1.90389,
          -1.49917,
          -3.53017,
          -7.53855,
          -7.53989,
          -2.26303,
          -0.94,
          -2.78,
          -2.6425,
          -3.55648,
          -3.64167,
          -3.32306,
          -6.34611,
          -0.317829,
          -2.37,
          -6.65011,
          -5.91499,
          -4.01709,
          -6.49139,
          -6.38882,
          -6.32441,
          -6.29434,
          -6.29227,
          -6.30917,
          -8.05722,
          -2.73444,
          -3.58032,
          -3.57299,
          -3.56878,
          -3.87721,
          -7.06333,
          -3.71639,
          -4.12243,
          -4.12021,
          -6.01645,
          -5.90242,
          -5.87669,
          -6.58474,
          -6.48278,
          -7.07165,
          -6.44359,
          -7.38047,
          -6.54145,
          -6.85167,
          -7.15333,
          -7.15235,
          -6.95391,
          -3.38992,
          -3.74972,
          -3.51472,
          -3.43306,
          -3.95939,
          -3.45605,
          -3.44194,
          -3.92194,
          -3.95583,
          -3.84383,
          -4.27833,
          -2.83625,
          -2.83547,
          -0.411886,
          -5.11224,
          -4.34565,
          -4.21855,
          -2.95889,
          -1.94149,
          -4.46889,
          -4.44358,
          -1.26769,
          1.76056,
          -2.30165,
          -2.30333,
          -3.86949,
          -4.45517,
          -2.45778,
          -3.83386,
          -3.97459,
          -3.635,
          -2.98712,
          -2.35556,
          -3.93337,
          -4.33528,
          -3.78435,
          -2.84411,
          -3.87926,
          0.194304,
          -0.756667,
          -2.05056,
          -3.40714,
          -1.01917,
          -2.87024,
          -4.77713,
          0.863056,
          -4.94702,
          -3.5338,
          -6.62387,
          -5.86096,
          -6.46808,
          -3.1575,
          -3.06459,
          -0.777744,
          -0.763611,
          -3.72,
          -3.00877,
          -5.8162,
          -5.74401,
          -6.61461,
          -6.59422,
          -2.31278,
          -1.21694,
          -1.2975,
          -3.66694,
          0.008555,
          -2.705,
          -2.78815,
          -3.79856,
          -4.69556,
          -6.62253,
          0.059722,
          -6.57892,
          -2.85425,
          -1.47397,
          -1.47292,
          -3.17944,
          -2.6263,
          -3.93369,
          -4.54242,
          -3.95499,
          -2.83668,
          -3.91278,
          -1.18089,
          -2.70082,
          0.733056,
          0.749722,
          -2.00583,
          -5.08757,
          -1.61167,
          -2.9232,
          -4.77806,
          -1.00333,
          -2.89683,
          -1.21389,
          -0.259344,
          -4.47139,
          -2.1425,
          -6.3009,
          -4.43417,
          -4.43417,
          0.064679,
          -3.99222,
          -7.44006,
          -4.82491,
          -3.17028,
          -1.70083,
          -6.07497,
          -6.28735,
          -5.85521,
          -5.92691,
          0.030273,
          -2.15222,
          -1.41694,
          -3.55944,
          -2.24946,
          -1.34993,
          -1.35048,
          -7.09023,
          -7.09157,
          -7.10371,
          -7.10424,
          -6.25652,
          -6.25403,
          -6.25155,
          -7.88639,
          -2.8476,
          -3.21388,
          -3.44701,
          -3.01333,
          -3.01179,
          -0.836956,
          -4.60646,
          -0.101111,
          -6.61077,
          -6.61462,
          -1.93917,
          -1.63444,
          -7.33167,
          -7.33167,
          -5.82796,
          -4.20994,
          -3.49583,
          -3.51649,
          -4.01345,
          -4.41362,
          -4.52828,
          -3.67125,
          -3.6716,
          -0.745556,
          -1.2622,
          -1.83095,
          -1.37028,
          -2.68767,
          -6.19833,
          -1.86462,
          -3.60786,
          -2.37167,
          -3.47611,
          -4.88355,
          -7.52172,
          -7.49291,
          -7.51605,
          -3.56569,
          -2.93868,
          -2.32361,
          -3.27583,
          -3.72417,
          -3.59306,
          -3.17083,
          -3.88294,
          -3.46339,
          -4.00086,
          -5.1389,
          -4.57778,
          -3.33461,
          -3.33505,
          -4.83484,
          -4.04296,
          -2.2975,
          -2.3131,
          -1.28472,
          -4.37503,
          -3.22396,
          -6.51083,
          -5.54505,
          -3.16389,
          -5.13306,
          -3.89315,
          -3.50769,
          -4.12613,
          -2.71004,
          -6.38445,
          -2.46278,
          -3.04317,
          -2.62886,
          -3.27243,
          -4.87167,
          -4.5463,
          -3.75861,
          0.961944,
          -0.690833,
          -0.692839,
          -4.50806,
          -2.8409,
          -2.8388,
          -5.16353,
          -7.47417,
          -3.70882,
          -3.19644,
          -6.84987,
          -6.86936,
          -0.134167,
          -0.426516,
          -0.025556,
          -5.8054,
          -3.03028,
          0.738779,
          0.357778,
          -6.34722,
          -6.3438,
          -6.37477,
          -3.48722,
          -2.48571,
          -2.18361,
          -6.53005,
          -4.6775,
          -4.67858,
          -2.73912,
          -3.25497,
          -4.47287,
          -2.23806,
          -0.166944,
          -0.173889,
          -0.845278,
          -6.22085,
          0.44983,
          -3.91594,
          -6.75103,
          -2.35333,
          -7.1244,
          -0.826389,
          -3.23678,
          -0.222816,
          -0.120671,
          -0.117899,
          0.023889,
          0.023889,
          -3.22429,
          -6.4415,
          -4.34711,
          -6.03317,
          -6.03161,
          -6.13335,
          -6.10654,
          -6.19444,
          -7.22674,
          -0.419936,
          -2.00944,
          -7.50514,
          -2.16334,
          -6.91917,
          -0.469167,
          -5.47943,
          -2.82965,
          -1.32111,
          -0.026986,
          -2.01764,
          -2.39083,
          -6.58265,
          -6.57861,
          -3.0619,
          -6.86609,
          -3.05103,
          -6.2825,
          -6.28203,
          -4.24917,
          -0.6525,
          -3.88222,
          -3.39137,
          -3.7875,
          -4.15377,
          -4.43167,
          -4.55957,
          -4.19624,
          -4.50694,
          -2.50083,
          -6.82028,
          -3.78542,
          -6.81262,
          0.380563,
          -2.74674,
          -3.7108,
          -6.04951,
          -6.05489,
          -6.79997,
          -0.047778,
          -7.00733,
          -6.55565,
          -7.03256,
          -7.25799,
          -0.0701,
          -5.15783,
          -4.60562,
          -4.54944,
          -3.82781,
          -5.13981,
          -7.47202,
          -3.95676,
          -3.37139,
          -3.37972,
          -2.66122,
          -2.65167,
          -3.03028,
          -1.68771,
          -1.33111,
          -0.252446,
          -5.46771,
          -5.46771,
          -2.07743,
          -2.61137,
          -1.08609,
          -7.30324,
          -0.920833,
          -1.62056,
          -1.11972,
          -4.16557,
          -5.89824,
          -0.514444,
          -2.83361,
          -0.635021,
          -0.602817,
          -4.05111,
          -2.80116,
          -4.06528,
          -4.4967,
          -2.18641,
          -4.34841,
          -6.08574,
          -3.07225,
          -2.27389,
          -4.99972,
          -4.9999,
          -7.33833,
          1.78333,
          -6.96595,
          -6.56223,
          -1.25444,
          -1.25444,
          -7.70111,
          -6.70031,
          -1.39806,
          -5.91352,
          -5.91443,
          -7.74727,
          -6.90476,
          -6.89116,
          -7.42916,
          -7.42256,
          -3.3006,
          -7.09528,
          -2.47861,
          -6.48539,
          -6.48733,
          -2.22202,
          -6.08419,
          -6.08612,
          -4.33556,
          0.271226,
          -5.12881,
          -2.53472,
          -2.41056,
          -6.75977,
          -2.58244,
          -0.240091,
          -4.05369,
          -3.73611,
          -1.62667,
          -3.54499,
          -3.64474,
          -3.15131,
          -2.27298,
          -7.59105,
          -1.49243,
          -2.86235,
          -2.87676,
          -1.61167,
          -0.800556,
          -6.10361,
          -3.18806,
          -7.25274,
          -7.25274,
          -3.94659,
          -2.185,
          -2.88444,
          -6.43856,
          -6.44176,
          -0.325522,
          -0.757201,
          -1.88162,
          -2.4225,
          -3.9532,
          -7.19414,
          -7.10528,
          -7.10528,
          -7.16806,
          -7.62,
          -7.57056,
          -6.26962,
          -5.90885,
          -2.42694,
          -3.72384,
          -0.605,
          -2.95574,
          -3.10806,
          -4.4599,
          -1.35843,
          1.65449,
          -3.80465,
          -2.80094,
          -3.79194,
          -2.4233,
          -2.82991,
          -2.56877,
          -2.26299,
          -2.28163,
          -2.22041,
          -1.40203,
          -3.38898,
          -2.11722,
          -4.48142,
          0.084119,
          -3.91333,
          -0.204938,
          -3.72944,
          -2.44878,
          -0.864901,
          -0.491678,
          -0.788611,
          -1.66944,
          -3.00181,
          -5.06437,
          -0.413007,
          -3.24006,
          -2.68944,
          -5.48028,
          -4.8625,
          -1.91972,
          -0.814815,
          -2.24111,
          -2.33444,
          -2.33648,
          -6.00242,
          -6.39255,
          -6.40611,
          0.144692,
          -0.145833,
          -2.2597,
          -4.65657,
          -7.70538,
          -2.59361,
          -6.20686,
          -3.48387,
          -5.89164,
          -1.055,
          -7.47047,
          -7.47064,
          -1.34401,
          -3.85247,
          -1.33833,
          -2.475,
          -6.08694,
          -1.021,
          -7.55737,
          -7.49907,
          -7.48453,
          -7.06361,
          -7.36939,
          -2.58111,
          -2.58111,
          -4.04333,
          -6.47355,
          -4.43528,
          -3.52009,
          -6.34631,
          -4.78861,
          -3.94667,
          0.701164,
          -4.95628,
          -3.89694,
          -3.92037,
          -1.1525,
          -4.29177,
          -4.44107,
          -3.48028,
          -2.52889,
          -3.48278,
          -3.48583,
          -4.42673,
          -3.28556,
          -2.36816,
          -6.57418,
          -3.37503,
          -4.38322,
          -6.73363,
          -6.86219,
          -6.86575,
          -6.86567,
          -5.67917,
          -5.67917,
          -3.75909,
          -3.96045,
          -1.72842,
          -1.72468,
          -7.55389,
          -7.55389,
          -2.46785,
          -2.47053,
          -3.49417,
          -4.44028,
          -4.46573,
          -2.96722,
          -0.044444,
          -1.08333,
          -7.335,
          -3.02222,
          -3.43898,
          -2.91257,
          -6.84097,
          -6.83914,
          -1.16949,
          -2.85896,
          -1.15667,
          -2.28833,
          -1.50594,
          -3.3133,
          0.169222,
          0.248056,
          -7.40236,
          0.314384,
          -0.235496,
          0.049167,
          -3.89942,
          -1.37906,
          -3.5308,
          -1.81262,
          -3.15444,
          -2.73167,
          -3.11544,
          -4.40498,
          -6.83203,
          -7.62639,
          -7.62639,
          -7.62639,
          -0.03591,
          -6.71713,
          -7.71471,
          -6.05121,
          -3.69295,
          -3.32556,
          -3.48806,
          -6.75676,
          -3.49417,
          -6.72604,
          -6.72249,
          -6.5685,
          -6.60028,
          -7.07556,
          -6.71602,
          -2.80667,
          -3.85444,
          -2.982,
          -2.15444,
          -0.780094,
          -6.23175,
          -3.89449,
          -2.87889,
          -3.67645,
          -6.04055,
          -3.74333,
          -3.74222,
          -2.02556,
          -1.7825,
          -2.43959,
          -2.36417,
          -7.59163,
          -4.80556,
          -4.82223,
          -4.58003,
          -4.29023,
          -4.6827,
          -4.83226,
          -4.68609,
          -4.5963,
          -4.43614,
          -4.65942,
          -4.96186,
          -4.93199,
          -4.92434,
          -7.31645,
          -7.31625,
          -4.56111,
          -5.41778,
          -4.449,
          -4.43955,
          -4.73597,
          -4.36192,
          -4.98421,
          -1.44156,
          -4.41775,
          0.85659,
          -4.02372,
          -6.1843,
          -5.14225,
          -4.34528,
          -6.07938,
          -2.39972,
          -2.39194,
          -2.39335,
          -6.85179,
          -6.70795,
          -6.67084,
          -6.73799,
          -6.80359,
          -6.81356,
          -6.3219,
          -6.49004,
          -5.82134,
          -5.52905,
          -3.30472,
          -7.8045,
          -6.84162,
          -7.22248,
          -6.84115,
          -7.58518,
          0.870572,
          -7.04233,
          -7.04204,
          -0.913611,
          -3.90028,
          -0.78292,
          -0.493257,
          -1.31861,
          -3.51767,
          -3.35819,
          -3.52461,
          -3.52143,
          -4.10901,
          -3.385,
          -7.13722,
          -3.4673,
          -3.195,
          -2.19165,
          -1.25543,
          -6.68188,
          -6.67677,
          -2.06419,
          -5.52107,
          -2.2718,
          -2.65946,
          -4.99694,
          -2.05437,
          -3.65456,
          1.53583,
          -6.81758,
          -2.48985,
          -3.27112,
          -2.30987,
          -2.52886,
          -2.87667,
          -4.3121,
          -6.23188,
          -5.05068,
          -7.41797,
          -0.532767,
          0.304225,
          -2.33499,
          -3.28399,
          -0.912593,
          -2.77012,
          -1.37932,
          -3.49171,
          -3.59192,
          -3.73778,
          -3.87886,
          -2.16367,
          -1.79556,
          -1.14167,
          -1.49389,
          -2.40947,
          -2.65528,
          -4.72333,
          -1.06687,
          -2.55128,
          -0.514476,
          -3.53931,
          -1.11389,
          -3.24083,
          -3.22111,
          -4.67432,
          -2.69307,
          -4.98556,
          -4.49948,
          -0.640863,
          -0.914756,
          -4.04593,
          -3.31,
          -3.38,
          -4.28829,
          -3.11037,
          -4.19056,
          -2.24757,
          -2.49028,
          -3.24444,
          -2.01694,
          -2.06568,
          -1.82167,
          -0.306377,
          0.067222,
          0.003889,
          -3.12389,
          -3.41362,
          -2.0259,
          -3.12056,
          -2.64085,
          -3.43333,
          -3.16911,
          -6.68154,
          -2.28667,
          -2.29345,
          -3.66039,
          -3.96618,
          -3.25333,
          -3.81119,
          -2.99784,
          -2.88205,
          -3.80222,
          0.15,
          -2.48139,
          -3.26583,
          -3.0725,
          -1.65843,
          -3.34917,
          1.09167,
          -2.42664,
          -2.98861,
          -3.96521,
          -0.926389,
          -4.05848,
          -3.46667,
          -3.55412,
          -3.2825,
          -0.850445,
          -0.853333,
          -4.54892,
          -2.88129,
          -3.21311,
          -3.26033,
          -1.08583,
          -2.09807,
          -0.234194,
          -4.60676,
          -0.805371,
          0.128056,
          -2.92336,
          -2.58611,
          -3.94528,
          -7.5271,
          -7.52493,
          -4.22861,
          -4.22861,
          -4.22861,
          -3.716,
          -4.02278,
          -2.4488,
          -0.171517,
          -0.712719,
          -1.50694,
          -0.728333,
          -4.37897,
          -2.25316,
          -5.58341,
          -4.17833,
          -3.70017,
          -6.77799,
          -1.86778,
          -3.5146,
          -3.0875,
          -3.0875,
          -3.49694,
          -0.549748,
          0.130556,
          -1.06083,
          -0.162222,
          -0.166009,
          -0.448808,
          -6.09417,
          -0.164501,
          -0.147615,
          -0.629955,
          -3.07736,
          -1.09111,
          -2.49583,
          -2.43528,
          -7.63094,
          -0.183779,
          -0.422222,
          -4.81417,
          -4.70515,
          -2.20111,
          -3.92111,
          -3.91028,
          -6.22063,
          -6.21935,
          -3.96231,
          -0.298611,
          -4.28333,
          -2.76111,
          -0.056667,
          -2.16083,
          -0.903465,
          -3.53124,
          -3.98466,
          -4.39556,
          -1.14694,
          -3.49306,
          -3.92795,
          -1.94167
         ],
         "marker": {
          "color": [
           0.25,
           0.18,
           0.225,
           2.35,
           2.3,
           2.5,
           6.15,
           38,
           10.25,
           42.6,
           0.225,
           4.1,
           50,
           0.9,
           0.5,
           0.25,
           0.225,
           0.25,
           0.25,
           0.25,
           0.25,
           0.1,
           0.15,
           0.25,
           0.15,
           0.25,
           0.225,
           0.225,
           0.25,
           48,
           60.8,
           21.5,
           60.2,
           0.5,
           8.55,
           0.15,
           39.9,
           0.5,
           0.5,
           0.5,
           0.45,
           10.2,
           23,
           0.5,
           26,
           11.7,
           7.05,
           7.05,
           0.25,
           0.225,
           18,
           0.25,
           6.9,
           0.5,
           19.3,
           36.3,
           0.5,
           0.225,
           0.225,
           0.1,
           0.225,
           0.66,
           0.5,
           0.25,
           0.15,
           15.03,
           6.9,
           4.6,
           24,
           6,
           120,
           0.5,
           6.4,
           0.25,
           0.5,
           12.3,
           3.9,
           0.5,
           0.45,
           19.5,
           0.5,
           0.5,
           0.5,
           0.25,
           0.5,
           0.5,
           4.62,
           25,
           6.9,
           0.1,
           0.1,
           0.1,
           0.45,
           0.225,
           0.5,
           0.5,
           0.33,
           0.45,
           0.33,
           0.45,
           0.5,
           36,
           0.8,
           0.25,
           0.225,
           0.225,
           0.225,
           0.15,
           0.1,
           0.1,
           0.5,
           5,
           0.11,
           2,
           0.5,
           0.05,
           0.055,
           0.5,
           0.5,
           0.5,
           0.25,
           4.6,
           26.65,
           0.25,
           0.5,
           0.5,
           16,
           0.225,
           52.5,
           0.5,
           0.1,
           0.5,
           0.1,
           0.1,
           0.225,
           0.225,
           0.25,
           0.25,
           0.225,
           0.225,
           0.225,
           0.8,
           0.25,
           0.225,
           0.25,
           0.225,
           0.25,
           0.25,
           0.15,
           0.25,
           0.25,
           0.25,
           0.25,
           0.25,
           0.25,
           0.25,
           0.25,
           0.15,
           0.25,
           0.1,
           0.225,
           0.25,
           0.15,
           0.225,
           0.25,
           0.25,
           0.225,
           0.225,
           0.225,
           0.15,
           0.15,
           0.25,
           0.225,
           0.225,
           0.225,
           0.225,
           4.6,
           0.225,
           0.25,
           0.25,
           0.225,
           0.25,
           0.25,
           0.225,
           0.25,
           0.225,
           0.225,
           0.225,
           0.15,
           0.165,
           0.25,
           0.25,
           0.25,
           0.25,
           0.25,
           0.25,
           0.25,
           0.15,
           0.15,
           0.25,
           0.25,
           0.25,
           0.225,
           9.1,
           0.8,
           0.2,
           4.8,
           4.8,
           0.15,
           0.1,
           0.25,
           0.25,
           0.1,
           0.1,
           0.5,
           14.3,
           0.2,
           0.1,
           0.1,
           0.25,
           0.8,
           8.2,
           12,
           0.25,
           0.5,
           0.9,
           1.8,
           0.25,
           0.225,
           0.225,
           0.9,
           0.5,
           1.23,
           0.25,
           90,
           0.1,
           0.1,
           0.5,
           0.1,
           18.45,
           0.5,
           0.5,
           0.5,
           0.5,
           9.6,
           588,
           0.225,
           31.05,
           0.25,
           2.3,
           0.5,
           0.5,
           0.5,
           0.5,
           0.25,
           0.225,
           29.7,
           43.7,
           50,
           0.33,
           8.4,
           9,
           4.6,
           29.75,
           85,
           23.8,
           0.25,
           0.25,
           0.15,
           0.15,
           0.15,
           0.25,
           0.5,
           0.225,
           23,
           4.6,
           0.25,
           0.5,
           0.5,
           0.15,
           0.33,
           0.25,
           66.7,
           0.25,
           0.225,
           0.5,
           5,
           9,
           0.13,
           0.225,
           6,
           2.35,
           110.4,
           26,
           0.225,
           20,
           3.9,
           9,
           9.2,
           0.8,
           0.225,
           16.4,
           0.5,
           28.6,
           96.6,
           27.6,
           45.06,
           18.37,
           0.5,
           0.1,
           52.9,
           0.5,
           0.1,
           0.5,
           7.5,
           0.5,
           3.9,
           0.5,
           0.5,
           0.5,
           0.5,
           0.45,
           0.25,
           0.5,
           0.2,
           0.2,
           0.1,
           6.15,
           6.15,
           35,
           0.8,
           0.08,
           10.25,
           0.5,
           0.5,
           0.15,
           1.5,
           0.85,
           2.3,
           0.5,
           0.5,
           0.225,
           0.33,
           0.05,
           0.25,
           1.5,
           0.5,
           0.1,
           0.33,
           0.5,
           0.5,
           0.5,
           12.75,
           6,
           31.2,
           0.5,
           0.25,
           0.15,
           0.15,
           14,
           2.3,
           0.45,
           5,
           0.225,
           0.45,
           0.5,
           0.5,
           20.5,
           72,
           0.5,
           3.9,
           0.8,
           0.5,
           0.25,
           0.25,
           57.4,
           2.3,
           0.1,
           0.1,
           0.5,
           0.225,
           0.25,
           0.1,
           0.5,
           0.5,
           0.3,
           6.9,
           8.2,
           0.1,
           0.15,
           37.5,
           10,
           2.4,
           21.6,
           61.5,
           0.225,
           0.06,
           0.1,
           8,
           0.225,
           0.15,
           0.15,
           7.05,
           1.6,
           0.8,
           13.8,
           0.5,
           9.9,
           0.5,
           0.225,
           0.15,
           0.15,
           0.225,
           0.25,
           0.225,
           90,
           1.5,
           5,
           2.3,
           22.5,
           0.5,
           0.9,
           0.33,
           10.8,
           26,
           4,
           26,
           0.15,
           0.1,
           6,
           1.98,
           1.7,
           0.5,
           0.225,
           10.2,
           20,
           14.4,
           8.25,
           18.8,
           0.9,
           0.5,
           0.225,
           0.45,
           0.1,
           0.225,
           0.5,
           8,
           2,
           2.4,
           0.5,
           0.225,
           2.55,
           39,
           0.225,
           0.225,
           16.9,
           0.25,
           32.2,
           0.5,
           0.5,
           0.45,
           0.225,
           0.225,
           0.15,
           0.25,
           0.225,
           0.225,
           0.25,
           0.5,
           50,
           0.8,
           0.25,
           6.9,
           0.5,
           0.15,
           0.225,
           20,
           0.225,
           13.8,
           0.225,
           0.225,
           0.25,
           0.25,
           33.6,
           15.6,
           0.15,
           0.225,
           0.5,
           0.5,
           0.15,
           46,
           20.7,
           0.225,
           0.25,
           0.25,
           0.1,
           0.225,
           15.3,
           8.2,
           0.8,
           0.5,
           0.5,
           0.18,
           0.5,
           1.5,
           3.2,
           0.225,
           25,
           0.225,
           0.25,
           0.5,
           0.25,
           0.25,
           0.225,
           0.25,
           0.15,
           0.225,
           0.15,
           3,
           0.11,
           16,
           0.5,
           0.13,
           0.5,
           0.5,
           0.1,
           48.3,
           0.225,
           0.25,
           0.25,
           0.25,
           0.25,
           0.225,
           0.25,
           0.25,
           0.1,
           0.25,
           0.5,
           58.5,
           0.5,
           0.5,
           15.3,
           0.1,
           0.25,
           25.65,
           0.5,
           8.2,
           0.075,
           0.5,
           18.4,
           0.25,
           0.25,
           0.225,
           0.25,
           0.5,
           0.225,
           0.5,
           0.25,
           0.225,
           0.1,
           0.25,
           0.15,
           36.9,
           0.225,
           0.8,
           0.33,
           0.225,
           0.225,
           6.9,
           0.5,
           0.5,
           0.25,
           0.25,
           0.075,
           0.15,
           0.1,
           96,
           5.2,
           6.9,
           0.225,
           0.25,
           2.3,
           0.15,
           0.33,
           0.225,
           0.15,
           0.15,
           0.15,
           9.2,
           0.1,
           0.25,
           0.25,
           0.33,
           0.5,
           220.8,
           172.8,
           128.8,
           0.25,
           0.225,
           0.1,
           0.225,
           0.25,
           0.15,
           16,
           0.15,
           0.15,
           0.1,
           0.5,
           0.66,
           29.9,
           5.4,
           16,
           0.1,
           0.15,
           0.15,
           0.5,
           0.5,
           0.25,
           0.25,
           1.5,
           0.1,
           0.5,
           0.225,
           0.225,
           0.25,
           0.225,
           0.5,
           6.15,
           0.5,
           0.225,
           0.85,
           0.25,
           0.25,
           0.1,
           0.25,
           0.25,
           0.5,
           0.25,
           5.4,
           0.225,
           5,
           0.15,
           0.225,
           0.25,
           0.225,
           0.225,
           0.25,
           69,
           54.4,
           0.15,
           10,
           0.25,
           0.5,
           0.5,
           16.4,
           0.33,
           0.225,
           0.5,
           20.5,
           2.3,
           0.1,
           0.1,
           0.1,
           0.1,
           1.35,
           0.3,
           0.8,
           0.5,
           0.5,
           10,
           2.35,
           0.25,
           1.5,
           20,
           23.5,
           0.225,
           0.25,
           0.1,
           0.15,
           0.25,
           0.5,
           0.225,
           0.15,
           0.1,
           0.5,
           0.5,
           0.225,
           0.225,
           0.25,
           0.33,
           0.225,
           13.8,
           0.225,
           0.25,
           0.5,
           0.5,
           32.2,
           0.5,
           2.4,
           15,
           2.5,
           0.25,
           0.225,
           15,
           7.5,
           2.3,
           12.5,
           2,
           0.1,
           0.5,
           0.33,
           0.5,
           13.6,
           23.8,
           0.25,
           0.225,
           48,
           0.25,
           0.225,
           2.3,
           0.1,
           0.16,
           0.9,
           29.75,
           0.5,
           0.8,
           0.5,
           50,
           12.5,
           117.3,
           20.7,
           13.8,
           0.5,
           0.5,
           0.5,
           0.225,
           0.25,
           0.5,
           0.25,
           0.25,
           0.5,
           0.25,
           0.25,
           0.225,
           0.15,
           0.225,
           0.25,
           0.25,
           0.25,
           15,
           0.1,
           0.225,
           3.6,
           2.3,
           4,
           7.2,
           30,
           1.5,
           0.1,
           0.5,
           0.225,
           0.5,
           0.5,
           0.1,
           0.1,
           16,
           0.15,
           9.2,
           18,
           0.1,
           2.3,
           0.5,
           10,
           5,
           0.225,
           0.15,
           0.25,
           0.25,
           0.25,
           69,
           0.05,
           0.05,
           0.05,
           0.25,
           15.75,
           7.05,
           0.25,
           0.25,
           0.25,
           2.05,
           0.15,
           0.225,
           0.5,
           0.1,
           0.25,
           0.5,
           0.225,
           0.5,
           0.25,
           0.15,
           177,
           0.25,
           1.5,
           0.225,
           46.8,
           0.8,
           0.5,
           0.5,
           0.225,
           0.5,
           0.5,
           0.4,
           0.25,
           0.25,
           0.15,
           28.6,
           0.25,
           0.15,
           4.6,
           0.25,
           0.225,
           0.25,
           0.225,
           0.25,
           0.225,
           0.3,
           0.225,
           0.25,
           0.15,
           0.25,
           0.25,
           0.25,
           0.25,
           0.225,
           0.15,
           0.225,
           0.225,
           0.15,
           0.45,
           36.8,
           0.15,
           0.1,
           8.55,
           0.225,
           0.05,
           0.05,
           0.25,
           0.25,
           0.25,
           6.9,
           0.15,
           0.15,
           0.15,
           0.25,
           0.25,
           0.15,
           0.15,
           0.25,
           0.15,
           0.225,
           0.225,
           0.15,
           0.5,
           402,
           0.25,
           0.075,
           0.225,
           0.25,
           0.25,
           12.25,
           17.16,
           29.75,
           0.25,
           0.25,
           0.1,
           42,
           0.2,
           0.8,
           0.225,
           0.225,
           0.2,
           0.225,
           26,
           0.25,
           0.25,
           94.05,
           21,
           0.1,
           0.225,
           0.15,
           6.15,
           0.5,
           0.5,
           5.5,
           0.225,
           0.5,
           0.5,
           0.2,
           10.25,
           37.5,
           16,
           0.275,
           0.5,
           0.5,
           0.5,
           0.5,
           0.5,
           0.5,
           0.5,
           0.45,
           0.4,
           0.5,
           0.1,
           0.1,
           0.1,
           0.5,
           0.1,
           0.9,
           4,
           0.5,
           0.1,
           0.5,
           0.2,
           1.5,
           1.6,
           7.5,
           7.5,
           0.5,
           0.16,
           4,
           0.15,
           1.5,
           0.15,
           0.15,
           0.1,
           0.225,
           0.225,
           41.4,
           14.1,
           0.225,
           15,
           0.5,
           23,
           0.1,
           5,
           0.5,
           0.5,
           0.25,
           0.25,
           0.5,
           0.225,
           0.15,
           0.1,
           0.1,
           6.9,
           0.2,
           0.45,
           96.8,
           0.225,
           46.8,
           36.8,
           13.8,
           0.225,
           6.8,
           5,
           0.5,
           0.1,
           0.18,
           40,
           6.5,
           144,
           0.5,
           1.5,
           0.225,
           0.45,
           0.225,
           92,
           0.5,
           0.8,
           0.25,
           0.15,
           0.5,
           16,
           6.4,
           1.5,
           0.33,
           0.5,
           10,
           17.5,
           0.5,
           32,
           0.5,
           0.225,
           0.675,
           0.25,
           0.2,
           0.15,
           0.225,
           0.5,
           0.5,
           6.15,
           0.5,
           1.5,
           0.25,
           0.25,
           0.5,
           0.5,
           0.5,
           0.225,
           0.1,
           0.25,
           2.7,
           0.15,
           2,
           5.2,
           0.33,
           0.5,
           4.5,
           0.5,
           0.5,
           0.25,
           29.7,
           22.55,
           4,
           0.25,
           0.25,
           0.25,
           0.33,
           50.35,
           0.1,
           0.4,
           66,
           0.5,
           0.5,
           0.5,
           0.5,
           2.3,
           0.225,
           0.1,
           0.5,
           2.3,
           66,
           0.5,
           0.25,
           1.8,
           0.5,
           9.2,
           0.33,
           0.5,
           0.5,
           0.5,
           0.225,
           0.25,
           34,
           0.33,
           0.15,
           0.15,
           0.5,
           0.1,
           0.25,
           0.25,
           0.225,
           0.25,
           0.25,
           15,
           0.225,
           0.25,
           0.5,
           0.5,
           0.5,
           0.5,
           16.4,
           0.5,
           12,
           0.45,
           0.5,
           0.25,
           1.5,
           0.675,
           0.33,
           0.5,
           0.15,
           0.1,
           0.25,
           16,
           12.3,
           0.5,
           2.5,
           2.5,
           0.8,
           0.1,
           22,
           50,
           0.225,
           0.1,
           0.225,
           0.225,
           0.225,
           0.5,
           2.35,
           7.05,
           25.3,
           18.4,
           27.6,
           0.225,
           0.225,
           0.225,
           0.5,
           0.225,
           22,
           0.25,
           0.25,
           0.15,
           0.15,
           0.2,
           0.225,
           26,
           0.225,
           0.15,
           0.25,
           0.1,
           0.1,
           0.1,
           0.9,
           32.8,
           34.85,
           1,
           12,
           0.5,
           71.75,
           38,
           12.5,
           0.25,
           0.225,
           15,
           0.15,
           0.15,
           0.225,
           0.25,
           0.225,
           0.25,
           1,
           0.5,
           2.5,
           12.3,
           0.5,
           0.225,
           0.25,
           0.225,
           0.15,
           0.5,
           8.2,
           3.96,
           0.225,
           504,
           0.1,
           0.5,
           27,
           0.5,
           0.5,
           2,
           36,
           0.25,
           0.25,
           0.1,
           1,
           4,
           0.9,
           0.225,
           0.225,
           2.3,
           2.3,
           0.225,
           0.25,
           0.225,
           0.225,
           0.25,
           0.25,
           0.5,
           0.5,
           0.5,
           0.5,
           0.1,
           0.45,
           0.5,
           9.2,
           1.5,
           0.225,
           0.5,
           3,
           0.15,
           0.1,
           156.4,
           0.5,
           0.1,
           0.1,
           0.225,
           0.1,
           0.1,
           25,
           0.225,
           0.15,
           12,
           0.5,
           0.225,
           0.8,
           119.6,
           0.5,
           0.225,
           0.6,
           1.7,
           0.85,
           15.6,
           26,
           0.5,
           24.6,
           13.2,
           0.5,
           0.5,
           30,
           6.15,
           0.1,
           4.5,
           0.5,
           8.2,
           0.25,
           0.25,
           0.225,
           51.7,
           0.225,
           5.08,
           1.98,
           11.22,
           29.75,
           0.225,
           0.2,
           0.1,
           0.5,
           136,
           0.225,
           4.6,
           0.5,
           0.33,
           0.1,
           0.5,
           0.5,
           0.5,
           0.225,
           10,
           2.4,
           3.4,
           6,
           0.1,
           0.25,
           0.1,
           1.6,
           6.15,
           0.02,
           0.05,
           0.5,
           0.5,
           0.5,
           9.2,
           0.225,
           0.225,
           0.5,
           0.225,
           0.25,
           0.8,
           1.5,
           0.5,
           7.5,
           0.5,
           0.1,
           0.18,
           0.5,
           0.5,
           0.5,
           0.5,
           0.1,
           0.1,
           4,
           2.4,
           5.2,
           0.5,
           0.5,
           0.1,
           0.5,
           3.9,
           2.6,
           7.83,
           0.5,
           0.1,
           0.15,
           2.55,
           0.5,
           0.5,
           0.15,
           0.25,
           0.5,
           0.225,
           0.5,
           0.1,
           0.25,
           0.5,
           0.5,
           0.275,
           0.5,
           0.5,
           0.85,
           1.7,
           0.8,
           0.85,
           1.7,
           0.5,
           0.5,
           6.9,
           0.5,
           27.6,
           0.1,
           0.8,
           27.6,
           2.3,
           6.9,
           48.3,
           0.1,
           0.33,
           6.9,
           0.25,
           1,
           0.1,
           0.1,
           0.225,
           0.25,
           4.6,
           0.225,
           0.5,
           0.225,
           0.1,
           0.1,
           0.225,
           0.5,
           0.225,
           5.08,
           0.9,
           0.15,
           10.25,
           7.5,
           0.1,
           1386,
           0.5,
           0.9,
           0.45,
           2.4,
           0.25,
           0.5,
           0.9,
           0.25,
           0.1,
           0.25,
           1.3,
           219,
           0.5,
           0.33,
           0.5,
           0.5,
           20,
           0.225,
           24.6,
           30,
           11.5,
           0.15,
           0.225,
           0.225,
           0.5,
           0.225,
           24,
           1,
           0.25,
           0.225,
           0.225,
           0.5,
           0.5,
           15,
           0.33,
           0.5,
           0.1,
           0.4,
           0.5,
           0.225,
           68,
           1,
           0.1,
           0.25,
           0.25,
           0.225,
           4.5,
           28,
           0.1,
           0.2,
           12.3,
           1.5,
           0.1,
           62,
           90,
           49.5,
           0.225,
           0.5,
           47.5,
           20,
           0.25,
           0.25,
           0.25,
           0.1,
           18.4,
           239,
           0.25,
           0.15,
           0.1,
           0.225,
           0.25,
           0.25,
           0.225,
           0.25,
           0.25,
           0.225,
           0.225,
           0.25,
           0.25,
           0.25,
           0.25,
           0.9,
           13.8,
           0.15,
           0.25,
           0.225,
           1.5,
           0.5,
           5,
           0.9,
           22.5,
           0.25,
           0.25,
           0.5,
           4.8,
           1.8,
           0.5,
           0.225,
           0.1,
           0.5,
           0.5,
           0.05,
           0.1,
           1.5,
           16,
           0.15,
           0.225,
           0.15,
           0.25,
           0.33,
           2,
           0.1,
           0.225,
           88.4,
           1.5,
           0.15,
           0.15,
           0.25,
           7.5,
           6.5,
           8,
           0.5,
           0.1,
           2.3,
           0.225,
           0.45,
           0.225,
           0.25,
           0.225,
           0.5,
           0.225,
           16,
           0.5,
           8,
           0.225,
           0.225,
           0.225,
           0.4,
           0.25,
           0.225,
           1,
           0.25,
           0.15,
           0.1,
           0.1,
           0.25,
           0.225,
           0.25,
           0.15,
           0.225,
           5.94,
           7.26,
           0.225,
           0.5,
           0.5,
           0.225,
           0.25,
           0.15,
           0.5,
           0.5,
           0.1,
           0.5,
           0.25,
           0.15,
           0.5,
           10,
           0.25,
           0.275,
           270,
           9,
           0.25,
           0.5,
           0.9,
           0.1,
           0.25,
           0.225,
           0.25,
           2.3,
           0.25,
           0.25,
           0.15,
           0.225,
           0.225,
           0.225,
           0.1,
           30,
           0.25,
           1,
           0.5,
           1.5,
           59.8,
           0.5,
           0.225,
           1.3,
           0.5,
           24.75,
           0.5,
           0.225,
           0.1,
           9.35,
           0.5,
           0.5,
           0.225,
           20.4,
           37.6,
           24,
           2.7,
           6.9,
           9.6,
           9.2,
           1.8,
           0.5,
           6.15,
           0.5,
           0.1,
           51,
           18,
           0.5,
           0.5,
           0.5,
           1,
           2.6,
           0.225,
           0.225,
           630,
           27.6,
           0.5,
           2,
           3.5,
           1.5,
           0.225,
           0.225,
           38,
           0.1,
           0.1,
           4.5,
           7.8,
           0.15,
           0.225,
           0.225,
           0.15,
           0.25,
           0.25,
           0.225,
           0.225,
           0.25,
           0.25,
           0.5,
           0.05,
           0.05,
           0.1,
           0.275,
           0.5,
           8.2,
           0.5,
           0.33,
           4.62,
           0.5,
           0.5,
           0.225,
           0.5,
           0.5,
           0.5,
           0.225,
           0.1,
           0.5,
           0.1,
           0.5,
           0.1,
           0.5,
           26,
           194.4,
           7.2,
           1.2,
           0.25,
           0.33,
           0.25,
           0.1,
           24,
           0.225,
           0.225,
           26,
           2.5,
           0.1,
           0.225,
           0.225,
           0.15,
           0.225,
           0.1,
           0.2,
           1.5,
           0.45,
           0.5,
           0.9,
           0.5,
           2.1,
           0.5,
           0.225,
           0.5,
           0.5,
           0.45,
           0.5,
           0.5,
           0.225,
           0.18,
           0.5,
           0.5,
           0.33,
           0.5,
           0.33,
           0.15,
           0.25,
           0.5,
           2.3,
           56,
           0.085,
           8,
           1.5,
           1.5,
           0.33,
           0.5,
           0.25,
           2.25,
           3.9,
           0.15,
           9,
           0.33,
           6.9,
           0.5,
           0.25,
           0.5,
           10.2,
           0.33,
           0.5,
           0.5,
           0.225,
           4.6,
           0.5,
           4,
           0.1,
           0.1,
           0.1,
           0.1,
           0.75,
           2.3,
           2.3,
           4.6,
           4,
           0.2,
           0.25,
           57.5,
           18.4,
           6.4,
           0.5,
           0.5,
           51,
           0.15,
           0.15,
           0.15,
           0.15,
           0.1,
           54,
           12,
           0.33,
           0.8,
           20.7,
           0.1,
           0.5,
           0.5,
           0.05,
           0.05,
           0.1,
           40,
           10,
           15,
           18,
           6.4,
           0.5,
           14,
           0.1,
           4.6,
           0.1,
           25,
           36.8,
           11.7,
           15,
           0.25,
           0.225,
           0.25,
           0.25,
           1.5,
           0.25,
           0.225,
           0.225,
           0.25,
           0.25,
           0.25,
           0.5,
           0.5,
           0.1,
           12,
           0.225,
           0.225,
           12.3,
           0.1,
           0.225,
           0.225,
           1,
           0.5,
           950,
           2.3,
           0.225,
           0.5,
           4.6,
           0.15,
           0.5,
           0.5,
           0.25,
           0.225,
           66,
           0.25,
           0.225,
           0.225,
           0.225,
           0.225,
           0.225,
           0.25,
           4.6,
           12.3,
           6.4,
           8.25,
           0.2,
           0.25,
           0.5,
           0.5,
           0.5,
           0.225,
           0.25,
           0.25,
           0.25,
           0.25,
           0.25,
           0.5,
           0.15,
           0.225,
           0.25,
           0.225,
           0.225,
           0.25,
           0.45,
           8,
           22.5,
           14.45,
           10.2,
           9.35,
           12,
           34.5,
           32.8,
           4.7,
           1.9,
           0.67,
           1.6,
           0.5,
           0.45,
           0.33,
           0.5,
           2.5,
           0.225,
           10,
           0.5,
           0.25,
           2.75,
           0.25,
           0.25,
           0.5,
           0.5,
           0.5,
           0.5,
           0.5,
           0.2,
           0.5,
           0.5,
           0.8,
           1.5,
           0.5,
           4.6,
           0.1,
           0.225,
           14.35,
           0.25,
           0.225,
           0.28,
           0.5,
           0.1,
           8.8,
           0.1,
           0.1,
           0.25,
           0.25,
           0.25,
           0.25,
           0.1,
           0.5,
           0.25,
           0.5,
           0.4,
           0.15,
           0.25,
           0.25,
           0.25,
           0.8,
           1.5,
           2.5,
           5,
           4.6,
           0.5,
           0.5,
           0.1,
           0.085,
           0.225,
           0.5,
           0.25,
           0.1,
           4.62,
           1.98,
           1.5,
           0.5,
           0.225,
           0.1,
           0.5,
           0.05,
           0.25,
           0.5,
           0.33,
           4,
           14.4,
           1.6,
           22,
           18.45,
           0.25,
           0.33,
           4.5,
           0.85,
           0.5,
           0.16,
           0.33,
           0.5,
           0.225,
           17,
           36.8,
           0.1,
           15,
           0.25,
           0.1,
           4,
           0.5,
           0.25,
           0.25,
           0.25,
           0.25,
           1,
           0.8,
           0.5,
           5.4,
           0.5,
           0.08,
           0.1,
           0.05,
           0.05,
           0.25,
           0.25,
           0.225,
           0.225,
           0.15,
           15,
           4,
           0.9,
           0.5,
           0.33,
           1.6,
           0.5,
           3.6,
           9.1,
           0.25,
           0.25,
           18,
           0.1,
           5.5,
           5.1,
           0.25,
           0.1,
           25,
           20,
           0.5,
           0.5,
           3.6,
           1.5,
           3.6,
           0.5,
           0.5,
           0.5,
           8.55,
           0.225,
           0.25,
           0.12,
           14,
           4.6,
           64.4,
           0.5,
           0.1,
           0.225,
           0.25,
           19.2,
           0.225,
           0.5,
           6,
           0.5,
           228,
           0.5,
           0.9,
           0.225,
           0.225,
           0.2,
           4.8,
           0.5,
           0.9,
           0.5,
           0.5,
           28.7,
           0.1,
           20.4,
           0.5,
           0.5,
           13.8,
           0.1,
           1.5,
           0.1,
           0.5,
           0.225,
           0.8,
           0.5,
           0.225,
           0.5,
           0.5,
           0.1,
           0.225,
           0.5,
           0.33,
           1.5,
           0.1,
           0.5,
           0.5,
           0.5,
           4.8,
           4.8,
           0.225,
           36,
           0.5,
           0.1,
           0.225,
           0.25,
           0.25,
           0.225,
           0.5,
           0.15,
           10,
           8.2,
           9.2,
           0.225,
           0.25,
           0.225,
           6.9,
           0.5,
           0.25,
           0.25,
           1,
           1,
           1,
           0.5,
           0.33,
           0.5,
           0.5,
           0.9,
           1.5,
           0.225,
           0.8,
           0.5,
           0.25,
           26.65,
           0.225,
           0.5,
           0.055,
           400.2,
           1.8,
           8,
           6,
           4.1,
           0.5,
           0.225,
           0.5,
           0.225,
           0.225,
           0.225,
           0.225,
           21.15,
           0.15,
           0.1,
           54.4,
           0.25,
           10.2,
           0.225,
           0.1,
           0.225,
           0.5,
           12.5,
           24,
           1.6,
           0.33,
           0.25,
           0.25,
           0.45,
           0.225,
           0.9,
           0.225,
           0.225,
           0.5,
           0.5,
           2.4,
           0.85,
           12.3,
           0.1,
           6.6,
           0.5,
           0.1,
           0.5,
           0.1,
           5,
           0.5,
           0.15,
           0.5,
           0.33,
           174,
           0.25,
           0.25,
           0.225,
           0.225,
           0.25,
           0.15,
           0.225,
           0.25,
           17.1,
           0.275,
           0.5,
           24.7,
           1.5,
           1.7,
           0.25,
           1.5,
           50.6,
           41.4,
           0.9,
           0.1,
           3,
           6.5,
           0.2,
           0.8,
           0.25,
           0.25,
           0.33,
           0.275,
           0.5,
           0.25,
           24.6,
           4,
           0.5,
           0.6,
           0.25,
           0.33,
           0.1,
           0.1,
           10,
           86.4,
           0.9,
           32.4,
           0.225,
           0.2,
           0.5,
           0.1,
           0.8,
           65,
           0.5,
           0.8,
           17.5,
           60,
           0.225,
           0.225,
           6.15,
           4.1,
           14.1,
           0.225,
           0.5,
           0.25,
           0.225,
           0.25,
           0.225,
           0.225,
           0.225,
           0.225,
           0.45,
           16.1,
           0.5,
           0.225,
           0.225,
           0.45,
           0.225,
           0.225,
           0.5,
           7.5,
           0.15,
           6.9,
           7.5,
           0.25,
           2,
           0.2,
           0.25,
           0.1,
           1.5,
           4.2,
           0.1,
           1.3,
           0.25,
           0.25,
           0.1,
           0.5,
           0.45,
           8.2,
           20.5,
           0.15,
           1.5,
           0.25,
           0.25,
           0.5,
           3.2,
           0.5,
           0.225,
           0.25,
           0.1,
           0.5,
           0.1,
           0.1,
           0.2,
           0.225,
           30,
           18.8,
           27.6,
           54,
           6.9,
           0.8,
           0.225,
           0.1,
           0.225,
           12.3,
           5,
           30,
           0.4,
           0.5,
           1.5,
           0.5,
           0.1,
           0.225,
           0.5,
           0.1,
           0.5,
           0.5,
           0.5,
           0.45,
           6,
           0.1,
           4,
           0.25,
           0.5,
           0.5,
           0.1,
           1.5,
           0.225,
           11.75,
           0.33,
           0.5,
           6.9,
           0.5,
           0.225,
           0.5,
           0.2,
           10,
           6,
           10,
           6,
           0.5,
           7.65,
           2.4,
           1.5,
           0.225,
           0.225,
           0.25,
           18,
           2,
           0.5,
           0.2,
           0.225,
           0.5,
           0.15,
           0.1,
           0.15,
           2.5,
           0.225,
           0.225,
           0.2,
           0.225,
           1.5,
           0.1,
           0.15,
           10.25,
           0.25,
           0.25,
           0.25,
           0.25,
           0.25,
           4.6,
           2.3,
           67.65,
           0.25,
           228,
           0.25,
           0.33,
           0.33,
           1,
           1.8,
           0.225,
           0.9,
           0.25,
           22,
           0.25,
           0.2,
           0.225,
           0.45,
           0.1,
           9,
           0.5,
           0.5,
           0.5,
           0.25,
           12,
           0.25,
           0.05,
           0.25,
           0.25,
           0.225,
           12.75,
           5.95,
           0.25,
           0.5,
           0.5,
           0.5,
           19.5,
           9,
           0.225,
           0.225,
           0.5,
           0.225,
           0.25,
           0.5,
           7.5,
           62.1,
           12.5,
           0.225,
           0.5,
           0.1,
           0.25,
           0.25,
           0.8,
           1.6,
           0.8,
           0.5,
           0.225,
           0.5,
           14,
           2.6,
           0.25,
           0.1,
           1.5,
           0.5,
           0.5,
           0.9,
           0.25,
           0.275,
           2.75,
           0.9,
           0.1,
           0.5,
           0.225,
           10,
           10,
           10,
           0.5,
           0.225,
           34.5,
           0.25,
           0.5,
           0.5,
           21.25,
           0.9,
           24.6,
           0.225,
           0.225,
           0.225,
           0.225,
           0.225,
           0.25,
           27.6,
           11.4,
           0.5,
           12.5,
           0.25,
           0.9,
           39,
           0.225,
           30.75,
           0.225,
           5.7,
           9,
           0.8,
           2.31,
           0.5,
           0.45,
           0.225,
           18.8,
           0.5,
           0.5,
           0.1,
           0.1,
           0.16,
           0.1,
           0.1,
           0.5,
           0.1,
           0.33,
           0.5,
           0.5,
           0.25,
           0.225,
           0.225,
           0.1,
           0.4,
           0.5,
           0.1,
           0.5,
           0.05,
           5.2,
           0.1,
           857,
           0.225,
           0.25,
           0.085,
           5.6,
           0.1,
           17.5,
           7.5,
           2.5,
           0.15,
           0.25,
           0.225,
           0.25,
           0.15,
           0.225,
           0.1,
           0.225,
           0.25,
           0.225,
           14.35,
           0.25,
           0.225,
           0.15,
           0.225,
           0.15,
           17.5,
           0.25,
           0.15,
           44,
           37.8,
           28.7,
           0.5,
           0.5,
           0.5,
           0.1,
           0.05,
           0.05,
           0.1,
           0.25,
           0.25,
           0.225,
           0.8,
           0.8,
           0.5,
           0.8,
           0.8,
           2.4,
           0.225,
           0.225,
           0.225,
           0.25,
           0.5,
           0.5,
           10.25,
           0.225,
           0.45,
           0.1,
           0.5,
           0.225,
           1,
           0.5,
           0.225,
           2.3,
           0.25,
           0.15,
           26,
           0.5,
           0.5,
           0.5,
           2.3,
           14,
           183.6,
           183.6,
           329,
           330,
           0.25,
           20.5,
           2.5,
           3.4,
           0.1,
           0.33,
           18,
           0.5,
           0.33,
           0.225,
           0.5,
           10.25,
           10.25,
           18.45,
           0.5,
           0.1,
           8.2,
           0.1,
           0.1,
           0.5,
           0.5,
           9.2,
           9.2,
           0.5,
           0.1,
           30,
           0.1,
           0.5,
           0.16,
           0.8,
           0.5,
           24,
           0.1,
           0.5,
           0.1,
           2,
           0.5,
           2.4,
           0.25,
           0.05,
           388.8,
           0.5,
           0.25,
           0.25,
           0.25,
           0.5,
           0.33,
           0.25,
           0.5,
           0.5,
           0.45,
           0.9,
           210,
           0.5,
           10,
           0.225,
           6.5,
           6.15,
           4,
           0.5,
           0.9,
           0.5,
           0.5,
           18.2,
           0.5,
           0.1,
           10.4,
           0.33,
           0.33,
           0.5,
           0.06,
           0.12,
           0.1,
           0.5,
           0.5,
           0.5,
           0.5,
           0.5,
           14,
           0.5,
           0.5,
           0.5,
           0.25,
           0.05,
           108,
           109.02,
           322,
           0.5,
           28.5,
           0.8,
           1.8,
           0.5,
           0.225,
           0.5,
           0.5,
           0.5,
           0.25,
           43.2,
           0.5,
           0.225,
           15,
           0.1,
           1.98,
           6.8,
           5.95,
           0.225,
           0.8,
           12.3,
           18.45,
           8.2,
           0.225,
           10,
           0.5,
           0.5,
           0.33,
           1.5,
           0.33,
           0.5,
           0.1,
           0.15,
           0.5,
           0.16,
           3.8,
           0.4,
           0.5,
           0.5,
           0.9,
           0.25,
           0.25,
           0.5,
           10,
           0.5,
           0.5,
           23.4,
           4.5,
           0.1,
           1.5,
           0.5,
           0.5,
           16.4,
           0.4,
           0.225,
           0.1
          ],
          "coloraxis": "coloraxis"
         },
         "mode": "markers",
         "name": "",
         "showlegend": false,
         "subplot": "mapbox",
         "type": "scattermapbox"
        }
       ],
       "layout": {
        "coloraxis": {
         "colorbar": {
          "title": {
           "text": "Project Capacity (MW)"
          }
         },
         "colorscale": [
          [
           0,
           "#000000"
          ],
          [
           0.0625,
           "#001f4d"
          ],
          [
           0.125,
           "#003786"
          ],
          [
           0.1875,
           "#0e58a8"
          ],
          [
           0.25,
           "#217eb8"
          ],
          [
           0.3125,
           "#30a4ca"
          ],
          [
           0.375,
           "#54c8df"
          ],
          [
           0.4375,
           "#9be4ef"
          ],
          [
           0.5,
           "#e1e9d1"
          ],
          [
           0.5625,
           "#f3d573"
          ],
          [
           0.625,
           "#e7b000"
          ],
          [
           0.6875,
           "#da8200"
          ],
          [
           0.75,
           "#c65400"
          ],
          [
           0.8125,
           "#ac2301"
          ],
          [
           0.875,
           "#820000"
          ],
          [
           0.9375,
           "#4c0000"
          ],
          [
           1,
           "#000000"
          ]
         ]
        },
        "legend": {
         "tracegroupgap": 0
        },
        "mapbox": {
         "accesstoken": "pk.eyJ1Ijoiam1vcm8wNDA4IiwiYSI6ImNsZmd0NGdpYjNjbTU0NHBjYnN2cTRpdmcifQ.x7MF_6gb-8hvBBtuMVumSw",
         "center": {
          "lat": 54.558135629996194,
          "lon": -4.025939473163303
         },
         "domain": {
          "x": [
           0,
           1
          ],
          "y": [
           0,
           1
          ]
         },
         "zoom": 3
        },
        "margin": {
         "t": 60
        },
        "template": {
         "data": {
          "bar": [
           {
            "error_x": {
             "color": "#2a3f5f"
            },
            "error_y": {
             "color": "#2a3f5f"
            },
            "marker": {
             "line": {
              "color": "#E5ECF6",
              "width": 0.5
             },
             "pattern": {
              "fillmode": "overlay",
              "size": 10,
              "solidity": 0.2
             }
            },
            "type": "bar"
           }
          ],
          "barpolar": [
           {
            "marker": {
             "line": {
              "color": "#E5ECF6",
              "width": 0.5
             },
             "pattern": {
              "fillmode": "overlay",
              "size": 10,
              "solidity": 0.2
             }
            },
            "type": "barpolar"
           }
          ],
          "carpet": [
           {
            "aaxis": {
             "endlinecolor": "#2a3f5f",
             "gridcolor": "white",
             "linecolor": "white",
             "minorgridcolor": "white",
             "startlinecolor": "#2a3f5f"
            },
            "baxis": {
             "endlinecolor": "#2a3f5f",
             "gridcolor": "white",
             "linecolor": "white",
             "minorgridcolor": "white",
             "startlinecolor": "#2a3f5f"
            },
            "type": "carpet"
           }
          ],
          "choropleth": [
           {
            "colorbar": {
             "outlinewidth": 0,
             "ticks": ""
            },
            "type": "choropleth"
           }
          ],
          "contour": [
           {
            "colorbar": {
             "outlinewidth": 0,
             "ticks": ""
            },
            "colorscale": [
             [
              0,
              "#0d0887"
             ],
             [
              0.1111111111111111,
              "#46039f"
             ],
             [
              0.2222222222222222,
              "#7201a8"
             ],
             [
              0.3333333333333333,
              "#9c179e"
             ],
             [
              0.4444444444444444,
              "#bd3786"
             ],
             [
              0.5555555555555556,
              "#d8576b"
             ],
             [
              0.6666666666666666,
              "#ed7953"
             ],
             [
              0.7777777777777778,
              "#fb9f3a"
             ],
             [
              0.8888888888888888,
              "#fdca26"
             ],
             [
              1,
              "#f0f921"
             ]
            ],
            "type": "contour"
           }
          ],
          "contourcarpet": [
           {
            "colorbar": {
             "outlinewidth": 0,
             "ticks": ""
            },
            "type": "contourcarpet"
           }
          ],
          "heatmap": [
           {
            "colorbar": {
             "outlinewidth": 0,
             "ticks": ""
            },
            "colorscale": [
             [
              0,
              "#0d0887"
             ],
             [
              0.1111111111111111,
              "#46039f"
             ],
             [
              0.2222222222222222,
              "#7201a8"
             ],
             [
              0.3333333333333333,
              "#9c179e"
             ],
             [
              0.4444444444444444,
              "#bd3786"
             ],
             [
              0.5555555555555556,
              "#d8576b"
             ],
             [
              0.6666666666666666,
              "#ed7953"
             ],
             [
              0.7777777777777778,
              "#fb9f3a"
             ],
             [
              0.8888888888888888,
              "#fdca26"
             ],
             [
              1,
              "#f0f921"
             ]
            ],
            "type": "heatmap"
           }
          ],
          "heatmapgl": [
           {
            "colorbar": {
             "outlinewidth": 0,
             "ticks": ""
            },
            "colorscale": [
             [
              0,
              "#0d0887"
             ],
             [
              0.1111111111111111,
              "#46039f"
             ],
             [
              0.2222222222222222,
              "#7201a8"
             ],
             [
              0.3333333333333333,
              "#9c179e"
             ],
             [
              0.4444444444444444,
              "#bd3786"
             ],
             [
              0.5555555555555556,
              "#d8576b"
             ],
             [
              0.6666666666666666,
              "#ed7953"
             ],
             [
              0.7777777777777778,
              "#fb9f3a"
             ],
             [
              0.8888888888888888,
              "#fdca26"
             ],
             [
              1,
              "#f0f921"
             ]
            ],
            "type": "heatmapgl"
           }
          ],
          "histogram": [
           {
            "marker": {
             "pattern": {
              "fillmode": "overlay",
              "size": 10,
              "solidity": 0.2
             }
            },
            "type": "histogram"
           }
          ],
          "histogram2d": [
           {
            "colorbar": {
             "outlinewidth": 0,
             "ticks": ""
            },
            "colorscale": [
             [
              0,
              "#0d0887"
             ],
             [
              0.1111111111111111,
              "#46039f"
             ],
             [
              0.2222222222222222,
              "#7201a8"
             ],
             [
              0.3333333333333333,
              "#9c179e"
             ],
             [
              0.4444444444444444,
              "#bd3786"
             ],
             [
              0.5555555555555556,
              "#d8576b"
             ],
             [
              0.6666666666666666,
              "#ed7953"
             ],
             [
              0.7777777777777778,
              "#fb9f3a"
             ],
             [
              0.8888888888888888,
              "#fdca26"
             ],
             [
              1,
              "#f0f921"
             ]
            ],
            "type": "histogram2d"
           }
          ],
          "histogram2dcontour": [
           {
            "colorbar": {
             "outlinewidth": 0,
             "ticks": ""
            },
            "colorscale": [
             [
              0,
              "#0d0887"
             ],
             [
              0.1111111111111111,
              "#46039f"
             ],
             [
              0.2222222222222222,
              "#7201a8"
             ],
             [
              0.3333333333333333,
              "#9c179e"
             ],
             [
              0.4444444444444444,
              "#bd3786"
             ],
             [
              0.5555555555555556,
              "#d8576b"
             ],
             [
              0.6666666666666666,
              "#ed7953"
             ],
             [
              0.7777777777777778,
              "#fb9f3a"
             ],
             [
              0.8888888888888888,
              "#fdca26"
             ],
             [
              1,
              "#f0f921"
             ]
            ],
            "type": "histogram2dcontour"
           }
          ],
          "mesh3d": [
           {
            "colorbar": {
             "outlinewidth": 0,
             "ticks": ""
            },
            "type": "mesh3d"
           }
          ],
          "parcoords": [
           {
            "line": {
             "colorbar": {
              "outlinewidth": 0,
              "ticks": ""
             }
            },
            "type": "parcoords"
           }
          ],
          "pie": [
           {
            "automargin": true,
            "type": "pie"
           }
          ],
          "scatter": [
           {
            "fillpattern": {
             "fillmode": "overlay",
             "size": 10,
             "solidity": 0.2
            },
            "type": "scatter"
           }
          ],
          "scatter3d": [
           {
            "line": {
             "colorbar": {
              "outlinewidth": 0,
              "ticks": ""
             }
            },
            "marker": {
             "colorbar": {
              "outlinewidth": 0,
              "ticks": ""
             }
            },
            "type": "scatter3d"
           }
          ],
          "scattercarpet": [
           {
            "marker": {
             "colorbar": {
              "outlinewidth": 0,
              "ticks": ""
             }
            },
            "type": "scattercarpet"
           }
          ],
          "scattergeo": [
           {
            "marker": {
             "colorbar": {
              "outlinewidth": 0,
              "ticks": ""
             }
            },
            "type": "scattergeo"
           }
          ],
          "scattergl": [
           {
            "marker": {
             "colorbar": {
              "outlinewidth": 0,
              "ticks": ""
             }
            },
            "type": "scattergl"
           }
          ],
          "scattermapbox": [
           {
            "marker": {
             "colorbar": {
              "outlinewidth": 0,
              "ticks": ""
             }
            },
            "type": "scattermapbox"
           }
          ],
          "scatterpolar": [
           {
            "marker": {
             "colorbar": {
              "outlinewidth": 0,
              "ticks": ""
             }
            },
            "type": "scatterpolar"
           }
          ],
          "scatterpolargl": [
           {
            "marker": {
             "colorbar": {
              "outlinewidth": 0,
              "ticks": ""
             }
            },
            "type": "scatterpolargl"
           }
          ],
          "scatterternary": [
           {
            "marker": {
             "colorbar": {
              "outlinewidth": 0,
              "ticks": ""
             }
            },
            "type": "scatterternary"
           }
          ],
          "surface": [
           {
            "colorbar": {
             "outlinewidth": 0,
             "ticks": ""
            },
            "colorscale": [
             [
              0,
              "#0d0887"
             ],
             [
              0.1111111111111111,
              "#46039f"
             ],
             [
              0.2222222222222222,
              "#7201a8"
             ],
             [
              0.3333333333333333,
              "#9c179e"
             ],
             [
              0.4444444444444444,
              "#bd3786"
             ],
             [
              0.5555555555555556,
              "#d8576b"
             ],
             [
              0.6666666666666666,
              "#ed7953"
             ],
             [
              0.7777777777777778,
              "#fb9f3a"
             ],
             [
              0.8888888888888888,
              "#fdca26"
             ],
             [
              1,
              "#f0f921"
             ]
            ],
            "type": "surface"
           }
          ],
          "table": [
           {
            "cells": {
             "fill": {
              "color": "#EBF0F8"
             },
             "line": {
              "color": "white"
             }
            },
            "header": {
             "fill": {
              "color": "#C8D4E3"
             },
             "line": {
              "color": "white"
             }
            },
            "type": "table"
           }
          ]
         },
         "layout": {
          "annotationdefaults": {
           "arrowcolor": "#2a3f5f",
           "arrowhead": 0,
           "arrowwidth": 1
          },
          "autotypenumbers": "strict",
          "coloraxis": {
           "colorbar": {
            "outlinewidth": 0,
            "ticks": ""
           }
          },
          "colorscale": {
           "diverging": [
            [
             0,
             "#8e0152"
            ],
            [
             0.1,
             "#c51b7d"
            ],
            [
             0.2,
             "#de77ae"
            ],
            [
             0.3,
             "#f1b6da"
            ],
            [
             0.4,
             "#fde0ef"
            ],
            [
             0.5,
             "#f7f7f7"
            ],
            [
             0.6,
             "#e6f5d0"
            ],
            [
             0.7,
             "#b8e186"
            ],
            [
             0.8,
             "#7fbc41"
            ],
            [
             0.9,
             "#4d9221"
            ],
            [
             1,
             "#276419"
            ]
           ],
           "sequential": [
            [
             0,
             "#0d0887"
            ],
            [
             0.1111111111111111,
             "#46039f"
            ],
            [
             0.2222222222222222,
             "#7201a8"
            ],
            [
             0.3333333333333333,
             "#9c179e"
            ],
            [
             0.4444444444444444,
             "#bd3786"
            ],
            [
             0.5555555555555556,
             "#d8576b"
            ],
            [
             0.6666666666666666,
             "#ed7953"
            ],
            [
             0.7777777777777778,
             "#fb9f3a"
            ],
            [
             0.8888888888888888,
             "#fdca26"
            ],
            [
             1,
             "#f0f921"
            ]
           ],
           "sequentialminus": [
            [
             0,
             "#0d0887"
            ],
            [
             0.1111111111111111,
             "#46039f"
            ],
            [
             0.2222222222222222,
             "#7201a8"
            ],
            [
             0.3333333333333333,
             "#9c179e"
            ],
            [
             0.4444444444444444,
             "#bd3786"
            ],
            [
             0.5555555555555556,
             "#d8576b"
            ],
            [
             0.6666666666666666,
             "#ed7953"
            ],
            [
             0.7777777777777778,
             "#fb9f3a"
            ],
            [
             0.8888888888888888,
             "#fdca26"
            ],
            [
             1,
             "#f0f921"
            ]
           ]
          },
          "colorway": [
           "#636efa",
           "#EF553B",
           "#00cc96",
           "#ab63fa",
           "#FFA15A",
           "#19d3f3",
           "#FF6692",
           "#B6E880",
           "#FF97FF",
           "#FECB52"
          ],
          "font": {
           "color": "#2a3f5f"
          },
          "geo": {
           "bgcolor": "white",
           "lakecolor": "white",
           "landcolor": "#E5ECF6",
           "showlakes": true,
           "showland": true,
           "subunitcolor": "white"
          },
          "hoverlabel": {
           "align": "left"
          },
          "hovermode": "closest",
          "mapbox": {
           "style": "light"
          },
          "paper_bgcolor": "white",
          "plot_bgcolor": "#E5ECF6",
          "polar": {
           "angularaxis": {
            "gridcolor": "white",
            "linecolor": "white",
            "ticks": ""
           },
           "bgcolor": "#E5ECF6",
           "radialaxis": {
            "gridcolor": "white",
            "linecolor": "white",
            "ticks": ""
           }
          },
          "scene": {
           "xaxis": {
            "backgroundcolor": "#E5ECF6",
            "gridcolor": "white",
            "gridwidth": 2,
            "linecolor": "white",
            "showbackground": true,
            "ticks": "",
            "zerolinecolor": "white"
           },
           "yaxis": {
            "backgroundcolor": "#E5ECF6",
            "gridcolor": "white",
            "gridwidth": 2,
            "linecolor": "white",
            "showbackground": true,
            "ticks": "",
            "zerolinecolor": "white"
           },
           "zaxis": {
            "backgroundcolor": "#E5ECF6",
            "gridcolor": "white",
            "gridwidth": 2,
            "linecolor": "white",
            "showbackground": true,
            "ticks": "",
            "zerolinecolor": "white"
           }
          },
          "shapedefaults": {
           "line": {
            "color": "#2a3f5f"
           }
          },
          "ternary": {
           "aaxis": {
            "gridcolor": "white",
            "linecolor": "white",
            "ticks": ""
           },
           "baxis": {
            "gridcolor": "white",
            "linecolor": "white",
            "ticks": ""
           },
           "bgcolor": "#E5ECF6",
           "caxis": {
            "gridcolor": "white",
            "linecolor": "white",
            "ticks": ""
           }
          },
          "title": {
           "x": 0.05
          },
          "xaxis": {
           "automargin": true,
           "gridcolor": "white",
           "linecolor": "white",
           "ticks": "",
           "title": {
            "standoff": 15
           },
           "zerolinecolor": "white",
           "zerolinewidth": 2
          },
          "yaxis": {
           "automargin": true,
           "gridcolor": "white",
           "linecolor": "white",
           "ticks": "",
           "title": {
            "standoff": 15
           },
           "zerolinecolor": "white",
           "zerolinewidth": 2
          }
         }
        }
       }
      }
     },
     "metadata": {},
     "output_type": "display_data"
    }
   ],
   "source": [
    "fig = px.scatter_mapbox(df_operational, \n",
    "                        lat=\"Latitude\", \n",
    "                        lon=\"Longitude\",     \n",
    "                        color=\"Project Capacity (MW)\", \n",
    "                        hover_data = [\"Project Name\", \"Number of Turbines\", \"Project Capacity (MW)\"],\n",
    "                  color_continuous_scale=px.colors.cyclical.IceFire, \n",
    "                  size_max=15, \n",
    "                  zoom=3)\n",
    "fig.show()"
   ]
  },
  {
   "cell_type": "code",
   "execution_count": null,
   "metadata": {},
   "outputs": [],
   "source": []
  },
  {
   "attachments": {},
   "cell_type": "markdown",
   "metadata": {},
   "source": [
    "# Consented"
   ]
  },
  {
   "cell_type": "code",
   "execution_count": 152,
   "metadata": {},
   "outputs": [],
   "source": [
    "consented_pickle = Path(Path.cwd(), \"raw_data\", \"wind_power\", \"consented_list.pkl\")\n",
    "with open(consented_pickle, 'rb') as consented:\n",
    "    consented_list = pickle.load(consented)"
   ]
  },
  {
   "cell_type": "code",
   "execution_count": 153,
   "metadata": {},
   "outputs": [],
   "source": [
    "info_dict_list = []\n",
    "errors = []\n",
    "for i, _ in enumerate(consented_list):\n",
    "    try:\n",
    "        info_dict_list.append(generate_project_info(consented_list[i]))\n",
    "    except (IndexError, ValueError) as e:\n",
    "        errors.append(i)\n",
    "        continue"
   ]
  },
  {
   "cell_type": "code",
   "execution_count": 154,
   "metadata": {},
   "outputs": [],
   "source": [
    "df_consented = pd.DataFrame(info_dict_list)"
   ]
  },
  {
   "cell_type": "code",
   "execution_count": 155,
   "metadata": {},
   "outputs": [
    {
     "data": {
      "application/vnd.plotly.v1+json": {
       "config": {
        "plotlyServerURL": "https://plot.ly"
       },
       "data": [
        {
         "customdata": [
          [
           "Abbotsmoor",
           "1",
           0.5
          ],
          [
           "Aber Valley Community Turbine",
           "1",
           0.5
          ],
          [
           "Aberarder",
           "12",
           36
          ],
          [
           "Abergorki",
           "3",
           9.9
          ],
          [
           "Achlachan 2",
           "3",
           6.05
          ],
          [
           "A'Chruach Phase 2",
           "2",
           4.1
          ],
          [
           "Acres Farm",
           "1",
           0.1
          ],
          [
           "Aghaboy Road, 20",
           "1",
           0.25
          ],
          [
           "Aghafad Road, 161",
           "1",
           0.225
          ],
          [
           "Aghafad Road, 30",
           "1",
           0.25
          ],
          [
           "Aghafad Road, 38",
           "1",
           0.15
          ],
          [
           "Aghaloo Road, 19",
           "1",
           0.25
          ],
          [
           "Aghanglogh Road, 22 Turbine 1",
           "1",
           0.225
          ],
          [
           "Aghanglogh Road, 22 Turbine 2",
           "1",
           0.25
          ],
          [
           "Aghincurk Road, 3 (Replacement)",
           "1",
           0.25
          ],
          [
           "Aghintain Road, 93a Turbine 1",
           "1",
           0.6
          ],
          [
           "Aghintain Road, 93a Turbine 2",
           "1",
           0.6
          ],
          [
           "Aghnagar Road, 11",
           "1",
           0.5
          ],
          [
           "Aghnagar Road, 90",
           "1",
           0.25
          ],
          [
           "Aghnaglea Road, 17 (Replacement)",
           "1",
           0.15
          ],
          [
           "Aghnaglea Road, 28 (Replacement)",
           "1",
           0.15
          ],
          [
           "Agivey Road, 21",
           "1",
           0.25
          ],
          [
           "Ailsa Hospital",
           "1",
           0.8
          ],
          [
           "Airfield Road, 62b (Replacement)",
           "1",
           0.15
          ],
          [
           "Airigh (formerly Carse)",
           "14",
           58.8
          ],
          [
           "Akla Turbine",
           "1",
           0.9
          ],
          [
           "Alney Island",
           "1",
           0.33
          ],
          [
           "Altanaveragh Road, 111",
           "1",
           0.15
          ],
          [
           "Altinure Road, 98a Turbine 2",
           "1",
           0.25
          ],
          [
           "Altmore Road, 7",
           "1",
           0.25
          ],
          [
           "Annaghmakeown Road",
           "1",
           0.25
          ],
          [
           "Annaloughan Road, 16",
           "1",
           0.225
          ],
          [
           "Arbikie Distillery",
           "1",
           1
          ],
          [
           "Ardoch Farm",
           "1",
           0.33
          ],
          [
           "Ardteatle Cottage (Resubmission)",
           "1",
           0.225
          ],
          [
           "Ardvarny Road",
           "1",
           0.25
          ],
          [
           "Ardymagh Road, 17",
           "1",
           0.25
          ],
          [
           "Arecleoch Extension",
           "13",
           74.1
          ],
          [
           "Arlesey Landfill Site (Resubmission)",
           "1",
           0.5
          ],
          [
           "Armagh Road",
           "1",
           0.25
          ],
          [
           "Arnol",
           "1",
           0.1
          ],
          [
           "Artfield Forest",
           "12",
           67.2
          ],
          [
           "ASDA Distribution Depot (New Bankside Industrial Estate)",
           "1",
           2
          ],
          [
           "Ashcourt Concrete",
           "1",
           0.9
          ],
          [
           "Aspenfield",
           "1",
           0.5
          ],
          [
           "Auchenreoch Farm (Resubmission)",
           "1",
           0.225
          ],
          [
           "Auchentirrie Farm (Community Project)",
           "2",
           0.45
          ],
          [
           "Aughaboy Road, 5",
           "1",
           0.25
          ],
          [
           "Aughnabrack Road, 40 (Replacement)",
           "1",
           0.225
          ],
          [
           "Auldton Farm",
           "1",
           0.5
          ],
          [
           "Aultdavie (Resubmission)",
           "1",
           0.225
          ],
          [
           "Aultmore II",
           "13",
           30
          ],
          [
           "Backglen Road, 96",
           "1",
           0.25
          ],
          [
           "Baldyquash Farm",
           "1",
           0.8
          ],
          [
           "Ballagh Road",
           "1",
           0.25
          ],
          [
           "Ballyavelin Road, 61 (Replacement)",
           "1",
           0.25
          ],
          [
           "Ballyblack Road, 32A",
           "1",
           0.25
          ],
          [
           "Ballybollen Road, 14",
           "1",
           0.25
          ],
          [
           "Ballybrack Road, 19 (Replacement)",
           "1",
           0.15
          ],
          [
           "Ballyclough Road, 92",
           "1",
           0.25
          ],
          [
           "Ballycolin Road, 42",
           "1",
           0.25
          ],
          [
           "Ballyconnell Road, 72 Turbine 2 (Resubmission)",
           "1",
           0.25
          ],
          [
           "Ballycregagh Road, 107",
           "1",
           0.225
          ],
          [
           "Ballydawley Road, 20",
           "1",
           0.25
          ],
          [
           "Ballygassoon Road, 168",
           "1",
           0.25
          ],
          [
           "Ballygowan Road, 31a",
           "1",
           0.15
          ],
          [
           "Ballygowan Road, 89 (Replacement)",
           "1",
           0.225
          ],
          [
           "Ballyhanedin",
           "8",
           24
          ],
          [
           "Ballyhemlin Road, 5",
           "1",
           0.15
          ],
          [
           "Ballykeel",
           "7",
           16.1
          ],
          [
           "Ballymacward Road",
           "1",
           0.1
          ],
          [
           "Ballymoney Road, 43",
           "1",
           0.25
          ],
          [
           "Ballynahinch Road, 40",
           "1",
           0.225
          ],
          [
           "Ballynahinch Road, 93 Turbine 2 (Replacement)",
           "1",
           0.25
          ],
          [
           "Ballynanny Road, 19",
           "1",
           0.25
          ],
          [
           "Ballyness Road, 74 Turbine 2",
           "1",
           0.25
          ],
          [
           "Ballyness Road, 74 Turbine 3",
           "1",
           0.225
          ],
          [
           "Ballyness Road, 74 Turbine 4",
           "1",
           0.225
          ],
          [
           "Ballyrogan Road, 59 (Replacement)",
           "1",
           0.25
          ],
          [
           "Ballysnod Road, 166 (Replacement)",
           "1",
           0.25
          ],
          [
           "Ballyutoag Road, 40 (Replacement)",
           "1",
           0.25
          ],
          [
           "Ballyutoag Road, 60",
           "1",
           0.85
          ],
          [
           "Balmara",
           "3",
           0.18
          ],
          [
           "Balnellan Farm",
           "1",
           0.5
          ],
          [
           "Balrownie Farm",
           "2",
           0.45
          ],
          [
           "Balrownie Farm 2",
           "2",
           0.1
          ],
          [
           "Balsalloch Farm",
           "1",
           0.25
          ],
          [
           "Bangor Road, 241 (Replacement)",
           "1",
           0.25
          ],
          [
           "Bankend Rig II",
           "3",
           10.2
          ],
          [
           "Baranailt Road, 567 (Replacement)",
           "1",
           0.25
          ],
          [
           "Barlockhart Moor Extension",
           "4",
           8.2
          ],
          [
           "Barnaghs Road, 27",
           "1",
           0.25
          ],
          [
           "Baronagh Road",
           "1",
           0.25
          ],
          [
           "Barony Road, 230 (Replacement)",
           "1",
           0.25
          ],
          [
           "Barony Road, 242 (Replacement)",
           "1",
           0.25
          ],
          [
           "Barr Cregg",
           "7",
           12.6
          ],
          [
           "Beaw Field",
           "17",
           72
          ],
          [
           "Beechview Road, 10",
           "1",
           0.25
          ],
          [
           "Beet Farm",
           "1",
           0.1
          ],
          [
           "Beinn Mheadhonach",
           "4",
           12.2
          ],
          [
           "Belraugh Road, 25",
           "1",
           0.25
          ],
          [
           "Beltonanean Mountain",
           "1",
           2.3
          ],
          [
           "Ben Sca",
           "7",
           29.4
          ],
          [
           "Ben Sca Extension",
           "2",
           8.4
          ],
          [
           "Bendooragh Road, 41",
           "1",
           0.25
          ],
          [
           "Bernisk Road, 77",
           "1",
           0.225
          ],
          [
           "Berry Burn Extension",
           "9",
           37.8
          ],
          [
           "Bessbrook Road, 101",
           "1",
           0.25
          ],
          [
           "Bheinn Thulabaigh",
           "1",
           6
          ],
          [
           "Bhlaraidh Extension",
           "15",
           100
          ],
          [
           "Birch Industrial Estate",
           "1",
           0.15
          ],
          [
           "Black Brow",
           "1",
           0.8
          ],
          [
           "Blacklaw Hill",
           "1",
           0.5
          ],
          [
           "Blackquater Road, 16",
           "1",
           0.5
          ],
          [
           "Blaenpant North (Resubmission)",
           "1",
           0.225
          ],
          [
           "Blakeley Hill Farm",
           "1",
           0.25
          ],
          [
           "Blarghour",
           "17",
           57.8
          ],
          [
           "Boa Island Road, 1231",
           "1",
           0.25
          ],
          [
           "Boghead Hill",
           "1",
           0.5
          ],
          [
           "Boghill Road, 63 (Replacement)",
           "1",
           0.25
          ],
          [
           "Boghill Road, 72 Turbine 2",
           "1",
           0.225
          ],
          [
           "Bogside Farm (Fife)",
           "1",
           1.5
          ],
          [
           "Bolies Road",
           "1",
           0.25
          ],
          [
           "Bovevagh Road",
           "1",
           0.25
          ],
          [
           "Boythorpe Farm (Replacement)",
           "2",
           0.45
          ],
          [
           "Brackenhills (Resubmission)",
           "1",
           2.3
          ],
          [
           "Brackenside Farm",
           "1",
           0.1
          ],
          [
           "Brae Road, 18",
           "1",
           0.15
          ],
          [
           "Braemore",
           "18",
           54
          ],
          [
           "Breagho Road, 37 Turbine 2 (Replacement)",
           "1",
           0.25
          ],
          [
           "Bridge Road, 45",
           "1",
           0.25
          ],
          [
           "Brocklees Farm",
           "1",
           0.225
          ],
          [
           "Brockloch Rig 3",
           "20",
           67.2
          ],
          [
           "Brookhill",
           "1",
           0.25
          ],
          [
           "Browndod Road, 64",
           "1",
           0.225
          ],
          [
           "Brownhill Farm",
           "2",
           8.4
          ],
          [
           "Bryn Banal Farm",
           "1",
           0.1
          ],
          [
           "Bryn Bugail",
           "1",
           0.1
          ],
          [
           "Bryndu Isaf",
           "1",
           0.1
          ],
          [
           "Budore Road, 84 (Replacement)",
           "1",
           0.25
          ],
          [
           "Bullamoor",
           "4",
           12
          ],
          [
           "Burgar Hill 4",
           "1",
           2.3
          ],
          [
           "Burnfoot Poultry Farm",
           "1",
           0.5
          ],
          [
           "Caddy Road, 93",
           "1",
           0.25
          ],
          [
           "Caen Cottage (Shared Ownership)",
           "2",
           1
          ],
          [
           "Cairn Duhie",
           "20",
           60
          ],
          [
           "Cairns",
           "1",
           0.8
          ],
          [
           "Calliachar North",
           "7",
           21
          ],
          [
           "Camas Nan Gail Turbine 4",
           "1",
           0.225
          ],
          [
           "Camilty (Revised)",
           "6",
           25.8
          ],
          [
           "Camlough Road, 139 Turbine 1 (Replacement)",
           "1",
           0.15
          ],
          [
           "Camlough Road, 139 Turbine 2",
           "1",
           0.25
          ],
          [
           "Camlough Road, 141 (Replacement)",
           "1",
           0.25
          ],
          [
           "Camlough Road, 204",
           "1",
           0.25
          ],
          [
           "Camlough Road, 228",
           "1",
           0.225
          ],
          [
           "Camlough Road, 236",
           "1",
           0.225
          ],
          [
           "Camlough Road, 98 (Replacement)",
           "1",
           0.25
          ],
          [
           "Cappagh Road, 100 Turbine 2",
           "1",
           0.225
          ],
          [
           "Carhill Road, 85",
           "1",
           0.25
          ],
          [
           "Carmagrim Road, 33 Turbine 1 (Replacement)",
           "1",
           0.25
          ],
          [
           "Carn Road 1",
           "1",
           0.25
          ],
          [
           "Carn Road 2",
           "1",
           0.25
          ],
          [
           "Carn Road 3",
           "1",
           0.25
          ],
          [
           "Carn Road 4",
           "1",
           0.25
          ],
          [
           "Carnaby",
           "2",
           6
          ],
          [
           "Carnaman Road, 33",
           "1",
           0.15
          ],
          [
           "Carnavanaghan Road, 62 (Resubmission)",
           "1",
           0.25
          ],
          [
           "Carno Wind Farm Extension - Phase III",
           "13",
           48
          ],
          [
           "Carnreagh Road, 42 Turbine 2",
           "1",
           0.225
          ],
          [
           "Carrach (Resubmission)",
           "2",
           0.45
          ],
          [
           "Carrickfergus Road, 109 (Replacement)",
           "1",
           0.25
          ],
          [
           "Carrot Moor Farm",
           "1",
           0.5
          ],
          [
           "Carrowbane Road",
           "1",
           0.25
          ],
          [
           "Castlecatt Road, 197 (Replacement)",
           "1",
           0.225
          ],
          [
           "Castlegore",
           "3",
           12.6
          ],
          [
           "Castlerainey Road, 46 (Replacement)",
           "1",
           0.25
          ],
          [
           "Castlewarren Road, 62a",
           "1",
           0.225
          ],
          [
           "Causeway Hospital",
           "1",
           0.8
          ],
          [
           "Cavanlee Road, 25a Turbine 3",
           "1",
           0.25
          ],
          [
           "Chapelton Farm (Aberdeenshire)",
           "1",
           0.5
          ],
          [
           "Chapelton Farm (South Ayrshire)",
           "3",
           2.55
          ],
          [
           "Checkley Wood Farm",
           "1",
           4.1
          ],
          [
           "Chirmorie",
           "21",
           81.6
          ],
          [
           "Church Hill Extension",
           "1",
           2.3
          ],
          [
           "Church Road, 30",
           "1",
           0.225
          ],
          [
           "Church Road, 84 (Replacement)",
           "1",
           0.25
          ],
          [
           "Cil Llwyn Turbine 1",
           "2",
           0.05
          ],
          [
           "Clabby Road, 298",
           "1",
           0.25
          ],
          [
           "Clabby Road, 99",
           "1",
           0.25
          ],
          [
           "Clachaig Glen",
           "14",
           47.6
          ],
          [
           "Clady Quarry",
           "1",
           0.5
          ],
          [
           "Clash Gour",
           "48",
           225
          ],
          [
           "Clearwell Farm 2",
           "1",
           0.5
          ],
          [
           "Cloghan Road, 16",
           "1",
           0.25
          ],
          [
           "Cloghanramer Road, 59",
           "1",
           0.225
          ],
          [
           "Cloghfin Road, 112",
           "1",
           0.25
          ],
          [
           "Cloghfin Road, 178",
           "1",
           0.25
          ],
          [
           "Cloghfin Road, 180 Turbine 2",
           "1",
           0.25
          ],
          [
           "Cloghfin Road, 190",
           "3",
           4.8
          ],
          [
           "Cloich Forest",
           "18",
           54
          ],
          [
           "Clontafleece Road, 23",
           "1",
           0.25
          ],
          [
           "Clooney Road, 73",
           "1",
           0.25
          ],
          [
           "Cloughfin Road",
           "1",
           0.225
          ],
          [
           "Clynblewog Farm",
           "1",
           0.33
          ],
          [
           "Coa Chapel Road, 60 (Replacement)",
           "1",
           0.25
          ],
          [
           "Cogle Moss",
           "12",
           36
          ],
          [
           "Cold Northcott - Repower",
           "23",
           5.175
          ],
          [
           "Coldwakning",
           "1",
           0.225
          ],
          [
           "Collin Road, 55",
           "1",
           0.15
          ],
          [
           "Concess Road, 26 (Replacement)",
           "1",
           0.225
          ],
          [
           "Connaught Road, 44 (Replacement)",
           "1",
           0.8
          ],
          [
           "Coolaghy Road",
           "1",
           0.25
          ],
          [
           "Coolermoney Road",
           "1",
           0.25
          ],
          [
           "Coolkeeran Road, 24 (Resubmission)",
           "1",
           0.25
          ],
          [
           "Cooneen Road, 109",
           "1",
           0.15
          ],
          [
           "Cooneen Road, 152",
           "1",
           0.225
          ],
          [
           "Cooneen Road, 77",
           "1",
           0.25
          ],
          [
           "Corbally Road, 28",
           "1",
           0.25
          ],
          [
           "Corchoney Road",
           "1",
           0.25
          ],
          [
           "Corkey - Repower",
           "5",
           29.9
          ],
          [
           "Corkey Extension (Resubmission)",
           "1",
           2.5
          ],
          [
           "Corkey Road, 108",
           "1",
           0.225
          ],
          [
           "Corkey Road, 145",
           "1",
           0.25
          ],
          [
           "Corkey Road, 188",
           "1",
           0.25
          ],
          [
           "Corkey Road, 237",
           "1",
           0.225
          ],
          [
           "Corlacky",
           "11",
           47.3
          ],
          [
           "Cornabo Wind Cluster",
           "3",
           2.4
          ],
          [
           "Cornharrow (Resubmission)",
           "7",
           46.2
          ],
          [
           "Corra Farm",
           "1",
           0.5
          ],
          [
           "Corradinna Road",
           "1",
           0.25
          ],
          [
           "Corwards Lane (Bernard Matthews)",
           "1",
           0.5
          ],
          [
           "Costa Head",
           "4",
           16.32
          ],
          [
           "Council Road, 36a",
           "1",
           0.225
          ],
          [
           "Court Green Farm",
           "1",
           0.4
          ],
          [
           "Craiganee Road, 48",
           "1",
           0.1
          ],
          [
           "Craigboy Road, 37",
           "1",
           0.225
          ],
          [
           "Craighill Road, 11 (Replacement)",
           "1",
           0.225
          ],
          [
           "Craigmore Road, 121",
           "1",
           0.25
          ],
          [
           "Craigmore Road, 146",
           "1",
           0.25
          ],
          [
           "Craigmore Road, 33",
           "1",
           0.25
          ],
          [
           "Craigmore Road, 45",
           "1",
           0.225
          ],
          [
           "Craigmore Road, 60",
           "1",
           0.25
          ],
          [
           "Craigmore Road, 60 Turbine 2",
           "1",
           0.25
          ],
          [
           "Craignagapple",
           "6",
           13.8
          ],
          [
           "Craigs Turbine 1",
           "1",
           2.3
          ],
          [
           "Craigs Turbine 2",
           "1",
           2.3
          ],
          [
           "Craigton and Spittalhill",
           "7",
           21
          ],
          [
           "Creenagh Road, 71",
           "1",
           0.25
          ],
          [
           "Creevehill Road, 69 (Revised)",
           "1",
           0.25
          ],
          [
           "Creggan Road, 145",
           "1",
           0.25
          ],
          [
           "Creggan Road, 169 Turbine 1",
           "1",
           0.25
          ],
          [
           "Creggan Road, 169 Turbine 3",
           "1",
           0.25
          ],
          [
           "Crevenagh Road",
           "1",
           0.25
          ],
          [
           "Crew Road, 127 (Resubmission)",
           "1",
           0.25
          ],
          [
           "Crew Road, 185",
           "1",
           0.15
          ],
          [
           "Croagh Beg",
           "1",
           0.25
          ],
          [
           "Crockanboy Road, 128 Turbine 2",
           "1",
           0.25
          ],
          [
           "Crockanboy Road, 128 Turbine 3",
           "1",
           0.25
          ],
          [
           "Crockanboy Road, 134 (Replacement)",
           "1",
           0.225
          ],
          [
           "Cromaghs Road, 98",
           "1",
           0.25
          ],
          [
           "Crook Road, 31 Turbine 1 (Replacement)",
           "1",
           0.25
          ],
          [
           "Crookedstane",
           "4",
           9.2
          ],
          [
           "Crossgar Road, 155 (Replacement)",
           "1",
           0.25
          ],
          [
           "Crosshill Road",
           "1",
           0.225
          ],
          [
           "Crossmore Road",
           "1",
           0.25
          ],
          [
           "Crouck Road, 7",
           "1",
           0.225
          ],
          [
           "Crowhill Road",
           "1",
           0.25
          ],
          [
           "Crystal Rig IV",
           "11",
           46.2
          ],
          [
           "Cuddyhouse Road Turbine 2 (Resubmission)",
           "1",
           0.25
          ],
          [
           "Cullion",
           "4",
           16.8
          ],
          [
           "Cumberhead West",
           "21",
           119.7
          ],
          [
           "Curlyhill Road, 63 Turbine 2 (Resubmission)",
           "1",
           0.225
          ],
          [
           "Curragh Road, 70 (Replacement)",
           "1",
           0.25
          ],
          [
           "Curraghmulkin/Dooish",
           "10",
           30
          ],
          [
           "Curryfree Road",
           "1",
           0.33
          ],
          [
           "Damoily Road 2",
           "1",
           0.25
          ],
          [
           "Damsbrook Farm (Resubmission)",
           "1",
           0.33
          ],
          [
           "Dell Wind Farm",
           "14",
           42
          ],
          [
           "Dernaflaw Road",
           "1",
           0.25
          ],
          [
           "Derryallen Road, 22 Turbine 1 (Replacement)",
           "1",
           0.25
          ],
          [
           "Derrycourtney Road",
           "1",
           0.25
          ],
          [
           "Derrykerran Road",
           "1",
           0.18
          ],
          [
           "Deuchries Extension",
           "2",
           4.7
          ],
          [
           "Devesky Road, 29",
           "1",
           0.25
          ],
          [
           "Devesky Road, 62 (Replacement)",
           "1",
           0.25
          ],
          [
           "Dirnan Road, 24c Turbine 2",
           "1",
           0.25
          ],
          [
           "Disert Road, 43 Turbine 2",
           "1",
           0.25
          ],
          [
           "Disert Road, 47 Turbine 2",
           "1",
           0.225
          ],
          [
           "Doctors Road, 29",
           "1",
           0.25
          ],
          [
           "Dogsthorpe Landfill Site",
           "1",
           0.5
          ],
          [
           "Doocrock Road, 53 Turbine 1",
           "1",
           0.5
          ],
          [
           "Doocrock Road, 53 Turbine 2",
           "1",
           0.5
          ],
          [
           "Doolargy Road, 27 (Replacement)",
           "1",
           0.15
          ],
          [
           "Dorney Bridge Road, 27 (Replacement)",
           "1",
           0.25
          ],
          [
           "Douglas Road",
           "1",
           0.25
          ],
          [
           "Douglas West Extension",
           "13",
           71.5
          ],
          [
           "Downiebrae",
           "1",
           0.5
          ],
          [
           "Drodland",
           "1",
           0.8
          ],
          [
           "Dromore Road, 86",
           "1",
           0.25
          ],
          [
           "Druim Leathann",
           "14",
           48.3
          ],
          [
           "Drumack Lane, 16 (Replacement)",
           "1",
           0.25
          ],
          [
           "Drumadown Farm",
           "1",
           0.25
          ],
          [
           "Drumard Road (Replacement)",
           "1",
           0.225
          ],
          [
           "Drumard Road Turbine 1 (Draperstown)",
           "1",
           2
          ],
          [
           "Drumard Road Turbine 2 (Draperstown)",
           "1",
           2
          ],
          [
           "Drumard Road Turbine 3 (Draperstown)",
           "1",
           2
          ],
          [
           "Drumard Road, 11 (Replacement)",
           "2",
           0.45
          ],
          [
           "Drumballyhugh Road",
           "1",
           0.225
          ],
          [
           "Drumbarley Road, 26",
           "1",
           0.15
          ],
          [
           "Drumbristan Road",
           "1",
           0.225
          ],
          [
           "Drumcor Road, 14 (Replacement)",
           "1",
           0.225
          ],
          [
           "Drumcroone Road, 235",
           "1",
           0.25
          ],
          [
           "Drumelzie",
           "1",
           1.5
          ],
          [
           "Drumlegagh Road North, 38",
           "1",
           0.1
          ],
          [
           "Drumlester Road, 52",
           "1",
           0.225
          ],
          [
           "Drummacalara",
           "1",
           0.25
          ],
          [
           "Drummackan Road, 68",
           "1",
           0.85
          ],
          [
           "Drummick Farm (Resubmission)",
           "2",
           0.45
          ],
          [
           "Drumnadonaghy Road, 20 (Replacement)",
           "1",
           0.15
          ],
          [
           "Drumquin Road",
           "1",
           0.225
          ],
          [
           "Drumsawna More",
           "1",
           0.25
          ],
          [
           "Drumside of Garvock",
           "1",
           0.225
          ],
          [
           "Duggleby Wold Farm (Replacement)",
           "1",
           0.25
          ],
          [
           "Dullaghy Road, 45 (Replacement) (Resubmission)",
           "1",
           0.25
          ],
          [
           "Dunbeg Extension",
           "3",
           9
          ],
          [
           "Dunbeg South",
           "9",
           29.7
          ],
          [
           "Dundrum Road, 61",
           "1",
           0.225
          ],
          [
           "Dunphail House",
           "1",
           0.1
          ],
          [
           "Dyan Road",
           "1",
           0.25
          ],
          [
           "Dykehead Farm",
           "1",
           0.225
          ],
          [
           "Earth Balance",
           "1",
           0.33
          ],
          [
           "Eascairt",
           "13",
           26
          ],
          [
           "East Balgray Farm",
           "2",
           0.45
          ],
          [
           "East Blair Farm",
           "2",
           0.5
          ],
          [
           "East Cauldcoats Farm",
           "1",
           0.25
          ],
          [
           "East Fife FC",
           "1",
           0.5
          ],
          [
           "East of Brae",
           "1",
           0.1
          ],
          [
           "Easter Drumclair Wood (Resubmission)",
           "2",
           4.7
          ],
          [
           "Edder Acres Farm (Resubmission)",
           "1",
           0.5
          ],
          [
           "Eden Road, 16 (Resubmission)",
           "1",
           0.15
          ],
          [
           "Edenmore Road, 133 (Replacement)",
           "1",
           0.25
          ],
          [
           "Edenmore Road, 83 (Resubmission)",
           "1",
           0.225
          ],
          [
           "Edergoole Road",
           "1",
           0.25
          ],
          [
           "Effernan Road, 108",
           "1",
           0.25
          ],
          [
           "Effernan Road, 108 Turbine 2",
           "1",
           0.25
          ],
          [
           "Effernan Road, 108 Turbine 3",
           "1",
           0.25
          ],
          [
           "Effernan Road, 51",
           "1",
           0.25
          ],
          [
           "Enniskillen Road, 33 (Mossfield Road, 33) (Resubmission)",
           "1",
           0.25
          ],
          [
           "Enniskillen Road, 38 (Mossfield Road, 38) (Replacement)",
           "1",
           0.25
          ],
          [
           "Enoch Hill",
           "16",
           74.4
          ],
          [
           "Erebus Floating Wind Demonstrator",
           "10",
           96
          ],
          [
           "Erganagh Road, 29 (Replacement)",
           "1",
           0.25
          ],
          [
           "Erganagh Road, 29 Turbine 2",
           "1",
           0.25
          ],
          [
           "Errigal Road, 43 (Replacement)",
           "1",
           0.25
          ],
          [
           "Eshmore Extension",
           "1",
           2.3
          ],
          [
           "Eshmore Road, 26",
           "1",
           0.25
          ],
          [
           "Faray",
           "6",
           28.8
          ],
          [
           "Farkland Road",
           "1",
           0.25
          ],
          [
           "Fashglushagh Road",
           "1",
           0.25
          ],
          [
           "Feddal Farm",
           "1",
           0.33
          ],
          [
           "Fell",
           "9",
           49
          ],
          [
           "Feoch Farm",
           "1",
           0.5
          ],
          [
           "Fergort Road 1",
           "1",
           0.25
          ],
          [
           "Fetteresso",
           "10",
           42
          ],
          [
           "Field House Farm (Lambwath)",
           "1",
           0.225
          ],
          [
           "Fingask Farm",
           "1",
           0.1
          ],
          [
           "Fingrean Road, 95",
           "1",
           0.25
          ],
          [
           "Fintona Road",
           "1",
           0.25
          ],
          [
           "Fintona Road Junction",
           "1",
           0.25
          ],
          [
           "Finvoy Road, 143 Turbine 2",
           "1",
           0.1
          ],
          [
           "Flush Road, 43 Turbine 1",
           "1",
           2
          ],
          [
           "Flush Road, 43 Turbine 2",
           "1",
           2
          ],
          [
           "Foales Leigh Farm",
           "1",
           0.1
          ],
          [
           "Foel Trawsnant",
           "11",
           33
          ],
          [
           "Foggyhill Road, 15",
           "1",
           0.225
          ],
          [
           "Foreglen Road, 48",
           "1",
           0.25
          ],
          [
           "Forestmill",
           "1",
           0.8
          ],
          [
           "Forrestburn",
           "1",
           0.5
          ],
          [
           "Fort Road, 16",
           "1",
           0.25
          ],
          [
           "Foulapple Farm",
           "1",
           0.225
          ],
          [
           "Foxhill Road, 14",
           "1",
           0.25
          ],
          [
           "Frawney (Resubmission)",
           "5",
           4
          ],
          [
           "Fyvie Community Wind Turbines",
           "4",
           3.6
          ],
          [
           "GAA Centre of Excellence",
           "1",
           0.25
          ],
          [
           "GAA Training Facilities (Replacement)",
           "1",
           0.25
          ],
          [
           "Galbally Road",
           "1",
           0.25
          ],
          [
           "Gallymoor Landfill Site",
           "2",
           1.8
          ],
          [
           "Garn Llwyd Farm",
           "1",
           0.1
          ],
          [
           "Garraroosky (Replacement)",
           "1",
           0.25
          ],
          [
           "Garrelhill",
           "1",
           0.8
          ],
          [
           "Garvaghy Hill Road, 24",
           "1",
           0.25
          ],
          [
           "Garvaghy Road, 14",
           "1",
           0.25
          ],
          [
           "Garvaghy Road, 19",
           "1",
           0.25
          ],
          [
           "Gellybrae (Resubmission)",
           "2",
           0.45
          ],
          [
           "Gelvin Road, 60 (Replacement)",
           "1",
           0.25
          ],
          [
           "Gillgooley Road, 80",
           "1",
           0.25
          ],
          [
           "Gillistown Road, 10 (Replacement)",
           "1",
           0.15
          ],
          [
           "Gillygooley Road, 109",
           "1",
           0.25
          ],
          [
           "Gillygooley Road, 54",
           "1",
           0.25
          ],
          [
           "Glebe Farm (Devon)",
           "1",
           0.5
          ],
          [
           "Glen Road, 20",
           "1",
           0.225
          ],
          [
           "Glen Road, 40",
           "1",
           0.15
          ],
          [
           "Glen Road, 9 (Replacement)",
           "1",
           0.25
          ],
          [
           "Glen Ullinish",
           "11",
           52.8
          ],
          [
           "Glenarn Road 1",
           "4",
           0.9
          ],
          [
           "Glenarn Road 2",
           "1",
           0.225
          ],
          [
           "Glenarn Road 2",
           "1",
           0.225
          ],
          [
           "Glenbuck Road, 55 (Resubmission)",
           "1",
           0.225
          ],
          [
           "Glenegadale",
           "1",
           0.9
          ],
          [
           "Glenhead of Aldouran Turbine 2",
           "1",
           0.225
          ],
          [
           "Glenkerie Extension",
           "6",
           12.3
          ],
          [
           "Glenlomond Farm",
           "3",
           0.153
          ],
          [
           "Glenmuckloch",
           "8",
           33.6
          ],
          [
           "Glenshimmeroch",
           "10",
           48
          ],
          [
           "Glenside Road, 35",
           "1",
           0.25
          ],
          [
           "Gokewell Priory Farm (Resubmission)",
           "1",
           0.25
          ],
          [
           "Golticlay",
           "19",
           64.6
          ],
          [
           "Gortavale Road, 11",
           "1",
           0.25
          ],
          [
           "Gortnacarrow",
           "1",
           0.25
          ],
          [
           "Gortscraheen Road, 81",
           "1",
           0.25
          ],
          [
           "Govals Farm",
           "6",
           4.8
          ],
          [
           "Gracehill Road, 148",
           "1",
           0.25
          ],
          [
           "Gransha Road, 40",
           "1",
           0.25
          ],
          [
           "Gransha Road, 62",
           "1",
           0.15
          ],
          [
           "Granshagh Road, 24",
           "1",
           0.25
          ],
          [
           "Green Burn",
           "11",
           33
          ],
          [
           "Green Road, 69 (Replacement)",
           "1",
           0.25
          ],
          [
           "Greendykes Farm",
           "1",
           0.5
          ],
          [
           "Greengairs Landfill Site",
           "9",
           27
          ],
          [
           "Greenhall Highway, 60 Turbine 1 (Replacement)",
           "1",
           0.25
          ],
          [
           "Greenhall Highway, 60 Turbine 2 (Replacement)",
           "1",
           0.25
          ],
          [
           "Greenhill Road, 48 Turbine 2",
           "1",
           0.25
          ],
          [
           "Greenstrands Farm",
           "1",
           0.25
          ],
          [
           "Greenville Road, 40 (Replacement)",
           "1",
           0.225
          ],
          [
           "Gronan",
           "4",
           12
          ],
          [
           "Gruig Lane, 15 (Replacement)",
           "1",
           0.225
          ],
          [
           "Hafoty Ucha 1 - Repower",
           "1",
           0.8
          ],
          [
           "Hafoty Ucha 2 - Repower",
           "1",
           1.6
          ],
          [
           "Hafoty Ucha 3 - Repower",
           "1",
           0.8
          ],
          [
           "Hagshaw Hill - Repower",
           "14",
           79.8
          ],
          [
           "Hall Farm (Leicestershire)",
           "2",
           0.1
          ],
          [
           "Hallburn Farm",
           "1",
           0.5
          ],
          [
           "Hallcroft Farm",
           "1",
           0.5
          ],
          [
           "Hameldon Hill 2",
           "3",
           7.05
          ],
          [
           "Hammars Hill Extension",
           "2",
           8.4
          ],
          [
           "Harburnhead Addition",
           "1",
           4
          ],
          [
           "Hare Craig",
           "8",
           36
          ],
          [
           "Hartwood (Resubmission)",
           "7",
           21
          ],
          [
           "Heathland",
           "14",
           80
          ],
          [
           "Heckington Fen",
           "22",
           66
          ],
          [
           "Hendre Llwyn y Maen",
           "1",
           0.225
          ],
          [
           "Herscha Hill Extension",
           "2",
           1.6
          ],
          [
           "Herscha Hill Wind Cluster",
           "2",
           1.6
          ],
          [
           "Hesta Head",
           "5",
           20.4
          ],
          [
           "High Constellation",
           "10",
           50
          ],
          [
           "High Ugadale",
           "1",
           0.225
          ],
          [
           "Higher Penhale Farm",
           "2",
           0.11
          ],
          [
           "Highland Metal Recycling",
           "1",
           0.1
          ],
          [
           "Highland Road 1",
           "1",
           0.225
          ],
          [
           "Highland Road 2",
           "1",
           0.225
          ],
          [
           "Highlands Road, 83",
           "1",
           0.25
          ],
          [
           "Hightown Road, 108 Turbine 1",
           "1",
           0.25
          ],
          [
           "Hightown Road, 108 Turbine 2",
           "1",
           0.25
          ],
          [
           "Hill of Carlincraig",
           "2",
           4.6
          ],
          [
           "Hill of Lybster (Resubmission)",
           "1",
           3
          ],
          [
           "Hill of Lychrobbie (Community Share)",
           "3",
           2.4
          ],
          [
           "Hill of Towie 2",
           "16",
           48
          ],
          [
           "Hillhead Road, 11",
           "1",
           0.25
          ],
          [
           "Hilton of Kirkforthar",
           "1",
           0.8
          ],
          [
           "Holladon Farm",
           "1",
           0.5
          ],
          [
           "Home Farm (Leith Hall)",
           "2",
           0.45
          ],
          [
           "Home Farm (Nottinghamshire)",
           "1",
           0.225
          ],
          [
           "Hopsrig",
           "12",
           49
          ],
          [
           "Howpark",
           "8",
           16
          ],
          [
           "Hoy Wind Farm",
           "6",
           28.8
          ],
          [
           "Huntershall",
           "1",
           0.85
          ],
          [
           "Hunthill Extension",
           "1",
           0.9
          ],
          [
           "Huntly Road, 142 (Replacement)",
           "1",
           0.225
          ],
          [
           "Hyndburn Extension",
           "4",
           8.2
          ],
          [
           "Inisclan Road",
           "1",
           0.25
          ],
          [
           "Inishative Road, 17 (Replacement)",
           "1",
           0.25
          ],
          [
           "Inishative Road, 32",
           "1",
           0.225
          ],
          [
           "Innishrush Road 1",
           "1",
           0.25
          ],
          [
           "Innishrush Road 2",
           "1",
           0.25
          ],
          [
           "Islandranny Road, 23 (Replacement)",
           "1",
           0.225
          ],
          [
           "Jericho Forest",
           "1",
           0.5
          ],
          [
           "Jockstown Farm",
           "1",
           0.1
          ],
          [
           "Keeranbeg (Replacement)",
           "1",
           0.225
          ],
          [
           "Keerin Road, 28 (Resubmission)",
           "1",
           0.225
          ],
          [
           "Keerin Road, 52",
           "1",
           0.25
          ],
          [
           "Kenfig Industrial Estate (2020 Application) (Resubmission)",
           "1",
           2.1
          ],
          [
           "Kenly Farm (University of St Andrews)",
           "6",
           12.3
          ],
          [
           "Kennedies Road",
           "1",
           0.25
          ],
          [
           "Kennoxhead Extension",
           "8",
           38.4
          ],
          [
           "Kennoxhead Phase 2",
           "6",
           36
          ],
          [
           "Kerry Plant Hire",
           "1",
           0.1
          ],
          [
           "Kilcam Road, 12 (Resubmission)",
           "1",
           0.225
          ],
          [
           "Kilgallioch Extension",
           "11",
           51.3
          ],
          [
           "Killeen Road",
           "1",
           0.225
          ],
          [
           "Killyblight Road",
           "1",
           0.25
          ],
          [
           "Killygullib Road, 98",
           "1",
           0.1
          ],
          [
           "Killymittan Road, 33 Turbine 1 (Replacement)",
           "1",
           0.25
          ],
          [
           "Killymittan Road, 33 Turbine 2 (Replacement)",
           "1",
           0.25
          ],
          [
           "Kilnahusogue Road (Resubmission)",
           "1",
           0.15
          ],
          [
           "Kilroot Business Park",
           "1",
           0.25
          ],
          [
           "Kilsannagh Lane, 39 (Replacement)",
           "1",
           0.25
          ],
          [
           "Kingarrow Road, 15",
           "1",
           0.25
          ],
          [
           "Kirk Hill",
           "8",
           18.8
          ],
          [
           "Kittymuir Farm",
           "2",
           1.6
          ],
          [
           "Knockman Hill",
           "5",
           4.25
          ],
          [
           "Knockshinnoch Farm",
           "2",
           4
          ],
          [
           "Lackan Road, 117",
           "1",
           0.225
          ],
          [
           "Laghel Road, 37 (Replacement)",
           "1",
           0.25
          ],
          [
           "Laigh Balernock Farm",
           "2",
           0.45
          ],
          [
           "Lairg II",
           "10",
           42
          ],
          [
           "Lampits Farm Extension",
           "1",
           0.25
          ],
          [
           "Land adj to Clocaenog Forest",
           "1",
           0.33
          ],
          [
           "Larbrax (Resubmission)",
           "8",
           20
          ],
          [
           "Larne Road, 110 (Replacement)",
           "1",
           0.25
          ],
          [
           "Laurel Lane, 12 (Replacement)",
           "1",
           0.25
          ],
          [
           "Laurel Lane, 12 Turbine 2",
           "1",
           0.25
          ],
          [
           "Leaghan",
           "1",
           0.25
          ],
          [
           "Leapoges Road, 57",
           "1",
           0.225
          ],
          [
           "Legananny Road, 56",
           "1",
           0.15
          ],
          [
           "Legavallon Road, 197",
           "1",
           0.225
          ],
          [
           "Legavallon Road, 94",
           "1",
           0.25
          ],
          [
           "Legmurn Road, 14 (Replacement)",
           "1",
           0.15
          ],
          [
           "Legmurn Road, 35",
           "1",
           0.1
          ],
          [
           "Lethans",
           "22",
           105.6
          ],
          [
           "Lethendy Farm",
           "1",
           0.33
          ],
          [
           "Letteran Road, 62A",
           "1",
           0.225
          ],
          [
           "Lettery Road",
           "1",
           0.25
          ],
          [
           "Leys Farm (Fife)",
           "1",
           0.225
          ],
          [
           "Ligford Road, 106",
           "1",
           0.25
          ],
          [
           "Limehill Road, 108",
           "1",
           0.225
          ],
          [
           "Limehill Road, 123",
           "1",
           0.25
          ],
          [
           "Limehill Road, 135",
           "1",
           0.225
          ],
          [
           "Limehill Road, 65",
           "1",
           0.225
          ],
          [
           "Limekiln (Resubmission)",
           "19",
           85.5
          ],
          [
           "Limekiln Extension",
           "5",
           21
          ],
          [
           "Linburn Farm (2nd Resubmission)",
           "2",
           1.7
          ],
          [
           "Lion Hill",
           "4",
           9.2
          ],
          [
           "Lisbarnet Road, 32A (Replacement)",
           "1",
           0.25
          ],
          [
           "Lisdoo Road, 10",
           "1",
           0.25
          ],
          [
           "Lisgarty Road, 16",
           "1",
           0.25
          ],
          [
           "Lislafferty Road, 20 (Replacement) (Resubmission)",
           "1",
           0.25
          ],
          [
           "Lislafferty Road, 20 Turbine 2 (Replacement) (Resubmission)",
           "1",
           0.25
          ],
          [
           "Lismaine Road, 12",
           "1",
           0.225
          ],
          [
           "Lisnahunshin Road, 135 (Replacement)",
           "1",
           0.225
          ],
          [
           "Lisnisk",
           "1",
           0.1
          ],
          [
           "Little Hartfell",
           "12",
           36
          ],
          [
           "Little Sypland",
           "1",
           0.8
          ],
          [
           "Littleton Farm (Replacement)",
           "3",
           0.75
          ],
          [
           "Llanbrynmair",
           "30",
           90
          ],
          [
           "Llwyncelyn Farm",
           "2",
           5
          ],
          [
           "Llygad-enwyn Farm",
           "1",
           0.9
          ],
          [
           "Lochhead Quarry",
           "2",
           0.1
          ],
          [
           "Lochluichart Extension 2",
           "5",
           24
          ],
          [
           "Lochmalony Farm",
           "1",
           0.5
          ],
          [
           "Loganhead",
           "8",
           25.6
          ],
          [
           "Longfield Lane, 22",
           "1",
           0.15
          ],
          [
           "Longhill Burn",
           "8",
           50
          ],
          [
           "Longland Road, 108",
           "1",
           0.225
          ],
          [
           "Longmore Road, 130",
           "1",
           0.1
          ],
          [
           "Longmore Road, 98",
           "1",
           0.225
          ],
          [
           "Lorg",
           "9",
           32.4
          ],
          [
           "Lough Shore Road, 175",
           "1",
           0.15
          ],
          [
           "Loughan Road, 22 (Replacement)",
           "1",
           0.225
          ],
          [
           "Loughan's Road, 94",
           "1",
           0.25
          ],
          [
           "Loughmallon Road, 112",
           "1",
           0.25
          ],
          [
           "Loughmallon Road, 131 (Replacement)",
           "1",
           0.25
          ],
          [
           "Loughmourne Road, 43 (Replacement)",
           "1",
           0.25
          ],
          [
           "Loughside Quarry",
           "1",
           0.225
          ],
          [
           "Low Blackwood Yards Farm",
           "1",
           0.5
          ],
          [
           "Lower Cairny",
           "2",
           1.6
          ],
          [
           "Lower Cushnie (Resubmission)",
           "1",
           0.1
          ],
          [
           "Lower Rumster (2nd Resubmission)",
           "3",
           0.3
          ],
          [
           "Lower Tregeen",
           "1",
           0.9
          ],
          [
           "Lurg Hill",
           "5",
           15
          ],
          [
           "Lurgana Road, 16",
           "1",
           0.1
          ],
          [
           "Lurganeden Road, 92",
           "1",
           0.25
          ],
          [
           "Lurgylea Road",
           "1",
           0.225
          ],
          [
           "Maboy Road",
           "1",
           0.25
          ],
          [
           "Macken (Replacement) (Resubmission)",
           "1",
           0.25
          ],
          [
           "Macosquin Quarry",
           "1",
           0.25
          ],
          [
           "Maesgwyn Extension Phase 2",
           "3",
           7.5
          ],
          [
           "Maesnewydd (Resubmission)",
           "1",
           0.225
          ],
          [
           "Magheraboy Road, 10 Turbine 2 (Replacement)",
           "1",
           0.25
          ],
          [
           "Magherenny Road",
           "1",
           0.25
          ],
          [
           "Mains of Buthlaw",
           "2",
           0.45
          ],
          [
           "Mains of Kirktonhill Farm (Resubmission)",
           "1",
           0.225
          ],
          [
           "Mains of Pittarrow",
           "1",
           0.1
          ],
          [
           "Manor Farm (East Riding of Yorkshire, Dunnington) Turbine 2",
           "1",
           4.2
          ],
          [
           "Manor Farm (Staffordshire)",
           "1",
           0.5
          ],
          [
           "Manor House Farm (North Yorkshire) - Repower",
           "1",
           0.13
          ],
          [
           "Manse Road, 90",
           "1",
           0.15
          ],
          [
           "Mantlin Road 1",
           "1",
           0.225
          ],
          [
           "Mantlin Road 2",
           "1",
           0.25
          ],
          [
           "Margree (Revised)",
           "9",
           49.5
          ],
          [
           "Markethill Road",
           "1",
           0.25
          ],
          [
           "Marshallstown Road, 68",
           "1",
           0.225
          ],
          [
           "Mawillian Road, 44",
           "1",
           0.225
          ],
          [
           "McCreery's Road, 9",
           "1",
           0.28
          ],
          [
           "Meenacloy Road, 20",
           "1",
           0.225
          ],
          [
           "Meenakeeran",
           "4",
           10
          ],
          [
           "Meenanea Road",
           "1",
           0.25
          ],
          [
           "Meikle Culloch Farm",
           "2",
           0.2
          ],
          [
           "Meikle Hill",
           "6",
           13.8
          ],
          [
           "Melin Court",
           "5",
           18
          ],
          [
           "Metropolitan Police Specialist Training Centre",
           "1",
           0.1
          ],
          [
           "Mickley Grange Farm",
           "1",
           0.225
          ],
          [
           "Midseat Farm",
           "2",
           0.17
          ],
          [
           "Mill Rig",
           "6",
           36
          ],
          [
           "Millennium South (Glenmoriston) Extension 3",
           "10",
           35
          ],
          [
           "Minerstown Road, 110",
           "1",
           0.15
          ],
          [
           "Minerstown Road, 40",
           "1",
           0.25
          ],
          [
           "Mitchell's House Reservoirs",
           "1",
           0.5
          ],
          [
           "Mochrum Fell",
           "8",
           24
          ],
          [
           "Moneyduff Road, 35",
           "1",
           0.25
          ],
          [
           "Moneynick Road, 171 (Replacement)",
           "1",
           0.25
          ],
          [
           "Moneysillan Park",
           "1",
           0.25
          ],
          [
           "Monteith House Farm",
           "2",
           0.2
          ],
          [
           "Moodage Road, 14",
           "1",
           0.225
          ],
          [
           "Moray West",
           "60",
           882
          ],
          [
           "Moss Side of Esslie (Resubmission)",
           "1",
           0.8
          ],
          [
           "Mossneuk Farm",
           "1",
           0.33
          ],
          [
           "Mossy Hill",
           "12",
           48
          ],
          [
           "Mount Farm (South Lanarkshire)",
           "1",
           2.35
          ],
          [
           "Mountain Road",
           "1",
           0.5
          ],
          [
           "Mounthill Road",
           "1",
           0.25
          ],
          [
           "Mountjoy Road, 321 Turbine 2",
           "1",
           0.25
          ],
          [
           "Mountwest Wind Cluster",
           "3",
           2.4
          ],
          [
           "Mountwest Wind Cluster Turbine 4",
           "1",
           0.8
          ],
          [
           "Moyarget Road, 59 (Replacement)",
           "1",
           0.25
          ],
          [
           "Moyarget Road, 66 (Replacement) (Resubmission)",
           "1",
           0.25
          ],
          [
           "Moyarget Road, 90 (Replacement)",
           "1",
           0.225
          ],
          [
           "Muaitheabhal (Uisenis)",
           "33",
           138.6
          ],
          [
           "Muaitheabhal East Extension",
           "6",
           25.2
          ],
          [
           "Muaitheabhal South Extension",
           "6",
           25.2
          ],
          [
           "Muirhead Farm (Fife)",
           "1",
           0.9
          ],
          [
           "Muirhouse Farm (South Lanarkshire, Boghead)",
           "1",
           0.4
          ],
          [
           "Mullaghgarrow Road, 34",
           "1",
           0.25
          ],
          [
           "Mullan Road, 126",
           "1",
           0.25
          ],
          [
           "Mullan Road, 15 (Replacement)",
           "1",
           0.25
          ],
          [
           "Mullanmore Road, 75 Turbine 1 (Replacement)",
           "1",
           0.25
          ],
          [
           "Mullanmore Road, 75 Turbine 2",
           "1",
           0.25
          ],
          [
           "Mullanmore Road, 93",
           "1",
           0.25
          ],
          [
           "Mulnavoo Road, 3",
           "1",
           0.25
          ],
          [
           "Murley",
           "9",
           21.6
          ],
          [
           "Murnells Road, 12",
           "1",
           0.225
          ],
          [
           "Murnells Road, 12 Turbine 3",
           "1",
           0.25
          ],
          [
           "Murton White House",
           "2",
           0.5
          ],
          [
           "Mynydd Pencarreg",
           "2",
           5
          ],
          [
           "Myra Road",
           "1",
           0.225
          ],
          [
           "Myres Hill V27",
           "1",
           0.225
          ],
          [
           "Nantgerdinen (Resubmission)",
           "1",
           0.1
          ],
          [
           "Nant-Y-Gwyddon",
           "1",
           1.5
          ],
          [
           "Napleton Lodge",
           "1",
           0.5
          ],
          [
           "Neilston Additional Turbine",
           "1",
           2.5
          ],
          [
           "Netherton (Aberdeenshire)",
           "1",
           0.5
          ],
          [
           "New Line Road, 21",
           "1",
           0.25
          ],
          [
           "Newry Road, 29 (Replacement)",
           "1",
           0.25
          ],
          [
           "Newton of Begshill",
           "1",
           0.8
          ],
          [
           "North Fish Extension",
           "1",
           0.9
          ],
          [
           "North Haddo",
           "2",
           1.6
          ],
          [
           "North Kyle",
           "49",
           212
          ],
          [
           "Odd House Farm",
           "1",
           0.1
          ],
          [
           "Old Frosses Road",
           "1",
           0.225
          ],
          [
           "Omagh Road, 174 (Resubmission)",
           "1",
           0.225
          ],
          [
           "Omagh Road, 174 Turbine 2 (Replacement)",
           "1",
           0.25
          ],
          [
           "Omagh Road, 73 (Resubmission)",
           "1",
           0.225
          ],
          [
           "Omerbane Road, 24 (Replacement)",
           "1",
           0.225
          ],
          [
           "Omerbane Road, 29 (Replacement)",
           "1",
           0.225
          ],
          [
           "One World Logistics (Resubmission)",
           "2",
           0.12
          ],
          [
           "Ora More II",
           "3",
           6
          ],
          [
           "Osclay Quarry",
           "1",
           0.8
          ],
          [
           "Overhill",
           "10",
           36
          ],
          [
           "Owenbeg Centre of Excellence",
           "1",
           0.15
          ],
          [
           "Pant y Maen (Griffiths Recovered)",
           "7",
           17.5
          ],
          [
           "Pant yr Hen",
           "1",
           0.225
          ],
          [
           "Paul's Hill 2",
           "6",
           20.4
          ],
          [
           "Peacock Road, 99 (2nd Replacement) (Resubmission)",
           "1",
           0.25
          ],
          [
           "Pearie Law II",
           "3",
           14.4
          ],
          [
           "Pen y Caerau",
           "1",
           0.1
          ],
          [
           "Penans Farm",
           "1",
           0.5
          ],
          [
           "Penbreck (South Lanarkshire)",
           "8",
           45.6
          ],
          [
           "Pencau Lands",
           "1",
           0.1
          ],
          [
           "Pencloe",
           "19",
           85.5
          ],
          [
           "Pengarnddu Industrial Estate (Plot 3) (Resubmission)",
           "1",
           0.5
          ],
          [
           "Penhill Farm",
           "2",
           0.17
          ],
          [
           "Penrhiw Fach",
           "1",
           0.5
          ],
          [
           "Pentland Floating Offshore Wind Demo",
           "1",
           14
          ],
          [
           "Pigeon Top",
           "9",
           37.8
          ],
          [
           "Pines Burn",
           "12",
           34
          ],
          [
           "Plascow Farm Extension",
           "1",
           0.8
          ],
          [
           "Pockthrope Hall 1",
           "1",
           0.225
          ],
          [
           "Polquhairn",
           "9",
           22.5
          ],
          [
           "Pond Farm (2nd Resubmission)",
           "1",
           0.9
          ],
          [
           "Priestgill",
           "7",
           46.2
          ],
          [
           "Quanterness",
           "6",
           28.8
          ],
          [
           "Quarry Farm",
           "2",
           0.2
          ],
          [
           "Quarterland Road",
           "1",
           0.225
          ],
          [
           "Queen Margaret University",
           "1",
           0.1
          ],
          [
           "Radergan Road, 202",
           "1",
           0.25
          ],
          [
           "Radio City",
           "1",
           2.5
          ],
          [
           "Rahall Road",
           "1",
           0.25
          ],
          [
           "Ramacken Road, 5 (Resubmission)",
           "1",
           0.25
          ],
          [
           "Rarogan Road",
           "1",
           0.25
          ],
          [
           "Rathfriland Road, 199 Turbine 2 (Replacement)",
           "1",
           0.25
          ],
          [
           "Rathfriland Road, 381",
           "1",
           0.25
          ],
          [
           "Raveagh Road, 8 Turbine 2 (Replacement)",
           "1",
           0.15
          ],
          [
           "Raws Farm (Resubmission)",
           "1",
           0.225
          ],
          [
           "Realtons Road, 15 (Replacement)",
           "1",
           0.25
          ],
          [
           "Reclain Road, 52 (Replacement)",
           "1",
           0.25
          ],
          [
           "Reclain Road, 77 (Resubmission)",
           "1",
           0.25
          ],
          [
           "Reclain Road, 95",
           "1",
           0.225
          ],
          [
           "Red Brae Road, 51a",
           "1",
           0.25
          ],
          [
           "Redbrae Farm (Resubmission)",
           "2",
           0.1
          ],
          [
           "Redlands Poultry Farm",
           "1",
           0.5
          ],
          [
           "Rench Farm (Resubmission)",
           "1",
           0.1
          ],
          [
           "Reservoir Road, 15 (Replacement)",
           "1",
           0.225
          ],
          [
           "Reservoir Road, 15 Turbine 2",
           "1",
           0.225
          ],
          [
           "Revallagh Road, 6 Turbine 2",
           "1",
           0.25
          ],
          [
           "Rhigos Road",
           "1",
           0.5
          ],
          [
           "Rhiwfelin Fach Farm Turbine 2",
           "1",
           0.9
          ],
          [
           "Rhos Farm",
           "1",
           0.25
          ],
          [
           "Rhyd y Fallen",
           "1",
           0.225
          ],
          [
           "Rhyd y Groes - Repower",
           "11",
           9.9
          ],
          [
           "Rigged Hill - Repower",
           "7",
           28
          ],
          [
           "Rock Road, 1 (Resubmission)",
           "1",
           0.15
          ],
          [
           "Rock Road, 2",
           "1",
           0.25
          ],
          [
           "Rock Road, 82",
           "1",
           0.225
          ],
          [
           "Rockdale Road, 71 (Resubmission)",
           "1",
           0.25
          ],
          [
           "Rockstown Road, 124 (Replacement)",
           "1",
           0.25
          ],
          [
           "Rockstown Road, 128",
           "1",
           0.225
          ],
          [
           "Rockstown Road, 141",
           "1",
           0.225
          ],
          [
           "Rockstown Road, 3",
           "1",
           0.25
          ],
          [
           "Rocktown Road",
           "1",
           0.225
          ],
          [
           "Rosebank",
           "1",
           0.5
          ],
          [
           "Rosemay Farm",
           "2",
           0.12
          ],
          [
           "Rosemount Road",
           "1",
           0.25
          ],
          [
           "Rosnareen Road, 69 (Replacement)",
           "1",
           0.25
          ],
          [
           "Rossorry Church Road, 165",
           "1",
           0.15
          ],
          [
           "Rothes III",
           "28",
           132.7
          ],
          [
           "Royal Oak Road, 24",
           "1",
           0.225
          ],
          [
           "Rumster Forest Community Wind Farm",
           "3",
           2.7
          ],
          [
           "Rye Hill Farm",
           "1",
           0.5
          ],
          [
           "Sallachy (Revised)",
           "9",
           36
          ],
          [
           "Sanquhar 'Six'",
           "6",
           19.8
          ],
          [
           "Scaddy Road, 54 (Resubmission)",
           "1",
           0.225
          ],
          [
           "Scallen Road, 103",
           "1",
           0.1
          ],
          [
           "Scallen Road, 84",
           "1",
           0.25
          ],
          [
           "Scallen Road, 85",
           "1",
           0.225
          ],
          [
           "Scottish Off Road Driving Centre",
           "1",
           0.225
          ],
          [
           "Scout Moor Extension (Community Share) (Rochdale) (Clarke Recovered)",
           "2",
           4.6
          ],
          [
           "Sealstown Road, 70",
           "1",
           0.225
          ],
          [
           "Seefin Hill",
           "1",
           0.225
          ],
          [
           "Seefin Hill Turbine 2",
           "1",
           0.25
          ],
          [
           "Seegronan Extension",
           "3",
           6.9
          ],
          [
           "Selbrigg Farm (Resubmission)",
           "1",
           0.5
          ],
          [
           "Seneca Wind Cluster",
           "2",
           4.6
          ],
          [
           "Seskin Road",
           "2",
           0.5
          ],
          [
           "Sessiagh Road, 37 (Replacement)",
           "1",
           0.25
          ],
          [
           "Shane Road",
           "1",
           0.225
          ],
          [
           "Shankill Road, 65 (Replacement)",
           "1",
           0.25
          ],
          [
           "Shanmaghry Road, 18",
           "1",
           0.25
          ],
          [
           "Shaughan Road, 15 (Resubmission)",
           "1",
           0.25
          ],
          [
           "Shaughan Road, 32 (Replacement)",
           "1",
           0.225
          ],
          [
           "Shelloch",
           "5",
           24
          ],
          [
           "Silotank",
           "1",
           0.25
          ],
          [
           "Skerry West Road, 7",
           "1",
           0.15
          ],
          [
           "Skreen Road, 33",
           "1",
           0.25
          ],
          [
           "Slane Road",
           "1",
           0.25
          ],
          [
           "Slaughtmanus Road, 35 (Replacement)",
           "1",
           0.225
          ],
          [
           "Slaughtmanus Road, 54",
           "1",
           0.25
          ],
          [
           "Slievebane Road",
           "1",
           0.25
          ],
          [
           "Slieveboy Road",
           "1",
           0.225
          ],
          [
           "Slisgarrow",
           "1",
           0.25
          ],
          [
           "Sloughan Road, 42",
           "1",
           0.25
          ],
          [
           "Slush Hill Quarry Turbine 1",
           "1",
           0.25
          ],
          [
           "Slush Hill Quarry Turbine 2",
           "1",
           0.25
          ],
          [
           "Smart Systems (Resubmission)",
           "1",
           0.5
          ],
          [
           "Smiddyhill Farm (East Renfrewshire)",
           "1",
           0.1
          ],
          [
           "Sorbie Farm (Resubmission)",
           "3",
           13
          ],
          [
           "South Priorhill Farm",
           "1",
           1.5
          ],
          [
           "Southrigg Farm Turbine 2",
           "1",
           4.2
          ],
          [
           "Springhill Moss",
           "1",
           0.05
          ],
          [
           "St Andrews Road",
           "1",
           0.5
          ],
          [
           "St Fergus",
           "2",
           4
          ],
          [
           "Staffordstown Road, 178 (Replacement)",
           "1",
           0.225
          ],
          [
           "Stanebent Farm",
           "1",
           0.5
          ],
          [
           "Station Road, 30",
           "1",
           0.25
          ],
          [
           "Stone Road, 14 Turbine 2",
           "1",
           0.225
          ],
          [
           "Stornoway Wind Farm",
           "33",
           200
          ],
          [
           "Strachur House (Resubmission)",
           "1",
           0.25
          ],
          [
           "Stranoch 2",
           "20",
           99.96
          ],
          [
           "Strath Tirry",
           "4",
           19.2
          ],
          [
           "Strathallan",
           "9",
           20.7
          ],
          [
           "Strathrory",
           "5",
           38.1
          ],
          [
           "Strathy South",
           "35",
           186
          ],
          [
           "Strathy Wood",
           "13",
           62.4
          ],
          [
           "Stroan Road, 37 (Replacement) (Resubmission)",
           "1",
           0.25
          ],
          [
           "Struan Clay Pigeon Shooting Range",
           "1",
           0.5
          ],
          [
           "Suffolk 3 - Laurel's Farm (2nd Resubmission)",
           "1",
           2
          ],
          [
           "Sultan Road",
           "1",
           0.25
          ],
          [
           "Tallbridge Road, 10 (Replacement)",
           "1",
           0.25
          ],
          [
           "Tangy IV - Repower",
           "16",
           80
          ],
          [
           "Tarn Lane",
           "1",
           0.33
          ],
          [
           "Tate Road",
           "1",
           0.225
          ],
          [
           "Tattenabuddagh Lane",
           "1",
           0.25
          ],
          [
           "Tattycam Road",
           "1",
           0.25
          ],
          [
           "Tattynure Road",
           "1",
           0.25
          ],
          [
           "Tedd Road, 146",
           "1",
           0.225
          ],
          [
           "Teigues Hill Road, 119",
           "1",
           0.225
          ],
          [
           "Termon Business Park",
           "1",
           0.25
          ],
          [
           "Termon Road, 136",
           "1",
           0.25
          ],
          [
           "Termon Road, 136 Turbine 2",
           "1",
           0.25
          ],
          [
           "Termon Road, 143",
           "1",
           0.225
          ],
          [
           "Termon Road, 191",
           "1",
           0.25
          ],
          [
           "Termon Road, 191 Turbine 2",
           "1",
           0.25
          ],
          [
           "The Corb (Resubmission)",
           "1",
           0.85
          ],
          [
           "The Kids Road, 50 (Replacement)",
           "1",
           0.25
          ],
          [
           "The Old Stables",
           "1",
           0.5
          ],
          [
           "The State Hospital",
           "1",
           0.5
          ],
          [
           "Thornhill Road, 66 (Replacement)",
           "1",
           0.25
          ],
          [
           "Thornyhill Road, 60",
           "1",
           0.25
          ],
          [
           "Tildarg Road South, 28 Turbine 2",
           "1",
           0.25
          ],
          [
           "Tir Emmanuel Farm",
           "2",
           0.5
          ],
          [
           "Tirkane Road, 134",
           "1",
           0.225
          ],
          [
           "Toddsleap Road, 92",
           "1",
           0.225
          ],
          [
           "Toldrie Farm",
           "1",
           0.5
          ],
          [
           "Torbrex Farm",
           "1",
           0.5
          ],
          [
           "Torhousemuir Farm (Resubmission)",
           "3",
           0.18
          ],
          [
           "Tormywheel Extension",
           "2",
           5
          ],
          [
           "Trefforis Fawr",
           "1",
           0.225
          ],
          [
           "Trench Road, 51 (Replacement)",
           "1",
           0.25
          ],
          [
           "Troston Loch",
           "14",
           67.2
          ],
          [
           "Trostrie Farm",
           "1",
           0.33
          ],
          [
           "Tullanaginn",
           "1",
           0.25
          ],
          [
           "Tullyherron Road, 19 (Replacement)",
           "1",
           0.225
          ],
          [
           "Tullyherron Road, 8",
           "1",
           0.225
          ],
          [
           "Tullykevin Road, 16 (Replacement)",
           "1",
           0.25
          ],
          [
           "Tullykittagh Road, 48",
           "1",
           0.25
          ],
          [
           "Tullykittagh Road, 58",
           "1",
           0.25
          ],
          [
           "Tullynahinnion Road, 9",
           "1",
           0.225
          ],
          [
           "Tullyrush Road, 8 (Replacement)",
           "1",
           0.15
          ],
          [
           "Tullyrusk Road, 25",
           "1",
           0.25
          ],
          [
           "Tummery Road, 256 (Replacement)",
           "1",
           0.15
          ],
          [
           "Tureagh Road, 23",
           "1",
           0.25
          ],
          [
           "Tursallagh Road, 60 (Replacement)",
           "1",
           0.25
          ],
          [
           "Ulster University Turbine 3",
           "1",
           0.8
          ],
          [
           "Upper Balmachie Farm",
           "1",
           0.8
          ],
          [
           "Upper Cranlome Road, 16",
           "1",
           0.25
          ],
          [
           "Upper Gransha Road, 26",
           "1",
           0.25
          ],
          [
           "Upper Haywood Farm Turbine 2",
           "1",
           0.5
          ],
          [
           "Upper Ogmore",
           "7",
           25.2
          ],
          [
           "Upper Wyndings",
           "1",
           0.225
          ],
          [
           "Valley Road, 36",
           "1",
           0.25
          ],
          [
           "Vestry Road, 4",
           "1",
           2
          ],
          [
           "Vestry Road, 4 Turbine 2",
           "1",
           2
          ],
          [
           "Wagglehill (Resubmission)",
           "1",
           0.225
          ],
          [
           "Walton Hay Farm",
           "1",
           0.1
          ],
          [
           "Waulkmill Quarry",
           "1",
           0.225
          ],
          [
           "West Kype Farm (Resubmission)",
           "1",
           0.25
          ],
          [
           "West Nethercott Farm (Resubmission)",
           "2",
           0.1
          ],
          [
           "West Street, 49 (Replacement)",
           "1",
           0.25
          ],
          [
           "Whappstown",
           "3",
           12.6
          ],
          [
           "Whitebridge Road, 147",
           "1",
           0.25
          ],
          [
           "Whitebridge Road, 196",
           "1",
           0.25
          ],
          [
           "Whitebridge Road, 224",
           "1",
           0.15
          ],
          [
           "Whitecraigs Farm",
           "1",
           0.225
          ],
          [
           "Whitelaw Brae",
           "14",
           57
          ],
          [
           "Whiterock Road, 14",
           "1",
           0.15
          ],
          [
           "Wilton Farm Bungalow",
           "1",
           0.5
          ],
          [
           "Windy Edge",
           "9",
           22.5
          ],
          [
           "Windyhill Road, 223 (Replacement)",
           "1",
           0.225
          ],
          [
           "Witham",
           "1",
           0.5
          ],
          [
           "Wold House",
           "1",
           0.5
          ],
          [
           "Woodhill Hunting Lodge (Replacement)",
           "1",
           0.15
          ],
          [
           "Woodlands Farm Turbine 2 (Aberdeenshire) (Resubmission)",
           "1",
           0.5
          ],
          [
           "Woodleasowes Farm",
           "1",
           0.1
          ],
          [
           "Woodside Road, 14 (Resubmission)",
           "1",
           0.225
          ],
          [
           "Woodside Road, 79 (Replacement)",
           "1",
           0.25
          ],
          [
           "Woodside Road, 90 (Replacement)",
           "1",
           0.25
          ]
         ],
         "hovertemplate": "Latitude=%{lat}<br>Longitude=%{lon}<br>Project Name=%{customdata[0]}<br>Number of Turbines=%{customdata[1]}<br>Project Capacity (MW)=%{marker.color}<extra></extra>",
         "lat": [
          52.8416,
          51.6199,
          57.2536,
          51.68,
          58.4411,
          56.1244,
          55.6707,
          54.6771,
          54.4632,
          54.493,
          54.5654,
          54.4463,
          54.2478,
          54.2522,
          54.2108,
          54.4133,
          54.412,
          54.4932,
          54.5183,
          54.5625,
          54.5649,
          54.9617,
          55.4327,
          54.7513,
          55.8408,
          58.9465,
          51.8687,
          54.4541,
          54.8719,
          54.5623,
          54.5156,
          54.4447,
          56.659,
          57.5203,
          56.3867,
          54.52,
          54.8149,
          55.0896,
          52.0031,
          54.2572,
          58.3449,
          54.975,
          56.0183,
          53.7584,
          52.4003,
          56.7769,
          55.8325,
          54.9034,
          54.657,
          55.6292,
          57.4389,
          57.6164,
          54.6413,
          57.3956,
          54.3936,
          55.0246,
          54.5865,
          54.8113,
          54.6298,
          55.1975,
          54.5789,
          54.177,
          54.9669,
          54.6586,
          54.4071,
          54.5451,
          54.5178,
          54.9042,
          54.4961,
          54.8572,
          54.5894,
          54.643,
          54.3893,
          54.4379,
          54.3133,
          54.4184,
          54.4244,
          54.4242,
          54.5931,
          54.8341,
          54.6385,
          54.6435,
          56.6208,
          57.4911,
          56.7628,
          56.7622,
          55.1522,
          54.6164,
          55.5778,
          54.9337,
          54.8758,
          54.5498,
          54.5386,
          54.6602,
          54.6483,
          54.9481,
          60.5193,
          54.4106,
          53.5917,
          57.3496,
          55.0258,
          54.6873,
          57.4432,
          57.4583,
          55.0391,
          54.5477,
          57.4865,
          54.2446,
          58.2255,
          57.2514,
          53.5717,
          54.8664,
          55.7211,
          54.2537,
          51.9281,
          54.6864,
          56.2773,
          54.4797,
          57.4933,
          54.6676,
          54.6614,
          56.1043,
          54.4197,
          54.9772,
          54.1365,
          57.6225,
          55.6508,
          54.4366,
          57.9742,
          54.3852,
          54.5044,
          55.6464,
          55.2987,
          54.4881,
          54.8081,
          55.8358,
          51.7612,
          51.9248,
          51.8324,
          54.6212,
          54.3564,
          59.1197,
          55.7797,
          54.7948,
          58.1452,
          57.4594,
          57.429,
          56.5761,
          56.2076,
          55.8168,
          54.6201,
          54.6146,
          54.6164,
          54.6344,
          54.6428,
          54.6421,
          54.6189,
          54.5437,
          54.9445,
          54.8471,
          54.5294,
          54.5283,
          54.5156,
          54.3856,
          54.5333,
          54.831,
          54.298,
          52.5331,
          54.3222,
          56.6944,
          54.8387,
          55.6881,
          54.2178,
          55.1338,
          54.8158,
          54.4195,
          54.9006,
          55.1261,
          54.794,
          56.9367,
          55.3086,
          51.9547,
          55.0542,
          54.6549,
          54.297,
          54.7533,
          53.0893,
          54.3876,
          54.3957,
          55.618,
          54.2481,
          57.5075,
          51.5606,
          55.0076,
          54.2093,
          54.5436,
          54.5345,
          54.5302,
          54.5314,
          55.7206,
          54.1289,
          54.7946,
          54.6397,
          51.9484,
          54.4069,
          58.4952,
          50.6472,
          55.6314,
          54.8041,
          54.7567,
          54.7708,
          54.7261,
          54.8675,
          55.1139,
          54.3489,
          54.3542,
          54.3503,
          54.2728,
          54.6442,
          55.0323,
          55.0442,
          55.0509,
          55.0401,
          55.0324,
          55.019,
          54.9093,
          57.2475,
          55.2206,
          55.633,
          54.5719,
          52.83,
          59.1491,
          54.0794,
          54.5556,
          54.7955,
          54.6199,
          54.6324,
          55.0513,
          55.0398,
          55.0353,
          54.8605,
          55.0294,
          55.0321,
          54.8154,
          54.932,
          54.9309,
          56.0728,
          54.393,
          54.3851,
          54.6378,
          54.6452,
          54.6461,
          54.5642,
          54.3089,
          54.4582,
          54.5172,
          54.7135,
          54.7133,
          54.7116,
          55.1297,
          54.1704,
          55.41,
          54.4258,
          54.8011,
          54.2606,
          54.702,
          54.7186,
          55.8982,
          56.1024,
          54.7451,
          55.5879,
          54.8303,
          54.9237,
          54.5689,
          54.9231,
          54.2575,
          53.2614,
          57.125,
          54.9294,
          54.4176,
          54.3517,
          54.4728,
          57.5815,
          54.6036,
          54.6091,
          54.7158,
          54.761,
          54.7531,
          54.8551,
          52.6043,
          54.5103,
          54.5118,
          54.448,
          54.4392,
          54.7286,
          55.5679,
          56.5508,
          57.6006,
          54.5011,
          58.3535,
          54.9488,
          54.4156,
          54.7505,
          54.7539,
          54.7518,
          54.754,
          54.8202,
          54.5875,
          54.6156,
          54.5739,
          54.3849,
          55.084,
          55.9014,
          54.6716,
          54.5727,
          54.525,
          54.4097,
          56.4258,
          54.8556,
          54.6814,
          54.5147,
          56.3264,
          54.1469,
          54.9589,
          55.0808,
          55.0694,
          54.275,
          57.5135,
          54.3769,
          55.6991,
          55.1553,
          55.7397,
          55.6514,
          56.276,
          55.6449,
          56.1883,
          60.3954,
          55.9259,
          54.7497,
          54.8666,
          54.3969,
          54.3881,
          54.5433,
          54.4183,
          54.417,
          54.4158,
          54.4336,
          54.4462,
          54.4497,
          55.3414,
          51.4597,
          54.7226,
          54.7185,
          54.4611,
          54.5358,
          54.4476,
          59.2192,
          54.9408,
          54.5031,
          56.2669,
          55.1403,
          55.6406,
          54.2356,
          56.9688,
          53.8292,
          56.3521,
          54.6486,
          54.5108,
          54.4344,
          55.0138,
          54.6411,
          54.6444,
          50.3989,
          51.6242,
          54.6852,
          54.9288,
          56.1328,
          55.8728,
          54.5962,
          55.6261,
          54.3751,
          56.5683,
          57.4161,
          54.494,
          54.375,
          54.4794,
          53.8504,
          51.8276,
          54.2029,
          57.5817,
          54.4845,
          54.4767,
          54.4834,
          57.5219,
          54.973,
          54.6082,
          54.8042,
          54.61,
          54.6055,
          50.8075,
          54.9514,
          54.9509,
          54.3913,
          57.3947,
          54.5508,
          54.5458,
          54.5458,
          54.9846,
          55.6889,
          54.9296,
          55.5387,
          56.2303,
          55.3958,
          55.1667,
          54.5849,
          53.5789,
          58.3466,
          54.5761,
          54.1814,
          54.6216,
          56.5822,
          55.0777,
          54.3372,
          54.4679,
          54.3133,
          56.6922,
          54.6252,
          57.5925,
          55.8983,
          55.1263,
          55.1302,
          54.622,
          55.6319,
          54.7185,
          54.6489,
          55.0142,
          52.9962,
          52.9968,
          52.9976,
          55.555,
          52.7606,
          55.6419,
          56.1149,
          53.7632,
          59.0879,
          55.8204,
          55.5576,
          55.8231,
          55.7956,
          52.9953,
          53.1977,
          56.9139,
          56.9164,
          58.7776,
          55.6892,
          55.4967,
          50.6383,
          58.2197,
          54.5164,
          54.5161,
          55.0288,
          54.6582,
          54.6611,
          57.4928,
          58.6015,
          58.2692,
          57.4867,
          54.7838,
          56.2328,
          50.8136,
          57.3653,
          53.3147,
          55.1854,
          55.8975,
          58.826,
          55.8164,
          57.5069,
          54.3691,
          53.716,
          54.6614,
          54.5744,
          54.5746,
          54.8758,
          54.8831,
          55.184,
          57.3914,
          55.0299,
          54.2221,
          54.6857,
          54.6978,
          51.5378,
          56.2989,
          54.3453,
          55.5027,
          55.4979,
          52.5208,
          54.5356,
          54.9931,
          54.7364,
          54.9617,
          54.9084,
          54.42,
          54.4208,
          54.4456,
          54.7311,
          54.4137,
          54.2091,
          55.3064,
          55.7122,
          55.1289,
          55.3894,
          54.2547,
          54.6846,
          56.0563,
          57.9959,
          55.6886,
          53.0625,
          54.91,
          54.7892,
          54.6163,
          54.617,
          54.5206,
          54.4066,
          54.3204,
          54.9673,
          54.9389,
          54.5865,
          54.5924,
          55.4061,
          56.5656,
          54.725,
          54.5394,
          56.2629,
          54.7764,
          54.6204,
          54.623,
          54.6328,
          54.6142,
          58.5231,
          58.5231,
          55.53,
          55.3753,
          54.4996,
          54.7624,
          54.5361,
          54.709,
          54.7075,
          54.4511,
          54.8978,
          55.0528,
          55.1888,
          54.87,
          54.8716,
          52.6425,
          51.616,
          52.0789,
          56.0961,
          57.6792,
          56.3728,
          55.1709,
          54.768,
          55.8112,
          54.8811,
          54.9406,
          54.938,
          55.2832,
          54.3854,
          54.8743,
          54.4693,
          54.6106,
          54.6248,
          54.7688,
          54.8117,
          55.6683,
          56.8195,
          57.6469,
          58.3086,
          50.6633,
          57.6116,
          54.2134,
          54.5818,
          54.5433,
          54.91,
          54.2569,
          55.09,
          51.7406,
          52.0947,
          55.1828,
          54.5772,
          57.5286,
          56.7897,
          56.8716,
          53.962,
          52.8283,
          54.1281,
          54.7768,
          54.5244,
          54.5181,
          55.1532,
          54.32,
          54.7494,
          54.6692,
          54.7328,
          54.6125,
          54.6897,
          54.6794,
          54.9622,
          57.5381,
          51.6922,
          51.4408,
          54.9356,
          55.8508,
          55.5881,
          57.1203,
          54.2545,
          54.2537,
          53.7467,
          55.0519,
          54.9894,
          54.7502,
          54.9153,
          55.8504,
          54.3401,
          58.1736,
          56.8249,
          55.7967,
          60.1735,
          55.6373,
          54.7589,
          54.8042,
          54.6025,
          57.3467,
          57.3456,
          55.1937,
          55.1842,
          55.1766,
          58.0206,
          58.0169,
          58.0014,
          56.257,
          55.6429,
          54.2314,
          54.9757,
          54.9776,
          54.6213,
          54.6239,
          54.6258,
          54.8098,
          54.4256,
          54.6292,
          54.63,
          55.7373,
          52.0486,
          54.3697,
          55.6917,
          51.9598,
          51.6343,
          52.356,
          55.7539,
          57.4215,
          54.9952,
          54.0791,
          57.4208,
          60.1667,
          57.4411,
          55.3517,
          52.5721,
          54.9725,
          54.4783,
          54.4777,
          54.4817,
          54.9998,
          54.9998,
          53.3308,
          54.3319,
          58.3267,
          55.3878,
          54.9225,
          53.1175,
          52.1861,
          57.4542,
          54.769,
          55.8113,
          52.3292,
          50.3017,
          55.4776,
          51.9163,
          55.3333,
          51.7686,
          51.7573,
          52.2108,
          58.65,
          54.5828,
          55.3525,
          54.9529,
          54.0575,
          55.4025,
          52.8986,
          55.5116,
          59.0055,
          52.0044,
          54.6117,
          55.9311,
          54.4954,
          55.7906,
          54.4897,
          54.5665,
          54.4744,
          54.3522,
          54.307,
          54.4959,
          55.6399,
          54.4169,
          54.5242,
          54.5338,
          54.5409,
          54.7514,
          55.9493,
          55.7051,
          55.6185,
          55.0348,
          55.0358,
          55.171,
          51.7381,
          51.5609,
          51.7118,
          52.1858,
          53.4128,
          55.0277,
          54.5684,
          54.5612,
          54.5378,
          54.59,
          54.6021,
          54.6036,
          54.5946,
          54.5953,
          54.8122,
          56.5728,
          55.7886,
          54.3878,
          54.4214,
          54.3434,
          57.5184,
          54.2346,
          58.3475,
          52.3564,
          58.1447,
          55.3378,
          54.3796,
          54.4649,
          54.4662,
          54.4657,
          56.2933,
          53.6495,
          54.6689,
          54.8672,
          54.8686,
          54.6569,
          52.9033,
          53.7156,
          54.7547,
          54.6119,
          54.5254,
          54.4074,
          54.5598,
          54.173,
          54.1637,
          56.0647,
          54.5688,
          54.9892,
          54.5343,
          54.9575,
          54.9675,
          54.956,
          54.5006,
          54.8894,
          54.4119,
          54.6112,
          54.2685,
          54.271,
          51.3914,
          55.7771,
          55.6633,
          55.63,
          55.872,
          55.8144,
          51.5131,
          57.5669,
          54.7189,
          55.8255,
          54.9583,
          54.7444,
          58.2103,
          56.1783,
          55.0244,
          58.0963,
          56.2961,
          57.7731,
          58.4297,
          58.4708,
          55.11,
          57.4172,
          52.4483,
          54.6364,
          54.4385,
          55.5033,
          54.1764,
          54.1653,
          54.3378,
          54.2303,
          54.6858,
          54.5324,
          54.3007,
          54.5872,
          54.5926,
          54.5907,
          54.5847,
          54.5956,
          54.5875,
          56.6977,
          54.2037,
          55.1308,
          55.6922,
          54.5625,
          54.4547,
          54.7811,
          51.7481,
          54.8727,
          54.5119,
          56.266,
          55.9212,
          54.8875,
          55.798,
          51.7661,
          54.9652,
          55.1822,
          54.8993,
          54.5179,
          54.2384,
          54.2369,
          54.5485,
          55.0014,
          54.9992,
          54.8929,
          54.5538,
          54.5922,
          54.4788,
          54.7977,
          54.5598,
          55.1526,
          56.5225,
          54.5109,
          54.6287,
          55.7843,
          51.6388,
          56.9629,
          54.8183,
          54.2486,
          54.2475,
          57.5256,
          53.2056,
          56.6406,
          55.6413,
          50.7425,
          54.5838,
          54.81,
          54.5247,
          54.5403,
          54.5476,
          55.7,
          55.4647,
          54.2084,
          50.4233,
          55.2883,
          55.1046,
          53.2442,
          53.9208,
          54.4462,
          57.3103,
          52.6714,
          54.9744,
          54.8697,
          54.8669
         ],
         "legendgroup": "",
         "lon": [
          -2.92267,
          -3.28198,
          -4.24444,
          -3.50556,
          -3.4525,
          -5.31,
          -4.0041,
          -7.14089,
          -7.24083,
          -7.29329,
          -6.93067,
          -6.98082,
          -7.34917,
          -7.36,
          -6.56822,
          -7.33916,
          -7.33729,
          -6.95313,
          -6.95219,
          -7.10363,
          -7.09924,
          -6.55222,
          -4.59816,
          -6.51113,
          -5.57568,
          -3.12652,
          -2.26484,
          -7.25838,
          -7.09264,
          -6.93941,
          -6.8525,
          -7.12308,
          -2.55009,
          -3.09804,
          -5.02222,
          -7.6725,
          -6.02139,
          -4.83142,
          -0.277663,
          -6.61278,
          -6.57902,
          -4.75111,
          -3.76444,
          -0.332833,
          -0.831389,
          -2.66444,
          -5.10583,
          -5.96898,
          -6.03156,
          -3.87111,
          -2.58639,
          -2.88889,
          -7.21027,
          -2.5025,
          -7.24833,
          -6.89879,
          -5.60416,
          -6.36081,
          -7.12069,
          -6.55917,
          -6.07278,
          -7.56961,
          -6.29606,
          -6.63794,
          -6.62417,
          -5.76886,
          -5.78938,
          -7.0425,
          -5.4859,
          -5.90611,
          -6.08611,
          -5.77056,
          -6.01156,
          -5.86684,
          -6.23834,
          -7.31083,
          -7.30917,
          -7.31196,
          -5.74176,
          -5.83069,
          -6.00727,
          -6.00926,
          -6.52611,
          -3.12639,
          -2.70389,
          -2.70333,
          -4.97,
          -5.68652,
          -4.15861,
          -7.14709,
          -4.7625,
          -6.98774,
          -7.35861,
          -7.01681,
          -6.98611,
          -7.14417,
          -1.08271,
          -5.73033,
          -2.13083,
          -6.32464,
          -6.75639,
          -6.88619,
          -6.44254,
          -6.444,
          -6.55201,
          -7.05454,
          -3.51863,
          -6.4766,
          -6.4908,
          -4.66179,
          -2.23722,
          -3.06722,
          -4.45167,
          -6.58944,
          -4.56839,
          -1.71861,
          -5.17027,
          -8.0655,
          -2.60222,
          -6.01577,
          -6.02801,
          -3.62557,
          -7.24611,
          -7.01139,
          -0.475054,
          -2.70778,
          -2.03472,
          -5.90841,
          -4.4625,
          -7.59182,
          -7.46173,
          -4.30224,
          -4.23974,
          -7.98917,
          -5.85467,
          -3.77915,
          -4.15142,
          -4.18076,
          -4.07157,
          -6.04821,
          -1.38583,
          -3.12139,
          -3.61611,
          -6.31432,
          -3.6452,
          -3.70167,
          -2.32838,
          -3.865,
          -5.64333,
          -3.50861,
          -7.01553,
          -7.01918,
          -7.02148,
          -6.96917,
          -6.96006,
          -6.95443,
          -7.05536,
          -6.95457,
          -6.69462,
          -6.42685,
          -7.655,
          -7.66083,
          -7.65556,
          -7.52222,
          -0.995833,
          -6.57105,
          -6.60014,
          -3.59361,
          -5.90681,
          -3.13537,
          -5.82244,
          -4.27944,
          -6.74306,
          -6.49246,
          -6.13111,
          -5.75779,
          -7.27097,
          -6.65016,
          -7.42718,
          -2.445,
          -4.76722,
          -0.631667,
          -4.835,
          -7.71016,
          -5.60165,
          -6.35487,
          -3.36449,
          -7.41164,
          -7.3437,
          -5.62645,
          -6.58906,
          -3.56154,
          -3.08194,
          -6.86511,
          -6.33509,
          -7.05681,
          -7.01492,
          -7.00857,
          -7.01003,
          -3.26056,
          -6.24077,
          -6.62694,
          -6.87917,
          -4.53346,
          -7.57762,
          -3.24227,
          -4.53551,
          -4.16476,
          -6.05835,
          -7.47638,
          -6.29502,
          -7.45083,
          -7.39944,
          -6.29111,
          -7.29833,
          -7.29083,
          -7.29667,
          -5.7475,
          -6.85917,
          -6.26012,
          -6.27976,
          -6.28859,
          -6.3132,
          -6.28217,
          -6.30504,
          -6.73953,
          -2.59695,
          -4.0746,
          -3.80262,
          -7.41889,
          -0.193889,
          -3.22685,
          -5.97518,
          -1.09972,
          -5.79021,
          -5.56044,
          -7.22199,
          -6.76347,
          -6.77393,
          -6.69559,
          -6.67839,
          -6.72749,
          -6.72849,
          -7.3279,
          -6.42383,
          -6.41992,
          -4.14694,
          -6.57113,
          -7.36238,
          -7.03875,
          -7.04585,
          -7.05245,
          -7.23444,
          -5.58933,
          -7.06374,
          -7.99444,
          -7.13138,
          -7.12965,
          -7.12632,
          -6.28583,
          -7.56386,
          -3.64151,
          -5.80348,
          -5.84444,
          -6.70944,
          -7.02901,
          -7.31722,
          -2.49422,
          -3.39107,
          -6.76646,
          -3.9812,
          -7.42916,
          -6.8933,
          -7.50917,
          -7.31778,
          -6.54889,
          -1.27278,
          -4.48222,
          -6.97028,
          -7.5263,
          -6.88,
          -6.50472,
          -2.59522,
          -7.03529,
          -7.01273,
          -6.77047,
          -6.82081,
          -6.81662,
          -6.24389,
          -0.22207,
          -7.54636,
          -7.54867,
          -6.95948,
          -7.58279,
          -7.38472,
          -3.89819,
          -2.82194,
          -2.92583,
          -7.3535,
          -6.24641,
          -6.46105,
          -7.78056,
          -6.77819,
          -6.77843,
          -6.77446,
          -6.77517,
          -6.59925,
          -6.83833,
          -7.44382,
          -7.64139,
          -7.40845,
          -6.69022,
          -3.77889,
          -7.47153,
          -7.10621,
          -7.67361,
          -7.45048,
          -3.68646,
          -5.90437,
          -7.56611,
          -7.58194,
          -3.56306,
          -0.530737,
          -6.64042,
          -6.83309,
          -6.85547,
          -6.67408,
          -3.65156,
          -6.82417,
          -4.14223,
          -1.54722,
          -5.45028,
          -4.60139,
          -3.437,
          -4.08572,
          -2.99944,
          -1.3347,
          -3.8097,
          -1.37694,
          -7.06654,
          -7.49241,
          -7.48605,
          -7.30667,
          -7.48572,
          -7.4862,
          -7.48573,
          -7.50139,
          -7.63316,
          -7.62235,
          -4.27944,
          -5.49301,
          -7.55895,
          -7.56096,
          -7.10887,
          -6.98833,
          -7.37625,
          -2.82531,
          -7.04917,
          -6.92583,
          -3.9025,
          -3.97485,
          -4.251,
          -6.77056,
          -2.45962,
          -0.224722,
          -2.9742,
          -7.09622,
          -7.40444,
          -7.20472,
          -6.51359,
          -5.99694,
          -5.97577,
          -3.73694,
          -3.685,
          -7.6357,
          -7.1654,
          -3.66116,
          -3.79526,
          -6.13317,
          -4.29318,
          -7.54873,
          -2.95111,
          -2.42528,
          -7.1198,
          -7.57186,
          -7.47028,
          -0.722426,
          -4.12061,
          -7.40111,
          -2.91694,
          -7.1549,
          -7.1329,
          -7.15001,
          -2.25278,
          -6.8898,
          -7.38631,
          -6.39953,
          -7.42167,
          -7.36004,
          -4.29611,
          -6.72688,
          -6.73939,
          -7.45285,
          -6.41472,
          -7.54917,
          -7.57028,
          -7.57028,
          -6.41066,
          -6.18778,
          -5.11671,
          -3.46132,
          -3.32367,
          -4.04861,
          -4.10456,
          -6.05047,
          -0.568889,
          -3.3285,
          -6.84139,
          -7.365,
          -6.95258,
          -2.95344,
          -6.42032,
          -6.0719,
          -5.50427,
          -7.66088,
          -3.40222,
          -5.64646,
          -2.695,
          -3.93583,
          -6.69551,
          -6.69594,
          -6.03182,
          -3.79375,
          -7.48607,
          -7.70111,
          -6.27857,
          -3.58963,
          -3.58538,
          -3.58206,
          -3.91515,
          -0.838889,
          -4.14389,
          -3.59308,
          -2.28656,
          -3.08846,
          -3.53864,
          -3.99932,
          -3.85389,
          -3.64528,
          -0.210556,
          -3.66214,
          -2.44083,
          -2.43645,
          -2.93175,
          -5.50781,
          -5.51639,
          -4.54056,
          -6.44,
          -7.14,
          -7.14028,
          -6.99059,
          -5.97017,
          -5.9685,
          -2.53194,
          -3.67953,
          -3.41694,
          -3.0275,
          -7.516,
          -3.10694,
          -4.41778,
          -2.75306,
          -0.885833,
          -3.13039,
          -2.26694,
          -3.23715,
          -2.84139,
          -3.27977,
          -6.28674,
          -2.39016,
          -7.15833,
          -7.03045,
          -7.01274,
          -6.53667,
          -6.56056,
          -6.44274,
          -2.62194,
          -3.23496,
          -7.3536,
          -6.98294,
          -6.97889,
          -3.73425,
          -2.70889,
          -6.78806,
          -3.9477,
          -3.95259,
          -0.167087,
          -7.13055,
          -4.75481,
          -7.48583,
          -6.96944,
          -6.65263,
          -7.55673,
          -7.55636,
          -7.24167,
          -5.7625,
          -6.82415,
          -7.56565,
          -4.73972,
          -3.98556,
          -4.08583,
          -4.47722,
          -6.06804,
          -7.62752,
          -4.80317,
          -4.3579,
          -3.64639,
          -3.40472,
          -5.16639,
          -5.74949,
          -6.05207,
          -6.05565,
          -7.72139,
          -6.06585,
          -6.02279,
          -6.84333,
          -6.91639,
          -6.65946,
          -6.6486,
          -4.14722,
          -3.40361,
          -6.73742,
          -7.54917,
          -2.66446,
          -7.27617,
          -6.94134,
          -6.92258,
          -6.92388,
          -6.93156,
          -3.74694,
          -3.7174,
          -4.11944,
          -3.63167,
          -5.71754,
          -7.53712,
          -7.41258,
          -7.46586,
          -7.46416,
          -6.244,
          -6.4156,
          -6.375,
          -3.20312,
          -3.97694,
          -4.13714,
          -3.56306,
          -3.39838,
          -4.12967,
          -3.47139,
          -4.80825,
          -3.01444,
          -3.10401,
          -6.70811,
          -3.62614,
          -7.24203,
          -6.2225,
          -6.17628,
          -4.10029,
          -7.68527,
          -7.28017,
          -6.96619,
          -6.99083,
          -7.01631,
          -5.83144,
          -5.88611,
          -3.96172,
          -2.73022,
          -2.34667,
          -3.33695,
          -4.59827,
          -2.82322,
          -6.50544,
          -6.92883,
          -6.91833,
          -6.43639,
          -7.64283,
          -6.71881,
          -3.64417,
          -4.23889,
          -6.64081,
          -7.44944,
          -1.88778,
          -2.49194,
          -2.4443,
          -0.23928,
          -1.94139,
          -0.550477,
          -5.79124,
          -7.71306,
          -7.69833,
          -4.06991,
          -6.59306,
          -5.79512,
          -6.62222,
          -7.54028,
          -7.66743,
          -7.83444,
          -6.93417,
          -3.81278,
          -3.41944,
          -3.66639,
          0.404722,
          -1.88778,
          -3.64028,
          -4.18124,
          -4.85306,
          -5.72857,
          -5.69747,
          -2.317,
          -4.00417,
          -6.28719,
          -6.4365,
          -6.57472,
          -3.03926,
          -6.41435,
          -2.87704,
          -2.59325,
          -4.45895,
          -1.19431,
          -4.20113,
          -6.8367,
          -5.87528,
          -6.6493,
          -2.25917,
          -2.25903,
          -6.29421,
          -6.29208,
          -6.30917,
          -6.54028,
          -6.50806,
          -6.5875,
          -3.0177,
          -3.94324,
          -7.63834,
          -6.45892,
          -6.58474,
          -7.0716,
          -7.07497,
          -7.07735,
          -6.78404,
          -7.34278,
          -6.95167,
          -6.94583,
          -2.03868,
          -4.08722,
          -5.62917,
          -4.27752,
          -4.34391,
          -3.47858,
          -0.507603,
          -4.45944,
          -2.5448,
          -7.00956,
          -6.5943,
          -2.66668,
          -1.18355,
          -2.4253,
          -4.35966,
          -1.38078,
          -6.34028,
          -7.10483,
          -7.10371,
          -7.05444,
          -6.25708,
          -6.25398,
          -1.09667,
          -7.88833,
          -3.31417,
          -4.33904,
          -6.94944,
          -3.54361,
          -4.19722,
          -3.44562,
          -7.51604,
          -3.58169,
          -3.99186,
          -4.87833,
          -3.99655,
          -4.18823,
          -4.20167,
          -3.34207,
          -4.32813,
          -4.25278,
          -3.85,
          -7.45139,
          -2.72573,
          -3.75746,
          -0.410278,
          -4.40722,
          1.17972,
          -3.65939,
          -3.01752,
          -1.30833,
          -6.08889,
          -3.07306,
          -7.12341,
          -4.72619,
          -7.64111,
          -7.11402,
          -7.12417,
          -6.03161,
          -6.05313,
          -7.22706,
          -4.03607,
          -7.50505,
          -6.91986,
          -6.94085,
          -6.95901,
          -5.80794,
          -3.79316,
          -3.66916,
          -4.18025,
          -6.28268,
          -6.28392,
          -6.54423,
          -3.55111,
          -3.38825,
          -4.20502,
          -4.3275,
          -4.4325,
          -6.82539,
          -6.1016,
          -6.08595,
          -7.21889,
          -6.81922,
          -7.00733,
          -7.004,
          -6.99395,
          -7.04018,
          -6.59361,
          -2.67556,
          -3.24556,
          -5.8625,
          -7.47202,
          -7.67579,
          -3.32163,
          -7.39516,
          -3.35639,
          -0.726111,
          -4.71097,
          -4.07806,
          -5.71032,
          -7.59649,
          -7.59546,
          -7.59866,
          -3.31028,
          -2.24623,
          -6.02417,
          -6.73089,
          -6.73977,
          -7.71417,
          1.13361,
          -0.533611,
          -5.91583,
          -6.70058,
          -7.04332,
          -7.74727,
          -6.9278,
          -6.49132,
          -6.48652,
          -4.15412,
          -6.03528,
          -6.22999,
          -7.37723,
          -6.01778,
          -7.19389,
          -7.19764,
          -7.66806,
          -7.14722,
          -7.99,
          -7.51416,
          -7.41421,
          -7.41991,
          -2.83583,
          -4.46071,
          -4.78944,
          -3.9825,
          -3.72586,
          -3.75861,
          -2.69306,
          -1.84052,
          -6.39242,
          -3.76795,
          -6.34498,
          -7.47041,
          -6.47667,
          -5.05698,
          -4.87528,
          -4.4143,
          -3.92389,
          -4.2907,
          -4.06611,
          -4.01833,
          -6.47389,
          -6.2225,
          1.50595,
          -6.98833,
          -6.57418,
          -5.66673,
          -2.73667,
          -6.51139,
          -7.28778,
          -7.32278,
          -7.34056,
          -7.57184,
          -7.32084,
          -7.04333,
          -7.01179,
          -7.00344,
          -7.00382,
          -6.97722,
          -6.97222,
          -3.36693,
          -7.40265,
          -1.56556,
          -3.65694,
          -6.83203,
          -5.71229,
          -6.04925,
          -4.17194,
          -6.71808,
          -7.07435,
          -2.68378,
          -3.93353,
          -4.49528,
          -3.68515,
          -4.34102,
          -7.31645,
          -4.0667,
          -4.10558,
          -7.6145,
          -6.49004,
          -6.48884,
          -5.52904,
          -6.26102,
          -6.26337,
          -6.42754,
          -7.22251,
          -6.10304,
          -7.58519,
          -5.8578,
          -7.04233,
          -6.68309,
          -2.74139,
          -6.98534,
          -5.62665,
          -3.64878,
          -3.56928,
          -2.32059,
          -6.27226,
          -6.59611,
          -6.59959,
          -2.31806,
          -1.49389,
          -2.60278,
          -4.05888,
          -4.45667,
          -6.68154,
          -6.10861,
          -7.03495,
          -7.04083,
          -7.03544,
          -4.04853,
          -3.47222,
          -6.53937,
          -4.56,
          -2.79806,
          -6.77799,
          -0.798889,
          -0.561389,
          -7.6309,
          -2.20575,
          -3.038,
          -7.32928,
          -6.22064,
          -6.21935
         ],
         "marker": {
          "color": [
           0.5,
           0.5,
           36,
           9.9,
           6.05,
           4.1,
           0.1,
           0.25,
           0.225,
           0.25,
           0.15,
           0.25,
           0.225,
           0.25,
           0.25,
           0.6,
           0.6,
           0.5,
           0.25,
           0.15,
           0.15,
           0.25,
           0.8,
           0.15,
           58.8,
           0.9,
           0.33,
           0.15,
           0.25,
           0.25,
           0.25,
           0.225,
           1,
           0.33,
           0.225,
           0.25,
           0.25,
           74.1,
           0.5,
           0.25,
           0.1,
           67.2,
           2,
           0.9,
           0.5,
           0.225,
           0.45,
           0.25,
           0.225,
           0.5,
           0.225,
           30,
           0.25,
           0.8,
           0.25,
           0.25,
           0.25,
           0.25,
           0.15,
           0.25,
           0.25,
           0.25,
           0.225,
           0.25,
           0.25,
           0.15,
           0.225,
           24,
           0.15,
           16.1,
           0.1,
           0.25,
           0.225,
           0.25,
           0.25,
           0.25,
           0.225,
           0.225,
           0.25,
           0.25,
           0.25,
           0.85,
           0.18,
           0.5,
           0.45,
           0.1,
           0.25,
           0.25,
           10.2,
           0.25,
           8.2,
           0.25,
           0.25,
           0.25,
           0.25,
           12.6,
           72,
           0.25,
           0.1,
           12.2,
           0.25,
           2.3,
           29.4,
           8.4,
           0.25,
           0.225,
           37.8,
           0.25,
           6,
           100,
           0.15,
           0.8,
           0.5,
           0.5,
           0.225,
           0.25,
           57.8,
           0.25,
           0.5,
           0.25,
           0.225,
           1.5,
           0.25,
           0.25,
           0.45,
           2.3,
           0.1,
           0.15,
           54,
           0.25,
           0.25,
           0.225,
           67.2,
           0.25,
           0.225,
           8.4,
           0.1,
           0.1,
           0.1,
           0.25,
           12,
           2.3,
           0.5,
           0.25,
           1,
           60,
           0.8,
           21,
           0.225,
           25.8,
           0.15,
           0.25,
           0.25,
           0.25,
           0.225,
           0.225,
           0.25,
           0.225,
           0.25,
           0.25,
           0.25,
           0.25,
           0.25,
           0.25,
           6,
           0.15,
           0.25,
           48,
           0.225,
           0.45,
           0.25,
           0.5,
           0.25,
           0.225,
           12.6,
           0.25,
           0.225,
           0.8,
           0.25,
           0.5,
           2.55,
           4.1,
           81.6,
           2.3,
           0.225,
           0.25,
           0.05,
           0.25,
           0.25,
           47.6,
           0.5,
           225,
           0.5,
           0.25,
           0.225,
           0.25,
           0.25,
           0.25,
           4.8,
           54,
           0.25,
           0.25,
           0.225,
           0.33,
           0.25,
           36,
           5.175,
           0.225,
           0.15,
           0.225,
           0.8,
           0.25,
           0.25,
           0.25,
           0.15,
           0.225,
           0.25,
           0.25,
           0.25,
           29.9,
           2.5,
           0.225,
           0.25,
           0.25,
           0.225,
           47.3,
           2.4,
           46.2,
           0.5,
           0.25,
           0.5,
           16.32,
           0.225,
           0.4,
           0.1,
           0.225,
           0.225,
           0.25,
           0.25,
           0.25,
           0.225,
           0.25,
           0.25,
           13.8,
           2.3,
           2.3,
           21,
           0.25,
           0.25,
           0.25,
           0.25,
           0.25,
           0.25,
           0.25,
           0.15,
           0.25,
           0.25,
           0.25,
           0.225,
           0.25,
           0.25,
           9.2,
           0.25,
           0.225,
           0.25,
           0.225,
           0.25,
           46.2,
           0.25,
           16.8,
           119.7,
           0.225,
           0.25,
           30,
           0.33,
           0.25,
           0.33,
           42,
           0.25,
           0.25,
           0.25,
           0.18,
           4.7,
           0.25,
           0.25,
           0.25,
           0.25,
           0.225,
           0.25,
           0.5,
           0.5,
           0.5,
           0.15,
           0.25,
           0.25,
           71.5,
           0.5,
           0.8,
           0.25,
           48.3,
           0.25,
           0.25,
           0.225,
           2,
           2,
           2,
           0.45,
           0.225,
           0.15,
           0.225,
           0.225,
           0.25,
           1.5,
           0.1,
           0.225,
           0.25,
           0.85,
           0.45,
           0.15,
           0.225,
           0.25,
           0.225,
           0.25,
           0.25,
           9,
           29.7,
           0.225,
           0.1,
           0.25,
           0.225,
           0.33,
           26,
           0.45,
           0.5,
           0.25,
           0.5,
           0.1,
           4.7,
           0.5,
           0.15,
           0.25,
           0.225,
           0.25,
           0.25,
           0.25,
           0.25,
           0.25,
           0.25,
           0.25,
           74.4,
           96,
           0.25,
           0.25,
           0.25,
           2.3,
           0.25,
           28.8,
           0.25,
           0.25,
           0.33,
           49,
           0.5,
           0.25,
           42,
           0.225,
           0.1,
           0.25,
           0.25,
           0.25,
           0.1,
           2,
           2,
           0.1,
           33,
           0.225,
           0.25,
           0.8,
           0.5,
           0.25,
           0.225,
           0.25,
           4,
           3.6,
           0.25,
           0.25,
           0.25,
           1.8,
           0.1,
           0.25,
           0.8,
           0.25,
           0.25,
           0.25,
           0.45,
           0.25,
           0.25,
           0.15,
           0.25,
           0.25,
           0.5,
           0.225,
           0.15,
           0.25,
           52.8,
           0.9,
           0.225,
           0.225,
           0.225,
           0.9,
           0.225,
           12.3,
           0.153,
           33.6,
           48,
           0.25,
           0.25,
           64.6,
           0.25,
           0.25,
           0.25,
           4.8,
           0.25,
           0.25,
           0.15,
           0.25,
           33,
           0.25,
           0.5,
           27,
           0.25,
           0.25,
           0.25,
           0.25,
           0.225,
           12,
           0.225,
           0.8,
           1.6,
           0.8,
           79.8,
           0.1,
           0.5,
           0.5,
           7.05,
           8.4,
           4,
           36,
           21,
           80,
           66,
           0.225,
           1.6,
           1.6,
           20.4,
           50,
           0.225,
           0.11,
           0.1,
           0.225,
           0.225,
           0.25,
           0.25,
           0.25,
           4.6,
           3,
           2.4,
           48,
           0.25,
           0.8,
           0.5,
           0.45,
           0.225,
           49,
           16,
           28.8,
           0.85,
           0.9,
           0.225,
           8.2,
           0.25,
           0.25,
           0.225,
           0.25,
           0.25,
           0.225,
           0.5,
           0.1,
           0.225,
           0.225,
           0.25,
           2.1,
           12.3,
           0.25,
           38.4,
           36,
           0.1,
           0.225,
           51.3,
           0.225,
           0.25,
           0.1,
           0.25,
           0.25,
           0.15,
           0.25,
           0.25,
           0.25,
           18.8,
           1.6,
           4.25,
           4,
           0.225,
           0.25,
           0.45,
           42,
           0.25,
           0.33,
           20,
           0.25,
           0.25,
           0.25,
           0.25,
           0.225,
           0.15,
           0.225,
           0.25,
           0.15,
           0.1,
           105.6,
           0.33,
           0.225,
           0.25,
           0.225,
           0.25,
           0.225,
           0.25,
           0.225,
           0.225,
           85.5,
           21,
           1.7,
           9.2,
           0.25,
           0.25,
           0.25,
           0.25,
           0.25,
           0.225,
           0.225,
           0.1,
           36,
           0.8,
           0.75,
           90,
           5,
           0.9,
           0.1,
           24,
           0.5,
           25.6,
           0.15,
           50,
           0.225,
           0.1,
           0.225,
           32.4,
           0.15,
           0.225,
           0.25,
           0.25,
           0.25,
           0.25,
           0.225,
           0.5,
           1.6,
           0.1,
           0.3,
           0.9,
           15,
           0.1,
           0.25,
           0.225,
           0.25,
           0.25,
           0.25,
           7.5,
           0.225,
           0.25,
           0.25,
           0.45,
           0.225,
           0.1,
           4.2,
           0.5,
           0.13,
           0.15,
           0.225,
           0.25,
           49.5,
           0.25,
           0.225,
           0.225,
           0.28,
           0.225,
           10,
           0.25,
           0.2,
           13.8,
           18,
           0.1,
           0.225,
           0.17,
           36,
           35,
           0.15,
           0.25,
           0.5,
           24,
           0.25,
           0.25,
           0.25,
           0.2,
           0.225,
           882,
           0.8,
           0.33,
           48,
           2.35,
           0.5,
           0.25,
           0.25,
           2.4,
           0.8,
           0.25,
           0.25,
           0.225,
           138.6,
           25.2,
           25.2,
           0.9,
           0.4,
           0.25,
           0.25,
           0.25,
           0.25,
           0.25,
           0.25,
           0.25,
           21.6,
           0.225,
           0.25,
           0.5,
           5,
           0.225,
           0.225,
           0.1,
           1.5,
           0.5,
           2.5,
           0.5,
           0.25,
           0.25,
           0.8,
           0.9,
           1.6,
           212,
           0.1,
           0.225,
           0.225,
           0.25,
           0.225,
           0.225,
           0.225,
           0.12,
           6,
           0.8,
           36,
           0.15,
           17.5,
           0.225,
           20.4,
           0.25,
           14.4,
           0.1,
           0.5,
           45.6,
           0.1,
           85.5,
           0.5,
           0.17,
           0.5,
           14,
           37.8,
           34,
           0.8,
           0.225,
           22.5,
           0.9,
           46.2,
           28.8,
           0.2,
           0.225,
           0.1,
           0.25,
           2.5,
           0.25,
           0.25,
           0.25,
           0.25,
           0.25,
           0.15,
           0.225,
           0.25,
           0.25,
           0.25,
           0.225,
           0.25,
           0.1,
           0.5,
           0.1,
           0.225,
           0.225,
           0.25,
           0.5,
           0.9,
           0.25,
           0.225,
           9.9,
           28,
           0.15,
           0.25,
           0.225,
           0.25,
           0.25,
           0.225,
           0.225,
           0.25,
           0.225,
           0.5,
           0.12,
           0.25,
           0.25,
           0.15,
           132.7,
           0.225,
           2.7,
           0.5,
           36,
           19.8,
           0.225,
           0.1,
           0.25,
           0.225,
           0.225,
           4.6,
           0.225,
           0.225,
           0.25,
           6.9,
           0.5,
           4.6,
           0.5,
           0.25,
           0.225,
           0.25,
           0.25,
           0.25,
           0.225,
           24,
           0.25,
           0.15,
           0.25,
           0.25,
           0.225,
           0.25,
           0.25,
           0.225,
           0.25,
           0.25,
           0.25,
           0.25,
           0.5,
           0.1,
           13,
           1.5,
           4.2,
           0.05,
           0.5,
           4,
           0.225,
           0.5,
           0.25,
           0.225,
           200,
           0.25,
           99.96,
           19.2,
           20.7,
           38.1,
           186,
           62.4,
           0.25,
           0.5,
           2,
           0.25,
           0.25,
           80,
           0.33,
           0.225,
           0.25,
           0.25,
           0.25,
           0.225,
           0.225,
           0.25,
           0.25,
           0.25,
           0.225,
           0.25,
           0.25,
           0.85,
           0.25,
           0.5,
           0.5,
           0.25,
           0.25,
           0.25,
           0.5,
           0.225,
           0.225,
           0.5,
           0.5,
           0.18,
           5,
           0.225,
           0.25,
           67.2,
           0.33,
           0.25,
           0.225,
           0.225,
           0.25,
           0.25,
           0.25,
           0.225,
           0.15,
           0.25,
           0.15,
           0.25,
           0.25,
           0.8,
           0.8,
           0.25,
           0.25,
           0.5,
           25.2,
           0.225,
           0.25,
           2,
           2,
           0.225,
           0.1,
           0.225,
           0.25,
           0.1,
           0.25,
           12.6,
           0.25,
           0.25,
           0.15,
           0.225,
           57,
           0.15,
           0.5,
           22.5,
           0.225,
           0.5,
           0.5,
           0.15,
           0.5,
           0.1,
           0.225,
           0.25,
           0.25
          ],
          "coloraxis": "coloraxis"
         },
         "mode": "markers",
         "name": "",
         "showlegend": false,
         "subplot": "mapbox",
         "type": "scattermapbox"
        }
       ],
       "layout": {
        "coloraxis": {
         "colorbar": {
          "title": {
           "text": "Project Capacity (MW)"
          }
         },
         "colorscale": [
          [
           0,
           "#000000"
          ],
          [
           0.0625,
           "#001f4d"
          ],
          [
           0.125,
           "#003786"
          ],
          [
           0.1875,
           "#0e58a8"
          ],
          [
           0.25,
           "#217eb8"
          ],
          [
           0.3125,
           "#30a4ca"
          ],
          [
           0.375,
           "#54c8df"
          ],
          [
           0.4375,
           "#9be4ef"
          ],
          [
           0.5,
           "#e1e9d1"
          ],
          [
           0.5625,
           "#f3d573"
          ],
          [
           0.625,
           "#e7b000"
          ],
          [
           0.6875,
           "#da8200"
          ],
          [
           0.75,
           "#c65400"
          ],
          [
           0.8125,
           "#ac2301"
          ],
          [
           0.875,
           "#820000"
          ],
          [
           0.9375,
           "#4c0000"
          ],
          [
           1,
           "#000000"
          ]
         ]
        },
        "legend": {
         "tracegroupgap": 0
        },
        "mapbox": {
         "accesstoken": "pk.eyJ1Ijoiam1vcm8wNDA4IiwiYSI6ImNsZmd0NGdpYjNjbTU0NHBjYnN2cTRpdmcifQ.x7MF_6gb-8hvBBtuMVumSw",
         "center": {
          "lat": 54.96070723981901,
          "lon": -5.387466519230769
         },
         "domain": {
          "x": [
           0,
           1
          ],
          "y": [
           0,
           1
          ]
         },
         "zoom": 3
        },
        "margin": {
         "t": 60
        },
        "template": {
         "data": {
          "bar": [
           {
            "error_x": {
             "color": "#2a3f5f"
            },
            "error_y": {
             "color": "#2a3f5f"
            },
            "marker": {
             "line": {
              "color": "#E5ECF6",
              "width": 0.5
             },
             "pattern": {
              "fillmode": "overlay",
              "size": 10,
              "solidity": 0.2
             }
            },
            "type": "bar"
           }
          ],
          "barpolar": [
           {
            "marker": {
             "line": {
              "color": "#E5ECF6",
              "width": 0.5
             },
             "pattern": {
              "fillmode": "overlay",
              "size": 10,
              "solidity": 0.2
             }
            },
            "type": "barpolar"
           }
          ],
          "carpet": [
           {
            "aaxis": {
             "endlinecolor": "#2a3f5f",
             "gridcolor": "white",
             "linecolor": "white",
             "minorgridcolor": "white",
             "startlinecolor": "#2a3f5f"
            },
            "baxis": {
             "endlinecolor": "#2a3f5f",
             "gridcolor": "white",
             "linecolor": "white",
             "minorgridcolor": "white",
             "startlinecolor": "#2a3f5f"
            },
            "type": "carpet"
           }
          ],
          "choropleth": [
           {
            "colorbar": {
             "outlinewidth": 0,
             "ticks": ""
            },
            "type": "choropleth"
           }
          ],
          "contour": [
           {
            "colorbar": {
             "outlinewidth": 0,
             "ticks": ""
            },
            "colorscale": [
             [
              0,
              "#0d0887"
             ],
             [
              0.1111111111111111,
              "#46039f"
             ],
             [
              0.2222222222222222,
              "#7201a8"
             ],
             [
              0.3333333333333333,
              "#9c179e"
             ],
             [
              0.4444444444444444,
              "#bd3786"
             ],
             [
              0.5555555555555556,
              "#d8576b"
             ],
             [
              0.6666666666666666,
              "#ed7953"
             ],
             [
              0.7777777777777778,
              "#fb9f3a"
             ],
             [
              0.8888888888888888,
              "#fdca26"
             ],
             [
              1,
              "#f0f921"
             ]
            ],
            "type": "contour"
           }
          ],
          "contourcarpet": [
           {
            "colorbar": {
             "outlinewidth": 0,
             "ticks": ""
            },
            "type": "contourcarpet"
           }
          ],
          "heatmap": [
           {
            "colorbar": {
             "outlinewidth": 0,
             "ticks": ""
            },
            "colorscale": [
             [
              0,
              "#0d0887"
             ],
             [
              0.1111111111111111,
              "#46039f"
             ],
             [
              0.2222222222222222,
              "#7201a8"
             ],
             [
              0.3333333333333333,
              "#9c179e"
             ],
             [
              0.4444444444444444,
              "#bd3786"
             ],
             [
              0.5555555555555556,
              "#d8576b"
             ],
             [
              0.6666666666666666,
              "#ed7953"
             ],
             [
              0.7777777777777778,
              "#fb9f3a"
             ],
             [
              0.8888888888888888,
              "#fdca26"
             ],
             [
              1,
              "#f0f921"
             ]
            ],
            "type": "heatmap"
           }
          ],
          "heatmapgl": [
           {
            "colorbar": {
             "outlinewidth": 0,
             "ticks": ""
            },
            "colorscale": [
             [
              0,
              "#0d0887"
             ],
             [
              0.1111111111111111,
              "#46039f"
             ],
             [
              0.2222222222222222,
              "#7201a8"
             ],
             [
              0.3333333333333333,
              "#9c179e"
             ],
             [
              0.4444444444444444,
              "#bd3786"
             ],
             [
              0.5555555555555556,
              "#d8576b"
             ],
             [
              0.6666666666666666,
              "#ed7953"
             ],
             [
              0.7777777777777778,
              "#fb9f3a"
             ],
             [
              0.8888888888888888,
              "#fdca26"
             ],
             [
              1,
              "#f0f921"
             ]
            ],
            "type": "heatmapgl"
           }
          ],
          "histogram": [
           {
            "marker": {
             "pattern": {
              "fillmode": "overlay",
              "size": 10,
              "solidity": 0.2
             }
            },
            "type": "histogram"
           }
          ],
          "histogram2d": [
           {
            "colorbar": {
             "outlinewidth": 0,
             "ticks": ""
            },
            "colorscale": [
             [
              0,
              "#0d0887"
             ],
             [
              0.1111111111111111,
              "#46039f"
             ],
             [
              0.2222222222222222,
              "#7201a8"
             ],
             [
              0.3333333333333333,
              "#9c179e"
             ],
             [
              0.4444444444444444,
              "#bd3786"
             ],
             [
              0.5555555555555556,
              "#d8576b"
             ],
             [
              0.6666666666666666,
              "#ed7953"
             ],
             [
              0.7777777777777778,
              "#fb9f3a"
             ],
             [
              0.8888888888888888,
              "#fdca26"
             ],
             [
              1,
              "#f0f921"
             ]
            ],
            "type": "histogram2d"
           }
          ],
          "histogram2dcontour": [
           {
            "colorbar": {
             "outlinewidth": 0,
             "ticks": ""
            },
            "colorscale": [
             [
              0,
              "#0d0887"
             ],
             [
              0.1111111111111111,
              "#46039f"
             ],
             [
              0.2222222222222222,
              "#7201a8"
             ],
             [
              0.3333333333333333,
              "#9c179e"
             ],
             [
              0.4444444444444444,
              "#bd3786"
             ],
             [
              0.5555555555555556,
              "#d8576b"
             ],
             [
              0.6666666666666666,
              "#ed7953"
             ],
             [
              0.7777777777777778,
              "#fb9f3a"
             ],
             [
              0.8888888888888888,
              "#fdca26"
             ],
             [
              1,
              "#f0f921"
             ]
            ],
            "type": "histogram2dcontour"
           }
          ],
          "mesh3d": [
           {
            "colorbar": {
             "outlinewidth": 0,
             "ticks": ""
            },
            "type": "mesh3d"
           }
          ],
          "parcoords": [
           {
            "line": {
             "colorbar": {
              "outlinewidth": 0,
              "ticks": ""
             }
            },
            "type": "parcoords"
           }
          ],
          "pie": [
           {
            "automargin": true,
            "type": "pie"
           }
          ],
          "scatter": [
           {
            "fillpattern": {
             "fillmode": "overlay",
             "size": 10,
             "solidity": 0.2
            },
            "type": "scatter"
           }
          ],
          "scatter3d": [
           {
            "line": {
             "colorbar": {
              "outlinewidth": 0,
              "ticks": ""
             }
            },
            "marker": {
             "colorbar": {
              "outlinewidth": 0,
              "ticks": ""
             }
            },
            "type": "scatter3d"
           }
          ],
          "scattercarpet": [
           {
            "marker": {
             "colorbar": {
              "outlinewidth": 0,
              "ticks": ""
             }
            },
            "type": "scattercarpet"
           }
          ],
          "scattergeo": [
           {
            "marker": {
             "colorbar": {
              "outlinewidth": 0,
              "ticks": ""
             }
            },
            "type": "scattergeo"
           }
          ],
          "scattergl": [
           {
            "marker": {
             "colorbar": {
              "outlinewidth": 0,
              "ticks": ""
             }
            },
            "type": "scattergl"
           }
          ],
          "scattermapbox": [
           {
            "marker": {
             "colorbar": {
              "outlinewidth": 0,
              "ticks": ""
             }
            },
            "type": "scattermapbox"
           }
          ],
          "scatterpolar": [
           {
            "marker": {
             "colorbar": {
              "outlinewidth": 0,
              "ticks": ""
             }
            },
            "type": "scatterpolar"
           }
          ],
          "scatterpolargl": [
           {
            "marker": {
             "colorbar": {
              "outlinewidth": 0,
              "ticks": ""
             }
            },
            "type": "scatterpolargl"
           }
          ],
          "scatterternary": [
           {
            "marker": {
             "colorbar": {
              "outlinewidth": 0,
              "ticks": ""
             }
            },
            "type": "scatterternary"
           }
          ],
          "surface": [
           {
            "colorbar": {
             "outlinewidth": 0,
             "ticks": ""
            },
            "colorscale": [
             [
              0,
              "#0d0887"
             ],
             [
              0.1111111111111111,
              "#46039f"
             ],
             [
              0.2222222222222222,
              "#7201a8"
             ],
             [
              0.3333333333333333,
              "#9c179e"
             ],
             [
              0.4444444444444444,
              "#bd3786"
             ],
             [
              0.5555555555555556,
              "#d8576b"
             ],
             [
              0.6666666666666666,
              "#ed7953"
             ],
             [
              0.7777777777777778,
              "#fb9f3a"
             ],
             [
              0.8888888888888888,
              "#fdca26"
             ],
             [
              1,
              "#f0f921"
             ]
            ],
            "type": "surface"
           }
          ],
          "table": [
           {
            "cells": {
             "fill": {
              "color": "#EBF0F8"
             },
             "line": {
              "color": "white"
             }
            },
            "header": {
             "fill": {
              "color": "#C8D4E3"
             },
             "line": {
              "color": "white"
             }
            },
            "type": "table"
           }
          ]
         },
         "layout": {
          "annotationdefaults": {
           "arrowcolor": "#2a3f5f",
           "arrowhead": 0,
           "arrowwidth": 1
          },
          "autotypenumbers": "strict",
          "coloraxis": {
           "colorbar": {
            "outlinewidth": 0,
            "ticks": ""
           }
          },
          "colorscale": {
           "diverging": [
            [
             0,
             "#8e0152"
            ],
            [
             0.1,
             "#c51b7d"
            ],
            [
             0.2,
             "#de77ae"
            ],
            [
             0.3,
             "#f1b6da"
            ],
            [
             0.4,
             "#fde0ef"
            ],
            [
             0.5,
             "#f7f7f7"
            ],
            [
             0.6,
             "#e6f5d0"
            ],
            [
             0.7,
             "#b8e186"
            ],
            [
             0.8,
             "#7fbc41"
            ],
            [
             0.9,
             "#4d9221"
            ],
            [
             1,
             "#276419"
            ]
           ],
           "sequential": [
            [
             0,
             "#0d0887"
            ],
            [
             0.1111111111111111,
             "#46039f"
            ],
            [
             0.2222222222222222,
             "#7201a8"
            ],
            [
             0.3333333333333333,
             "#9c179e"
            ],
            [
             0.4444444444444444,
             "#bd3786"
            ],
            [
             0.5555555555555556,
             "#d8576b"
            ],
            [
             0.6666666666666666,
             "#ed7953"
            ],
            [
             0.7777777777777778,
             "#fb9f3a"
            ],
            [
             0.8888888888888888,
             "#fdca26"
            ],
            [
             1,
             "#f0f921"
            ]
           ],
           "sequentialminus": [
            [
             0,
             "#0d0887"
            ],
            [
             0.1111111111111111,
             "#46039f"
            ],
            [
             0.2222222222222222,
             "#7201a8"
            ],
            [
             0.3333333333333333,
             "#9c179e"
            ],
            [
             0.4444444444444444,
             "#bd3786"
            ],
            [
             0.5555555555555556,
             "#d8576b"
            ],
            [
             0.6666666666666666,
             "#ed7953"
            ],
            [
             0.7777777777777778,
             "#fb9f3a"
            ],
            [
             0.8888888888888888,
             "#fdca26"
            ],
            [
             1,
             "#f0f921"
            ]
           ]
          },
          "colorway": [
           "#636efa",
           "#EF553B",
           "#00cc96",
           "#ab63fa",
           "#FFA15A",
           "#19d3f3",
           "#FF6692",
           "#B6E880",
           "#FF97FF",
           "#FECB52"
          ],
          "font": {
           "color": "#2a3f5f"
          },
          "geo": {
           "bgcolor": "white",
           "lakecolor": "white",
           "landcolor": "#E5ECF6",
           "showlakes": true,
           "showland": true,
           "subunitcolor": "white"
          },
          "hoverlabel": {
           "align": "left"
          },
          "hovermode": "closest",
          "mapbox": {
           "style": "light"
          },
          "paper_bgcolor": "white",
          "plot_bgcolor": "#E5ECF6",
          "polar": {
           "angularaxis": {
            "gridcolor": "white",
            "linecolor": "white",
            "ticks": ""
           },
           "bgcolor": "#E5ECF6",
           "radialaxis": {
            "gridcolor": "white",
            "linecolor": "white",
            "ticks": ""
           }
          },
          "scene": {
           "xaxis": {
            "backgroundcolor": "#E5ECF6",
            "gridcolor": "white",
            "gridwidth": 2,
            "linecolor": "white",
            "showbackground": true,
            "ticks": "",
            "zerolinecolor": "white"
           },
           "yaxis": {
            "backgroundcolor": "#E5ECF6",
            "gridcolor": "white",
            "gridwidth": 2,
            "linecolor": "white",
            "showbackground": true,
            "ticks": "",
            "zerolinecolor": "white"
           },
           "zaxis": {
            "backgroundcolor": "#E5ECF6",
            "gridcolor": "white",
            "gridwidth": 2,
            "linecolor": "white",
            "showbackground": true,
            "ticks": "",
            "zerolinecolor": "white"
           }
          },
          "shapedefaults": {
           "line": {
            "color": "#2a3f5f"
           }
          },
          "ternary": {
           "aaxis": {
            "gridcolor": "white",
            "linecolor": "white",
            "ticks": ""
           },
           "baxis": {
            "gridcolor": "white",
            "linecolor": "white",
            "ticks": ""
           },
           "bgcolor": "#E5ECF6",
           "caxis": {
            "gridcolor": "white",
            "linecolor": "white",
            "ticks": ""
           }
          },
          "title": {
           "x": 0.05
          },
          "xaxis": {
           "automargin": true,
           "gridcolor": "white",
           "linecolor": "white",
           "ticks": "",
           "title": {
            "standoff": 15
           },
           "zerolinecolor": "white",
           "zerolinewidth": 2
          },
          "yaxis": {
           "automargin": true,
           "gridcolor": "white",
           "linecolor": "white",
           "ticks": "",
           "title": {
            "standoff": 15
           },
           "zerolinecolor": "white",
           "zerolinewidth": 2
          }
         }
        }
       }
      }
     },
     "metadata": {},
     "output_type": "display_data"
    }
   ],
   "source": [
    "fig = px.scatter_mapbox(df_consented, \n",
    "                        lat=\"Latitude\", \n",
    "                        lon=\"Longitude\",     \n",
    "                        color=\"Project Capacity (MW)\", \n",
    "                        hover_data = [\"Project Name\", \"Number of Turbines\", \"Project Capacity (MW)\"],\n",
    "                  color_continuous_scale=px.colors.cyclical.IceFire, \n",
    "                  size_max=15, \n",
    "                  zoom=3)\n",
    "fig.show()"
   ]
  },
  {
   "cell_type": "code",
   "execution_count": null,
   "metadata": {},
   "outputs": [],
   "source": []
  },
  {
   "attachments": {},
   "cell_type": "markdown",
   "metadata": {},
   "source": [
    "# Under construction"
   ]
  },
  {
   "cell_type": "code",
   "execution_count": 156,
   "metadata": {},
   "outputs": [],
   "source": [
    "under_construction_pickle = Path(Path.cwd(), \"raw_data\", \"wind_power\", \"under_construction_list.pkl\")\n",
    "with open(under_construction_pickle, 'rb') as under_construction:\n",
    "    under_construction_list = pickle.load(under_construction)"
   ]
  },
  {
   "cell_type": "code",
   "execution_count": 157,
   "metadata": {},
   "outputs": [],
   "source": [
    "info_dict_list = []\n",
    "errors = []\n",
    "for i, _ in enumerate(under_construction_list):\n",
    "    try:\n",
    "        info_dict_list.append(generate_project_info(under_construction_list[i]))\n",
    "    except (IndexError, ValueError) as e:\n",
    "        errors.append(i)\n",
    "        continue"
   ]
  },
  {
   "cell_type": "code",
   "execution_count": 158,
   "metadata": {},
   "outputs": [],
   "source": [
    "df_under_construction = pd.DataFrame(info_dict_list)"
   ]
  },
  {
   "cell_type": "code",
   "execution_count": 159,
   "metadata": {},
   "outputs": [
    {
     "data": {
      "application/vnd.plotly.v1+json": {
       "config": {
        "plotlyServerURL": "https://plot.ly"
       },
       "data": [
        {
         "customdata": [
          [
           "Aghnagreggan Road, 25 Turbine 2",
           "1",
           0.225
          ],
          [
           "Ashes Covert",
           "2",
           0.5
          ],
          [
           "Auchenskeith",
           "2",
           0.45
          ],
          [
           "Ballyutoag",
           "5",
           11.5
          ],
          [
           "Benbrack",
           "15",
           67.1
          ],
          [
           "Broken Cross",
           "10",
           48
          ],
          [
           "Bryn Garw",
           "2",
           0.2
          ],
          [
           "Burnside Lodge",
           "2",
           0.45
          ],
          [
           "Cam Burn",
           "6",
           13.8
          ],
          [
           "Clunahill",
           "6",
           15
          ],
          [
           "College Road, 3 Turbine 2",
           "1",
           0.25
          ],
          [
           "Creag Riabhach",
           "22",
           92.4
          ],
          [
           "Cumberhead (Revised)",
           "14",
           50
          ],
          [
           "Dalquhandy",
           "10",
           42
          ],
          [
           "East Karslake",
           "1",
           4.1
          ],
          [
           "Garrow Hill",
           "1",
           0.1
          ],
          [
           "GlaxoSmithKline (Riverside Business Park) T1",
           "1",
           4
          ],
          [
           "GlaxoSmithKline (Riverside Business Park) T2 (Resubmission)",
           "1",
           4
          ],
          [
           "Gleniron Farm (Resubmission)",
           "3",
           0.3
          ],
          [
           "Greengairs East",
           "8",
           36
          ],
          [
           "Harps Hall (Resubmission)",
           "2",
           0.45
          ],
          [
           "Hendy",
           "7",
           16.1
          ],
          [
           "Kinnagillian Road, 10",
           "1",
           0.25
          ],
          [
           "Kype Muir Extension",
           "15",
           67.2
          ],
          [
           "Longstones",
           "1",
           4.1
          ],
          [
           "Meikleton of Ardonald",
           "1",
           4.3
          ],
          [
           "Pencwm Mawr",
           "2",
           0.2
          ],
          [
           "Penyrheol Farm",
           "1",
           0.5
          ],
          [
           "Seabank",
           "1",
           3
          ],
          [
           "Smulgedon",
           "7",
           16.45
          ],
          [
           "Sneddon Law",
           "15",
           30
          ],
          [
           "South Kyle",
           "50",
           240
          ],
          [
           "Stobwood Farm",
           "1",
           0.25
          ],
          [
           "Stump Road, 50",
           "1",
           0.25
          ],
          [
           "Tacher A (Resubmission)",
           "1",
           4.3
          ],
          [
           "Tacher B (Resubmission)",
           "1",
           4.3
          ],
          [
           "Tacher C",
           "1",
           4.3
          ],
          [
           "Viking Wind Farm",
           "103",
           443
          ],
          [
           "Waringstown House",
           "1",
           0.25
          ],
          [
           "Watsonhead Farm",
           "2",
           8.4
          ],
          [
           "West Benhar (Community Share)",
           "7",
           30.1
          ],
          [
           "West Dykes",
           "1",
           3.8
          ]
         ],
         "hovertemplate": "Latitude=%{lat}<br>Longitude=%{lon}<br>Project Name=%{customdata[0]}<br>Number of Turbines=%{customdata[1]}<br>Project Capacity (MW)=%{marker.color}<extra></extra>",
         "lat": [
          54.6077,
          52.8206,
          55.6867,
          54.6464,
          55.2311,
          55.6175,
          52.4391,
          57.4843,
          55.0414,
          54.5925,
          54.1828,
          58.2192,
          55.5729,
          55.5872,
          50.3636,
          55.9342,
          55.5953,
          55.5917,
          54.9019,
          55.9011,
          52.6657,
          52.2344,
          54.672,
          55.6267,
          50.3625,
          57.4746,
          52.3391,
          51.7276,
          51.538,
          54.9756,
          55.6431,
          55.3111,
          55.7635,
          54.5434,
          58.407,
          58.407,
          58.4093,
          60.3319,
          54.4289,
          55.7685,
          55.8356,
          55.6217
         ],
         "legendgroup": "",
         "lon": [
          -7.07185,
          -2.15417,
          -4.67787,
          -6.02583,
          -4.27,
          -3.82611,
          -3.27178,
          -2.59762,
          -6.70472,
          -7.54611,
          -7.6154,
          -4.51111,
          -3.94833,
          -3.89,
          -4.83245,
          -4.85161,
          -4.63345,
          -4.6323,
          -4.82226,
          -3.91194,
          0.225677,
          -3.27389,
          -6.96878,
          -4.035,
          -4.83628,
          -2.90857,
          -4.10761,
          -3.22838,
          -2.67388,
          -6.82528,
          -4.39472,
          -4.28611,
          -3.65173,
          -5.5072,
          -3.4179,
          -3.4179,
          -3.41662,
          -1.23917,
          -6.30919,
          -3.82964,
          -3.75444,
          -4.09909
         ],
         "marker": {
          "color": [
           0.225,
           0.5,
           0.45,
           11.5,
           67.1,
           48,
           0.2,
           0.45,
           13.8,
           15,
           0.25,
           92.4,
           50,
           42,
           4.1,
           0.1,
           4,
           4,
           0.3,
           36,
           0.45,
           16.1,
           0.25,
           67.2,
           4.1,
           4.3,
           0.2,
           0.5,
           3,
           16.45,
           30,
           240,
           0.25,
           0.25,
           4.3,
           4.3,
           4.3,
           443,
           0.25,
           8.4,
           30.1,
           3.8
          ],
          "coloraxis": "coloraxis"
         },
         "mode": "markers",
         "name": "",
         "showlegend": false,
         "subplot": "mapbox",
         "type": "scattermapbox"
        }
       ],
       "layout": {
        "coloraxis": {
         "colorbar": {
          "title": {
           "text": "Project Capacity (MW)"
          }
         },
         "colorscale": [
          [
           0,
           "#000000"
          ],
          [
           0.0625,
           "#001f4d"
          ],
          [
           0.125,
           "#003786"
          ],
          [
           0.1875,
           "#0e58a8"
          ],
          [
           0.25,
           "#217eb8"
          ],
          [
           0.3125,
           "#30a4ca"
          ],
          [
           0.375,
           "#54c8df"
          ],
          [
           0.4375,
           "#9be4ef"
          ],
          [
           0.5,
           "#e1e9d1"
          ],
          [
           0.5625,
           "#f3d573"
          ],
          [
           0.625,
           "#e7b000"
          ],
          [
           0.6875,
           "#da8200"
          ],
          [
           0.75,
           "#c65400"
          ],
          [
           0.8125,
           "#ac2301"
          ],
          [
           0.875,
           "#820000"
          ],
          [
           0.9375,
           "#4c0000"
          ],
          [
           1,
           "#000000"
          ]
         ]
        },
        "legend": {
         "tracegroupgap": 0
        },
        "mapbox": {
         "accesstoken": "pk.eyJ1Ijoiam1vcm8wNDA4IiwiYSI6ImNsZmd0NGdpYjNjbTU0NHBjYnN2cTRpdmcifQ.x7MF_6gb-8hvBBtuMVumSw",
         "center": {
          "lat": 55.05010476190476,
          "lon": -4.327395547619047
         },
         "domain": {
          "x": [
           0,
           1
          ],
          "y": [
           0,
           1
          ]
         },
         "zoom": 3
        },
        "margin": {
         "t": 60
        },
        "template": {
         "data": {
          "bar": [
           {
            "error_x": {
             "color": "#2a3f5f"
            },
            "error_y": {
             "color": "#2a3f5f"
            },
            "marker": {
             "line": {
              "color": "#E5ECF6",
              "width": 0.5
             },
             "pattern": {
              "fillmode": "overlay",
              "size": 10,
              "solidity": 0.2
             }
            },
            "type": "bar"
           }
          ],
          "barpolar": [
           {
            "marker": {
             "line": {
              "color": "#E5ECF6",
              "width": 0.5
             },
             "pattern": {
              "fillmode": "overlay",
              "size": 10,
              "solidity": 0.2
             }
            },
            "type": "barpolar"
           }
          ],
          "carpet": [
           {
            "aaxis": {
             "endlinecolor": "#2a3f5f",
             "gridcolor": "white",
             "linecolor": "white",
             "minorgridcolor": "white",
             "startlinecolor": "#2a3f5f"
            },
            "baxis": {
             "endlinecolor": "#2a3f5f",
             "gridcolor": "white",
             "linecolor": "white",
             "minorgridcolor": "white",
             "startlinecolor": "#2a3f5f"
            },
            "type": "carpet"
           }
          ],
          "choropleth": [
           {
            "colorbar": {
             "outlinewidth": 0,
             "ticks": ""
            },
            "type": "choropleth"
           }
          ],
          "contour": [
           {
            "colorbar": {
             "outlinewidth": 0,
             "ticks": ""
            },
            "colorscale": [
             [
              0,
              "#0d0887"
             ],
             [
              0.1111111111111111,
              "#46039f"
             ],
             [
              0.2222222222222222,
              "#7201a8"
             ],
             [
              0.3333333333333333,
              "#9c179e"
             ],
             [
              0.4444444444444444,
              "#bd3786"
             ],
             [
              0.5555555555555556,
              "#d8576b"
             ],
             [
              0.6666666666666666,
              "#ed7953"
             ],
             [
              0.7777777777777778,
              "#fb9f3a"
             ],
             [
              0.8888888888888888,
              "#fdca26"
             ],
             [
              1,
              "#f0f921"
             ]
            ],
            "type": "contour"
           }
          ],
          "contourcarpet": [
           {
            "colorbar": {
             "outlinewidth": 0,
             "ticks": ""
            },
            "type": "contourcarpet"
           }
          ],
          "heatmap": [
           {
            "colorbar": {
             "outlinewidth": 0,
             "ticks": ""
            },
            "colorscale": [
             [
              0,
              "#0d0887"
             ],
             [
              0.1111111111111111,
              "#46039f"
             ],
             [
              0.2222222222222222,
              "#7201a8"
             ],
             [
              0.3333333333333333,
              "#9c179e"
             ],
             [
              0.4444444444444444,
              "#bd3786"
             ],
             [
              0.5555555555555556,
              "#d8576b"
             ],
             [
              0.6666666666666666,
              "#ed7953"
             ],
             [
              0.7777777777777778,
              "#fb9f3a"
             ],
             [
              0.8888888888888888,
              "#fdca26"
             ],
             [
              1,
              "#f0f921"
             ]
            ],
            "type": "heatmap"
           }
          ],
          "heatmapgl": [
           {
            "colorbar": {
             "outlinewidth": 0,
             "ticks": ""
            },
            "colorscale": [
             [
              0,
              "#0d0887"
             ],
             [
              0.1111111111111111,
              "#46039f"
             ],
             [
              0.2222222222222222,
              "#7201a8"
             ],
             [
              0.3333333333333333,
              "#9c179e"
             ],
             [
              0.4444444444444444,
              "#bd3786"
             ],
             [
              0.5555555555555556,
              "#d8576b"
             ],
             [
              0.6666666666666666,
              "#ed7953"
             ],
             [
              0.7777777777777778,
              "#fb9f3a"
             ],
             [
              0.8888888888888888,
              "#fdca26"
             ],
             [
              1,
              "#f0f921"
             ]
            ],
            "type": "heatmapgl"
           }
          ],
          "histogram": [
           {
            "marker": {
             "pattern": {
              "fillmode": "overlay",
              "size": 10,
              "solidity": 0.2
             }
            },
            "type": "histogram"
           }
          ],
          "histogram2d": [
           {
            "colorbar": {
             "outlinewidth": 0,
             "ticks": ""
            },
            "colorscale": [
             [
              0,
              "#0d0887"
             ],
             [
              0.1111111111111111,
              "#46039f"
             ],
             [
              0.2222222222222222,
              "#7201a8"
             ],
             [
              0.3333333333333333,
              "#9c179e"
             ],
             [
              0.4444444444444444,
              "#bd3786"
             ],
             [
              0.5555555555555556,
              "#d8576b"
             ],
             [
              0.6666666666666666,
              "#ed7953"
             ],
             [
              0.7777777777777778,
              "#fb9f3a"
             ],
             [
              0.8888888888888888,
              "#fdca26"
             ],
             [
              1,
              "#f0f921"
             ]
            ],
            "type": "histogram2d"
           }
          ],
          "histogram2dcontour": [
           {
            "colorbar": {
             "outlinewidth": 0,
             "ticks": ""
            },
            "colorscale": [
             [
              0,
              "#0d0887"
             ],
             [
              0.1111111111111111,
              "#46039f"
             ],
             [
              0.2222222222222222,
              "#7201a8"
             ],
             [
              0.3333333333333333,
              "#9c179e"
             ],
             [
              0.4444444444444444,
              "#bd3786"
             ],
             [
              0.5555555555555556,
              "#d8576b"
             ],
             [
              0.6666666666666666,
              "#ed7953"
             ],
             [
              0.7777777777777778,
              "#fb9f3a"
             ],
             [
              0.8888888888888888,
              "#fdca26"
             ],
             [
              1,
              "#f0f921"
             ]
            ],
            "type": "histogram2dcontour"
           }
          ],
          "mesh3d": [
           {
            "colorbar": {
             "outlinewidth": 0,
             "ticks": ""
            },
            "type": "mesh3d"
           }
          ],
          "parcoords": [
           {
            "line": {
             "colorbar": {
              "outlinewidth": 0,
              "ticks": ""
             }
            },
            "type": "parcoords"
           }
          ],
          "pie": [
           {
            "automargin": true,
            "type": "pie"
           }
          ],
          "scatter": [
           {
            "fillpattern": {
             "fillmode": "overlay",
             "size": 10,
             "solidity": 0.2
            },
            "type": "scatter"
           }
          ],
          "scatter3d": [
           {
            "line": {
             "colorbar": {
              "outlinewidth": 0,
              "ticks": ""
             }
            },
            "marker": {
             "colorbar": {
              "outlinewidth": 0,
              "ticks": ""
             }
            },
            "type": "scatter3d"
           }
          ],
          "scattercarpet": [
           {
            "marker": {
             "colorbar": {
              "outlinewidth": 0,
              "ticks": ""
             }
            },
            "type": "scattercarpet"
           }
          ],
          "scattergeo": [
           {
            "marker": {
             "colorbar": {
              "outlinewidth": 0,
              "ticks": ""
             }
            },
            "type": "scattergeo"
           }
          ],
          "scattergl": [
           {
            "marker": {
             "colorbar": {
              "outlinewidth": 0,
              "ticks": ""
             }
            },
            "type": "scattergl"
           }
          ],
          "scattermapbox": [
           {
            "marker": {
             "colorbar": {
              "outlinewidth": 0,
              "ticks": ""
             }
            },
            "type": "scattermapbox"
           }
          ],
          "scatterpolar": [
           {
            "marker": {
             "colorbar": {
              "outlinewidth": 0,
              "ticks": ""
             }
            },
            "type": "scatterpolar"
           }
          ],
          "scatterpolargl": [
           {
            "marker": {
             "colorbar": {
              "outlinewidth": 0,
              "ticks": ""
             }
            },
            "type": "scatterpolargl"
           }
          ],
          "scatterternary": [
           {
            "marker": {
             "colorbar": {
              "outlinewidth": 0,
              "ticks": ""
             }
            },
            "type": "scatterternary"
           }
          ],
          "surface": [
           {
            "colorbar": {
             "outlinewidth": 0,
             "ticks": ""
            },
            "colorscale": [
             [
              0,
              "#0d0887"
             ],
             [
              0.1111111111111111,
              "#46039f"
             ],
             [
              0.2222222222222222,
              "#7201a8"
             ],
             [
              0.3333333333333333,
              "#9c179e"
             ],
             [
              0.4444444444444444,
              "#bd3786"
             ],
             [
              0.5555555555555556,
              "#d8576b"
             ],
             [
              0.6666666666666666,
              "#ed7953"
             ],
             [
              0.7777777777777778,
              "#fb9f3a"
             ],
             [
              0.8888888888888888,
              "#fdca26"
             ],
             [
              1,
              "#f0f921"
             ]
            ],
            "type": "surface"
           }
          ],
          "table": [
           {
            "cells": {
             "fill": {
              "color": "#EBF0F8"
             },
             "line": {
              "color": "white"
             }
            },
            "header": {
             "fill": {
              "color": "#C8D4E3"
             },
             "line": {
              "color": "white"
             }
            },
            "type": "table"
           }
          ]
         },
         "layout": {
          "annotationdefaults": {
           "arrowcolor": "#2a3f5f",
           "arrowhead": 0,
           "arrowwidth": 1
          },
          "autotypenumbers": "strict",
          "coloraxis": {
           "colorbar": {
            "outlinewidth": 0,
            "ticks": ""
           }
          },
          "colorscale": {
           "diverging": [
            [
             0,
             "#8e0152"
            ],
            [
             0.1,
             "#c51b7d"
            ],
            [
             0.2,
             "#de77ae"
            ],
            [
             0.3,
             "#f1b6da"
            ],
            [
             0.4,
             "#fde0ef"
            ],
            [
             0.5,
             "#f7f7f7"
            ],
            [
             0.6,
             "#e6f5d0"
            ],
            [
             0.7,
             "#b8e186"
            ],
            [
             0.8,
             "#7fbc41"
            ],
            [
             0.9,
             "#4d9221"
            ],
            [
             1,
             "#276419"
            ]
           ],
           "sequential": [
            [
             0,
             "#0d0887"
            ],
            [
             0.1111111111111111,
             "#46039f"
            ],
            [
             0.2222222222222222,
             "#7201a8"
            ],
            [
             0.3333333333333333,
             "#9c179e"
            ],
            [
             0.4444444444444444,
             "#bd3786"
            ],
            [
             0.5555555555555556,
             "#d8576b"
            ],
            [
             0.6666666666666666,
             "#ed7953"
            ],
            [
             0.7777777777777778,
             "#fb9f3a"
            ],
            [
             0.8888888888888888,
             "#fdca26"
            ],
            [
             1,
             "#f0f921"
            ]
           ],
           "sequentialminus": [
            [
             0,
             "#0d0887"
            ],
            [
             0.1111111111111111,
             "#46039f"
            ],
            [
             0.2222222222222222,
             "#7201a8"
            ],
            [
             0.3333333333333333,
             "#9c179e"
            ],
            [
             0.4444444444444444,
             "#bd3786"
            ],
            [
             0.5555555555555556,
             "#d8576b"
            ],
            [
             0.6666666666666666,
             "#ed7953"
            ],
            [
             0.7777777777777778,
             "#fb9f3a"
            ],
            [
             0.8888888888888888,
             "#fdca26"
            ],
            [
             1,
             "#f0f921"
            ]
           ]
          },
          "colorway": [
           "#636efa",
           "#EF553B",
           "#00cc96",
           "#ab63fa",
           "#FFA15A",
           "#19d3f3",
           "#FF6692",
           "#B6E880",
           "#FF97FF",
           "#FECB52"
          ],
          "font": {
           "color": "#2a3f5f"
          },
          "geo": {
           "bgcolor": "white",
           "lakecolor": "white",
           "landcolor": "#E5ECF6",
           "showlakes": true,
           "showland": true,
           "subunitcolor": "white"
          },
          "hoverlabel": {
           "align": "left"
          },
          "hovermode": "closest",
          "mapbox": {
           "style": "light"
          },
          "paper_bgcolor": "white",
          "plot_bgcolor": "#E5ECF6",
          "polar": {
           "angularaxis": {
            "gridcolor": "white",
            "linecolor": "white",
            "ticks": ""
           },
           "bgcolor": "#E5ECF6",
           "radialaxis": {
            "gridcolor": "white",
            "linecolor": "white",
            "ticks": ""
           }
          },
          "scene": {
           "xaxis": {
            "backgroundcolor": "#E5ECF6",
            "gridcolor": "white",
            "gridwidth": 2,
            "linecolor": "white",
            "showbackground": true,
            "ticks": "",
            "zerolinecolor": "white"
           },
           "yaxis": {
            "backgroundcolor": "#E5ECF6",
            "gridcolor": "white",
            "gridwidth": 2,
            "linecolor": "white",
            "showbackground": true,
            "ticks": "",
            "zerolinecolor": "white"
           },
           "zaxis": {
            "backgroundcolor": "#E5ECF6",
            "gridcolor": "white",
            "gridwidth": 2,
            "linecolor": "white",
            "showbackground": true,
            "ticks": "",
            "zerolinecolor": "white"
           }
          },
          "shapedefaults": {
           "line": {
            "color": "#2a3f5f"
           }
          },
          "ternary": {
           "aaxis": {
            "gridcolor": "white",
            "linecolor": "white",
            "ticks": ""
           },
           "baxis": {
            "gridcolor": "white",
            "linecolor": "white",
            "ticks": ""
           },
           "bgcolor": "#E5ECF6",
           "caxis": {
            "gridcolor": "white",
            "linecolor": "white",
            "ticks": ""
           }
          },
          "title": {
           "x": 0.05
          },
          "xaxis": {
           "automargin": true,
           "gridcolor": "white",
           "linecolor": "white",
           "ticks": "",
           "title": {
            "standoff": 15
           },
           "zerolinecolor": "white",
           "zerolinewidth": 2
          },
          "yaxis": {
           "automargin": true,
           "gridcolor": "white",
           "linecolor": "white",
           "ticks": "",
           "title": {
            "standoff": 15
           },
           "zerolinecolor": "white",
           "zerolinewidth": 2
          }
         }
        }
       }
      }
     },
     "metadata": {},
     "output_type": "display_data"
    }
   ],
   "source": [
    "fig = px.scatter_mapbox(df_under_construction, \n",
    "                        lat=\"Latitude\", \n",
    "                        lon=\"Longitude\",     \n",
    "                        color=\"Project Capacity (MW)\", \n",
    "                        hover_data = [\"Project Name\", \"Number of Turbines\", \"Project Capacity (MW)\"],\n",
    "                  color_continuous_scale=px.colors.cyclical.IceFire, \n",
    "                  size_max=15, \n",
    "                  zoom=3)\n",
    "fig.show()"
   ]
  },
  {
   "cell_type": "code",
   "execution_count": null,
   "metadata": {},
   "outputs": [],
   "source": []
  }
 ],
 "metadata": {
  "kernelspec": {
   "display_name": "net_zero",
   "language": "python",
   "name": "python3"
  },
  "language_info": {
   "codemirror_mode": {
    "name": "ipython",
    "version": 3
   },
   "file_extension": ".py",
   "mimetype": "text/x-python",
   "name": "python",
   "nbconvert_exporter": "python",
   "pygments_lexer": "ipython3",
   "version": "3.10.9"
  },
  "orig_nbformat": 4
 },
 "nbformat": 4,
 "nbformat_minor": 2
}
