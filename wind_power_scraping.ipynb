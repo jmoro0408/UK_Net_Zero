{
 "cells": [
  {
   "cell_type": "code",
   "execution_count": 207,
   "metadata": {},
   "outputs": [],
   "source": [
    "import pandas as pd\n",
    "\n",
    "pd.set_option(\"display.max_rows\", 500)\n",
    "pd.set_option(\"display.max_columns\", None)\n",
    "import plotly.express as px\n",
    "from pathlib import Path\n",
    "from dataclasses import dataclass\n",
    "import requests\n",
    "from selenium import webdriver\n",
    "from selenium.webdriver.common.keys import Keys\n",
    "from selenium.webdriver.common.by import By\n",
    "from selenium.webdriver.support.select import Select\n",
    "from selenium.common.exceptions import NoSuchElementException\n",
    "import time\n",
    "import pickle"
   ]
  },
  {
   "attachments": {},
   "cell_type": "markdown",
   "metadata": {},
   "source": [
    "Page 19 - By 2035 the UK will be powered entirely by clean electricity including 40GW of offshore wind by 2030"
   ]
  },
  {
   "cell_type": "code",
   "execution_count": 229,
   "metadata": {},
   "outputs": [],
   "source": [
    "link = r\"https://c1afw816.caspio.com/dp/76064000aaaefdf1498f4fdf8acd?appSession=658L8CC5751Z2G6308H36B6B02E7EJ6W6XS12LU4AV1ATXC43DHRNC5488K1F5FMSEDRA469PUG1O5E0865J9X0HFBZV3ET2M2ANSL8X10E4023154XY2Z63GL2Y4R13&PageID=8&PrevPageID=2&cpipage=1&RecordID=1883&cbCurrentRecordPosition=2&Mod0LinkToDetails=True&cbCurrentPageSize=8\""
   ]
  },
  {
   "cell_type": "code",
   "execution_count": 230,
   "metadata": {},
   "outputs": [],
   "source": [
    "driver = webdriver.Chrome()\n",
    "driver.get(link)"
   ]
  },
  {
   "cell_type": "code",
   "execution_count": 231,
   "metadata": {},
   "outputs": [],
   "source": [
    "tables_list = []\n",
    "id = \"cbTable_1aa9be661de724\"  # data table id\n",
    "# click button xpath\n",
    "xpath = '//*[@id=\"caspioform\"]/table/tbody/tr/td/table[3]/tbody/tr/td[2]/table/tbody/tr/td[6]/a'\n",
    "element = driver.find_element(By.ID, id)\n",
    "\n",
    "for _ in range(902):\n",
    "    time.sleep(1)\n",
    "    element = driver.find_element(By.ID, id)\n",
    "    tables_list.append(element.text)\n",
    "    try:\n",
    "        driver.find_element(By.XPATH, xpath).click()\n",
    "    except:\n",
    "        continue"
   ]
  },
  {
   "cell_type": "code",
   "execution_count": 232,
   "metadata": {},
   "outputs": [
    {
     "data": {
      "text/plain": [
       "902"
      ]
     },
     "execution_count": 232,
     "metadata": {},
     "output_type": "execute_result"
    }
   ],
   "source": [
    "len(tables_list)"
   ]
  },
  {
   "cell_type": "code",
   "execution_count": 233,
   "metadata": {},
   "outputs": [],
   "source": [
    "with open(\"consented_list.pkl\", \"wb\") as f:\n",
    "    pickle.dump(tables_list, f)"
   ]
  }
 ],
 "metadata": {
  "kernelspec": {
   "display_name": "net_zero",
   "language": "python",
   "name": "python3"
  },
  "language_info": {
   "codemirror_mode": {
    "name": "ipython",
    "version": 3
   },
   "file_extension": ".py",
   "mimetype": "text/x-python",
   "name": "python",
   "nbconvert_exporter": "python",
   "pygments_lexer": "ipython3",
   "version": "3.10.9"
  },
  "orig_nbformat": 4
 },
 "nbformat": 4,
 "nbformat_minor": 2
}
